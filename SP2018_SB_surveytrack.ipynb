{
 "cells": [
  {
   "cell_type": "code",
   "execution_count": 1,
   "metadata": {},
   "outputs": [],
   "source": [
    "%matplotlib inline\n",
    "import numpy as np\n",
    "import pandas as pd\n",
    "from netCDF4 import Dataset\n",
    "import datetime\n",
    "\n",
    "import matplotlib.pyplot as plt\n",
    "import matplotlib.image as mpimg\n",
    "import cartopy.crs as ccrs\n",
    "import cartopy\n",
    "import sb_tools\n",
    "from PIL import Image\n"
   ]
  },
  {
   "cell_type": "code",
   "execution_count": 2,
   "metadata": {},
   "outputs": [],
   "source": [
    "import cartopy.feature as cfeature\n",
    "land_50m = cfeature.NaturalEarthFeature('physical', 'land', '50m',\n",
    "                                        edgecolor='black',\n",
    "                                        facecolor=cfeature.COLORS['land'])\n",
    "ocean_50m = cfeature.NaturalEarthFeature('physical', 'ocean', '50m',\n",
    "                                        edgecolor='face',\n",
    "                                        facecolor=cfeature.COLORS['water'])"
   ]
  },
  {
   "cell_type": "code",
   "execution_count": 3,
   "metadata": {},
   "outputs": [],
   "source": [
    "title_font = {\n",
    "    'fontname': 'DejaVu Sans', 'size': '15', 'color': 'black',\n",
    "    'weight': 'medium'\n",
    "}\n",
    "axis_font = {'fontname': 'DejaVu Sans', 'size': '13', 'color': 'black'}"
   ]
  },
  {
   "cell_type": "markdown",
   "metadata": {},
   "source": [
    "# Load data"
   ]
  },
  {
   "cell_type": "code",
   "execution_count": 4,
   "metadata": {},
   "outputs": [],
   "source": [
    "SB_env_df = pd.read_excel('C:/Users/mbd/OneDrive - Akvaplan-niva AS/PhD-APN/ChaptersandExperiments/Tromsøflaket/SB_env_tromsøflaket2018.xlsx',header=0, engine=\"openpyxl\")\n",
    "SB_position = SB_env_df.set_index('datetime').resample('60min').mean()\n"
   ]
  },
  {
   "cell_type": "code",
   "execution_count": 5,
   "metadata": {},
   "outputs": [],
   "source": [
    "SP_env_df = pd.read_csv('C:/Users/mbd/OneDrive - Akvaplan-niva AS/PhD-APN/ChaptersandExperiments/Tromsøflaket/SP_GPSExport.gps.csv', usecols=[1,2,4,5])\n",
    "# Get hourly alues\n",
    "SP_env_df['GPS_datetime']=pd.to_datetime(SP_env_df['GPS_date']+' '+SP_env_df['GPS_time'])\n",
    "SP_position = SP_env_df.set_index('GPS_datetime').resample('60min').mean()\n"
   ]
  },
  {
   "cell_type": "code",
   "execution_count": 6,
   "metadata": {},
   "outputs": [],
   "source": [
    "times = pd.date_range(start=SB_position.index[0], end=SB_position.index[-1], freq='H')"
   ]
  },
  {
   "cell_type": "code",
   "execution_count": 10,
   "metadata": {
    "scrolled": false
   },
   "outputs": [],
   "source": [
    "im = []\n",
    "SB_ind = 1\n",
    "SP_ind = 1\n",
    "\n",
    "# Add SB track\n",
    "for t_ind in np.arange(len(times)):\n",
    "    \n",
    "    # Find the index of the new time or use previous index.\n",
    "    if np.any(SB_position.index==times[t_ind]):\n",
    "        SB_ind = np.where(SB_position.index==times[t_ind])[0][0]\n",
    "    if np.any(SP_position.index==times[t_ind]):\n",
    "        SP_ind = np.where(SP_position.index==times[t_ind])[0][0]\n",
    "    \n",
    "    fig = plt.figure(figsize=(15,10))\n",
    "    \n",
    "    # create map\n",
    "    sb_tools.plot_tromsoflaket(plt.axes, extent=)\n",
    "    \n",
    "    # Plot track up to time index\n",
    "    plt.plot(SP_position['Longitude'][0:SP_ind],SP_position['Latitude'][0:SP_ind], '.-',color='green', label='Sailbuoy Tromsøflaket track',transform=ccrs.Geodetic())\n",
    "    plt.plot(SP_position['Longitude'][SP_ind],SP_position['Latitude'][SP_ind], 'o',color='green', markersize=12,transform=ccrs.Geodetic())\n",
    "    plt.plot(SB_position['longitude (deg)'][0:SB_ind],SB_position['latitude (deg)'][0:SB_ind], '.-',color='red', label='Sailbuoy Tromsøflaket track',transform=ccrs.Geodetic())\n",
    "    plt.plot(SB_position['longitude (deg)'][SB_ind],SB_position['latitude (deg)'][SB_ind], '*',color='red', markersize=14,transform=ccrs.Geodetic())\n",
    "    plt.text(16.2, 72, times[t_ind].strftime('%d %B %Y, %H:%M'), title_font)\n",
    "    plt.legend()\n",
    "    \n",
    "    plt.savefig('figure%d.png' % t_ind)\n",
    "    plt.close()"
   ]
  },
  {
   "cell_type": "code",
   "execution_count": 8,
   "metadata": {},
   "outputs": [
    {
     "data": {
      "text/plain": [
       "'21 June 2018, 10:00'"
      ]
     },
     "execution_count": 8,
     "metadata": {},
     "output_type": "execute_result"
    }
   ],
   "source": [
    "times[1].strftime('%d %B %Y, %H:%M')"
   ]
  },
  {
   "cell_type": "markdown",
   "metadata": {},
   "source": [
    "I used ezgif.com and uploaded the series of pngs"
   ]
  },
  {
   "cell_type": "code",
   "execution_count": 9,
   "metadata": {},
   "outputs": [
    {
     "data": {
      "text/plain": [
       "<matplotlib.image.AxesImage at 0x1b7e60c8f88>"
      ]
     },
     "execution_count": 9,
     "metadata": {},
     "output_type": "execute_result"
    },
    {
     "data": {
      "image/png": "[encoded data removed]",
      "text/plain": [
       "<Figure size 432x288 with 1 Axes>"
      ]
     },
     "metadata": {
      "needs_background": "light"
     },
     "output_type": "display_data"
    }
   ],
   "source": [
    "gif = mpimg.imread('SP_SB_survey.gif', 'r')\n",
    "plt.imshow(gif)"
   ]
  },
  {
   "cell_type": "code",
   "execution_count": null,
   "metadata": {},
   "outputs": [],
   "source": []
  },
  {
   "cell_type": "code",
   "execution_count": null,
   "metadata": {},
   "outputs": [],
   "source": []
  }
 ],
 "metadata": {
  "kernelspec": {
   "display_name": "Python 3",
   "language": "python",
   "name": "python3"
  },
  "language_info": {
   "codemirror_mode": {
    "name": "ipython",
    "version": 3
   },
   "file_extension": ".py",
   "mimetype": "text/x-python",
   "name": "python",
   "nbconvert_exporter": "python",
   "pygments_lexer": "ipython3",
   "version": "3.7.4"
  }
 },
 "nbformat": 4,
 "nbformat_minor": 2
}
