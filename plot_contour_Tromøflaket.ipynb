{
 "cells": [
  {
   "cell_type": "markdown",
   "metadata": {},
   "source": [
    "Notebook for routine to plot Tromsøflaket region as contour map"
   ]
  },
  {
   "cell_type": "code",
   "execution_count": 1,
   "metadata": {},
   "outputs": [],
   "source": [
    "%matplotlib inline\n",
    "import numpy as np\n",
    "import pandas as pd\n",
    "import netCDF4 as nc\n",
    "import utm\n",
    "from scipy import interpolate\n",
    "import matplotlib.pyplot as plt\n",
    "import matplotlib.image as mpimg"
   ]
  },
  {
   "cell_type": "code",
   "execution_count": 2,
   "metadata": {},
   "outputs": [],
   "source": [
    "bathy_df = pd.read_csv('C:/Users/mbd/OneDrive - Akvaplan-niva AS/PhD-APN/ChaptersandExperiments/Tromsøflaket/NordNorgeTopo.txt',sep='\\s+', header=None,names=['x','y','bathy'], )\n"
   ]
  },
  {
   "cell_type": "code",
   "execution_count": 46,
   "metadata": {},
   "outputs": [
    {
     "name": "stdout",
     "output_type": "stream",
     "text": [
      "[]\n"
     ]
    }
   ],
   "source": [
    "ind_values_1 = np.where(np.array(bathy_df.x)>7777387)\n",
    "ind_values_2 = np.where(np.array(bathy_df.y)>660000)\n",
    "ind_values = np.intersect1d(ind_values_1, ind_values_2)\n",
    "\n",
    "pts = np.zeros([np.size(ind_values),2])\n",
    "ind = 0\n",
    "for i in ind_values:\n",
    "    pts[ind,:] = utm.to_latlon(bathy_df.y[i],bathy_df.x[i],33,'W')\n",
    "    ind += 1\n",
    "lats  = pts[:,0]\n",
    "lons = pts[:,1]\n",
    "\n",
    "bathy = np.array(bathy_df.bathy[ind_values])\n",
    "print(bathy)"
   ]
  },
  {
   "cell_type": "code",
   "execution_count": null,
   "metadata": {
    "scrolled": false
   },
   "outputs": [],
   "source": [
    "plt.figure(figsize=(10,10))\n",
    "# Stations\n",
    "plt.contourf([lons, lats, bathy])"
   ]
  },
  {
   "cell_type": "code",
   "execution_count": null,
   "metadata": {},
   "outputs": [],
   "source": [
    "x = np.arange(np.min(lons),np.max(lons),0.01)\n",
    "y = np.arange(np.min(lats),np.max(lats),0.01)\n",
    "X, Y = np.meshgrid(x, y)\n",
    "Z = interpolate.griddata((lons,lats), bathy, (X,Y) ,method='linear')\n"
   ]
  },
  {
   "cell_type": "code",
   "execution_count": null,
   "metadata": {},
   "outputs": [],
   "source": [
    "np.ma.masked_less(Z,0.1)\n",
    "\n",
    "plt.figure(figsize=(10,10))\n",
    "# Stations\n",
    "plt.contourf(X,Y,Z_mask)\n",
    "#plt.contourf(X,Y,Z, contour_interval, colors='beige')\n",
    "plt.colorbar()"
   ]
  },
  {
   "cell_type": "code",
   "execution_count": null,
   "metadata": {},
   "outputs": [],
   "source": [
    "Z_mask = np.ma.masked_less_equal(Z,1)"
   ]
  },
  {
   "cell_type": "code",
   "execution_count": 33,
   "metadata": {},
   "outputs": [],
   "source": [
    "ind_values_1 = np.where(np.array(bathy_df.y)>7877387)\n",
    "ind_values_2 = np.where(np.array(bathy_df.x)>0)\n",
    "ind_values = np.intersect1d(ind_values_1, ind_values_2)"
   ]
  },
  {
   "cell_type": "code",
   "execution_count": 34,
   "metadata": {},
   "outputs": [
    {
     "data": {
      "text/plain": [
       "14005569"
      ]
     },
     "execution_count": 34,
     "metadata": {},
     "output_type": "execute_result"
    }
   ],
   "source": [
    "np.size(ind_values)"
   ]
  },
  {
   "cell_type": "code",
   "execution_count": null,
   "metadata": {},
   "outputs": [],
   "source": [
    "bathy_df"
   ]
  },
  {
   "cell_type": "code",
   "execution_count": null,
   "metadata": {},
   "outputs": [],
   "source": []
  }
 ],
 "metadata": {
  "kernelspec": {
   "display_name": "Python 3",
   "language": "python",
   "name": "python3"
  },
  "language_info": {
   "codemirror_mode": {
    "name": "ipython",
    "version": 3
   },
   "file_extension": ".py",
   "mimetype": "text/x-python",
   "name": "python",
   "nbconvert_exporter": "python",
   "pygments_lexer": "ipython3",
   "version": "3.7.4"
  }
 },
 "nbformat": 4,
 "nbformat_minor": 2
}
