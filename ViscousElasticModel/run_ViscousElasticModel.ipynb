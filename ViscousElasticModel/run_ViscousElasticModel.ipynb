{
 "cells": [
  {
   "cell_type": "markdown",
   "metadata": {},
   "source": [
    "In this notebook I will run Khodabandeloo et al. (2021) code for viscous elastic model."
   ]
  },
  {
   "cell_type": "code",
   "execution_count": 1,
   "metadata": {},
   "outputs": [],
   "source": [
    "import numpy as np\n",
    "import matplotlib.pyplot as plt\n",
    "import csv"
   ]
  },
  {
   "cell_type": "code",
   "execution_count": 2,
   "metadata": {},
   "outputs": [],
   "source": [
    "SaveDir=SaveDir='./ve_results/'\n",
    "TextfileName_cod='ve_CodLarvae.txt'\n",
    "TextfileName_lima='ve_limacina.txt'\n",
    "TXTDirFile_cod=SaveDir+TextfileName_cod\n",
    "TXTDirFile_lima=SaveDir+TextfileName_lima\n",
    "\n",
    "import os\n",
    "#os.chdir('//home/bkh/OnlineCourses/BackScattering/BackscatterAnalyticSpheres/')\n",
    "from FUNC_Stable3_GasSphere_ElasticShellViscFlesh import func_GasSphere_ElasticShell_ViscousShell"
   ]
  },
  {
   "cell_type": "markdown",
   "metadata": {},
   "source": [
    "## Function to run model over a range of frequencies"
   ]
  },
  {
   "cell_type": "code",
   "execution_count": 3,
   "metadata": {},
   "outputs": [],
   "source": [
    "def run_ve(Freq_vec, M_order, params):\n",
    "    \"\"\"Function to run the viscous elastic model (Khodabandeloo et al. 2021) for a range of frequencies\n",
    "    Freq_vec: frequency vector\n",
    "    M_order: number of modes included\n",
    "    params: dictionary including a value for each model parameter required (R2,R3,R4,ro1,ro2,ro3,ro4,c1,c2,c3,c4,Eta2,Mu3,Landa3)\n",
    "    \"\"\" \n",
    "    cntr=0\n",
    "    TS_vec=[]\n",
    "    for freq in Freq_vec:\n",
    "        min_freq=freq\n",
    "        max_freq=min_freq\n",
    "        frequencyNumbers=1\n",
    "        cntr=cntr+1\n",
    "        \n",
    "        SUM_Am_Pm_h_k1_R_inf_Vec=np.zeros(1,dtype=complex)\n",
    "        \n",
    "        for m_order in range(0,M_order):\n",
    "            [Am_Vec, Am_Pm_h_k1_R_inf_Vec]=func_GasSphere_ElasticShell_ViscousShell(m_order,\n",
    "                                                                                      params['R2'],\n",
    "                                                                                      params['R3'],\n",
    "                                                                                      params['R4'],\n",
    "                                                                                      params['ro1'],\n",
    "                                                                                      params['ro2'],\n",
    "                                                                                      params['ro3'],\n",
    "                                                                                      params['ro4'],\n",
    "                                                                                      params['c1'],\n",
    "                                                                                      params['c2'],\n",
    "                                                                                      params['c3'],\n",
    "                                                                                      params['c4'],\n",
    "                                                                                      params['Eta2'],\n",
    "                                                                                      params['Mu3'],\n",
    "                                                                                      params['Landa3'],\n",
    "                                                                                      min_freq,\n",
    "                                                                                      max_freq,\n",
    "                                                                                      frequencyNumbers)\n",
    "                \n",
    "            SUM_Am_Pm_h_k1_R_inf_Vec=SUM_Am_Pm_h_k1_R_inf_Vec+Am_Pm_h_k1_R_inf_Vec  \n",
    "\n",
    "        TS=10*np.log10((abs(SUM_Am_Pm_h_k1_R_inf_Vec))**2)\n",
    "        TS_vec=np.append(TS_vec,TS)\n",
    "\n",
    "    return TS_vec\n",
    "    "
   ]
  },
  {
   "cell_type": "markdown",
   "metadata": {},
   "source": [
    "# Determine model parameters\n"
   ]
  },
  {
   "cell_type": "markdown",
   "metadata": {},
   "source": [
    "Start with cod larvae\n",
    "Parameters descibed in ViscousElasticModelparams.xlsx"
   ]
  },
  {
   "cell_type": "code",
   "execution_count": 4,
   "metadata": {},
   "outputs": [],
   "source": [
    "M_order=3\n",
    "\n",
    "ro1=1027    # Surronding Water density  \"kg/m³\"\n",
    "ro2=1040  # Surronding viscouis layer (fish flesh) density  \"kg/m³\"\n",
    "ro3=1141  # Elastic sphere Density \"kg/m³\"\n",
    "ro4=51.3  # Inner Gas Sphere Density \"kg/m³\"\n",
    "\n",
    "c1=1462    # Surronding Water speed of sound \"m/s\" @ 4,3deg 31,2 PSU\n",
    "c2=1523    # Surronding viscouis layer (fish flesh) speed of sound \"m/s\"\n",
    "#c3=1480    # Elastic sphere speed of sound \"m/s\"\n",
    "c4=325.1    # gas speed of sound \"m/s\"\n",
    "\n",
    "Eta2=2*0.428572\n",
    "Mu2=Eta2\n",
    "Kisi2=Mu2+4*Eta2/3\n",
    "    \n",
    "Mu3=0.17*1.0E6  # \"N/m²\" shear rigidity of elastic shell\n",
    "Landa3=2.4*1E9  # \"N/m²\" Compressional rigidity of elastic shell\n",
    "\n",
    "c3=(ro3/(Landa3+2*Mu3))**-0.5    # Elastic sphere speed of sound \"m/s\"\n",
    "    \n",
    "Delta=0.01*1E-3 # Swimbladder wall thickness\n",
    "R4=0.14*1E-3 #0.001  # (m) radius of gas sphere\n",
    "R3=R4+Delta  # (m) radius of elastic shell \n",
    "#R2=2*1E-3  # (m) radius till viscous layer\n",
    "R2=R4*( (1+(ro1-ro4)/(ro2-ro1))**(1/3) ) # Eq 18 in our JASA mesopelagic paper\n"
   ]
  },
  {
   "cell_type": "code",
   "execution_count": 5,
   "metadata": {},
   "outputs": [],
   "source": [
    "params_cod ={'R2':R2,\n",
    "            'R3':R3,\n",
    "            'R4':R4,\n",
    "            'ro1':ro1,\n",
    "            'ro2':ro2,\n",
    "            'ro3':ro3,\n",
    "            'ro4':ro4,\n",
    "            'c1':c1,\n",
    "            'c2':c2,\n",
    "            'c3':c3,\n",
    "            'c4':c4,\n",
    "            'Eta2':Eta2,\n",
    "            'Mu3':Mu3,\n",
    "            'Landa3':Landa3,\n",
    "            'Kisi2':Kisi2}"
   ]
  },
  {
   "cell_type": "code",
   "execution_count": 6,
   "metadata": {},
   "outputs": [],
   "source": [
    "min_freq=100*1000\n",
    "max_freq=600*1000\n",
    "frequencySpacing=100\n",
    "\n",
    "Freq_vec=np.arange(min_freq,max_freq,frequencySpacing) "
   ]
  },
  {
   "cell_type": "markdown",
   "metadata": {},
   "source": [
    "### Run for cod larvae"
   ]
  },
  {
   "cell_type": "code",
   "execution_count": 7,
   "metadata": {},
   "outputs": [],
   "source": [
    "TS_vec_cod = run_ve(Freq_vec, M_order, params_cod)"
   ]
  },
  {
   "cell_type": "code",
   "execution_count": 8,
   "metadata": {},
   "outputs": [
    {
     "data": {
      "image/png": "[encoded data removed]",
      "text/plain": [
       "<Figure size 432x288 with 1 Axes>"
      ]
     },
     "metadata": {
      "needs_background": "light"
     },
     "output_type": "display_data"
    }
   ],
   "source": [
    "plt.plot(Freq_vec/1000,TS_vec_cod,label='2.5mm Spheroid, Asp R=4, Theta =90')  \n",
    "plt.xlabel('Frequency (kHz)')\n",
    "plt.ylabel('TS')\n",
    "plt.title('Frequency response')\n",
    "plt.show()  \n"
   ]
  },
  {
   "cell_type": "code",
   "execution_count": 9,
   "metadata": {},
   "outputs": [],
   "source": [
    "## Save data into matrix\n",
    "F_TS_MAT_cod=np.concatenate((Freq_vec.reshape(-1,1),TS_vec_cod.reshape(-1,1)),axis=1)"
   ]
  },
  {
   "cell_type": "markdown",
   "metadata": {},
   "source": [
    "## Limacina VE model run\n",
    "Now Limacina Parameters descibed in ViscousElasticModelparams.xlsx"
   ]
  },
  {
   "cell_type": "code",
   "execution_count": 10,
   "metadata": {},
   "outputs": [],
   "source": [
    "M_order=3\n",
    "\n",
    "ro1=1027    # Surronding Water density  \"kg/m³\"\n",
    "ro2=1040  # Surronding viscouis layer (fish flesh) density  \"kg/m³\"\n",
    "ro3=2717.442  # Elastic sphere Density \"kg/m³\"\n",
    "ro4=51.3  # Inner Gas Sphere Density \"kg/m³\"\n",
    "\n",
    "c1=1480    # Surronding Water speed of sound \"m/s\" @ 4,3deg 31,2 PSU\n",
    "c2=1523    # Surronding viscouis layer (fish flesh) speed of sound \"m/s\"\n",
    "#c3=1480    # Elastic sphere speed of sound \"m/s\"\n",
    "c4=325.1    # gas speed of sound \"m/s\"\n",
    "\n",
    "Eta2=2*0.428572\n",
    "Mu2=Eta2\n",
    "Kisi2=Mu2+4*Eta2/3\n",
    "    \n",
    "Mu3=0.17*1.0E6  # \"N/m²\" shear rigidity of elastic shell\n",
    "Landa3=2.4*1E9  # \"N/m²\" Compressional rigidity of elastic shell\n",
    "\n",
    "c3=(ro3/(Landa3+2*Mu3))**-0.5    # Elastic sphere speed of sound \"m/s\"\n",
    "    \n",
    "Delta=2.3*1E-3 # Swimbladder wall thickness\n",
    "R3=0.933*1E-3  # (m) radius of elastic shell \n",
    "R4=R3-(R3*Delta)  # (m) radius of gas sphere\n",
    "#R2=2*1E-3  # (m) radius till viscous layer\n",
    "R2=R3 # Eq 18 in our JASA mesopelagic paper\n"
   ]
  },
  {
   "cell_type": "code",
   "execution_count": 11,
   "metadata": {},
   "outputs": [],
   "source": [
    "params_lima ={'R2':R2,\n",
    "            'R3':R3,\n",
    "            'R4':R4,\n",
    "            'ro1':ro1,\n",
    "            'ro2':ro2,\n",
    "            'ro3':ro3,\n",
    "            'ro4':ro4,\n",
    "            'c1':c1,\n",
    "            'c2':c2,\n",
    "            'c3':c3,\n",
    "            'c4':c4,\n",
    "            'Eta2':Eta2,\n",
    "            'Mu3':Mu3,\n",
    "            'Landa3':Landa3,\n",
    "            'Kisi2':Kisi2}"
   ]
  },
  {
   "cell_type": "markdown",
   "metadata": {},
   "source": [
    "## Run for Limacina"
   ]
  },
  {
   "cell_type": "code",
   "execution_count": 12,
   "metadata": {},
   "outputs": [],
   "source": [
    "TS_vec_lima = run_ve(Freq_vec, M_order, params_lima)"
   ]
  },
  {
   "cell_type": "markdown",
   "metadata": {},
   "source": [
    "## Plot results"
   ]
  },
  {
   "cell_type": "code",
   "execution_count": 13,
   "metadata": {},
   "outputs": [
    {
     "data": {
      "image/png": "[encoded data removed]",
      "text/plain": [
       "<Figure size 432x288 with 1 Axes>"
      ]
     },
     "metadata": {
      "needs_background": "light"
     },
     "output_type": "display_data"
    }
   ],
   "source": [
    "#plt.plot(FreqVec/1000,TS_vec,linestyle='-',marker='s',markersize=4,label='2.5mm Spheroid, Asp R=4, Theta =90')  \n",
    "plt.plot(Freq_vec/1000,TS_vec_lima,label='2.5mm Spheroid, Asp R=4, Theta =90')  \n",
    "plt.xlabel('Frequency (kHz)')\n",
    "plt.ylabel('TS')\n",
    "plt.title('Frequency response')\n",
    "plt.show()  \n",
    "\n",
    "#plt.plot(R4*2*np.pi*Freq_vec/c1,TS_vec,color=[0.6,0.6,0.6],linestyle='-',label='2.5mm Spheroid, Asp R=4, Theta =90')  \n",
    "#plt.show()  "
   ]
  },
  {
   "cell_type": "markdown",
   "metadata": {},
   "source": [
    "### Save in matrix"
   ]
  },
  {
   "cell_type": "code",
   "execution_count": 14,
   "metadata": {},
   "outputs": [],
   "source": [
    "F_TS_MAT_lima=np.concatenate((Freq_vec.reshape(-1,1),TS_vec_lima.reshape(-1,1)),axis=1)\n",
    "   "
   ]
  },
  {
   "cell_type": "markdown",
   "metadata": {},
   "source": [
    "## Write to file\n",
    "cod"
   ]
  },
  {
   "cell_type": "code",
   "execution_count": 15,
   "metadata": {},
   "outputs": [],
   "source": [
    "#  |||||||||||||||   Save into txt file   ||||||||||||||||||||||||||||\n",
    "with open(TXTDirFile_cod, 'w') as f:\n",
    "    csv.writer(f, delimiter=' ').writerows(F_TS_MAT_cod)  \n",
    "\n",
    "# Add header\n",
    "Parameters='M='+str(M_order-1)+' GasRadii_m_(R4)='+str(params_cod['R4'])+' R3='+str(params_cod['R3'])+' R2='+str(params_cod['R2'])+ \\\n",
    "           ' ro_water_(ro1)='+str(params_cod['ro1'])+' ro_gas_(ro4)='+str(params_cod['ro4'])+' ro_shell_(ro3)='+str(params_cod['ro3'])+' ro_flesh_(ro2)='+str(params_cod['ro2'])+ \\\n",
    "           ' c_water_(c1)='+str(params_cod['c1'])+' c_gas (c4)='+str(params_cod['c4'])+' c_shell_(c3)='+str(params_cod['c3'])+' c_flesh_(c2)='+str(params_cod['c2'])+' Kisi='+str(params_cod['Kisi2'])+ \\\n",
    "           ' Shear_Rigidity_(mu3)='+str(params_cod['Mu3'])+' Compressional_rigidity_of_elastic_shell_(Landa3)='+str(params_cod['Landa3']) \n",
    "           \n",
    "           \n",
    "headers = Parameters.split()\n",
    "\n",
    "with open(TXTDirFile_cod,'r+') as infile:\n",
    "  content = infile.read()\n",
    "  infile.seek(0,0)\n",
    "  infile.write(\"\\t\".join(headers)+\"\\n\"+content)"
   ]
  },
  {
   "cell_type": "markdown",
   "metadata": {},
   "source": [
    "limacina"
   ]
  },
  {
   "cell_type": "code",
   "execution_count": 16,
   "metadata": {},
   "outputs": [],
   "source": [
    "with open(TXTDirFile_lima, 'w') as f:\n",
    "    csv.writer(f, delimiter=' ').writerows(F_TS_MAT_lima)  \n",
    "\n",
    "# Add header\n",
    "Parameters='M='+str(M_order-1)+' GasRadii_m_(R4)='+str(params_lima['R4'])+' R3='+str(params_lima['R3'])+' R2='+str(params_lima['R2'])+ \\\n",
    "           ' ro_water_(ro1)='+str(params_lima['ro1'])+' ro_gas_(ro4)='+str(params_lima['ro4'])+' ro_shell_(ro3)='+str(params_lima['ro3'])+' ro_flesh_(ro2)='+str(params_lima['ro2'])+ \\\n",
    "           ' c_water_(c1)='+str(params_lima['c1'])+' c_gas (c4)='+str(params_lima['c4'])+' c_shell_(c3)='+str(params_lima['c3'])+' c_flesh_(c2)='+str(params_lima['c2'])+' Kisi='+str(params_lima['Kisi2'])+ \\\n",
    "           ' Shear_Rigidity_(mu3)='+str(params_lima['Mu3'])+' Compressional_rigidity_of_elastic_shell_(Landa3)='+str(params_lima['Landa3']) \n",
    "           \n",
    "           \n",
    "headers = Parameters.split()\n",
    "\n",
    "with open(TXTDirFile_lima,'r+') as infile:\n",
    "  content = infile.read()\n",
    "  infile.seek(0,0)\n",
    "  infile.write(\"\\t\".join(headers)+\"\\n\"+content)"
   ]
  },
  {
   "cell_type": "code",
   "execution_count": null,
   "metadata": {},
   "outputs": [],
   "source": []
  }
 ],
 "metadata": {
  "kernelspec": {
   "display_name": "Python 3",
   "language": "python",
   "name": "python3"
  },
  "language_info": {
   "codemirror_mode": {
    "name": "ipython",
    "version": 3
   },
   "file_extension": ".py",
   "mimetype": "text/x-python",
   "name": "python",
   "nbconvert_exporter": "python",
   "pygments_lexer": "ipython3",
   "version": "3.7.7"
  }
 },
 "nbformat": 4,
 "nbformat_minor": 4
}
