{
 "cells": [
  {
   "cell_type": "code",
   "execution_count": 1,
   "id": "74187895",
   "metadata": {},
   "outputs": [],
   "source": [
    "import csv\n",
    "import numpy as np\n",
    "import pandas as pd\n",
    "import scipy as sc\n",
    "import matplotlib.pyplot as plt\n",
    "from scipy.interpolate import UnivariateSpline\n",
    "import seaborn as sns\n",
    "import array as arr\n",
    "import datetime as dt\n",
    "import matplotlib.dates as dates\n",
    "from matplotlib.dates import DateFormatter\n",
    "\n",
    "%matplotlib inline"
   ]
  },
  {
   "cell_type": "code",
   "execution_count": 2,
   "id": "91918814",
   "metadata": {},
   "outputs": [],
   "source": [
    "sns.set_theme(style=\"whitegrid\")\n",
    "sns.color_palette(\"viridis\", as_cmap=True)\n",
    "title_font = {\n",
    "    'fontname': 'DejaVu Sans', 'size': '15', 'color': 'black',\n",
    "    'weight': 'medium'\n",
    "}\n",
    "axis_font = {'fontname': 'DejaVu Sans', 'size': '13', 'color': 'black'}"
   ]
  },
  {
   "cell_type": "markdown",
   "id": "29e482b5",
   "metadata": {},
   "source": [
    "# MPE sensor data"
   ]
  },
  {
   "cell_type": "markdown",
   "id": "6620814f",
   "metadata": {},
   "source": [
    "In this notebook I read and plot the MPE data from the light sensor used during the AZKABAN-light experiments.\n",
    "The data was first converted from hexidecimals to PAR values using a R script (logreader_Svalbard_noAltimeter.R).\n",
    "The script required calibration values which I copied from the example file. The calibrations are from 16.06.2021)"
   ]
  },
  {
   "cell_type": "markdown",
   "id": "ccc1d1b1",
   "metadata": {},
   "source": [
    "## read data\n",
    "Read csv file made from R code + write_csv. Combine the date, time and millisecond columns. Milliseconds increase from starttime, found milliseconds per second by calculated the modulus"
   ]
  },
  {
   "cell_type": "code",
   "execution_count": 5,
   "id": "d16e5c44",
   "metadata": {},
   "outputs": [
    {
     "data": {
      "text/html": [
       "<div>\n",
       "<style scoped>\n",
       "    .dataframe tbody tr th:only-of-type {\n",
       "        vertical-align: middle;\n",
       "    }\n",
       "\n",
       "    .dataframe tbody tr th {\n",
       "        vertical-align: top;\n",
       "    }\n",
       "\n",
       "    .dataframe thead th {\n",
       "        text-align: right;\n",
       "    }\n",
       "</style>\n",
       "<table border=\"1\" class=\"dataframe\">\n",
       "  <thead>\n",
       "    <tr style=\"text-align: right;\">\n",
       "      <th></th>\n",
       "      <th>Date</th>\n",
       "      <th>Time</th>\n",
       "      <th>millis</th>\n",
       "      <th>Heading</th>\n",
       "      <th>Pitch</th>\n",
       "      <th>Roll</th>\n",
       "      <th>PAR</th>\n",
       "      <th>Temperature</th>\n",
       "      <th>Unnamed: 8</th>\n",
       "      <th>Unnamed: 9</th>\n",
       "    </tr>\n",
       "  </thead>\n",
       "  <tbody>\n",
       "    <tr>\n",
       "      <th>0</th>\n",
       "      <td>2022-01-18</td>\n",
       "      <td>05:14:00</td>\n",
       "      <td>110113</td>\n",
       "      <td>155.6875</td>\n",
       "      <td>-2.1875</td>\n",
       "      <td>90.5000</td>\n",
       "      <td>0.119840</td>\n",
       "      <td>-10.899670</td>\n",
       "      <td>NaN</td>\n",
       "      <td>*9:15 UTC maybe?</td>\n",
       "    </tr>\n",
       "    <tr>\n",
       "      <th>1</th>\n",
       "      <td>2022-01-18</td>\n",
       "      <td>05:14:00</td>\n",
       "      <td>110307</td>\n",
       "      <td>155.6875</td>\n",
       "      <td>-2.1875</td>\n",
       "      <td>90.4375</td>\n",
       "      <td>0.119840</td>\n",
       "      <td>-10.899670</td>\n",
       "      <td>NaN</td>\n",
       "      <td>NaN</td>\n",
       "    </tr>\n",
       "    <tr>\n",
       "      <th>2</th>\n",
       "      <td>2022-01-18</td>\n",
       "      <td>05:14:00</td>\n",
       "      <td>110357</td>\n",
       "      <td>155.6250</td>\n",
       "      <td>-2.1875</td>\n",
       "      <td>90.4375</td>\n",
       "      <td>0.119840</td>\n",
       "      <td>-10.899670</td>\n",
       "      <td>NaN</td>\n",
       "      <td>NaN</td>\n",
       "    </tr>\n",
       "    <tr>\n",
       "      <th>3</th>\n",
       "      <td>2022-01-18</td>\n",
       "      <td>05:14:00</td>\n",
       "      <td>110407</td>\n",
       "      <td>155.5625</td>\n",
       "      <td>-2.2500</td>\n",
       "      <td>90.3750</td>\n",
       "      <td>0.119840</td>\n",
       "      <td>-10.899670</td>\n",
       "      <td>NaN</td>\n",
       "      <td>NaN</td>\n",
       "    </tr>\n",
       "    <tr>\n",
       "      <th>4</th>\n",
       "      <td>2022-01-18</td>\n",
       "      <td>05:14:00</td>\n",
       "      <td>110456</td>\n",
       "      <td>155.5625</td>\n",
       "      <td>-2.2500</td>\n",
       "      <td>90.4375</td>\n",
       "      <td>0.119840</td>\n",
       "      <td>-10.899670</td>\n",
       "      <td>NaN</td>\n",
       "      <td>NaN</td>\n",
       "    </tr>\n",
       "    <tr>\n",
       "      <th>...</th>\n",
       "      <td>...</td>\n",
       "      <td>...</td>\n",
       "      <td>...</td>\n",
       "      <td>...</td>\n",
       "      <td>...</td>\n",
       "      <td>...</td>\n",
       "      <td>...</td>\n",
       "      <td>...</td>\n",
       "      <td>...</td>\n",
       "      <td>...</td>\n",
       "    </tr>\n",
       "    <tr>\n",
       "      <th>115772</th>\n",
       "      <td>2022-01-18</td>\n",
       "      <td>11:52:03</td>\n",
       "      <td>23992800</td>\n",
       "      <td>200.6250</td>\n",
       "      <td>-12.9375</td>\n",
       "      <td>90.0625</td>\n",
       "      <td>0.000004</td>\n",
       "      <td>-2.187759</td>\n",
       "      <td>NaN</td>\n",
       "      <td>NaN</td>\n",
       "    </tr>\n",
       "    <tr>\n",
       "      <th>115773</th>\n",
       "      <td>2022-01-18</td>\n",
       "      <td>11:52:03</td>\n",
       "      <td>23992908</td>\n",
       "      <td>200.3750</td>\n",
       "      <td>-13.1875</td>\n",
       "      <td>90.0625</td>\n",
       "      <td>0.000004</td>\n",
       "      <td>-2.187759</td>\n",
       "      <td>NaN</td>\n",
       "      <td>NaN</td>\n",
       "    </tr>\n",
       "    <tr>\n",
       "      <th>115774</th>\n",
       "      <td>2022-01-18</td>\n",
       "      <td>11:52:03</td>\n",
       "      <td>23992963</td>\n",
       "      <td>199.8750</td>\n",
       "      <td>-13.6875</td>\n",
       "      <td>90.0625</td>\n",
       "      <td>0.000004</td>\n",
       "      <td>-2.187759</td>\n",
       "      <td>NaN</td>\n",
       "      <td>NaN</td>\n",
       "    </tr>\n",
       "    <tr>\n",
       "      <th>115775</th>\n",
       "      <td>2022-01-18</td>\n",
       "      <td>11:52:03</td>\n",
       "      <td>23993017</td>\n",
       "      <td>201.0625</td>\n",
       "      <td>-12.5000</td>\n",
       "      <td>90.0625</td>\n",
       "      <td>0.000004</td>\n",
       "      <td>-2.187759</td>\n",
       "      <td>NaN</td>\n",
       "      <td>NaN</td>\n",
       "    </tr>\n",
       "    <tr>\n",
       "      <th>115776</th>\n",
       "      <td>2022-01-18</td>\n",
       "      <td>11:52:03</td>\n",
       "      <td>23993073</td>\n",
       "      <td>201.0000</td>\n",
       "      <td>-12.6250</td>\n",
       "      <td>90.0625</td>\n",
       "      <td>0.000004</td>\n",
       "      <td>-2.187759</td>\n",
       "      <td>NaN</td>\n",
       "      <td>NaN</td>\n",
       "    </tr>\n",
       "  </tbody>\n",
       "</table>\n",
       "<p>115777 rows × 10 columns</p>\n",
       "</div>"
      ],
      "text/plain": [
       "             Date      Time    millis   Heading    Pitch     Roll       PAR  \\\n",
       "0      2022-01-18  05:14:00    110113  155.6875  -2.1875  90.5000  0.119840   \n",
       "1      2022-01-18  05:14:00    110307  155.6875  -2.1875  90.4375  0.119840   \n",
       "2      2022-01-18  05:14:00    110357  155.6250  -2.1875  90.4375  0.119840   \n",
       "3      2022-01-18  05:14:00    110407  155.5625  -2.2500  90.3750  0.119840   \n",
       "4      2022-01-18  05:14:00    110456  155.5625  -2.2500  90.4375  0.119840   \n",
       "...           ...       ...       ...       ...      ...      ...       ...   \n",
       "115772 2022-01-18  11:52:03  23992800  200.6250 -12.9375  90.0625  0.000004   \n",
       "115773 2022-01-18  11:52:03  23992908  200.3750 -13.1875  90.0625  0.000004   \n",
       "115774 2022-01-18  11:52:03  23992963  199.8750 -13.6875  90.0625  0.000004   \n",
       "115775 2022-01-18  11:52:03  23993017  201.0625 -12.5000  90.0625  0.000004   \n",
       "115776 2022-01-18  11:52:03  23993073  201.0000 -12.6250  90.0625  0.000004   \n",
       "\n",
       "        Temperature  Unnamed: 8        Unnamed: 9  \n",
       "0        -10.899670         NaN  *9:15 UTC maybe?  \n",
       "1        -10.899670         NaN               NaN  \n",
       "2        -10.899670         NaN               NaN  \n",
       "3        -10.899670         NaN               NaN  \n",
       "4        -10.899670         NaN               NaN  \n",
       "...             ...         ...               ...  \n",
       "115772    -2.187759         NaN               NaN  \n",
       "115773    -2.187759         NaN               NaN  \n",
       "115774    -2.187759         NaN               NaN  \n",
       "115775    -2.187759         NaN               NaN  \n",
       "115776    -2.187759         NaN               NaN  \n",
       "\n",
       "[115777 rows x 10 columns]"
      ]
     },
     "execution_count": 5,
     "metadata": {},
     "output_type": "execute_result"
    }
   ],
   "source": [
    "MPE_data = pd.read_excel('G:/Nya-AZKABAN/FishMix-18012022/MPE-FishMix/MPE-converted_fishmix.xlsx')\n",
    "MPE_data"
   ]
  },
  {
   "cell_type": "code",
   "execution_count": 7,
   "id": "f99e547a",
   "metadata": {},
   "outputs": [
    {
     "name": "stderr",
     "output_type": "stream",
     "text": [
      "C:\\Users\\mbd\\anaconda3\\envs\\phd-env\\lib\\site-packages\\ipykernel_launcher.py:6: DeprecationWarning: `np.str` is a deprecated alias for the builtin `str`. To silence this warning, use `str` by itself. Doing this will not modify any behavior and is safe. If you specifically wanted the numpy scalar type, use `np.str_` here.\n",
      "Deprecated in NumPy 1.20; for more details and guidance: https://numpy.org/devdocs/release/1.20.0-notes.html#deprecations\n",
      "  \n",
      "C:\\Users\\mbd\\anaconda3\\envs\\phd-env\\lib\\site-packages\\ipykernel_launcher.py:6: SettingWithCopyWarning: \n",
      "A value is trying to be set on a copy of a slice from a DataFrame\n",
      "\n",
      "See the caveats in the documentation: https://pandas.pydata.org/pandas-docs/stable/user_guide/indexing.html#returning-a-view-versus-a-copy\n",
      "  \n"
     ]
    }
   ],
   "source": [
    "# Add empty column for datetime \n",
    "MPE_data['fulldate'] = 0\n",
    "\n",
    "# Add column with full datetime information\n",
    "for ind in range(len(MPE_data.millis)):\n",
    "    MPE_data['fulldate'][ind] = dt.datetime.strptime(str(MPE_data.Date[ind])[:-9] + ' ' + str(MPE_data.Time[ind]) + '.' + np.str(MPE_data.millis[ind]%1000), \"%Y-%m-%d %H:%M:%S.%f\")\n",
    "    "
   ]
  },
  {
   "cell_type": "markdown",
   "id": "4a75943c",
   "metadata": {},
   "source": [
    "# Plot PAR"
   ]
  },
  {
   "cell_type": "markdown",
   "id": "692ec7b7",
   "metadata": {},
   "source": [
    "Adjust time to be in UTC which is +4 hours.//\n",
    "\n",
    "Set limits to start and end of acoustic data collection"
   ]
  },
  {
   "cell_type": "code",
   "execution_count": 14,
   "id": "ff80e11f",
   "metadata": {},
   "outputs": [
    {
     "data": {
      "text/plain": [
       "Text(0.5, 1.0, 'Artificial light changes during AZKABAN experiments')"
      ]
     },
     "execution_count": 14,
     "metadata": {},
     "output_type": "execute_result"
    },
    {
     "data": {
      "image/png": "[encoded data removed]",
      "text/plain": [
       "<Figure size 576x432 with 1 Axes>"
      ]
     },
     "metadata": {},
     "output_type": "display_data"
    }
   ],
   "source": [
    "plt.figure(figsize=(8,6))\n",
    "plt.plot(MPE_data.fulldate+dt.timedelta(hours=4, minutes=4), MPE_data.PAR, 'k')\n",
    "ax = plt.gca()\n",
    "ax.xaxis.set_major_formatter(dates.DateFormatter('%H:%M'))\n",
    "plt.xlabel('Jan 18 2022 (UTC)', axis_font)\n",
    "plt.ylabel('PAR (uE/$m^2$s)', axis_font)\n",
    "plt.ylim([-0,0.15])\n",
    "ax.set_xlim([dt.datetime(2022, 1, 18, 10, 0, 0), dt.datetime(2022, 1, 18, 14, 30, 0)])\n",
    "plt.title('Artificial light changes during AZKABAN experiments', title_font)"
   ]
  },
  {
   "cell_type": "markdown",
   "id": "5ce08284",
   "metadata": {},
   "source": [
    "## Brief analysis:"
   ]
  },
  {
   "cell_type": "markdown",
   "id": "70384cb1",
   "metadata": {},
   "source": [
    "The PAR light plot shows the three 30 minute segments of lights \"on\", each followed by an hour of lights off. During the whole time the dock lights were on and the moon is a wanning just after full moon. (Full moon January 17th 2022) \n",
    "\n",
    "The PAR sensor was placed 1.4 m below the transducer face, approximately at 2m depths below the surface. Due to the tide and the associated need to adjust the frame depth, the PAR sensor was not at exactly the same depth for the whole deployment.\n",
    "\n",
    "The crane light was used for the lights on moments. The crane has a spotlight on the frame in the water. The Lysboom switch has two settings, I suspect the first lights on period has a lower PAR because it was set to only the first setting.\n",
    "\n",
    "Strong spikes during the lights off periods are likely from someone wearing a headlamp checking periodically the frame, wind conditions and ice cover."
   ]
  },
  {
   "cell_type": "code",
   "execution_count": null,
   "id": "76bad289",
   "metadata": {},
   "outputs": [],
   "source": []
  }
 ],
 "metadata": {
  "kernelspec": {
   "display_name": "Python 3 (ipykernel)",
   "language": "python",
   "name": "python3"
  },
  "language_info": {
   "codemirror_mode": {
    "name": "ipython",
    "version": 3
   },
   "file_extension": ".py",
   "mimetype": "text/x-python",
   "name": "python",
   "nbconvert_exporter": "python",
   "pygments_lexer": "ipython3",
   "version": "3.7.15"
  }
 },
 "nbformat": 4,
 "nbformat_minor": 5
}
