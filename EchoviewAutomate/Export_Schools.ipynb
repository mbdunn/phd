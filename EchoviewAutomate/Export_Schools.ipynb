{
 "cells": [
  {
   "cell_type": "markdown",
   "id": "b19a0242",
   "metadata": {},
   "source": [
    "In this notebook we will export images from Polar front Sailbuoy data"
   ]
  },
  {
   "cell_type": "code",
   "execution_count": 2,
   "id": "49ee55df",
   "metadata": {},
   "outputs": [],
   "source": [
    "import numpy as np\n",
    "import win32com.client as win32\n",
    "import glob\n",
    "import os"
   ]
  },
  {
   "cell_type": "markdown",
   "id": "dc65898a",
   "metadata": {},
   "source": [
    "# Select platform"
   ]
  },
  {
   "cell_type": "markdown",
   "id": "5712bfd1",
   "metadata": {},
   "source": [
    "### Iskant 2021"
   ]
  },
  {
   "cell_type": "code",
   "execution_count": 16,
   "id": "d5f2ee66",
   "metadata": {},
   "outputs": [],
   "source": [
    "# Location of data files\n",
    "ev_template = 'E:/PF_EV/PF_WeakStrong_Schools_FM.EV'\n",
    "n_files = 20\n",
    "\n",
    "data_folder = 'E:/SBIskant2021_PF/wbat/' \n",
    "\n",
    "export_folder = 'E:/PolarFront-Exports/Iskant2021/Export_WeakStrong_schools2021/' \n",
    "\n",
    "# Define variable name to export\n",
    "var_name = 'Wideband frequency select 1'\n",
    "\n",
    "# Find all data files with extension .raw for the date frame\n",
    "raw_file_names = sorted(glob.glob(data_folder + 'Mission Plan ES200-7CDK-split-PolarFront-Phase0-D20210*.raw'))\n",
    "\n",
    "cal_file = 'E:/SBIskant2021_PF/2021Cal_Iskant_PF.ecs'\n",
    "\n",
    "gps_file = 'E:/SBIskant2021_PF/datalogger/sailbuoyiskant2021_gps_ctd_data.gps.csv'\n",
    "#ind=900"
   ]
  },
  {
   "cell_type": "markdown",
   "id": "2e120021",
   "metadata": {},
   "source": [
    "### Iskant 2022\n"
   ]
  },
  {
   "cell_type": "code",
   "execution_count": 36,
   "id": "9682ac6c",
   "metadata": {},
   "outputs": [],
   "source": [
    "# Location of data files\n",
    "ev_template = 'E:/PF_EV/PF_WeakStrong_Schools.EV'\n",
    "n_files = 15\n",
    "\n",
    "data_folder = 'E:/PolarFront2022/2022-05/sailbuoy/2022_polarfront_sb_iskant/wbat/' \n",
    "\n",
    "export_folder = 'E:/PolarFront-Exports/Iskant2022/Export_WeakStrong_schools/' \n",
    "\n",
    "# Define variable name to export\n",
    "var_name = ' Fileset 1: Sv pings T1'\n",
    "\n",
    "# Find all data files with extension .raw for the date frame\n",
    "raw_file_names = sorted(glob.glob(data_folder + 'mpl1_200-Phase0-D20220*.raw'))\n",
    "\n",
    "gps_file = 'E:/PolarFront2022/2022-05/sailbuoy/2022_polarfront_sb_iskant/datalogger/sbiskant2022_gps_ctd_data.gps.csv'\n"
   ]
  },
  {
   "cell_type": "markdown",
   "id": "20925342",
   "metadata": {},
   "source": [
    "# Extract!\n"
   ]
  },
  {
   "cell_type": "code",
   "execution_count": 17,
   "id": "dea6a1bb",
   "metadata": {
    "scrolled": true
   },
   "outputs": [
    {
     "name": "stdout",
     "output_type": "stream",
     "text": [
      "E:/SBIskant2021_PF/wbat\\Mission Plan ES200-7CDK-split-PolarFront-Phase0-D20210530-T173129-0.raw\n",
      "E:/SBIskant2021_PF/wbat\\Mission Plan ES200-7CDK-split-PolarFront-Phase0-D20210530-T223129-0.raw\n",
      "E:/SBIskant2021_PF/wbat\\Mission Plan ES200-7CDK-split-PolarFront-Phase0-D20210531-T033128-0.raw\n",
      "E:/SBIskant2021_PF/wbat\\Mission Plan ES200-7CDK-split-PolarFront-Phase0-D20210531-T083129-0.raw\n",
      "E:/SBIskant2021_PF/wbat\\Mission Plan ES200-7CDK-split-PolarFront-Phase0-D20210531-T133129-0.raw\n",
      "E:/SBIskant2021_PF/wbat\\Mission Plan ES200-7CDK-split-PolarFront-Phase0-D20210531-T183129-0.raw\n",
      "E:/SBIskant2021_PF/wbat\\Mission Plan ES200-7CDK-split-PolarFront-Phase0-D20210531-T233128-0.raw\n",
      "E:/SBIskant2021_PF/wbat\\Mission Plan ES200-7CDK-split-PolarFront-Phase0-D20210601-T043129-0.raw\n",
      "E:/SBIskant2021_PF/wbat\\Mission Plan ES200-7CDK-split-PolarFront-Phase0-D20210601-T093130-0.raw\n",
      "E:/SBIskant2021_PF/wbat\\Mission Plan ES200-7CDK-split-PolarFront-Phase0-D20210601-T143129-0.raw\n",
      "E:/SBIskant2021_PF/wbat\\Mission Plan ES200-7CDK-split-PolarFront-Phase0-D20210601-T193129-0.raw\n",
      "E:/SBIskant2021_PF/wbat\\Mission Plan ES200-7CDK-split-PolarFront-Phase0-D20210602-T003128-0.raw\n",
      "E:/SBIskant2021_PF/wbat\\Mission Plan ES200-7CDK-split-PolarFront-Phase0-D20210602-T053130-0.raw\n",
      "E:/SBIskant2021_PF/wbat\\Mission Plan ES200-7CDK-split-PolarFront-Phase0-D20210602-T103128-0.raw\n",
      "E:/SBIskant2021_PF/wbat\\Mission Plan ES200-7CDK-split-PolarFront-Phase0-D20210602-T153129-0.raw\n",
      "E:/SBIskant2021_PF/wbat\\Mission Plan ES200-7CDK-split-PolarFront-Phase0-D20210602-T203129-0.raw\n",
      "E:/SBIskant2021_PF/wbat\\Mission Plan ES200-7CDK-split-PolarFront-Phase0-D20210603-T013140-0.raw\n",
      "E:/SBIskant2021_PF/wbat\\Mission Plan ES200-7CDK-split-PolarFront-Phase0-D20210603-T063129-0.raw\n",
      "E:/SBIskant2021_PF/wbat\\Mission Plan ES200-7CDK-split-PolarFront-Phase0-D20210603-T113129-0.raw\n",
      "E:/SBIskant2021_PF/wbat\\Mission Plan ES200-7CDK-split-PolarFront-Phase0-D20210603-T163128-0.raw\n",
      "E:/SBIskant2021_PF/wbat\\Mission Plan ES200-7CDK-split-PolarFront-Phase0-D20210603-T213128-0.raw\n",
      "E:/SBIskant2021_PF/wbat\\Mission Plan ES200-7CDK-split-PolarFront-Phase0-D20210604-T023128-0.raw\n",
      "E:/SBIskant2021_PF/wbat\\Mission Plan ES200-7CDK-split-PolarFront-Phase0-D20210604-T073128-0.raw\n",
      "E:/SBIskant2021_PF/wbat\\Mission Plan ES200-7CDK-split-PolarFront-Phase0-D20210604-T123130-0.raw\n",
      "E:/SBIskant2021_PF/wbat\\Mission Plan ES200-7CDK-split-PolarFront-Phase0-D20210604-T173129-0.raw\n",
      "E:/SBIskant2021_PF/wbat\\Mission Plan ES200-7CDK-split-PolarFront-Phase0-D20210604-T223129-0.raw\n",
      "E:/SBIskant2021_PF/wbat\\Mission Plan ES200-7CDK-split-PolarFront-Phase0-D20210605-T033129-0.raw\n",
      "E:/SBIskant2021_PF/wbat\\Mission Plan ES200-7CDK-split-PolarFront-Phase0-D20210605-T083129-0.raw\n",
      "E:/SBIskant2021_PF/wbat\\Mission Plan ES200-7CDK-split-PolarFront-Phase0-D20210605-T133130-0.raw\n",
      "E:/SBIskant2021_PF/wbat\\Mission Plan ES200-7CDK-split-PolarFront-Phase0-D20210605-T183129-0.raw\n",
      "E:/SBIskant2021_PF/wbat\\Mission Plan ES200-7CDK-split-PolarFront-Phase0-D20210605-T233129-0.raw\n",
      "E:/SBIskant2021_PF/wbat\\Mission Plan ES200-7CDK-split-PolarFront-Phase0-D20210606-T043129-0.raw\n",
      "E:/SBIskant2021_PF/wbat\\Mission Plan ES200-7CDK-split-PolarFront-Phase0-D20210606-T093129-0.raw\n",
      "E:/SBIskant2021_PF/wbat\\Mission Plan ES200-7CDK-split-PolarFront-Phase0-D20210606-T143128-0.raw\n",
      "E:/SBIskant2021_PF/wbat\\Mission Plan ES200-7CDK-split-PolarFront-Phase0-D20210606-T193129-0.raw\n",
      "E:/SBIskant2021_PF/wbat\\Mission Plan ES200-7CDK-split-PolarFront-Phase0-D20210607-T003129-0.raw\n",
      "E:/SBIskant2021_PF/wbat\\Mission Plan ES200-7CDK-split-PolarFront-Phase0-D20210607-T053129-0.raw\n",
      "E:/SBIskant2021_PF/wbat\\Mission Plan ES200-7CDK-split-PolarFront-Phase0-D20210607-T103128-0.raw\n",
      "E:/SBIskant2021_PF/wbat\\Mission Plan ES200-7CDK-split-PolarFront-Phase0-D20210607-T153129-0.raw\n",
      "E:/SBIskant2021_PF/wbat\\Mission Plan ES200-7CDK-split-PolarFront-Phase0-D20210607-T203129-0.raw\n"
     ]
    },
    {
     "ename": "KeyboardInterrupt",
     "evalue": "",
     "output_type": "error",
     "traceback": [
      "\u001b[1;31m---------------------------------------------------------------------------\u001b[0m",
      "\u001b[1;31mKeyboardInterrupt\u001b[0m                         Traceback (most recent call last)",
      "\u001b[1;32m~\\AppData\\Local\\Temp\\ipykernel_27016\\261515513.py\u001b[0m in \u001b[0;36m<module>\u001b[1;34m\u001b[0m\n\u001b[0;32m     79\u001b[0m     \u001b[0mClass_Var\u001b[0m \u001b[1;33m=\u001b[0m \u001b[0mEvFile\u001b[0m\u001b[1;33m.\u001b[0m\u001b[0mVariables\u001b[0m\u001b[1;33m.\u001b[0m\u001b[0mFindByName\u001b[0m\u001b[1;33m(\u001b[0m\u001b[1;34m'Echogram class for export'\u001b[0m\u001b[1;33m)\u001b[0m\u001b[1;33m\u001b[0m\u001b[1;33m\u001b[0m\u001b[0m\n\u001b[0;32m     80\u001b[0m     \u001b[0mClass_Var\u001b[0m\u001b[1;33m.\u001b[0m\u001b[0mProperties\u001b[0m\u001b[1;33m.\u001b[0m\u001b[0mDisplay\u001b[0m\u001b[1;33m.\u001b[0m\u001b[0mLowerLimit\u001b[0m\u001b[1;33m=\u001b[0m\u001b[1;36m100\u001b[0m\u001b[1;33m\u001b[0m\u001b[1;33m\u001b[0m\u001b[0m\n\u001b[1;32m---> 81\u001b[1;33m     \u001b[0mClass_Var\u001b[0m\u001b[1;33m.\u001b[0m\u001b[0mExportEchogramToImage\u001b[0m\u001b[1;33m(\u001b[0m\u001b[1;34mf'{export_folder}{image_file_name}class.png'\u001b[0m\u001b[1;33m,\u001b[0m\u001b[1;36m500\u001b[0m\u001b[1;33m,\u001b[0m\u001b[1;33m-\u001b[0m\u001b[1;36m1\u001b[0m\u001b[1;33m,\u001b[0m\u001b[1;33m-\u001b[0m\u001b[1;36m1\u001b[0m\u001b[1;33m)\u001b[0m\u001b[1;33m\u001b[0m\u001b[1;33m\u001b[0m\u001b[0m\n\u001b[0m\u001b[0;32m     82\u001b[0m \u001b[1;33m\u001b[0m\u001b[0m\n\u001b[0;32m     83\u001b[0m     \u001b[1;31m# Export integration regions as csv\u001b[0m\u001b[1;33m\u001b[0m\u001b[1;33m\u001b[0m\u001b[1;33m\u001b[0m\u001b[0m\n",
      "\u001b[1;32m~\\anaconda3\\envs\\phd-env\\lib\\site-packages\\win32com\\client\\dynamic.py\u001b[0m in \u001b[0;36mExportEchogramToImage\u001b[1;34m(self, strFileName, iHeightInPixels, iStartPing, iStopPing)\u001b[0m\n",
      "\u001b[1;31mKeyboardInterrupt\u001b[0m: "
     ]
    }
   ],
   "source": [
    "# Open new EV file\n",
    "\n",
    "for ind in np.arange(1358,len(raw_file_names), n_files):\n",
    "    # Connect to the Echoview application\n",
    "    EVApp = win32.Dispatch(\"EchoviewCom.EvApplication\") \n",
    "    #EvApp.Minimize()\n",
    "\n",
    "    #Create new file\n",
    "    EvFile = EVApp.NewFile(ev_template)\n",
    "\n",
    "    # Load data by chunks of nfiles\n",
    "    Fileset = EvFile.Filesets.FindByName('Fileset 1')\n",
    "    \n",
    "    # Set calibration File\n",
    "    Fileset.SetCalibrationFile(cal_file)\n",
    "    \n",
    "    # Load datafiles range\n",
    "    for sub_ind in np.arange(0,n_files):\n",
    "        Fileset.DataFiles.Add(raw_file_names[ind+sub_ind])\n",
    "    #Fileset.DataFiles.Add(raw_file_names[ind])\n",
    "    \n",
    "    \n",
    "    ## GPS file\n",
    "    Fileset_gps = EvFile.Filesets.FindByName('Fileset 2')\n",
    "    Fileset_gps.DataFiles.Add(gps_file)\n",
    "    \n",
    "    # Export file names\n",
    "    image_file_name = os.path.basename(raw_file_names[ind])[:-4]\n",
    "    export_file_name = os.path.basename(raw_file_names[ind])[:-4]\n",
    "    \n",
    "    \n",
    "    #### Select thresholded sections and run school detection STRONG and WEAK ######\n",
    "      # Pattern detection\n",
    "    region_list = [\"SSL Strong\",\"SSL weak\"]\n",
    "    \n",
    "    for j in np.arange(0,len(region_list)):\n",
    "        \n",
    "        # Detect fish tracks\n",
    "        if region_list[j] == \"SSL Strong\":\n",
    "            # Select variable\n",
    "            tmp_var = EvFile.Variables.FindByName(\"SSL min -65\")\n",
    "            # Apply school detection settings\n",
    "            EVApp.Exec(\"SchoolsDistanceMode =| PingNumber\")\n",
    "            EVApp.Exec(\"SchoolsMinimumTotalHeight =| 1\")\n",
    "            EVApp.Exec(\"SchoolsMinimumCandidateLengthPings =| 4\")\n",
    "            EVApp.Exec(\"SchoolsMinimumCandidateHeight =| 1\")\n",
    "            EVApp.Exec(\"SchoolsMaximumVerticalLinkDistance =| 1\")\n",
    "            EVApp.Exec(\"SchoolsMaximumHorizontalLinkDistanceInPings =| 1\")\n",
    "            EVApp.Exec(\"SchoolsMinimumTotalLengthPings =| 2\")\n",
    "\n",
    "         \n",
    "            \n",
    "        if region_list[j] == \"SSL weak\":\n",
    "            # Select variable\n",
    "            tmp_var = EvFile.Variables.FindByName(\"SSL max -75/min-80\")\n",
    "            # Apply school detection settings\n",
    "            EVApp.Exec(\"SchoolsDistanceMode =| PingNumber\")\n",
    "            EVApp.Exec(\"SchoolsMinimumTotalHeight =| 10\")\n",
    "            EVApp.Exec(\"SchoolsMinimumCandidateLengthPings =| 75\")\n",
    "            EVApp.Exec(\"SchoolsMinimumCandidateHeight =| 10\")\n",
    "            EVApp.Exec(\"SchoolsMaximumVerticalLinkDistance =| 1\")\n",
    "            EVApp.Exec(\"SchoolsMaximumHorizontalLinkDistanceInPings =| 2\")\n",
    "            EVApp.Exec(\"SchoolsMinimumTotalLengthPings =| 75\")\n",
    "\n",
    "        # Remove previously detected regions\n",
    "        region_temp = EvFile.RegionClasses.FindByName(region_list[j])\n",
    "        region_temp.DeleteRegions(-1)\n",
    "        # Detect patterns\n",
    "        tmp_var.DetectSchools(region_list[j], -1, -1)\n",
    "\n",
    "  \n",
    "\n",
    "    #### Export and save ######\n",
    "    # Export echograms\n",
    "    Export_Var = EvFile.Variables.FindByName('Echogram clean for export')\n",
    "    Export_Var.Properties.Display.LowerLimit=100\n",
    "    Export_Var.ExportEchogramToImage(f'{export_folder}{image_file_name}.png',300,-1,-1)\n",
    "    \n",
    "    Class_Var = EvFile.Variables.FindByName('Echogram class for export')\n",
    "    Class_Var.Properties.Display.LowerLimit=100\n",
    "    Class_Var.ExportEchogramToImage(f'{export_folder}{image_file_name}class.png',500,-1,-1)\n",
    "    \n",
    "    # Export integration regions as csv\n",
    "    Export_Var.ExportIntegrationByRegionsAll(f'{export_folder}{export_file_name}regions.csv')\n",
    "\n",
    "    \n",
    "    # Close file\n",
    "    EvFile.Close()\n",
    "\n",
    "    # Quit Echoview\n",
    "    EVApp.Quit()\n",
    "    \n",
    "    print(raw_file_names[ind])"
   ]
  },
  {
   "cell_type": "code",
   "execution_count": null,
   "id": "2294fdda",
   "metadata": {},
   "outputs": [],
   "source": [
    "np.arange(0,len(raw_file_names), n_files)"
   ]
  },
  {
   "cell_type": "code",
   "execution_count": null,
   "id": "281cbfa9",
   "metadata": {},
   "outputs": [],
   "source": [
    "np.arange(0,n_files,2)"
   ]
  },
  {
   "cell_type": "code",
   "execution_count": 15,
   "id": "6f4a79c2",
   "metadata": {},
   "outputs": [
    {
     "data": {
      "text/plain": [
       "1358"
      ]
     },
     "execution_count": 15,
     "metadata": {},
     "output_type": "execute_result"
    }
   ],
   "source": [
    "ind\n"
   ]
  },
  {
   "cell_type": "code",
   "execution_count": null,
   "id": "34ab6f68",
   "metadata": {},
   "outputs": [],
   "source": []
  }
 ],
 "metadata": {
  "kernelspec": {
   "display_name": "Python 3 (ipykernel)",
   "language": "python",
   "name": "python3"
  },
  "language_info": {
   "codemirror_mode": {
    "name": "ipython",
    "version": 3
   },
   "file_extension": ".py",
   "mimetype": "text/x-python",
   "name": "python",
   "nbconvert_exporter": "python",
   "pygments_lexer": "ipython3",
   "version": "3.7.15"
  }
 },
 "nbformat": 4,
 "nbformat_minor": 5
}
