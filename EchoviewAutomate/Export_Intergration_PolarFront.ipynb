{
 "cells": [
  {
   "cell_type": "markdown",
   "id": "054a7606",
   "metadata": {},
   "source": [
    "In this notebook we will export images from Polar front Sailbuoy data"
   ]
  },
  {
   "cell_type": "code",
   "execution_count": 4,
   "id": "58147e83",
   "metadata": {},
   "outputs": [],
   "source": [
    "import numpy as np\n",
    "import win32com.client as win32\n",
    "import glob\n",
    "import os"
   ]
  },
  {
   "cell_type": "markdown",
   "id": "21fd5583",
   "metadata": {},
   "source": [
    "# Select platform"
   ]
  },
  {
   "cell_type": "markdown",
   "id": "2cf456aa",
   "metadata": {},
   "source": [
    "Iskant 2021"
   ]
  },
  {
   "cell_type": "code",
   "execution_count": 55,
   "id": "fac2e956",
   "metadata": {},
   "outputs": [],
   "source": [
    "# Location of data files\n",
    "ev_template = 'E:/PolarFront-Exports/Iskant2021/ExtractSv/Template_BB_ExtractSv.EV'\n",
    "n_files = 6\n",
    "\n",
    "data_folder = 'E:/SBIskant2021_PF/wbat/' \n",
    "\n",
    "export_folder = 'E:/PolarFront-Exports/Iskant2021/ExtractSv/' \n",
    "\n",
    "# Define variable name to export\n",
    "var_name = 'Wideband frequency select 1'\n",
    "\n",
    "# Find all data files with extension .raw for the date frame\n",
    "raw_file_names = sorted(glob.glob(data_folder + 'Mission Plan ES200-7CDK-split-PolarFront-Phase0-D2021*.raw'))\n"
   ]
  },
  {
   "cell_type": "markdown",
   "id": "7bffd6e6",
   "metadata": {},
   "source": [
    "Iskant 2022\n"
   ]
  },
  {
   "cell_type": "code",
   "execution_count": 103,
   "id": "3f31c8f4",
   "metadata": {},
   "outputs": [],
   "source": [
    "# Location of data files\n",
    "ev_template = 'E:/PolarFront2022/Template.EV'\n",
    "n_files = 10\n",
    "\n",
    "data_folder = 'E:/PolarFront2022/2022-05/sailbuoy/2022_polarfront_sb_iskant/wbat/' \n",
    "\n",
    "export_folder = 'E:/PolarFront2022/2022-05/sailbuoy/2022_polarfront_sb_iskant/images/' \n",
    "\n",
    "# Define variable name to export\n",
    "var_name = ' Fileset 1: Sv pings T1'\n",
    "\n",
    "# Find all data files with extension .raw for the date frame\n",
    "raw_file_names = sorted(glob.glob(data_folder + 'mpl1_200-Phase0-D2022*.raw'))\n"
   ]
  },
  {
   "cell_type": "markdown",
   "id": "ee4b4e0e",
   "metadata": {},
   "source": [
    "Echo 1 2022"
   ]
  },
  {
   "cell_type": "code",
   "execution_count": 98,
   "id": "0553ee35",
   "metadata": {},
   "outputs": [],
   "source": [
    "# Location of data files\n",
    "ev_template = 'E:/PolarFront2022/Template_BB.EV'\n",
    "n_files = 10\n",
    "\n",
    "data_folder = 'E:/PolarFront2022/2022-05/sailbuoy/2022_polarfront_sb_echo_1/wbat/' \n",
    "\n",
    "export_folder = 'E:/PolarFront2022/2022-05/sailbuoy/2022_polarfront_sb_echo_1/images/' \n",
    "\n",
    "# Define variable name to export\n",
    "var_name = ' Fileset 1: Sv pulse compressed wideband pings T1'\n",
    "\n",
    "# Find all data files with extension .raw for the date frame\n",
    "raw_file_names = sorted(glob.glob(data_folder + 'mpl1_200-Phase0-D2022*.raw'))\n"
   ]
  },
  {
   "cell_type": "markdown",
   "id": "b1e58c23",
   "metadata": {},
   "source": [
    "# Export image\n"
   ]
  },
  {
   "cell_type": "code",
   "execution_count": null,
   "id": "8098e433",
   "metadata": {},
   "outputs": [],
   "source": [
    "# Open new EV file\n",
    "\n",
    "for ind in np.arange(0,len(raw_file_names),n_files):\n",
    "    # Connect to the Echoview application\n",
    "    EvApp = win32.Dispatch(\"EchoviewCom.EvApplication\") \n",
    "    EvApp.Minimize()\n",
    "\n",
    "    #Create new file\n",
    "    EvFile = EvApp.NewFile(ev_template)\n",
    "\n",
    "    # Load data by chunks of nfiles\n",
    "    Fileset = EvFile.Filesets.FindByName('Fileset 1')\n",
    "    for sub_ind in range(0,n_files):\n",
    "        Fileset.DataFiles.Add(raw_file_names[ind+sub_ind])\n",
    "    \n",
    "    # Export file names\n",
    "    image_file_name = os.path.basename(raw_file_names[ind])[:-4]\n",
    "    meansv_file_name = os.path.basename(raw_file_names[ind])[:-4]\n",
    "    \n",
    "    # Select variable and recalculate\n",
    "    Processed_Var = EvFile.Variables.FindByName('Processed data 1')\n",
    "    \n",
    "    Processed_Var.Properties.Grid.SetDepthRangeGrid(1,50)\n",
    "    Processed_Var.Properties.Grid.SetTimeDistanceGrid(4,200)\n",
    "    \n",
    "    #Export integration\n",
    "    Processed_Var.ExportIntegrationByCellsAll(f'{export_folder}{meansv_file_name}.csv')\n",
    "\n",
    "    # Save image\n",
    "    Processed_Var.ExportEchogramToImage(f'{export_folder}{image_file_name}.png',500,-1,-1)\n",
    "    \n",
    "    # Close file\n",
    "    EvFile.Close()\n",
    "\n",
    "    # Quit Echoview\n",
    "    EvApp.Quit()"
   ]
  },
  {
   "cell_type": "code",
   "execution_count": 46,
   "id": "bfa818ef",
   "metadata": {},
   "outputs": [
    {
     "ename": "TypeError",
     "evalue": "'str' object is not callable",
     "output_type": "error",
     "traceback": [
      "\u001b[1;31m---------------------------------------------------------------------------\u001b[0m",
      "\u001b[1;31mTypeError\u001b[0m                                 Traceback (most recent call last)",
      "\u001b[1;32m~\\AppData\\Local\\Temp\\ipykernel_51536\\422941340.py\u001b[0m in \u001b[0;36m<module>\u001b[1;34m\u001b[0m\n\u001b[1;32m----> 1\u001b[1;33m \u001b[0mProcessed_Var\u001b[0m\u001b[1;33m.\u001b[0m\u001b[0mProperties\u001b[0m\u001b[1;33m.\u001b[0m\u001b[0mAnalysis\u001b[0m\u001b[1;33m.\u001b[0m\u001b[0mExcludeAboveLine\u001b[0m\u001b[1;33m(\u001b[0m\u001b[0mEvFile\u001b[0m\u001b[1;33m.\u001b[0m\u001b[0mLines\u001b[0m\u001b[1;33m.\u001b[0m\u001b[0mFindByName\u001b[0m\u001b[1;33m(\u001b[0m\u001b[1;34m'Entrained air'\u001b[0m\u001b[1;33m)\u001b[0m\u001b[1;33m)\u001b[0m\u001b[1;33m\u001b[0m\u001b[1;33m\u001b[0m\u001b[0m\n\u001b[0m",
      "\u001b[1;31mTypeError\u001b[0m: 'str' object is not callable"
     ]
    }
   ],
   "source": [
    "Processed_Var.Properties.Analysis.ExcludeAboveLine(EvFile.Lines.FindByName('Entrained air'))"
   ]
  },
  {
   "cell_type": "code",
   "execution_count": 50,
   "id": "7e32a1ab",
   "metadata": {},
   "outputs": [
    {
     "data": {
      "text/plain": [
       "True"
      ]
     },
     "execution_count": 50,
     "metadata": {},
     "output_type": "execute_result"
    }
   ],
   "source": [
    "    EvApp = win32.Dispatch(\"EchoviewCom.EvApplication\") \n",
    "    EvApp.Minimize()\n",
    "\n",
    "    #Create new file\n",
    "    EvFile = EvApp.NewFile(ev_template)\n",
    "\n",
    "    # Load data by chunks of nfiles\n",
    "    Fileset = EvFile.Filesets.FindByName('Fileset 1')\n",
    "    for sub_ind in range(0,n_files):\n",
    "        Fileset.DataFiles.Add(raw_file_names[ind+sub_ind])\n",
    "    \n",
    "    # Export file names\n",
    "    image_file_name = os.path.basename(raw_file_names[ind])[:-4]\n",
    "    meansv_file_name = os.path.basename(raw_file_names[ind])[:-4]\n",
    "    \n",
    "    # Select variable and recalculate\n",
    "    Processed_Var = EvFile.Variables.FindByName('Processed data 1')\n",
    "    \n",
    "    Processed_Var.Properties.Grid.SetDepthRangeGrid(1,50)\n",
    "    Processed_Var.Properties.Grid.SetTimeDistanceGrid(1,7)"
   ]
  },
  {
   "cell_type": "code",
   "execution_count": 53,
   "id": "91a0139f",
   "metadata": {},
   "outputs": [
    {
     "data": {
      "text/plain": [
       "True"
      ]
     },
     "execution_count": 53,
     "metadata": {},
     "output_type": "execute_result"
    }
   ],
   "source": [
    "Processed_Var.Properties.Grid.SetTimeDistanceGrid(1,)"
   ]
  },
  {
   "cell_type": "code",
   "execution_count": null,
   "id": "ed55f3f4",
   "metadata": {},
   "outputs": [],
   "source": []
  }
 ],
 "metadata": {
  "kernelspec": {
   "display_name": "Python 3 (ipykernel)",
   "language": "python",
   "name": "python3"
  },
  "language_info": {
   "codemirror_mode": {
    "name": "ipython",
    "version": 3
   },
   "file_extension": ".py",
   "mimetype": "text/x-python",
   "name": "python",
   "nbconvert_exporter": "python",
   "pygments_lexer": "ipython3",
   "version": "3.7.11"
  }
 },
 "nbformat": 4,
 "nbformat_minor": 5
}
