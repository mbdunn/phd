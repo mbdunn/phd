{
 "cells": [
  {
   "cell_type": "markdown",
   "id": "95c0070f",
   "metadata": {},
   "source": [
    "In this notebook we will export images from Polar front Sailbuoy data"
   ]
  },
  {
   "cell_type": "code",
   "execution_count": 1,
   "id": "639b4d39",
   "metadata": {},
   "outputs": [],
   "source": [
    "import numpy as np\n",
    "import win32com.client as win32\n",
    "import glob\n",
    "import os"
   ]
  },
  {
   "cell_type": "markdown",
   "id": "acdf0ade",
   "metadata": {},
   "source": [
    "# Select platform"
   ]
  },
  {
   "cell_type": "markdown",
   "id": "30a6132c",
   "metadata": {},
   "source": [
    "Sermilik cruise 2023"
   ]
  },
  {
   "cell_type": "code",
   "execution_count": 48,
   "id": "49a312dd",
   "metadata": {},
   "outputs": [],
   "source": [
    "# Location of data files\n",
    "ev_template = 'D:/Sermilik/NNA_EV/Sermilik_dBDiff.EV'\n",
    "\n",
    "data_folder = 'D:/Sermilik/NNA_EK80/NNA_EK80/' \n",
    "\n",
    "processed_export_folder = 'D:/Sermilik/images_clean/' \n",
    "processed_export_resample_folder = 'D:/Sermilik/images_resampled/' \n",
    "\n",
    "cal_file='D:/Sermilik/NNA_EK80/NNA_EK80/Sermilik_20230806.ecs'\n",
    "\n",
    "# Define variable name to export\n",
    "#var_T1 = 'Calibration subset T1'\n",
    "var_T2 = 'Calibration subset T2'\n",
    "var_T3 = 'Calibration subset T3'\n",
    "var_T4 = 'Calibration subset T4' #Passive\n",
    "var_T5 = 'Calibration subset T5' #Passive\n",
    "var_T6 = 'Calibration subset T6'\n",
    "var_T7 = 'Calibration subset T7'#Passive\n",
    "\n",
    "T_list = ['T2', 'T3', 'T4', 'T5', 'T6']\n",
    "\n",
    "# Define variable name to export\n",
    "#pvar_T1 = 'Processed data T1'  # 150 kHz\n",
    "pvar_T2 = 'Processed data T2'   # 38 kHz\n",
    "pvar_T3 = 'Processed data T3'   # 18 kHz\n",
    "pvar_T4 = 'Processed data T4' #Passive  #70 kHz\n",
    "pvar_T5 = 'Processed data T5' #Passive  #200 kHz \n",
    "pvar_T6 = 'Processed data T6'   # 120 kHz\n",
    "#pvar_T7 = 'Processed data T7'#Passive  # 333 kHz\n",
    "\n",
    "\n",
    "var_names = [var_T2,var_T3,var_T4,var_T5,var_T6]\n",
    "processed_var_names = [pvar_T2,\n",
    "                       pvar_T3,\n",
    "                       pvar_T4, \n",
    "                       pvar_T5,\n",
    "                       pvar_T6]\n",
    "                       #pvar_T7]\n",
    "\n",
    "# Find all data files with extension .raw for the date frame\n",
    "date = '20230806'\n",
    "raw_file_names = sorted(glob.glob(data_folder + f'NNA_*{date}*.raw'))\n",
    "cal_file=f'D:/Sermilik/NNA_EK80/NNA_EK80/Sermilik_{date}.ecs'"
   ]
  },
  {
   "cell_type": "code",
   "execution_count": 49,
   "id": "3d476c00-3b04-4a32-b61d-7c85cbcf6bfb",
   "metadata": {},
   "outputs": [
    {
     "data": {
      "text/plain": [
       "89"
      ]
     },
     "execution_count": 49,
     "metadata": {},
     "output_type": "execute_result"
    }
   ],
   "source": [
    "len(raw_file_names)"
   ]
  },
  {
   "cell_type": "code",
   "execution_count": 50,
   "id": "284b1587-10dc-4948-ad47-3d3e92ffb365",
   "metadata": {},
   "outputs": [
    {
     "data": {
      "text/plain": [
       "['D:/Sermilik/NNA_EK80/NNA_EK80\\\\NNA_Tarajoq-D20230806-T185708.raw',\n",
       " 'D:/Sermilik/NNA_EK80/NNA_EK80\\\\NNA_Tarajoq-D20230806-T190856.raw',\n",
       " 'D:/Sermilik/NNA_EK80/NNA_EK80\\\\NNA_Tarajoq-D20230806-T203601.raw',\n",
       " 'D:/Sermilik/NNA_EK80/NNA_EK80\\\\NNA_Tarajoq-D20230806-T205033.raw',\n",
       " 'D:/Sermilik/NNA_EK80/NNA_EK80\\\\NNA_Tarajoq-D20230806-T205749.raw',\n",
       " 'D:/Sermilik/NNA_EK80/NNA_EK80\\\\NNA_Tarajoq-D20230806-T221548.raw',\n",
       " 'D:/Sermilik/NNA_EK80/NNA_EK80\\\\NNA_Tarajoq-D20230806-T224518.raw']"
      ]
     },
     "execution_count": 50,
     "metadata": {},
     "output_type": "execute_result"
    }
   ],
   "source": [
    "raw_file_names[82:]"
   ]
  },
  {
   "cell_type": "markdown",
   "id": "6e66ba4a",
   "metadata": {},
   "source": [
    "##### Export image\n"
   ]
  },
  {
   "cell_type": "code",
   "execution_count": 51,
   "id": "50ac3a87-97f8-4997-80d7-0829080ab999",
   "metadata": {},
   "outputs": [],
   "source": [
    "# Open new EV file\n",
    "\n",
    "for ind in np.arange(0,1):\n",
    "    # Connect to the Echoview application\n",
    "    EvApp = win32.Dispatch(\"EchoviewCom.EvApplication\") \n",
    "    EvApp.Minimize()\n",
    "\n",
    "    # Create new file\n",
    "    EvFile = EvApp.NewFile(ev_template)\n",
    "\n",
    "    # Load data by chunks of 3 files (1 on period)\n",
    "    Fileset = EvFile.Filesets.FindByName('Fileset 1')\n",
    "\n",
    "    # Set cal file\n",
    "    Fileset.SetCalibrationFile(cal_file)\n",
    "    \n",
    "    for sub_ind in range(82,len(raw_file_names)):\n",
    "        Fileset.DataFiles.Add(raw_file_names[ind+sub_ind])\n",
    "        \n",
    "    image_file_name = os.path.basename(raw_file_names[ind])[:-4]\n",
    "    image_file_resample_name = os.path.basename(raw_file_names[ind])[:-4]\n",
    "    i=0\n",
    "    for T_i in T_list:\n",
    "        \n",
    "        # Select variable and recalculate\n",
    "        Processed_Var = EvFile.Variables.FindByName(f'Processed data {T_i}')\n",
    "        Sv_Var = EvFile.Variables.FindByName(f'Attenuated signal removal {T_i}')\n",
    "        \n",
    "        # Create a new editable line that offsets and spans gaps from bottom line\n",
    "        if i == 0:\n",
    "            Offset_line = EvFile.Lines.FindByName('Bottom Smooth')\n",
    "            New_Line = EvFile.Lines.CreateOffsetLinear(Offset_line, 1, -2, True)# Editable line with 2m offset from bottom, spans gaps\n",
    "            \n",
    "            Bubble_line = EvFile.Lines.FindByName('Bubble Offset')\n",
    "            bubble_Line = EvFile.Lines.CreateOffsetLinear(Bubble_line, 1, 2, True)# Editable line with 2m offset from surface an bubble offset, spans gaps\n",
    "            \n",
    "        i += 1\n",
    "        \n",
    "        Sv_Var.Properties.Analysis.ExcludeBelowLine = \"Line 1\" # Variable before processed data\n",
    "        Processed_Var.Properties.Analysis.ExcludeBelowLine = \"Line 1\"\n",
    "        Sv_Var.Properties.Analysis.ExcludeAboveLine = \"Line 1 (1)\"\n",
    "        Processed_Var.Properties.Analysis.ExcludeAboveLine = \"Line 1 (1)\"\n",
    "\n",
    "        Processed_Var.Properties.Grid.SetDepthRangeGrid(1,50)\n",
    "        Processed_Var.Properties.Grid.SetTimeDistanceGrid(2,1)\n",
    "\n",
    "    EvFile.SaveAs(f'{ev_template[:-3]}_{date}PM_2.EV')\n",
    "\n",
    "    # Close file\n",
    "    #EvFile.Close()\n",
    "    # Quit Echoview\n",
    "    #EvApp.Quit()"
   ]
  },
  {
   "cell_type": "code",
   "execution_count": null,
   "id": "f5525387-2f9d-4914-a044-361f23685ce9",
   "metadata": {},
   "outputs": [],
   "source": []
  }
 ],
 "metadata": {
  "kernelspec": {
   "display_name": "Python 3 (ipykernel)",
   "language": "python",
   "name": "python3"
  },
  "language_info": {
   "codemirror_mode": {
    "name": "ipython",
    "version": 3
   },
   "file_extension": ".py",
   "mimetype": "text/x-python",
   "name": "python",
   "nbconvert_exporter": "python",
   "pygments_lexer": "ipython3",
   "version": "3.11.5"
  }
 },
 "nbformat": 4,
 "nbformat_minor": 5
}
