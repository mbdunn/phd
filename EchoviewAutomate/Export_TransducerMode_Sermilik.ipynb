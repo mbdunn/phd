{
 "cells": [
  {
   "cell_type": "markdown",
   "id": "95c0070f",
   "metadata": {},
   "source": [
    "In this notebook we will export images from Polar front Sailbuoy data"
   ]
  },
  {
   "cell_type": "code",
   "execution_count": 3,
   "id": "639b4d39",
   "metadata": {},
   "outputs": [],
   "source": [
    "import numpy as np\n",
    "import win32com.client as win32\n",
    "import glob\n",
    "import os"
   ]
  },
  {
   "cell_type": "markdown",
   "id": "acdf0ade",
   "metadata": {},
   "source": [
    "# Select platform"
   ]
  },
  {
   "cell_type": "markdown",
   "id": "30a6132c",
   "metadata": {},
   "source": [
    "Sermilik cruise 2023"
   ]
  },
  {
   "cell_type": "code",
   "execution_count": 35,
   "id": "49a312dd",
   "metadata": {},
   "outputs": [],
   "source": [
    "# Location of data files\n",
    "ev_template = 'D:/Sermilik/NNA_EV/Sermilik_TransducerMode.EV'\n",
    "n_files = 5\n",
    "\n",
    "data_folder = 'D:/Sermilik/NNA_EK80/NNA_EK80/' \n",
    "\n",
    "export_folder = 'D:/Sermilik/images/' \n",
    "\n",
    "cal_file='D:/Sermilik/NNA_EK80/NNA_EK80/Sermilik_20230806.ecs'\n",
    "\n",
    "# Define variable name to export\n",
    "var_T1 = 'Calibration subset T1'\n",
    "var_T2 = 'Calibration subset T2'\n",
    "var_T3 = 'Calibration subset T3'\n",
    "var_T4 = 'Calibration subset T4' #Passive\n",
    "var_T5 = 'Calibration subset T5' #Passive\n",
    "var_T6 = 'Calibration subset T6'\n",
    "var_T7 = 'Calibration subset T7'#Passive\n",
    "\n",
    "var_names = [var_T1,var_T2,var_T3,var_T4,var_T5,var_T6,var_T7]\n",
    "\n",
    "# Find all data files with extension .raw for the date frame\n",
    "raw_file_names = sorted(glob.glob(data_folder + 'NNA_*D20230818*.raw'))"
   ]
  },
  {
   "cell_type": "code",
   "execution_count": 36,
   "id": "3d476c00-3b04-4a32-b61d-7c85cbcf6bfb",
   "metadata": {},
   "outputs": [
    {
     "data": {
      "text/plain": [
       "['D:/Sermilik/NNA_EK80/NNA_EK80\\\\NNA_Tarajoq-D20230818-T001400.raw',\n",
       " 'D:/Sermilik/NNA_EK80/NNA_EK80\\\\NNA_Tarajoq-D20230818-T003507.raw',\n",
       " 'D:/Sermilik/NNA_EK80/NNA_EK80\\\\NNA_Tarajoq-D20230818-T011728.raw',\n",
       " 'D:/Sermilik/NNA_EK80/NNA_EK80\\\\NNA_Tarajoq-D20230818-T013840.raw',\n",
       " 'D:/Sermilik/NNA_EK80/NNA_EK80\\\\NNA_Tarajoq-D20230818-T022323.raw',\n",
       " 'D:/Sermilik/NNA_EK80/NNA_EK80\\\\NNA_Tarajoq-D20230818-T040359.raw',\n",
       " 'D:/Sermilik/NNA_EK80/NNA_EK80\\\\NNA_Tarajoq-D20230818-T042317.raw',\n",
       " 'D:/Sermilik/NNA_EK80/NNA_EK80\\\\NNA_Tarajoq-D20230818-T050444.raw',\n",
       " 'D:/Sermilik/NNA_EK80/NNA_EK80\\\\NNA_Tarajoq-D20230818-T051744.raw',\n",
       " 'D:/Sermilik/NNA_EK80/NNA_EK80\\\\NNA_Tarajoq-D20230818-T053401.raw',\n",
       " 'D:/Sermilik/NNA_EK80/NNA_EK80\\\\NNA_Tarajoq-D20230818-T060417.raw',\n",
       " 'D:/Sermilik/NNA_EK80/NNA_EK80\\\\NNA_Tarajoq-D20230818-T062339.raw',\n",
       " 'D:/Sermilik/NNA_EK80/NNA_EK80\\\\NNA_Tarajoq-D20230818-T065050.raw',\n",
       " 'D:/Sermilik/NNA_EK80/NNA_EK80\\\\NNA_Tarajoq-D20230818-T080241.raw',\n",
       " 'D:/Sermilik/NNA_EK80/NNA_EK80\\\\NNA_Tarajoq-D20230818-T080948.raw',\n",
       " 'D:/Sermilik/NNA_EK80/NNA_EK80\\\\NNA_Tarajoq-D20230818-T082645.raw',\n",
       " 'D:/Sermilik/NNA_EK80/NNA_EK80\\\\NNA_Tarajoq-D20230818-T084341.raw',\n",
       " 'D:/Sermilik/NNA_EK80/NNA_EK80\\\\NNA_Tarajoq-D20230818-T090025.raw']"
      ]
     },
     "execution_count": 36,
     "metadata": {},
     "output_type": "execute_result"
    }
   ],
   "source": [
    "raw_file_names"
   ]
  },
  {
   "cell_type": "markdown",
   "id": "6e66ba4a",
   "metadata": {},
   "source": [
    "# Export image\n"
   ]
  },
  {
   "cell_type": "code",
   "execution_count": 38,
   "id": "2828e464",
   "metadata": {},
   "outputs": [
    {
     "ename": "IndexError",
     "evalue": "list index out of range",
     "output_type": "error",
     "traceback": [
      "\u001b[1;31m---------------------------------------------------------------------------\u001b[0m",
      "\u001b[1;31mIndexError\u001b[0m                                Traceback (most recent call last)",
      "Cell \u001b[1;32mIn[38], line 18\u001b[0m\n\u001b[0;32m     15\u001b[0m Fileset\u001b[38;5;241m.\u001b[39mSetCalibrationFile(cal_file)\n\u001b[0;32m     17\u001b[0m \u001b[38;5;28;01mfor\u001b[39;00m sub_ind \u001b[38;5;129;01min\u001b[39;00m \u001b[38;5;28mrange\u001b[39m(\u001b[38;5;241m0\u001b[39m,n_files):\n\u001b[1;32m---> 18\u001b[0m     Fileset\u001b[38;5;241m.\u001b[39mDataFiles\u001b[38;5;241m.\u001b[39mAdd(\u001b[43mraw_file_names\u001b[49m\u001b[43m[\u001b[49m\u001b[43mind\u001b[49m\u001b[38;5;241;43m+\u001b[39;49m\u001b[43msub_ind\u001b[49m\u001b[43m]\u001b[49m)\n\u001b[0;32m     20\u001b[0m image_file_name \u001b[38;5;241m=\u001b[39m os\u001b[38;5;241m.\u001b[39mpath\u001b[38;5;241m.\u001b[39mbasename(raw_file_names[ind])[:\u001b[38;5;241m-\u001b[39m\u001b[38;5;241m4\u001b[39m]\n\u001b[0;32m     22\u001b[0m \u001b[38;5;28;01mfor\u001b[39;00m var_i \u001b[38;5;129;01min\u001b[39;00m var_names:\n",
      "\u001b[1;31mIndexError\u001b[0m: list index out of range"
     ]
    }
   ],
   "source": [
    "# Open new EV file\n",
    "\n",
    "for ind in np.arange(0,len(raw_file_names),n_files):\n",
    "    # Connect to the Echoview application\n",
    "    EvApp = win32.Dispatch(\"EchoviewCom.EvApplication\") \n",
    "    EvApp.Minimize()\n",
    "\n",
    "    # Create new file\n",
    "    EvFile = EvApp.NewFile(ev_template)\n",
    "\n",
    "    # Load data by chunks of 3 files (1 on period)\n",
    "    Fileset = EvFile.Filesets.FindByName('Fileset 1')\n",
    "\n",
    "    # Set cal file\n",
    "    Fileset.SetCalibrationFile(cal_file)\n",
    "    \n",
    "    for sub_ind in range(0,n_files):\n",
    "        Fileset.DataFiles.Add(raw_file_names[ind+sub_ind])\n",
    "        \n",
    "    image_file_name = os.path.basename(raw_file_names[ind])[:-4]\n",
    "\n",
    "    for var_i in var_names:\n",
    "        Sv_Var = EvFile.Variables.FindByName(var_i)\n",
    "    \n",
    "        Sv_Var.ExportEchogramToImage(f'{export_folder}{image_file_name}{var_i}.png',500,-1,-1)\n",
    "    # Close file\n",
    "    EvFile.Close()\n",
    "    # Quit Echoview\n",
    "    EvApp.Quit()"
   ]
  },
  {
   "cell_type": "code",
   "execution_count": 40,
   "id": "dc2fd0a0-c10f-43ee-8d29-b8191505df9b",
   "metadata": {},
   "outputs": [
    {
     "data": {
      "text/plain": [
       "True"
      ]
     },
     "execution_count": 40,
     "metadata": {},
     "output_type": "execute_result"
    }
   ],
   "source": [
    "Sv_Var.ExportEchogramToImage(f'D:/Sermilik/images//DesktopT2.png',500,-1,-1)"
   ]
  },
  {
   "cell_type": "code",
   "execution_count": 41,
   "id": "13cc08e5-cfdf-4047-939c-cf78f9b54990",
   "metadata": {},
   "outputs": [
    {
     "data": {
      "text/plain": [
       "True"
      ]
     },
     "execution_count": 41,
     "metadata": {},
     "output_type": "execute_result"
    }
   ],
   "source": [
    "Sv_Var.ExportEchogramToImage(f'{export_folder}{image_file_name}{var_name[-2:]}.png',500,-1,-1)"
   ]
  },
  {
   "cell_type": "code",
   "execution_count": 11,
   "id": "4bbe2f22-85cd-4240-8517-c0d782fcb5a1",
   "metadata": {},
   "outputs": [],
   "source": [
    "            EvApp = win32.Dispatch(\"EchoviewCom.EvApplication\") \n",
    "            EvApp.Minimize()\n",
    "        \n",
    "            # Create new file\n",
    "            EvFile = EvApp.NewFile(ev_template)\n",
    "        \n",
    "            # Load data by chunks of 3 files (1 on period)\n",
    "            Fileset = EvFile.Filesets.FindByName('Fileset 1')\n",
    "        \n",
    "            # Set cal file\n",
    "            Fileset.SetCalibrationFile(cal_file)\n",
    "            \n",
    "            for sub_ind in range(0,n_files):\n",
    "                Fileset.DataFiles.Add(raw_file_names[ind+sub_ind])\n",
    "                \n",
    "            image_file_name = os.path.basename(raw_file_names[ind])[:-4]\n",
    "            \n",
    "            Sv_Var = EvFile.Variables.FindByName('Calibration Subset T1')"
   ]
  },
  {
   "cell_type": "code",
   "execution_count": 23,
   "id": "8cecb270-557c-44cd-a07b-1ae8a48818ff",
   "metadata": {},
   "outputs": [],
   "source": [
    "k = EvFile.Variables.FindByName('Calibration Subset T1').AsVariableAcoustic()\n"
   ]
  },
  {
   "cell_type": "code",
   "execution_count": 24,
   "id": "8e4cb48c-01ea-45ca-90a9-c6b2b655c515",
   "metadata": {},
   "outputs": [
    {
     "data": {
      "text/plain": [
       "<COMObject AsVariableAcoustic>"
      ]
     },
     "execution_count": 24,
     "metadata": {},
     "output_type": "execute_result"
    }
   ],
   "source": [
    "k"
   ]
  },
  {
   "cell_type": "code",
   "execution_count": null,
   "id": "bd2fee9b-c74e-4d55-9aef-8b2e3a9136a3",
   "metadata": {},
   "outputs": [],
   "source": []
  }
 ],
 "metadata": {
  "kernelspec": {
   "display_name": "Python 3 (ipykernel)",
   "language": "python",
   "name": "python3"
  },
  "language_info": {
   "codemirror_mode": {
    "name": "ipython",
    "version": 3
   },
   "file_extension": ".py",
   "mimetype": "text/x-python",
   "name": "python",
   "nbconvert_exporter": "python",
   "pygments_lexer": "ipython3",
   "version": "3.11.5"
  }
 },
 "nbformat": 4,
 "nbformat_minor": 5
}
