{
 "cells": [
  {
   "cell_type": "markdown",
   "id": "95c0070f",
   "metadata": {},
   "source": [
    "In this notebook we will export images from Polar front Sailbuoy data"
   ]
  },
  {
   "cell_type": "code",
   "execution_count": 101,
   "id": "639b4d39",
   "metadata": {},
   "outputs": [],
   "source": [
    "import numpy as np\n",
    "import win32com.client as win32\n",
    "import glob\n",
    "import os"
   ]
  },
  {
   "cell_type": "markdown",
   "id": "acdf0ade",
   "metadata": {},
   "source": [
    "# Select platform"
   ]
  },
  {
   "cell_type": "markdown",
   "id": "787d7b1a",
   "metadata": {},
   "source": [
    "Iskant 2021"
   ]
  },
  {
   "cell_type": "code",
   "execution_count": 130,
   "id": "49a312dd",
   "metadata": {},
   "outputs": [],
   "source": [
    "# Location of data files\n",
    "ev_template = 'E:/PolarFront2022/Template_BB.EV'\n",
    "n_files = 10\n",
    "\n",
    "data_folder = 'E:/SBIskant2021_PF/wbat/' \n",
    "\n",
    "export_folder = 'E:/SBIskant2021_PF/images/' \n",
    "\n",
    "# Define variable name to export\n",
    "var_name = 'Wideband frequency select 1'\n",
    "\n",
    "# Find all data files with extension .raw for the date frame\n",
    "raw_file_names = sorted(glob.glob(data_folder + 'Mission Plan ES200-7CDK-split-PolarFront-Phase0-D2021*.raw'))\n"
   ]
  },
  {
   "cell_type": "markdown",
   "id": "30a6132c",
   "metadata": {},
   "source": [
    "Iskant 2022\n"
   ]
  },
  {
   "cell_type": "code",
   "execution_count": 103,
   "id": "e0c770d9",
   "metadata": {},
   "outputs": [],
   "source": [
    "# Location of data files\n",
    "ev_template = 'E:/PolarFront2022/Template.EV'\n",
    "n_files = 10\n",
    "\n",
    "data_folder = 'E:/PolarFront2022/2022-05/sailbuoy/2022_polarfront_sb_iskant/wbat/' \n",
    "\n",
    "export_folder = 'E:/PolarFront2022/2022-05/sailbuoy/2022_polarfront_sb_iskant/images/' \n",
    "\n",
    "# Define variable name to export\n",
    "var_name = ' Fileset 1: Sv pings T1'\n",
    "\n",
    "# Find all data files with extension .raw for the date frame\n",
    "raw_file_names = sorted(glob.glob(data_folder + 'mpl1_200-Phase0-D2022*.raw'))\n"
   ]
  },
  {
   "cell_type": "markdown",
   "id": "62be834a",
   "metadata": {},
   "source": [
    "Echo 1 2022"
   ]
  },
  {
   "cell_type": "code",
   "execution_count": 98,
   "id": "e55f8ce3",
   "metadata": {},
   "outputs": [],
   "source": [
    "# Location of data files\n",
    "ev_template = 'E:/PolarFront2022/Template_BB.EV'\n",
    "n_files = 10\n",
    "\n",
    "data_folder = 'E:/PolarFront2022/2022-05/sailbuoy/2022_polarfront_sb_echo_1/wbat/' \n",
    "\n",
    "export_folder = 'E:/PolarFront2022/2022-05/sailbuoy/2022_polarfront_sb_echo_1/images/' \n",
    "\n",
    "# Define variable name to export\n",
    "var_name = ' Fileset 1: Sv pulse compressed wideband pings T1'\n",
    "\n",
    "# Find all data files with extension .raw for the date frame\n",
    "raw_file_names = sorted(glob.glob(data_folder + 'mpl1_200-Phase0-D2022*.raw'))\n"
   ]
  },
  {
   "cell_type": "markdown",
   "id": "6e66ba4a",
   "metadata": {},
   "source": [
    "# Export image\n"
   ]
  },
  {
   "cell_type": "code",
   "execution_count": 132,
   "id": "2828e464",
   "metadata": {},
   "outputs": [
    {
     "ename": "IndexError",
     "evalue": "list index out of range",
     "output_type": "error",
     "traceback": [
      "\u001b[1;31m---------------------------------------------------------------------------\u001b[0m",
      "\u001b[1;31mIndexError\u001b[0m                                Traceback (most recent call last)",
      "\u001b[1;32m~\\AppData\\Local\\Temp\\ipykernel_31196\\824414567.py\u001b[0m in \u001b[0;36m<module>\u001b[1;34m\u001b[0m\n\u001b[0;32m     12\u001b[0m     \u001b[0mFileset\u001b[0m \u001b[1;33m=\u001b[0m \u001b[0mEvFile\u001b[0m\u001b[1;33m.\u001b[0m\u001b[0mFilesets\u001b[0m\u001b[1;33m.\u001b[0m\u001b[0mFindByName\u001b[0m\u001b[1;33m(\u001b[0m\u001b[1;34m'Fileset 1'\u001b[0m\u001b[1;33m)\u001b[0m\u001b[1;33m\u001b[0m\u001b[1;33m\u001b[0m\u001b[0m\n\u001b[0;32m     13\u001b[0m     \u001b[1;32mfor\u001b[0m \u001b[0msub_ind\u001b[0m \u001b[1;32min\u001b[0m \u001b[0mrange\u001b[0m\u001b[1;33m(\u001b[0m\u001b[1;36m0\u001b[0m\u001b[1;33m,\u001b[0m\u001b[0mn_files\u001b[0m\u001b[1;33m)\u001b[0m\u001b[1;33m:\u001b[0m\u001b[1;33m\u001b[0m\u001b[1;33m\u001b[0m\u001b[0m\n\u001b[1;32m---> 14\u001b[1;33m         \u001b[0mFileset\u001b[0m\u001b[1;33m.\u001b[0m\u001b[0mDataFiles\u001b[0m\u001b[1;33m.\u001b[0m\u001b[0mAdd\u001b[0m\u001b[1;33m(\u001b[0m\u001b[0mraw_file_names\u001b[0m\u001b[1;33m[\u001b[0m\u001b[0mind\u001b[0m\u001b[1;33m+\u001b[0m\u001b[0msub_ind\u001b[0m\u001b[1;33m]\u001b[0m\u001b[1;33m)\u001b[0m\u001b[1;33m\u001b[0m\u001b[1;33m\u001b[0m\u001b[0m\n\u001b[0m\u001b[0;32m     15\u001b[0m \u001b[1;33m\u001b[0m\u001b[0m\n\u001b[0;32m     16\u001b[0m     \u001b[0mimage_file_name\u001b[0m \u001b[1;33m=\u001b[0m \u001b[0mos\u001b[0m\u001b[1;33m.\u001b[0m\u001b[0mpath\u001b[0m\u001b[1;33m.\u001b[0m\u001b[0mbasename\u001b[0m\u001b[1;33m(\u001b[0m\u001b[0mraw_file_names\u001b[0m\u001b[1;33m[\u001b[0m\u001b[0mind\u001b[0m\u001b[1;33m]\u001b[0m\u001b[1;33m)\u001b[0m\u001b[1;33m[\u001b[0m\u001b[1;33m:\u001b[0m\u001b[1;33m-\u001b[0m\u001b[1;36m4\u001b[0m\u001b[1;33m]\u001b[0m\u001b[1;33m\u001b[0m\u001b[1;33m\u001b[0m\u001b[0m\n",
      "\u001b[1;31mIndexError\u001b[0m: list index out of range"
     ]
    }
   ],
   "source": [
    "# Open new EV file\n",
    "\n",
    "for ind in np.arange(0,len(raw_file_names),n_files):\n",
    "    # Connect to the Echoview application\n",
    "    EvApp = win32.Dispatch(\"EchoviewCom.EvApplication\") \n",
    "    EvApp.Minimize()\n",
    "\n",
    "    #Create new file\n",
    "    EvFile = EvApp.NewFile(ev_template)\n",
    "\n",
    "    # Load data by chunks of 3 files (1 on period)\n",
    "    Fileset = EvFile.Filesets.FindByName('Fileset 1')\n",
    "    for sub_ind in range(0,n_files):\n",
    "        Fileset.DataFiles.Add(raw_file_names[ind+sub_ind])\n",
    "        \n",
    "    image_file_name = os.path.basename(raw_file_names[ind])[:-4]\n",
    "    \n",
    "    # Select variable to export    \n",
    "    Sv_Var = EvFile.Variables.FindByName(var_name)\n",
    "\n",
    "    Sv_Var.ExportEchogramToImage(f'{export_folder}{image_file_name}.png',500,-1,-1)\n",
    "    # Close file\n",
    "    EvFile.Close()\n",
    "\n",
    "    # Quit Echoview\n",
    "    EvApp.Quit()"
   ]
  }
 ],
 "metadata": {
  "kernelspec": {
   "display_name": "Python 3 (ipykernel)",
   "language": "python",
   "name": "python3"
  },
  "language_info": {
   "codemirror_mode": {
    "name": "ipython",
    "version": 3
   },
   "file_extension": ".py",
   "mimetype": "text/x-python",
   "name": "python",
   "nbconvert_exporter": "python",
   "pygments_lexer": "ipython3",
   "version": "3.7.11"
  }
 },
 "nbformat": 4,
 "nbformat_minor": 5
}
