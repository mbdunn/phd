{
 "cells": [
  {
   "cell_type": "markdown",
   "id": "47f0e0ce",
   "metadata": {},
   "source": [
    "In this notebook to export ALL wideband frequency response from a region. Default now (Echoview 12.1 is 10 evenly spaced pings)"
   ]
  },
  {
   "cell_type": "code",
   "execution_count": 1,
   "id": "636d01c4",
   "metadata": {},
   "outputs": [],
   "source": [
    "import numpy as np\n",
    "import win32com.client as win32\n",
    "import glob\n",
    "import os"
   ]
  },
  {
   "cell_type": "markdown",
   "id": "fb5e56b2",
   "metadata": {},
   "source": [
    "## Location of data files"
   ]
  },
  {
   "cell_type": "code",
   "execution_count": 2,
   "id": "80a31a4e",
   "metadata": {},
   "outputs": [],
   "source": [
    "# Location of data files\n",
    "data_folder = 'G:/GLIDER2018/Echosounder/TromsøflaketEV/'\n",
    "\n",
    "export_folder = 'G:/GLIDER2018/Echosounder/Flaket_SSL_13_1/'\n",
    "\n",
    "# Define variable name to export\n",
    "var_name = ' Fileset 1: Sv pulse compressed wideband pings T1'\n",
    "\n",
    "# Find all data files with extension .01A \n",
    "ev_file_names = glob.glob(data_folder + 'ssl_GLIDER2018_201806*.EV')"
   ]
  },
  {
   "cell_type": "code",
   "execution_count": 4,
   "id": "4d69652f",
   "metadata": {},
   "outputs": [
    {
     "data": {
      "text/plain": [
       "['G:/GLIDER2018/Echosounder/TromsøflaketEV\\\\ssl_GLIDER2018_20180621_AM.EV',\n",
       " 'G:/GLIDER2018/Echosounder/TromsøflaketEV\\\\ssl_GLIDER2018_20180624.EV',\n",
       " 'G:/GLIDER2018/Echosounder/TromsøflaketEV\\\\ssl_GLIDER2018_20180625_am.EV',\n",
       " 'G:/GLIDER2018/Echosounder/TromsøflaketEV\\\\ssl_GLIDER2018_20180625_PM.EV',\n",
       " 'G:/GLIDER2018/Echosounder/TromsøflaketEV\\\\ssl_GLIDER2018_20180627_PM.EV',\n",
       " 'G:/GLIDER2018/Echosounder/TromsøflaketEV\\\\ssl_GLIDER2018_20180628_AM.EV',\n",
       " 'G:/GLIDER2018/Echosounder/TromsøflaketEV\\\\ssl_GLIDER2018_20180628_PM.EV',\n",
       " 'G:/GLIDER2018/Echosounder/TromsøflaketEV\\\\ssl_GLIDER2018_20180629_AM.EV']"
      ]
     },
     "execution_count": 4,
     "metadata": {},
     "output_type": "execute_result"
    }
   ],
   "source": [
    "ev_file_names"
   ]
  },
  {
   "cell_type": "markdown",
   "id": "bfbce655",
   "metadata": {},
   "source": [
    "## Export Wideband frequency response for each file"
   ]
  },
  {
   "cell_type": "code",
   "execution_count": 6,
   "id": "ca693e46",
   "metadata": {},
   "outputs": [],
   "source": [
    "# Loop through EV files, re-create them with the new template\n",
    "\n",
    "window_length = 0.4\n",
    "freq_res = 0.1 #kHz\n",
    "\n",
    "for ind in range(len(ev_file_names)):\n",
    "    \n",
    "    # Connect to the Echoview application\n",
    "    EvApp = win32.Dispatch(\"EchoviewCom.EvApplication\") \n",
    "\n",
    "    # Open next EV file\n",
    "    EvFile = EvApp.OpenFile(ev_file_names[ind])\n",
    "    EvApp.Minimize()\n",
    "\n",
    "    # Select correct variable\n",
    "    Sv_pcVar = EvFile.Variables.FindByName(var_name)\n",
    "    \n",
    "    # How many regions in this fileset\n",
    "    n_regions = EvFile.Regions.Count\n",
    "\n",
    "    # Export wideband frequency response for each region.\n",
    "    for ind_region in range(n_regions):\n",
    "        EvSelectedRegion = EvFile.Regions.Item(ind_region)\n",
    "        # Only export \"analysis\" regions not \"badData\"\n",
    "        if EvSelectedRegion.RegionType == 1:\n",
    "            fname = os.path.basename(ev_file_names[ind][:-3])\n",
    "            Sv_pcVar.ExportSvWidebandFrequencyResponseForRegion(export_folder+fname+'_Widebandfrequencyexport_' + EvFile.Regions.Item(ind_region).Name +'.csv',\n",
    "                                                            0, 0, window_length, 0, 1.0, EvSelectedRegion, freq_res)\n",
    "\n",
    "    # Close file\n",
    "    EvFile.Close()\n",
    "\n",
    "    # Quit Echoview\n",
    "    EvApp.Quit()"
   ]
  },
  {
   "cell_type": "code",
   "execution_count": null,
   "id": "f43b935b",
   "metadata": {},
   "outputs": [],
   "source": []
  }
 ],
 "metadata": {
  "kernelspec": {
   "display_name": "Python 3 (ipykernel)",
   "language": "python",
   "name": "python3"
  },
  "language_info": {
   "codemirror_mode": {
    "name": "ipython",
    "version": 3
   },
   "file_extension": ".py",
   "mimetype": "text/x-python",
   "name": "python",
   "nbconvert_exporter": "python",
   "pygments_lexer": "ipython3",
   "version": "3.7.15"
  }
 },
 "nbformat": 4,
 "nbformat_minor": 5
}
