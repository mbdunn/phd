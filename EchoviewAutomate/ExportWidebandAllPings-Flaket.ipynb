{
 "cells": [
  {
   "cell_type": "markdown",
   "id": "16190986",
   "metadata": {},
   "source": [
    "In this notebook to export ALL wideband frequency response from a region. Default now (Echoview 12.1 is 10 evenly spaced pings)"
   ]
  },
  {
   "cell_type": "code",
   "execution_count": 85,
   "id": "28330cd3",
   "metadata": {},
   "outputs": [],
   "source": [
    "import numpy as np\n",
    "import win32com.client as win32\n",
    "import glob\n",
    "import os"
   ]
  },
  {
   "cell_type": "markdown",
   "id": "c44307be",
   "metadata": {},
   "source": [
    "## Location of data files"
   ]
  },
  {
   "cell_type": "code",
   "execution_count": 97,
   "id": "e0c3efd3",
   "metadata": {},
   "outputs": [],
   "source": [
    "# Location of data files\n",
    "data_folder = 'F:/GLIDER2018/Echosounder/TromsøflaketEV/'\n",
    "\n",
    "export_folder = 'F:/GLIDER2018/Echosounder/Flaket_SSL/'\n",
    "\n",
    "# Define variable name to export\n",
    "var_name = ' Fileset 1: Sv pulse compressed wideband pings T1'\n",
    "\n",
    "# Find all data files with extension .01A \n",
    "ev_file_names = glob.glob(data_folder + 'GLIDER2018_201806*.EV')"
   ]
  },
  {
   "cell_type": "markdown",
   "id": "a0002269",
   "metadata": {},
   "source": [
    "## Export Wideband frequency response for each file"
   ]
  },
  {
   "cell_type": "code",
   "execution_count": null,
   "id": "96c57701",
   "metadata": {},
   "outputs": [],
   "source": [
    "# Loop through EV files, re-create them with the new template\n",
    "\n",
    "window_length = 0.4\n",
    "freq_res = 0.1 #kHz\n",
    "\n",
    "for ind in range(len(ev_file_names)):\n",
    "    \n",
    "    # Connect to the Echoview application\n",
    "    EvApp = win32.Dispatch(\"EchoviewCom.EvApplication\") \n",
    "\n",
    "    # Open next EV file\n",
    "    EvFile = EvApp.OpenFile(ev_file_names[ind])\n",
    "    EvApp.Minimize()\n",
    "\n",
    "    # Select correct variable\n",
    "    Sv_pcVar = EvFile.Variables.FindByName(var_name)\n",
    "\n",
    "    n_regions = EvFile.Regions.Count\n",
    "\n",
    "    for ind_region in range(n_regions):\n",
    "        EvSelectedRegion = EvFile.Regions.Item(ind_region)\n",
    "        fname = os.path.basename(ev_file_names[ind][:-3])\n",
    "        Sv_pcVar.ExportSvWidebandFrequencyResponseForRegion(export_folder+fname+'_Widebandfrequencyexport_' + EvFile.Regions.Item(ind_region).Name +'.csv',\n",
    "                                                            0, 0, window_length, 0, 1.0, EvSelectedRegion, freq_res)\n",
    "\n",
    "    # Close file\n",
    "    EvFile.Close()\n",
    "\n",
    "    # Quit Echoview\n",
    "    EvApp.Quit()"
   ]
  },
  {
   "cell_type": "code",
   "execution_count": 96,
   "id": "1b4d5aeb",
   "metadata": {},
   "outputs": [],
   "source": []
  },
  {
   "cell_type": "code",
   "execution_count": 49,
   "id": "e8856414",
   "metadata": {},
   "outputs": [
    {
     "ename": "NameError",
     "evalue": "name 'paste0' is not defined",
     "output_type": "error",
     "traceback": [
      "\u001b[1;31m---------------------------------------------------------------------------\u001b[0m",
      "\u001b[1;31mNameError\u001b[0m                                 Traceback (most recent call last)",
      "\u001b[1;32m~\\AppData\\Local\\Temp/ipykernel_46288/88858824.py\u001b[0m in \u001b[0;36m<module>\u001b[1;34m\u001b[0m\n\u001b[0;32m     32\u001b[0m \u001b[1;33m\u001b[0m\u001b[0m\n\u001b[0;32m     33\u001b[0m     \u001b[1;31m# Export image\u001b[0m\u001b[1;33m\u001b[0m\u001b[1;33m\u001b[0m\u001b[1;33m\u001b[0m\u001b[0m\n\u001b[1;32m---> 34\u001b[1;33m     \u001b[0mimage\u001b[0m\u001b[1;33m.\u001b[0m\u001b[0mfile\u001b[0m\u001b[1;33m.\u001b[0m\u001b[0mname\u001b[0m \u001b[1;33m=\u001b[0m \u001b[0mpaste0\u001b[0m\u001b[1;33m(\u001b[0m\u001b[0mbasename\u001b[0m\u001b[1;33m(\u001b[0m\u001b[0mdata\u001b[0m\u001b[1;33m.\u001b[0m\u001b[0mfiles\u001b[0m\u001b[1;33m[\u001b[0m\u001b[0mi\u001b[0m\u001b[1;33m]\u001b[0m\u001b[1;33m)\u001b[0m\u001b[1;33m,\u001b[0m\u001b[1;34m'.png'\u001b[0m\u001b[1;33m)\u001b[0m\u001b[1;33m\u001b[0m\u001b[1;33m\u001b[0m\u001b[0m\n\u001b[0m\u001b[0;32m     35\u001b[0m     \u001b[0mSvVar\u001b[0m\u001b[1;33m.\u001b[0m\u001b[0mExportEchogramToImage\u001b[0m\u001b[1;33m(\u001b[0m\u001b[0mfile\u001b[0m\u001b[1;33m.\u001b[0m\u001b[0mpath\u001b[0m\u001b[1;33m(\u001b[0m\u001b[0mimage\u001b[0m\u001b[1;33m.\u001b[0m\u001b[0mfolder\u001b[0m\u001b[1;33m,\u001b[0m\u001b[0mimage\u001b[0m\u001b[1;33m.\u001b[0m\u001b[0mfile\u001b[0m\u001b[1;33m.\u001b[0m\u001b[0mname\u001b[0m\u001b[1;33m,\u001b[0m\u001b[0mfsep\u001b[0m\u001b[1;33m=\u001b[0m\u001b[1;34m'\\\\'\u001b[0m\u001b[1;33m)\u001b[0m\u001b[1;33m,\u001b[0m\u001b[1;36m500\u001b[0m\u001b[1;33m,\u001b[0m\u001b[1;33m-\u001b[0m\u001b[1;36m1\u001b[0m\u001b[1;33m,\u001b[0m\u001b[1;33m-\u001b[0m\u001b[1;36m1\u001b[0m\u001b[1;33m)\u001b[0m\u001b[1;33m\u001b[0m\u001b[1;33m\u001b[0m\u001b[0m\n\u001b[0;32m     36\u001b[0m \u001b[1;33m\u001b[0m\u001b[0m\n",
      "\u001b[1;31mNameError\u001b[0m: name 'paste0' is not defined"
     ]
    }
   ],
   "source": [
    "\n",
    "# Export image \n",
    "image.file.name = (basename(data.files[i]),'.png')\n",
    "SvVar.ExportEchogramToImage(file.path(image.folder,image.file.name,fsep='\\\\'),500,-1,-1)\n",
    "\n",
    "\n",
    "\n",
    "  "
   ]
  },
  {
   "cell_type": "code",
   "execution_count": 50,
   "id": "caab12d0",
   "metadata": {},
   "outputs": [
    {
     "data": {
      "text/plain": [
       "True"
      ]
     },
     "execution_count": 50,
     "metadata": {},
     "output_type": "execute_result"
    }
   ],
   "source": [
    "EvApp.Quit()"
   ]
  },
  {
   "cell_type": "code",
   "execution_count": 45,
   "id": "6b5e379e",
   "metadata": {},
   "outputs": [
    {
     "data": {
      "text/plain": [
       "''"
      ]
     },
     "execution_count": 45,
     "metadata": {},
     "output_type": "execute_result"
    }
   ],
   "source": [
    "EvApp.Exec(var_name+ '| GridXaxisSpacingInMinutes =| 5')\n"
   ]
  },
  {
   "cell_type": "code",
   "execution_count": 42,
   "id": "5facc330",
   "metadata": {},
   "outputs": [
    {
     "data": {
      "text/plain": [
       "[' Fileset 1: Sv pulse compressed wideband pings T1| GridXaxisSpacingInMinutes =| 5']"
      ]
     },
     "execution_count": 42,
     "metadata": {},
     "output_type": "execute_result"
    }
   ],
   "source": [
    "[var_name + '| GridXaxisSpacingInMinutes =| 5']\n"
   ]
  },
  {
   "cell_type": "code",
   "execution_count": 83,
   "id": "c26fd44b",
   "metadata": {},
   "outputs": [
    {
     "name": "stdout",
     "output_type": "stream",
     "text": [
      "11 [43 43 43 43 43 43 43 43 43 43]\n"
     ]
    }
   ],
   "source": [
    "ping_int = [3,46,89,132,175,218,261,304,347,390,433]\n",
    "print(len(ping_int),np.diff(ping_int))"
   ]
  },
  {
   "cell_type": "code",
   "execution_count": 58,
   "id": "9bbe9c75",
   "metadata": {},
   "outputs": [
    {
     "name": "stdout",
     "output_type": "stream",
     "text": [
      "10 [44 44 44 44 44 44 44 44 44]\n"
     ]
    }
   ],
   "source": [
    "ping_int = [2186,2230,2274,2318,2362,2406,2450,2494,2538,2582]\n",
    "print(len(ping_int),np.diff(ping_int))"
   ]
  },
  {
   "cell_type": "code",
   "execution_count": 88,
   "id": "38f95ef0",
   "metadata": {},
   "outputs": [
    {
     "data": {
      "text/plain": [
       "'GLIDER2018_20180621_AM'"
      ]
     },
     "execution_count": 88,
     "metadata": {},
     "output_type": "execute_result"
    }
   ],
   "source": [
    "os.path.basename(ev_file_names[ind][:-3])"
   ]
  },
  {
   "cell_type": "code",
   "execution_count": null,
   "id": "1d0dc642",
   "metadata": {},
   "outputs": [],
   "source": []
  }
 ],
 "metadata": {
  "kernelspec": {
   "display_name": "Python 3 (ipykernel)",
   "language": "python",
   "name": "python3"
  },
  "language_info": {
   "codemirror_mode": {
    "name": "ipython",
    "version": 3
   },
   "file_extension": ".py",
   "mimetype": "text/x-python",
   "name": "python",
   "nbconvert_exporter": "python",
   "pygments_lexer": "ipython3",
   "version": "3.7.11"
  }
 },
 "nbformat": 4,
 "nbformat_minor": 5
}
