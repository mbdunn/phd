{
 "cells": [
  {
   "cell_type": "markdown",
   "id": "d1b6f3e3",
   "metadata": {},
   "source": [
    "In this notebook to export ALL wideband frequency response from a region. Default now (Echoview 12.1 is 10 evenly spaced pings)"
   ]
  },
  {
   "cell_type": "code",
   "execution_count": 3,
   "id": "e084701c",
   "metadata": {},
   "outputs": [],
   "source": [
    "import win32com.client as win32\n",
    "import glob"
   ]
  },
  {
   "cell_type": "code",
   "execution_count": 2,
   "id": "bc040f6a",
   "metadata": {},
   "outputs": [
    {
     "ename": "NameError",
     "evalue": "name 'win32com' is not defined",
     "output_type": "error",
     "traceback": [
      "\u001b[1;31m---------------------------------------------------------------------------\u001b[0m",
      "\u001b[1;31mNameError\u001b[0m                                 Traceback (most recent call last)",
      "\u001b[1;32m~\\AppData\\Local\\Temp/ipykernel_46288/1750884077.py\u001b[0m in \u001b[0;36m<module>\u001b[1;34m\u001b[0m\n\u001b[1;32m----> 1\u001b[1;33m \u001b[0mEvApp\u001b[0m \u001b[1;33m=\u001b[0m \u001b[0mwin32com\u001b[0m\u001b[1;33m.\u001b[0m\u001b[0mclient\u001b[0m\u001b[1;33m.\u001b[0m\u001b[0mDispatch\u001b[0m\u001b[1;33m(\u001b[0m\u001b[1;34m\"EchoviewCom.EvApplication\"\u001b[0m\u001b[1;33m)\u001b[0m\u001b[1;33m\u001b[0m\u001b[1;33m\u001b[0m\u001b[0m\n\u001b[0m",
      "\u001b[1;31mNameError\u001b[0m: name 'win32com' is not defined"
     ]
    }
   ],
   "source": [
    "EvApp = win32com.client.Dispatch(\"EchoviewCom.EvApplication\")"
   ]
  },
  {
   "cell_type": "code",
   "execution_count": 25,
   "id": "caaf31aa",
   "metadata": {},
   "outputs": [
    {
     "data": {
      "text/plain": [
       "True"
      ]
     },
     "execution_count": 25,
     "metadata": {},
     "output_type": "execute_result"
    }
   ],
   "source": [
    "EvFile = EvApp.OpenFile(\"C:/Echoview Automation/2022-04 Automation file sharing/Scripts/3 - New EV file from template/3 - Template.EV\") \n",
    "SvVariable = EvFile.Variables.FindByName(\"Sv pings T1\")\n",
    "SvVariable.Properties.Grid.SetTimeDistanceGrid(1,5)\n",
    "EvApp.Exec(\"Sv pings T1 | GridYAxisSpacing =| 10\")\n",
    "EvFile.Save()"
   ]
  },
  {
   "cell_type": "markdown",
   "id": "419711ae",
   "metadata": {},
   "source": [
    "## Location of data files"
   ]
  },
  {
   "cell_type": "code",
   "execution_count": 16,
   "id": "ecb01ec9",
   "metadata": {},
   "outputs": [],
   "source": [
    "# Location of data files\n",
    "data_folder = 'F:/GLIDER2018/Echosounder/TromsøflaketEV/'\n",
    "\n",
    "export_folder = 'F:/GLIDER2018/Echosounder/EVexport'\n",
    "\n",
    "# Define variable name to export\n",
    "var_name = ' Fileset 1: Sv pulse compressed wideband pings T1'\n",
    "\n",
    "# Find all data files with extension .01A \n",
    "ev_file_names = glob.glob(data_folder + 'GLIDER2018_201806*.EV')"
   ]
  },
  {
   "cell_type": "markdown",
   "id": "cdeaa02c",
   "metadata": {},
   "source": [
    "## Export Wideband frequency response for each file"
   ]
  },
  {
   "cell_type": "code",
   "execution_count": null,
   "id": "47a98e7b",
   "metadata": {},
   "outputs": [],
   "source": [
    "# Loop through EV files, re-create them with the new template\n",
    "for ind in range(len(ev.file.names)):\n",
    "    # Connect to the Echoview application\n",
    "    EvApp = win32com.client.Dispatch(\"EchoviewCom.EvApplication\") \n",
    "    \n",
    "    # Open next EV file\n",
    "    EvFile = EvApp.OpenFile(ev_file_names[ind])\n",
    "    EvApp.Minimize()\n",
    "\n",
    "    # Select correct variable\n",
    "    Sv_pcVar = EvFile.Variables.FindByName(var_name)\n",
    "  \n",
    "\n",
    "    # Add grid in X\n",
    "    EvApp.Exec(paste0(var.name, '| GridXaxis =| Time'))\n",
    "    EvApp.Exec(paste0(var.name, '| GridXaxisSpacingInMinutes =| 5'))\n",
    "\n",
    "    # Add grid in y\n",
    "    EvApp.Exec(paste0(var.name, '| GridYAxisReference =| WaterSurface'))\n",
    "    EvApp.Exec(paste0(var.name, '| GridYAxisSpacing =| 10'))\n",
    "\n",
    "    # Colorsheme\n",
    "    EvApp.Exec(paste0(var.name, '| ColorScheme =| Viridis'))\n",
    "    EvApp.Exec(paste0(var.name, '| ColorDisplayMinimum | -70.0'))\n",
    "    EvApp.Exec(paste0(var.name, '| ColorDisplayRange| 36.0'))\n",
    "\n",
    "    # Vertical limits\n",
    "    EvApp.Exec(paste0(var.name, '| AutoDisplayLimits =| false'))\n",
    "    EvApp.Exec(paste0(var.name, '| LowerDisplayLimit =| 70'))\n",
    "    EvApp.Exec(paste0(var.name, '| UpperDisplayLimit =| 0'))\n",
    "  \n",
    "\n",
    "    # Export image \n",
    "    image.file.name = paste0(basename(data.files[i]),'.png')\n",
    "    SvVar.ExportEchogramToImage(file.path(image.folder,image.file.name,fsep='\\\\'),500,-1,-1)\n",
    "\n",
    "    # Close file\n",
    "    EvFile.Close()\n",
    "\n",
    "    # Quit Echoview\n",
    "    EvApp.Quit()\n",
    "\n",
    "  "
   ]
  },
  {
   "cell_type": "code",
   "execution_count": 29,
   "id": "890ff904",
   "metadata": {},
   "outputs": [
    {
     "data": {
      "text/plain": [
       "''"
      ]
     },
     "execution_count": 29,
     "metadata": {},
     "output_type": "execute_result"
    }
   ],
   "source": [
    "EvApp.Exec(\"Sv pings T1 | GridXAxisSpacingInMinutes =| 2\")"
   ]
  }
 ],
 "metadata": {
  "kernelspec": {
   "display_name": "Python 3 (ipykernel)",
   "language": "python",
   "name": "python3"
  },
  "language_info": {
   "codemirror_mode": {
    "name": "ipython",
    "version": 3
   },
   "file_extension": ".py",
   "mimetype": "text/x-python",
   "name": "python",
   "nbconvert_exporter": "python",
   "pygments_lexer": "ipython3",
   "version": "3.7.11"
  }
 },
 "nbformat": 4,
 "nbformat_minor": 5
}
