{
 "cells": [
  {
   "cell_type": "markdown",
   "id": "ac77167c",
   "metadata": {},
   "source": [
    "In this notebook we export raw sv values for 3 files at a time from Sailbuoy 2018 deployment."
   ]
  },
  {
   "cell_type": "code",
   "execution_count": 3,
   "id": "609cf3bb",
   "metadata": {},
   "outputs": [],
   "source": [
    "import numpy as np\n",
    "import win32com.client as win32\n",
    "import glob\n",
    "import os"
   ]
  },
  {
   "cell_type": "markdown",
   "id": "acca6a16",
   "metadata": {},
   "source": [
    "## Location of data files"
   ]
  },
  {
   "cell_type": "code",
   "execution_count": 14,
   "id": "edeef21c",
   "metadata": {},
   "outputs": [],
   "source": [
    "# Location of data files\n",
    "data_folder = 'F:/GLIDER2018/Echosounder/Echosounder/'\n",
    "\n",
    "export_folder = 'F:/GLIDER2018/Echosounder/Echosounder/csv_daase/'\n",
    "\n",
    "# Define variable name to export\n",
    "var_name = ' Fileset 1: Sv pulse compressed wideband pings T1'\n",
    "\n",
    "# Find all data files with extension .raw for the date frame\n",
    "raw_file_names = glob.glob(data_folder + 'GLIDER_SB_2018_*20180611*.raw')"
   ]
  },
  {
   "cell_type": "code",
   "execution_count": 15,
   "id": "ef704919",
   "metadata": {},
   "outputs": [
    {
     "data": {
      "text/plain": [
       "['F:/GLIDER2018/Echosounder/Echosounder\\\\GLIDER_SB_2018_v5-Phase0-D20180611-T000109-0.raw',\n",
       " 'F:/GLIDER2018/Echosounder/Echosounder\\\\GLIDER_SB_2018_v5-Phase0-D20180611-T000701-1.raw',\n",
       " 'F:/GLIDER2018/Echosounder/Echosounder\\\\GLIDER_SB_2018_v5-Phase0-D20180611-T001252-2.raw',\n",
       " 'F:/GLIDER2018/Echosounder/Echosounder\\\\GLIDER_SB_2018_v5-Phase0-D20180611-T003109-0.raw',\n",
       " 'F:/GLIDER2018/Echosounder/Echosounder\\\\GLIDER_SB_2018_v5-Phase0-D20180611-T003701-1.raw',\n",
       " 'F:/GLIDER2018/Echosounder/Echosounder\\\\GLIDER_SB_2018_v5-Phase0-D20180611-T004252-2.raw',\n",
       " 'F:/GLIDER2018/Echosounder/Echosounder\\\\GLIDER_SB_2018_v5-Phase0-D20180611-T010109-0.raw',\n",
       " 'F:/GLIDER2018/Echosounder/Echosounder\\\\GLIDER_SB_2018_v5-Phase0-D20180611-T010705-1.raw',\n",
       " 'F:/GLIDER2018/Echosounder/Echosounder\\\\GLIDER_SB_2018_v5-Phase0-D20180611-T011303-2.raw',\n",
       " 'F:/GLIDER2018/Echosounder/Echosounder\\\\GLIDER_SB_2018_v5-Phase0-D20180611-T013108-0.raw',\n",
       " 'F:/GLIDER2018/Echosounder/Echosounder\\\\GLIDER_SB_2018_v5-Phase0-D20180611-T013700-1.raw',\n",
       " 'F:/GLIDER2018/Echosounder/Echosounder\\\\GLIDER_SB_2018_v5-Phase0-D20180611-T014251-2.raw',\n",
       " 'F:/GLIDER2018/Echosounder/Echosounder\\\\GLIDER_SB_2018_v5-Phase0-D20180611-T020124-0.raw',\n",
       " 'F:/GLIDER2018/Echosounder/Echosounder\\\\GLIDER_SB_2018_v5-Phase0-D20180611-T020716-1.raw',\n",
       " 'F:/GLIDER2018/Echosounder/Echosounder\\\\GLIDER_SB_2018_v5-Phase0-D20180611-T021307-2.raw',\n",
       " 'F:/GLIDER2018/Echosounder/Echosounder\\\\GLIDER_SB_2018_v5-Phase0-D20180611-T023112-0.raw',\n",
       " 'F:/GLIDER2018/Echosounder/Echosounder\\\\GLIDER_SB_2018_v5-Phase0-D20180611-T023704-1.raw',\n",
       " 'F:/GLIDER2018/Echosounder/Echosounder\\\\GLIDER_SB_2018_v5-Phase0-D20180611-T024255-2.raw',\n",
       " 'F:/GLIDER2018/Echosounder/Echosounder\\\\GLIDER_SB_2018_v5-Phase0-D20180611-T030110-0.raw',\n",
       " 'F:/GLIDER2018/Echosounder/Echosounder\\\\GLIDER_SB_2018_v5-Phase0-D20180611-T030702-1.raw',\n",
       " 'F:/GLIDER2018/Echosounder/Echosounder\\\\GLIDER_SB_2018_v5-Phase0-D20180611-T031255-2.raw',\n",
       " 'F:/GLIDER2018/Echosounder/Echosounder\\\\GLIDER_SB_2018_v5-Phase0-D20180611-T033108-0.raw',\n",
       " 'F:/GLIDER2018/Echosounder/Echosounder\\\\GLIDER_SB_2018_v5-Phase0-D20180611-T033706-1.raw',\n",
       " 'F:/GLIDER2018/Echosounder/Echosounder\\\\GLIDER_SB_2018_v5-Phase0-D20180611-T034257-2.raw',\n",
       " 'F:/GLIDER2018/Echosounder/Echosounder\\\\GLIDER_SB_2018_v5-Phase0-D20180611-T040109-0.raw',\n",
       " 'F:/GLIDER2018/Echosounder/Echosounder\\\\GLIDER_SB_2018_v5-Phase0-D20180611-T040701-1.raw',\n",
       " 'F:/GLIDER2018/Echosounder/Echosounder\\\\GLIDER_SB_2018_v5-Phase0-D20180611-T041252-2.raw',\n",
       " 'F:/GLIDER2018/Echosounder/Echosounder\\\\GLIDER_SB_2018_v5-Phase0-D20180611-T043108-0.raw',\n",
       " 'F:/GLIDER2018/Echosounder/Echosounder\\\\GLIDER_SB_2018_v5-Phase0-D20180611-T043700-1.raw',\n",
       " 'F:/GLIDER2018/Echosounder/Echosounder\\\\GLIDER_SB_2018_v5-Phase0-D20180611-T044251-2.raw',\n",
       " 'F:/GLIDER2018/Echosounder/Echosounder\\\\GLIDER_SB_2018_v5-Phase0-D20180611-T050121-0.raw',\n",
       " 'F:/GLIDER2018/Echosounder/Echosounder\\\\GLIDER_SB_2018_v5-Phase0-D20180611-T050713-1.raw',\n",
       " 'F:/GLIDER2018/Echosounder/Echosounder\\\\GLIDER_SB_2018_v5-Phase0-D20180611-T051304-2.raw',\n",
       " 'F:/GLIDER2018/Echosounder/Echosounder\\\\GLIDER_SB_2018_v5-Phase0-D20180611-T053109-0.raw',\n",
       " 'F:/GLIDER2018/Echosounder/Echosounder\\\\GLIDER_SB_2018_v5-Phase0-D20180611-T053703-1.raw',\n",
       " 'F:/GLIDER2018/Echosounder/Echosounder\\\\GLIDER_SB_2018_v5-Phase0-D20180611-T054255-2.raw',\n",
       " 'F:/GLIDER2018/Echosounder/Echosounder\\\\GLIDER_SB_2018_v5-Phase0-D20180611-T060108-0.raw',\n",
       " 'F:/GLIDER2018/Echosounder/Echosounder\\\\GLIDER_SB_2018_v5-Phase0-D20180611-T060700-1.raw',\n",
       " 'F:/GLIDER2018/Echosounder/Echosounder\\\\GLIDER_SB_2018_v5-Phase0-D20180611-T061256-2.raw',\n",
       " 'F:/GLIDER2018/Echosounder/Echosounder\\\\GLIDER_SB_2018_v5-Phase0-D20180611-T063110-0.raw',\n",
       " 'F:/GLIDER2018/Echosounder/Echosounder\\\\GLIDER_SB_2018_v5-Phase0-D20180611-T063702-1.raw',\n",
       " 'F:/GLIDER2018/Echosounder/Echosounder\\\\GLIDER_SB_2018_v5-Phase0-D20180611-T064259-2.raw',\n",
       " 'F:/GLIDER2018/Echosounder/Echosounder\\\\GLIDER_SB_2018_v5-Phase0-D20180611-T070112-0.raw',\n",
       " 'F:/GLIDER2018/Echosounder/Echosounder\\\\GLIDER_SB_2018_v5-Phase0-D20180611-T070704-1.raw',\n",
       " 'F:/GLIDER2018/Echosounder/Echosounder\\\\GLIDER_SB_2018_v5-Phase0-D20180611-T071301-2.raw',\n",
       " 'F:/GLIDER2018/Echosounder/Echosounder\\\\GLIDER_SB_2018_v5-Phase0-D20180611-T073110-0.raw',\n",
       " 'F:/GLIDER2018/Echosounder/Echosounder\\\\GLIDER_SB_2018_v5-Phase0-D20180611-T073702-1.raw',\n",
       " 'F:/GLIDER2018/Echosounder/Echosounder\\\\GLIDER_SB_2018_v5-Phase0-D20180611-T074259-2.raw',\n",
       " 'F:/GLIDER2018/Echosounder/Echosounder\\\\GLIDER_SB_2018_v5-Phase0-D20180611-T080125-0.raw',\n",
       " 'F:/GLIDER2018/Echosounder/Echosounder\\\\GLIDER_SB_2018_v5-Phase0-D20180611-T080723-1.raw',\n",
       " 'F:/GLIDER2018/Echosounder/Echosounder\\\\GLIDER_SB_2018_v5-Phase0-D20180611-T081320-2.raw',\n",
       " 'F:/GLIDER2018/Echosounder/Echosounder\\\\GLIDER_SB_2018_v5-Phase0-D20180611-T083108-0.raw',\n",
       " 'F:/GLIDER2018/Echosounder/Echosounder\\\\GLIDER_SB_2018_v5-Phase0-D20180611-T083700-1.raw',\n",
       " 'F:/GLIDER2018/Echosounder/Echosounder\\\\GLIDER_SB_2018_v5-Phase0-D20180611-T084300-2.raw',\n",
       " 'F:/GLIDER2018/Echosounder/Echosounder\\\\GLIDER_SB_2018_v5-Phase0-D20180611-T090108-0.raw',\n",
       " 'F:/GLIDER2018/Echosounder/Echosounder\\\\GLIDER_SB_2018_v5-Phase0-D20180611-T090700-1.raw',\n",
       " 'F:/GLIDER2018/Echosounder/Echosounder\\\\GLIDER_SB_2018_v5-Phase0-D20180611-T091257-2.raw',\n",
       " 'F:/GLIDER2018/Echosounder/Echosounder\\\\GLIDER_SB_2018_v5-Phase0-D20180611-T093110-0.raw',\n",
       " 'F:/GLIDER2018/Echosounder/Echosounder\\\\GLIDER_SB_2018_v5-Phase0-D20180611-T093702-1.raw',\n",
       " 'F:/GLIDER2018/Echosounder/Echosounder\\\\GLIDER_SB_2018_v5-Phase0-D20180611-T094303-2.raw',\n",
       " 'F:/GLIDER2018/Echosounder/Echosounder\\\\GLIDER_SB_2018_v5-Phase0-D20180611-T100108-0.raw',\n",
       " 'F:/GLIDER2018/Echosounder/Echosounder\\\\GLIDER_SB_2018_v5-Phase0-D20180611-T100700-1.raw',\n",
       " 'F:/GLIDER2018/Echosounder/Echosounder\\\\GLIDER_SB_2018_v5-Phase0-D20180611-T101257-2.raw',\n",
       " 'F:/GLIDER2018/Echosounder/Echosounder\\\\GLIDER_SB_2018_v5-Phase0-D20180611-T103110-0.raw',\n",
       " 'F:/GLIDER2018/Echosounder/Echosounder\\\\GLIDER_SB_2018_v5-Phase0-D20180611-T103710-1.raw',\n",
       " 'F:/GLIDER2018/Echosounder/Echosounder\\\\GLIDER_SB_2018_v5-Phase0-D20180611-T104307-2.raw',\n",
       " 'F:/GLIDER2018/Echosounder/Echosounder\\\\GLIDER_SB_2018_v5-Phase0-D20180611-T110108-0.raw',\n",
       " 'F:/GLIDER2018/Echosounder/Echosounder\\\\GLIDER_SB_2018_v5-Phase0-D20180611-T110700-1.raw',\n",
       " 'F:/GLIDER2018/Echosounder/Echosounder\\\\GLIDER_SB_2018_v5-Phase0-D20180611-T111257-2.raw',\n",
       " 'F:/GLIDER2018/Echosounder/Echosounder\\\\GLIDER_SB_2018_v5-Phase0-D20180611-T113124-0.raw',\n",
       " 'F:/GLIDER2018/Echosounder/Echosounder\\\\GLIDER_SB_2018_v5-Phase0-D20180611-T113716-1.raw',\n",
       " 'F:/GLIDER2018/Echosounder/Echosounder\\\\GLIDER_SB_2018_v5-Phase0-D20180611-T114313-2.raw',\n",
       " 'F:/GLIDER2018/Echosounder/Echosounder\\\\GLIDER_SB_2018_v5-Phase0-D20180611-T120112-0.raw',\n",
       " 'F:/GLIDER2018/Echosounder/Echosounder\\\\GLIDER_SB_2018_v5-Phase0-D20180611-T120704-1.raw',\n",
       " 'F:/GLIDER2018/Echosounder/Echosounder\\\\GLIDER_SB_2018_v5-Phase0-D20180611-T121301-2.raw',\n",
       " 'F:/GLIDER2018/Echosounder/Echosounder\\\\GLIDER_SB_2018_v5-Phase0-D20180611-T123109-0.raw',\n",
       " 'F:/GLIDER2018/Echosounder/Echosounder\\\\GLIDER_SB_2018_v5-Phase0-D20180611-T123701-1.raw',\n",
       " 'F:/GLIDER2018/Echosounder/Echosounder\\\\GLIDER_SB_2018_v5-Phase0-D20180611-T124258-2.raw',\n",
       " 'F:/GLIDER2018/Echosounder/Echosounder\\\\GLIDER_SB_2018_v5-Phase0-D20180611-T130109-0.raw',\n",
       " 'F:/GLIDER2018/Echosounder/Echosounder\\\\GLIDER_SB_2018_v5-Phase0-D20180611-T130705-1.raw',\n",
       " 'F:/GLIDER2018/Echosounder/Echosounder\\\\GLIDER_SB_2018_v5-Phase0-D20180611-T131305-2.raw',\n",
       " 'F:/GLIDER2018/Echosounder/Echosounder\\\\GLIDER_SB_2018_v5-Phase0-D20180611-T133110-0.raw',\n",
       " 'F:/GLIDER2018/Echosounder/Echosounder\\\\GLIDER_SB_2018_v5-Phase0-D20180611-T133702-1.raw',\n",
       " 'F:/GLIDER2018/Echosounder/Echosounder\\\\GLIDER_SB_2018_v5-Phase0-D20180611-T134259-2.raw',\n",
       " 'F:/GLIDER2018/Echosounder/Echosounder\\\\GLIDER_SB_2018_v5-Phase0-D20180611-T140124-0.raw',\n",
       " 'F:/GLIDER2018/Echosounder/Echosounder\\\\GLIDER_SB_2018_v5-Phase0-D20180611-T140716-1.raw',\n",
       " 'F:/GLIDER2018/Echosounder/Echosounder\\\\GLIDER_SB_2018_v5-Phase0-D20180611-T141313-2.raw',\n",
       " 'F:/GLIDER2018/Echosounder/Echosounder\\\\GLIDER_SB_2018_v5-Phase0-D20180611-T143109-0.raw',\n",
       " 'F:/GLIDER2018/Echosounder/Echosounder\\\\GLIDER_SB_2018_v5-Phase0-D20180611-T143701-1.raw',\n",
       " 'F:/GLIDER2018/Echosounder/Echosounder\\\\GLIDER_SB_2018_v5-Phase0-D20180611-T144258-2.raw',\n",
       " 'F:/GLIDER2018/Echosounder/Echosounder\\\\GLIDER_SB_2018_v5-Phase0-D20180611-T150109-0.raw',\n",
       " 'F:/GLIDER2018/Echosounder/Echosounder\\\\GLIDER_SB_2018_v5-Phase0-D20180611-T150703-1.raw',\n",
       " 'F:/GLIDER2018/Echosounder/Echosounder\\\\GLIDER_SB_2018_v5-Phase0-D20180611-T151302-2.raw',\n",
       " 'F:/GLIDER2018/Echosounder/Echosounder\\\\GLIDER_SB_2018_v5-Phase0-D20180611-T153108-0.raw',\n",
       " 'F:/GLIDER2018/Echosounder/Echosounder\\\\GLIDER_SB_2018_v5-Phase0-D20180611-T153706-1.raw',\n",
       " 'F:/GLIDER2018/Echosounder/Echosounder\\\\GLIDER_SB_2018_v5-Phase0-D20180611-T154304-2.raw',\n",
       " 'F:/GLIDER2018/Echosounder/Echosounder\\\\GLIDER_SB_2018_v5-Phase0-D20180611-T160108-0.raw',\n",
       " 'F:/GLIDER2018/Echosounder/Echosounder\\\\GLIDER_SB_2018_v5-Phase0-D20180611-T160700-1.raw',\n",
       " 'F:/GLIDER2018/Echosounder/Echosounder\\\\GLIDER_SB_2018_v5-Phase0-D20180611-T161257-2.raw',\n",
       " 'F:/GLIDER2018/Echosounder/Echosounder\\\\GLIDER_SB_2018_v5-Phase0-D20180611-T163108-0.raw',\n",
       " 'F:/GLIDER2018/Echosounder/Echosounder\\\\GLIDER_SB_2018_v5-Phase0-D20180611-T163700-1.raw',\n",
       " 'F:/GLIDER2018/Echosounder/Echosounder\\\\GLIDER_SB_2018_v5-Phase0-D20180611-T164257-2.raw',\n",
       " 'F:/GLIDER2018/Echosounder/Echosounder\\\\GLIDER_SB_2018_v5-Phase0-D20180611-T170110-0.raw',\n",
       " 'F:/GLIDER2018/Echosounder/Echosounder\\\\GLIDER_SB_2018_v5-Phase0-D20180611-T170702-1.raw',\n",
       " 'F:/GLIDER2018/Echosounder/Echosounder\\\\GLIDER_SB_2018_v5-Phase0-D20180611-T171259-2.raw',\n",
       " 'F:/GLIDER2018/Echosounder/Echosounder\\\\GLIDER_SB_2018_v5-Phase0-D20180611-T173124-0.raw',\n",
       " 'F:/GLIDER2018/Echosounder/Echosounder\\\\GLIDER_SB_2018_v5-Phase0-D20180611-T173716-1.raw',\n",
       " 'F:/GLIDER2018/Echosounder/Echosounder\\\\GLIDER_SB_2018_v5-Phase0-D20180611-T174316-2.raw',\n",
       " 'F:/GLIDER2018/Echosounder/Echosounder\\\\GLIDER_SB_2018_v5-Phase0-D20180611-T180108-0.raw',\n",
       " 'F:/GLIDER2018/Echosounder/Echosounder\\\\GLIDER_SB_2018_v5-Phase0-D20180611-T180700-1.raw',\n",
       " 'F:/GLIDER2018/Echosounder/Echosounder\\\\GLIDER_SB_2018_v5-Phase0-D20180611-T181251-2.raw',\n",
       " 'F:/GLIDER2018/Echosounder/Echosounder\\\\GLIDER_SB_2018_v5-Phase0-D20180611-T183109-0.raw',\n",
       " 'F:/GLIDER2018/Echosounder/Echosounder\\\\GLIDER_SB_2018_v5-Phase0-D20180611-T183701-1.raw',\n",
       " 'F:/GLIDER2018/Echosounder/Echosounder\\\\GLIDER_SB_2018_v5-Phase0-D20180611-T184252-2.raw',\n",
       " 'F:/GLIDER2018/Echosounder/Echosounder\\\\GLIDER_SB_2018_v5-Phase0-D20180611-T190110-0.raw',\n",
       " 'F:/GLIDER2018/Echosounder/Echosounder\\\\GLIDER_SB_2018_v5-Phase0-D20180611-T190702-1.raw',\n",
       " 'F:/GLIDER2018/Echosounder/Echosounder\\\\GLIDER_SB_2018_v5-Phase0-D20180611-T191253-2.raw',\n",
       " 'F:/GLIDER2018/Echosounder/Echosounder\\\\GLIDER_SB_2018_v5-Phase0-D20180611-T193108-0.raw',\n",
       " 'F:/GLIDER2018/Echosounder/Echosounder\\\\GLIDER_SB_2018_v5-Phase0-D20180611-T193700-1.raw',\n",
       " 'F:/GLIDER2018/Echosounder/Echosounder\\\\GLIDER_SB_2018_v5-Phase0-D20180611-T194251-2.raw',\n",
       " 'F:/GLIDER2018/Echosounder/Echosounder\\\\GLIDER_SB_2018_v5-Phase0-D20180611-T200125-0.raw',\n",
       " 'F:/GLIDER2018/Echosounder/Echosounder\\\\GLIDER_SB_2018_v5-Phase0-D20180611-T200726-1.raw',\n",
       " 'F:/GLIDER2018/Echosounder/Echosounder\\\\GLIDER_SB_2018_v5-Phase0-D20180611-T201323-2.raw',\n",
       " 'F:/GLIDER2018/Echosounder/Echosounder\\\\GLIDER_SB_2018_v5-Phase0-D20180611-T203108-0.raw',\n",
       " 'F:/GLIDER2018/Echosounder/Echosounder\\\\GLIDER_SB_2018_v5-Phase0-D20180611-T203700-1.raw',\n",
       " 'F:/GLIDER2018/Echosounder/Echosounder\\\\GLIDER_SB_2018_v5-Phase0-D20180611-T204251-2.raw',\n",
       " 'F:/GLIDER2018/Echosounder/Echosounder\\\\GLIDER_SB_2018_v5-Phase0-D20180611-T210108-0.raw',\n",
       " 'F:/GLIDER2018/Echosounder/Echosounder\\\\GLIDER_SB_2018_v5-Phase0-D20180611-T210700-1.raw',\n",
       " 'F:/GLIDER2018/Echosounder/Echosounder\\\\GLIDER_SB_2018_v5-Phase0-D20180611-T211251-2.raw',\n",
       " 'F:/GLIDER2018/Echosounder/Echosounder\\\\GLIDER_SB_2018_v5-Phase0-D20180611-T213110-0.raw',\n",
       " 'F:/GLIDER2018/Echosounder/Echosounder\\\\GLIDER_SB_2018_v5-Phase0-D20180611-T213702-1.raw',\n",
       " 'F:/GLIDER2018/Echosounder/Echosounder\\\\GLIDER_SB_2018_v5-Phase0-D20180611-T214253-2.raw',\n",
       " 'F:/GLIDER2018/Echosounder/Echosounder\\\\GLIDER_SB_2018_v5-Phase0-D20180611-T220108-0.raw',\n",
       " 'F:/GLIDER2018/Echosounder/Echosounder\\\\GLIDER_SB_2018_v5-Phase0-D20180611-T220700-1.raw',\n",
       " 'F:/GLIDER2018/Echosounder/Echosounder\\\\GLIDER_SB_2018_v5-Phase0-D20180611-T221300-2.raw',\n",
       " 'F:/GLIDER2018/Echosounder/Echosounder\\\\GLIDER_SB_2018_v5-Phase0-D20180611-T223108-0.raw',\n",
       " 'F:/GLIDER2018/Echosounder/Echosounder\\\\GLIDER_SB_2018_v5-Phase0-D20180611-T223700-1.raw',\n",
       " 'F:/GLIDER2018/Echosounder/Echosounder\\\\GLIDER_SB_2018_v5-Phase0-D20180611-T224251-2.raw',\n",
       " 'F:/GLIDER2018/Echosounder/Echosounder\\\\GLIDER_SB_2018_v5-Phase0-D20180611-T230108-0.raw',\n",
       " 'F:/GLIDER2018/Echosounder/Echosounder\\\\GLIDER_SB_2018_v5-Phase0-D20180611-T230700-1.raw',\n",
       " 'F:/GLIDER2018/Echosounder/Echosounder\\\\GLIDER_SB_2018_v5-Phase0-D20180611-T231251-2.raw',\n",
       " 'F:/GLIDER2018/Echosounder/Echosounder\\\\GLIDER_SB_2018_v5-Phase0-D20180611-T233124-0.raw',\n",
       " 'F:/GLIDER2018/Echosounder/Echosounder\\\\GLIDER_SB_2018_v5-Phase0-D20180611-T233716-1.raw',\n",
       " 'F:/GLIDER2018/Echosounder/Echosounder\\\\GLIDER_SB_2018_v5-Phase0-D20180611-T234307-2.raw']"
      ]
     },
     "execution_count": 15,
     "metadata": {},
     "output_type": "execute_result"
    }
   ],
   "source": [
    "raw_file_names"
   ]
  },
  {
   "cell_type": "markdown",
   "id": "6cdfd028",
   "metadata": {},
   "source": [
    "## Export Wideband frequency response for each file"
   ]
  },
  {
   "cell_type": "code",
   "execution_count": 1,
   "id": "5f7f631c",
   "metadata": {},
   "outputs": [
    {
     "ename": "NameError",
     "evalue": "name 'np' is not defined",
     "output_type": "error",
     "traceback": [
      "\u001b[1;31m---------------------------------------------------------------------------\u001b[0m",
      "\u001b[1;31mNameError\u001b[0m                                 Traceback (most recent call last)",
      "\u001b[1;32m~\\AppData\\Local\\Temp\\ipykernel_15492\\2571217090.py\u001b[0m in \u001b[0;36m<module>\u001b[1;34m\u001b[0m\n\u001b[0;32m      1\u001b[0m \u001b[1;31m# Open new EV file\u001b[0m\u001b[1;33m\u001b[0m\u001b[1;33m\u001b[0m\u001b[1;33m\u001b[0m\u001b[0m\n\u001b[0;32m      2\u001b[0m \u001b[1;33m\u001b[0m\u001b[0m\n\u001b[1;32m----> 3\u001b[1;33m \u001b[1;32mfor\u001b[0m \u001b[0mind\u001b[0m \u001b[1;32min\u001b[0m \u001b[0mnp\u001b[0m\u001b[1;33m.\u001b[0m\u001b[0marange\u001b[0m\u001b[1;33m(\u001b[0m\u001b[1;36m0\u001b[0m\u001b[1;33m,\u001b[0m\u001b[0mlen\u001b[0m\u001b[1;33m(\u001b[0m\u001b[0mraw_file_names\u001b[0m\u001b[1;33m)\u001b[0m\u001b[1;33m,\u001b[0m\u001b[1;36m3\u001b[0m\u001b[1;33m)\u001b[0m\u001b[1;33m:\u001b[0m\u001b[1;33m\u001b[0m\u001b[1;33m\u001b[0m\u001b[0m\n\u001b[0m\u001b[0;32m      4\u001b[0m     \u001b[1;31m# Connect to the Echoview application\u001b[0m\u001b[1;33m\u001b[0m\u001b[1;33m\u001b[0m\u001b[1;33m\u001b[0m\u001b[0m\n\u001b[0;32m      5\u001b[0m     \u001b[0mEvApp\u001b[0m \u001b[1;33m=\u001b[0m \u001b[0mwin32\u001b[0m\u001b[1;33m.\u001b[0m\u001b[0mDispatch\u001b[0m\u001b[1;33m(\u001b[0m\u001b[1;34m\"EchoviewCom.EvApplication\"\u001b[0m\u001b[1;33m)\u001b[0m\u001b[1;33m\u001b[0m\u001b[1;33m\u001b[0m\u001b[0m\n",
      "\u001b[1;31mNameError\u001b[0m: name 'np' is not defined"
     ]
    }
   ],
   "source": [
    "# Open new EV file\n",
    "\n",
    "for ind in np.arange(0,len(raw_file_names),3):\n",
    "    # Connect to the Echoview application\n",
    "    EvApp = win32.Dispatch(\"EchoviewCom.EvApplication\") \n",
    "    EvApp.Minimize()\n",
    "\n",
    "    #Create new file\n",
    "    EvFile = EvApp.NewFile('E:/PolarFront2022/Template.EV')\n",
    "\n",
    "    # Load data by chunks of 3 files (1 on period)\n",
    "    Fileset = EvFile.Filesets.FindByName('Fileset 1')\n",
    "    for sub_ind in range(0,3):\n",
    "        Fileset.DataFiles.Add(raw_file_names[ind+sub_ind])\n",
    "\n",
    "    # Select variable to export    \n",
    "    Sv_pcVar = EvFile.Variables.FindByName(var_name)\n",
    "\n",
    "    Sv_pcVar.ExportData(export_folder+ raw_file_names[ind][38:-4]+'export' +'.sv.csv',-1,-1)\n",
    "\n",
    "    # Close file\n",
    "    EvFile.Close()\n",
    "\n",
    "    # Quit Echoview\n",
    "    EvApp.Quit()"
   ]
  },
  {
   "cell_type": "code",
   "execution_count": 49,
   "id": "43404047",
   "metadata": {},
   "outputs": [
    {
     "data": {
      "text/plain": [
       "array([0, 3, 6, 9])"
      ]
     },
     "execution_count": 49,
     "metadata": {},
     "output_type": "execute_result"
    }
   ],
   "source": [
    "\n",
    "np.arange(0,12,3)"
   ]
  },
  {
   "cell_type": "code",
   "execution_count": 44,
   "id": "c199f560",
   "metadata": {},
   "outputs": [
    {
     "data": {
      "text/plain": [
       "'F:/GLIDER2018/Echosounder/Echosounder/csv_daase/GLIDER_SB_2018_v5-Phase0-D20180611-T001252-2export.sv.csv'"
      ]
     },
     "execution_count": 44,
     "metadata": {},
     "output_type": "execute_result"
    }
   ],
   "source": [
    "export_folder+ raw_file_names[ind][38:-4]+'export' +'.sv.csv'"
   ]
  },
  {
   "cell_type": "code",
   "execution_count": 7,
   "id": "7fc1e6b2",
   "metadata": {},
   "outputs": [],
   "source": [
    "# Open next EV file\n",
    "EvFile = EvApp.OpenFile(ev_file_names[ind])\n",
    "EvApp.Minimize()\n",
    "\n",
    "# Select correct variable\n",
    "Sv_pcVar = EvFile.Variables.FindByName(var_name)\n",
    "\n",
    "# How many regions in this fileset\n",
    "n_regions = EvFile.Regions.Count\n",
    "\n",
    "# Export wideband frequency response for each region.\n",
    "for ind_region in range(n_regions):\n",
    "    EvSelectedRegion = EvFile.Regions.Item(ind_region)\n",
    "    # Only export \"analysis\" regions not \"badData\"\n",
    "    if EvSelectedRegion.RegionType == 1:\n",
    "        fname = os.path.basename(ev_file_names[ind][:-3])\n",
    "        Sv_pcVar.ExportSvWidebandFrequencyResponseForRegion(export_folder+fname+'_Widebandfrequencyexport_' + EvFile.Regions.Item(ind_region).Name +'.csv',\n",
    "                                                        0, 0, window_length, 0, 1.0, EvSelectedRegion, freq_res)\n",
    "\n",
    "# Close file\n",
    "EvFile.Close()\n",
    "\n",
    "# Quit Echoview\n",
    "EvApp.Quit()"
   ]
  },
  {
   "cell_type": "code",
   "execution_count": 32,
   "id": "490db5a8",
   "metadata": {},
   "outputs": [
    {
     "ename": "AttributeError",
     "evalue": "NewFile.Close",
     "output_type": "error",
     "traceback": [
      "\u001b[1;31m---------------------------------------------------------------------------\u001b[0m",
      "\u001b[1;31mAttributeError\u001b[0m                            Traceback (most recent call last)",
      "\u001b[1;32m~\\AppData\\Local\\Temp\\ipykernel_6172\\2222403164.py\u001b[0m in \u001b[0;36m<module>\u001b[1;34m\u001b[0m\n\u001b[0;32m      1\u001b[0m \u001b[1;31m# Close file\u001b[0m\u001b[1;33m\u001b[0m\u001b[1;33m\u001b[0m\u001b[1;33m\u001b[0m\u001b[0m\n\u001b[1;32m----> 2\u001b[1;33m \u001b[0mEvFile\u001b[0m\u001b[1;33m.\u001b[0m\u001b[0mClose\u001b[0m\u001b[1;33m(\u001b[0m\u001b[1;33m)\u001b[0m\u001b[1;33m\u001b[0m\u001b[1;33m\u001b[0m\u001b[0m\n\u001b[0m\u001b[0;32m      3\u001b[0m \u001b[1;33m\u001b[0m\u001b[0m\n\u001b[0;32m      4\u001b[0m \u001b[1;31m# Quit Echoview\u001b[0m\u001b[1;33m\u001b[0m\u001b[1;33m\u001b[0m\u001b[1;33m\u001b[0m\u001b[0m\n\u001b[0;32m      5\u001b[0m \u001b[0mEvApp\u001b[0m\u001b[1;33m.\u001b[0m\u001b[0mQuit\u001b[0m\u001b[1;33m(\u001b[0m\u001b[1;33m)\u001b[0m\u001b[1;33m\u001b[0m\u001b[1;33m\u001b[0m\u001b[0m\n",
      "\u001b[1;32m~\\anaconda3\\envs\\phd-env\\lib\\site-packages\\win32com\\client\\dynamic.py\u001b[0m in \u001b[0;36m__getattr__\u001b[1;34m(self, attr)\u001b[0m\n\u001b[0;32m    637\u001b[0m \u001b[1;33m\u001b[0m\u001b[0m\n\u001b[0;32m    638\u001b[0m         \u001b[1;31m# no where else to look.\u001b[0m\u001b[1;33m\u001b[0m\u001b[1;33m\u001b[0m\u001b[1;33m\u001b[0m\u001b[0m\n\u001b[1;32m--> 639\u001b[1;33m         \u001b[1;32mraise\u001b[0m \u001b[0mAttributeError\u001b[0m\u001b[1;33m(\u001b[0m\u001b[1;34m\"%s.%s\"\u001b[0m \u001b[1;33m%\u001b[0m \u001b[1;33m(\u001b[0m\u001b[0mself\u001b[0m\u001b[1;33m.\u001b[0m\u001b[0m_username_\u001b[0m\u001b[1;33m,\u001b[0m \u001b[0mattr\u001b[0m\u001b[1;33m)\u001b[0m\u001b[1;33m)\u001b[0m\u001b[1;33m\u001b[0m\u001b[1;33m\u001b[0m\u001b[0m\n\u001b[0m\u001b[0;32m    640\u001b[0m \u001b[1;33m\u001b[0m\u001b[0m\n\u001b[0;32m    641\u001b[0m     \u001b[1;32mdef\u001b[0m \u001b[0m__setattr__\u001b[0m\u001b[1;33m(\u001b[0m\u001b[0mself\u001b[0m\u001b[1;33m,\u001b[0m \u001b[0mattr\u001b[0m\u001b[1;33m,\u001b[0m \u001b[0mvalue\u001b[0m\u001b[1;33m)\u001b[0m\u001b[1;33m:\u001b[0m\u001b[1;33m\u001b[0m\u001b[1;33m\u001b[0m\u001b[0m\n",
      "\u001b[1;31mAttributeError\u001b[0m: NewFile.Close"
     ]
    }
   ],
   "source": [
    "# Close file\n",
    "EvFile.Close()\n",
    "\n",
    "# Quit Echoview\n",
    "EvApp.Quit()"
   ]
  },
  {
   "cell_type": "code",
   "execution_count": null,
   "id": "9d9c52c0",
   "metadata": {},
   "outputs": [],
   "source": []
  }
 ],
 "metadata": {
  "kernelspec": {
   "display_name": "Python 3 (ipykernel)",
   "language": "python",
   "name": "python3"
  },
  "language_info": {
   "codemirror_mode": {
    "name": "ipython",
    "version": 3
   },
   "file_extension": ".py",
   "mimetype": "text/x-python",
   "name": "python",
   "nbconvert_exporter": "python",
   "pygments_lexer": "ipython3",
   "version": "3.7.11"
  }
 },
 "nbformat": 4,
 "nbformat_minor": 5
}
