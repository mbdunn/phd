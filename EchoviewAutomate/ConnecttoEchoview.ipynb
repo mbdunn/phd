{
 "cells": [
  {
   "cell_type": "markdown",
   "id": "343638b6",
   "metadata": {},
   "source": [
    "In this notebook I will test running Echoview from python"
   ]
  },
  {
   "cell_type": "code",
   "execution_count": 15,
   "id": "79212b6d",
   "metadata": {},
   "outputs": [],
   "source": [
    "import win32com.client as win32\n",
    "import glob"
   ]
  },
  {
   "cell_type": "code",
   "execution_count": null,
   "id": "b8489d3d",
   "metadata": {},
   "outputs": [],
   "source": [
    "EvApp = win32com.client.Dispatch(\"EchoviewCom.EvApplication\")"
   ]
  },
  {
   "cell_type": "code",
   "execution_count": 25,
   "id": "2cca2e5a",
   "metadata": {},
   "outputs": [
    {
     "data": {
      "text/plain": [
       "True"
      ]
     },
     "execution_count": 25,
     "metadata": {},
     "output_type": "execute_result"
    }
   ],
   "source": [
    "EvFile = EvApp.OpenFile(\"C:/Echoview Automation/2022-04 Automation file sharing/Scripts/3 - New EV file from template/3 - Template.EV\") \n",
    "\n",
    "# Define variable name to export\n",
    "var_name = ' Fileset 1: Sv pulse compressed wideband pings T1'\n",
    "EvApp.Exec(var_name + '| GridXaxis =| Time')\n",
    "EvApp.Exec(var_name + '| GridXaxisSpacingInMinutes =| 5')\n",
    "\n",
    "# Add grid in y\n",
    "EvApp.Exec(var_name + '| GridYAxisReference =| WaterSurface')\n",
    "EvApp.Exec(var_name + '| GridYAxisSpacing =| 10')\n",
    "\n",
    "# Colorsheme\n",
    "EvApp.Exec(var_name + '| ColorScheme =| Viridis')\n",
    "EvApp.Exec(var_name + '| ColorDisplayMinimum | -70.0')\n",
    "EvApp.Exec(var_name + '| ColorDisplayRange| 36.0')\n",
    "\n",
    "# Vertical limits\n",
    "EvApp.Exec(var_name + '| AutoDisplayLimits =| false')\n",
    "EvApp.Exec(var_name + '| LowerDisplayLimit =| 70')\n",
    "EvApp.Exec(var_name + '| UpperDisplayLimit =| 0')\n",
    "\n",
    "# or \n",
    "SvVariable = EvFile.Variables.FindByName(var_name)\n",
    "SvVariable.Properties.Grid.SetTimeDistanceGrid(1,5)\n",
    "\n",
    "\n",
    "EvFile.Save()"
   ]
  },
  {
   "cell_type": "code",
   "execution_count": 29,
   "id": "9a96e4e3",
   "metadata": {},
   "outputs": [
    {
     "data": {
      "text/plain": [
       "''"
      ]
     },
     "execution_count": 29,
     "metadata": {},
     "output_type": "execute_result"
    }
   ],
   "source": [
    "EvApp.Exec(\"Sv pings T1 | GridXAxisSpacingInMinutes =| 2\")"
   ]
  }
 ],
 "metadata": {
  "kernelspec": {
   "display_name": "Python 3 (ipykernel)",
   "language": "python",
   "name": "python3"
  },
  "language_info": {
   "codemirror_mode": {
    "name": "ipython",
    "version": 3
   },
   "file_extension": ".py",
   "mimetype": "text/x-python",
   "name": "python",
   "nbconvert_exporter": "python",
   "pygments_lexer": "ipython3",
   "version": "3.7.11"
  }
 },
 "nbformat": 4,
 "nbformat_minor": 5
}
