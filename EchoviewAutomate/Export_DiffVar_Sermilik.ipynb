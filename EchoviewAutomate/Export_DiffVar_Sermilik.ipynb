{
 "cells": [
  {
   "cell_type": "markdown",
   "id": "59da7ab7-ae74-4330-8879-9727946a9576",
   "metadata": {},
   "source": [
    "In this notebook we will export frequency differencing variables from dataflow"
   ]
  },
  {
   "cell_type": "code",
   "execution_count": 60,
   "id": "639b4d39",
   "metadata": {},
   "outputs": [],
   "source": [
    "import numpy as np\n",
    "import win32com.client as win32\n",
    "import glob\n",
    "import os"
   ]
  },
  {
   "cell_type": "markdown",
   "id": "acdf0ade",
   "metadata": {},
   "source": [
    "# Select platform"
   ]
  },
  {
   "cell_type": "markdown",
   "id": "30a6132c",
   "metadata": {},
   "source": [
    "Sermilik cruise 2023"
   ]
  },
  {
   "cell_type": "code",
   "execution_count": 86,
   "id": "49a312dd",
   "metadata": {},
   "outputs": [],
   "source": [
    "# Location of data files\n",
    "ev_template = 'D:/Sermilik/NNA_EV/Sermilik_dBDiff.EV'\n",
    "\n",
    "EV_folder = 'D:/Sermilik/NNA_EV/' \n",
    "data_folder = 'D:/Sermilik/NNA_EK80/NNA_EK80/'\n",
    "export_folder = 'D:/Sermilik/NNA_dBDiff_Export/'\n",
    "\n",
    "processed_export_folder = 'D:/Sermilik/images_clean/' \n",
    "processed_export_resample_folder = 'D:/Sermilik/images_resampled/' \n",
    "\n",
    "# Define variable name to export\n",
    "#var_T1 = 'Calibration subset T1'\n",
    "var_T2 = 'Calibration subset T2'\n",
    "var_T3 = 'Calibration subset T3'\n",
    "var_T4 = 'Calibration subset T4' #Passive\n",
    "var_T5 = 'Calibration subset T5' #Passive\n",
    "var_T6 = 'Calibration subset T6'\n",
    "var_T7 = 'Calibration subset T7'#Passive\n",
    "\n",
    "T_list = ['T2', 'T3', 'T4', 'T5', 'T6']\n",
    "\n",
    "# Define variable name to export\n",
    "#pvar_T1 = 'Processed data T1'  # 150 kHz\n",
    "pvar_T2 = 'Processed data T2'   # 38 kHz\n",
    "pvar_T3 = 'Processed data T3'   # 18 kHz\n",
    "pvar_T4 = 'Processed data T4' #Passive  #70 kHz\n",
    "pvar_T5 = 'Processed data T5' #Passive  #200 kHz \n",
    "pvar_T6 = 'Processed data T6'   # 120 kHz\n",
    "#pvar_T7 = 'Processed data T7'#Passive  # 333 kHz\n",
    "\n",
    "\n",
    "\n",
    "var_names = [var_T2,var_T3,var_T4,var_T5,var_T6]\n",
    "processed_var_names = [pvar_T2,\n",
    "                       pvar_T3,\n",
    "                       pvar_T4, \n",
    "                       pvar_T5,\n",
    "                       pvar_T6]\n",
    "                       #pvar_T7]\n",
    "\n",
    "Sv18_38 = 'S18-Sv38'\n",
    "Sv38_70 = 'S38-Sv70'\n",
    "Sv38_120 = 'S38-Sv120'\n",
    "Sv38_200 = 'S38-Sv200'\n",
    "Sv38 = 'Resample by number of pings T2'\n",
    "\n",
    "export_names = [Sv18_38, \n",
    "                Sv38_70, \n",
    "                Sv38_120, \n",
    "                Sv38_200, \n",
    "                Sv38]\n",
    "\n",
    "# Find all data files with extension .raw for the date frame\n",
    "date = '20230815'\n",
    "EV_file_name = sorted(glob.glob(EV_folder + f'Sermilik_dBDiff_{date}PM.EV'))\n",
    "raw_file_names = sorted(glob.glob(data_folder + f'NNA_*{date}*.raw'))\n"
   ]
  },
  {
   "cell_type": "code",
   "execution_count": 87,
   "id": "3d476c00-3b04-4a32-b61d-7c85cbcf6bfb",
   "metadata": {},
   "outputs": [
    {
     "data": {
      "text/plain": [
       "['D:/Sermilik/NNA_EV/Sermilik_dBDiff_20230815PM.EV']"
      ]
     },
     "execution_count": 87,
     "metadata": {},
     "output_type": "execute_result"
    }
   ],
   "source": [
    "EV_file_name"
   ]
  },
  {
   "cell_type": "markdown",
   "id": "6e66ba4a",
   "metadata": {},
   "source": [
    "##### Export image\n"
   ]
  },
  {
   "cell_type": "code",
   "execution_count": 88,
   "id": "f5525387-2f9d-4914-a044-361f23685ce9",
   "metadata": {},
   "outputs": [],
   "source": [
    "EvApp = win32.Dispatch(\"EchoviewCom.EvApplication\") \n",
    "EvFile = EvApp.NewFile()"
   ]
  },
  {
   "cell_type": "code",
   "execution_count": 89,
   "id": "8d621b38-50a5-43d9-8098-844c8ea17eb2",
   "metadata": {},
   "outputs": [],
   "source": [
    "# close new file and work with previously opened file."
   ]
  },
  {
   "cell_type": "code",
   "execution_count": 90,
   "id": "e7c30ac5-64b2-471a-a310-02aff28f4c28",
   "metadata": {},
   "outputs": [],
   "source": [
    "head, tailEv = os.path.split(EV_file_name[0])\n",
    "\n",
    "for var_i in export_names:\n",
    "    Sv_diff= EvFile.Variables.FindByName(var_i)\n",
    "    \n",
    "    Sv_diff.Properties.Grid.SetDepthRangeGrid(1,5)\n",
    "    Sv_diff.Properties.Grid.SetTimeDistanceGrid(4,1)\n",
    "    Sv_diff.ExportData(export_folder+tailEv[:-3]+var_i+'.csv')\n"
   ]
  },
  {
   "cell_type": "code",
   "execution_count": null,
   "id": "6e5382c1-f6cb-4ca8-9ad5-e6fa5357feb9",
   "metadata": {},
   "outputs": [],
   "source": []
  },
  {
   "cell_type": "code",
   "execution_count": null,
   "id": "24f1e0b1-2506-4c1f-bbb8-abab7f4ec540",
   "metadata": {},
   "outputs": [],
   "source": []
  }
 ],
 "metadata": {
  "kernelspec": {
   "display_name": "Python 3 (ipykernel)",
   "language": "python",
   "name": "python3"
  },
  "language_info": {
   "codemirror_mode": {
    "name": "ipython",
    "version": 3
   },
   "file_extension": ".py",
   "mimetype": "text/x-python",
   "name": "python",
   "nbconvert_exporter": "python",
   "pygments_lexer": "ipython3",
   "version": "3.11.5"
  }
 },
 "nbformat": 4,
 "nbformat_minor": 5
}
