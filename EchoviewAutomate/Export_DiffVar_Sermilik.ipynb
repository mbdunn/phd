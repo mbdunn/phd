{
 "cells": [
  {
   "cell_type": "markdown",
   "id": "59da7ab7-ae74-4330-8879-9727946a9576",
   "metadata": {},
   "source": [
    "In this notebook we will export frequency differencing variables from dataflow"
   ]
  },
  {
   "cell_type": "code",
   "execution_count": 3,
   "id": "639b4d39",
   "metadata": {},
   "outputs": [],
   "source": [
    "import numpy as np\n",
    "import win32com.client as win32\n",
    "import glob\n",
    "import os"
   ]
  },
  {
   "cell_type": "markdown",
   "id": "acdf0ade",
   "metadata": {},
   "source": [
    "# Select platform"
   ]
  },
  {
   "cell_type": "markdown",
   "id": "30a6132c",
   "metadata": {},
   "source": [
    "Sermilik cruise 2023"
   ]
  },
  {
   "cell_type": "code",
   "execution_count": 52,
   "id": "49a312dd",
   "metadata": {},
   "outputs": [],
   "source": [
    "# Location of data files\n",
    "ev_template = 'D:/Sermilik/NNA_EV/Sermilik_dBDiff.EV'\n",
    "\n",
    "EV_folder = 'D:/Sermilik/NNA_EV/' \n",
    "data_folder = 'D:/Sermilik/NNA_EK80/NNA_EK80/'\n",
    "export_folder = 'D:/Sermilik/NNA_dBDiff_Export/'\n",
    "\n",
    "processed_export_folder = 'D:/Sermilik/images_clean/' \n",
    "processed_export_resample_folder = 'D:/Sermilik/images_resampled/' \n",
    "\n",
    "# Define variable name to export\n",
    "#var_T1 = 'Calibration subset T1'\n",
    "var_T2 = 'Calibration subset T2'\n",
    "var_T3 = 'Calibration subset T3'\n",
    "var_T4 = 'Calibration subset T4' #Passive\n",
    "var_T5 = 'Calibration subset T5' #Passive\n",
    "var_T6 = 'Calibration subset T6'\n",
    "var_T7 = 'Calibration subset T7'#Passive\n",
    "\n",
    "T_list = ['T2', 'T3', 'T4', 'T5', 'T6']\n",
    "\n",
    "# Define variable name to export\n",
    "#pvar_T1 = 'Processed data T1'  # 150 kHz\n",
    "pvar_T2 = 'Processed data T2'   # 38 kHz\n",
    "pvar_T3 = 'Processed data T3'   # 18 kHz\n",
    "pvar_T4 = 'Processed data T4' #Passive  #70 kHz\n",
    "pvar_T5 = 'Processed data T5' #Passive  #200 kHz \n",
    "pvar_T6 = 'Processed data T6'   # 120 kHz\n",
    "#pvar_T7 = 'Processed data T7'#Passive  # 333 kHz\n",
    "\n",
    "\n",
    "\n",
    "var_names = [var_T2,var_T3,var_T4,var_T5,var_T6]\n",
    "processed_var_names = [pvar_T2,\n",
    "                       pvar_T3,\n",
    "                       pvar_T4, \n",
    "                       pvar_T5,\n",
    "                       pvar_T6]\n",
    "                       #pvar_T7]\n",
    "\n",
    "Sv18_38 = 'S18-Sv38'\n",
    "Sv38_70 = 'S38-Sv70'\n",
    "Sv38_120 = 'S38-Sv120'\n",
    "Sv38_200 = 'S38-Sv200'\n",
    "Sv70_120 = 'S70-Sv120'\n",
    "Sv70_200 = 'S70-Sv200'\n",
    "Sv120_200 = 'S120-Sv200'\n",
    "\n",
    "export_names = [Sv18_38, \n",
    "                Sv38_70, \n",
    "                Sv38_120, \n",
    "                Sv38_200, \n",
    "                Sv70_120, \n",
    "                Sv70_200,\n",
    "                Sv120_200]\n",
    "\n",
    "# Find all data files with extension .raw for the date frame\n",
    "date = '20230806'\n",
    "EV_file_name = sorted(glob.glob(EV_folder + f'Sermilik_dBDiff_{date}PM.EV'))\n",
    "raw_file_names = sorted(glob.glob(data_folder + f'NNA_*{date}*.raw'))\n",
    "cal_file=f'D:/Sermilik/NNA_EK80/NNA_EK80/Sermilik_{date}.ecs'"
   ]
  },
  {
   "cell_type": "code",
   "execution_count": 29,
   "id": "3d476c00-3b04-4a32-b61d-7c85cbcf6bfb",
   "metadata": {},
   "outputs": [
    {
     "data": {
      "text/plain": [
       "89"
      ]
     },
     "execution_count": 29,
     "metadata": {},
     "output_type": "execute_result"
    }
   ],
   "source": [
    "len(raw_file_names)"
   ]
  },
  {
   "cell_type": "markdown",
   "id": "6e66ba4a",
   "metadata": {},
   "source": [
    "##### Export image\n"
   ]
  },
  {
   "cell_type": "code",
   "execution_count": 31,
   "id": "50ac3a87-97f8-4997-80d7-0829080ab999",
   "metadata": {},
   "outputs": [],
   "source": [
    "# Open new EV file\n",
    "\n",
    "for ind in np.arange(0,1):\n",
    "    # Connect to the Echoview application\n",
    "    EvApp = win32.Dispatch(\"EchoviewCom.EvApplication\") \n",
    "    #EvApp.Minimize()\n",
    "    # Create new file\n",
    "    EvFile = EvApp.NewFile(EV_file_names[ind])\n",
    "\n",
    "    # Load data by chunks of 3 files (1 on period)\n",
    "    Fileset = EvFile.Filesets.FindByName('Fileset 1')\n",
    "\n",
    "    # Set cal file\n",
    "    Fileset.SetCalibrationFile(cal_file)\n",
    "    \n",
    "    for sub_ind in range(0,81):\n",
    "        Fileset.DataFiles.Add(raw_file_names[ind+sub_ind])\n",
    "\n",
    "    i=0\n",
    "    for T_i in T_list:\n",
    "        \n",
    "        # Select variable and recalculate\n",
    "        Processed_Var = EvFile.Variables.FindByName(f'Processed data {T_i}')\n",
    "        Sv_Var = EvFile.Variables.FindByName(f'Attenuated signal removal {T_i}')\n",
    "        \n",
    "        # Create a new editable line that offsets and spans gaps from bottom line\n",
    "        #if i == 0:\n",
    "        #    Offset_line = EvFile.Lines.FindByName('Bottom Smooth')\n",
    "        #    New_Line = EvFile.Lines.CreateOffsetLinear(Offset_line, 1, -2, True)# Editable line with 2m offset from bottom, spans gaps\n",
    "            \n",
    "         #   Bubble_line = EvFile.Lines.FindByName('Bubble Offset')\n",
    "         #   bubble_Line = EvFile.Lines.CreateOffsetLinear(Bubble_line, 1, 2, True)# Editable line with 2m offset from surface an bubble offset, spans gaps\n",
    "            \n",
    "        i += 1\n",
    "        \n",
    "        #Sv_Var.Properties.Analysis.ExcludeBelowLine = \"Line 1\" # Variable before processed data\n",
    "        #Processed_Var.Properties.Analysis.ExcludeBelowLine = \"Line 1\"\n",
    "        #Sv_Var.Properties.Analysis.ExcludeAboveLine = \"Line 1 (1)\"\n",
    "        #Processed_Var.Properties.Analysis.ExcludeAboveLine = \"Line 1 (1)\"\n",
    "\n",
    "        Processed_Var.Properties.Grid.SetDepthRangeGrid(1,50)\n",
    "        Processed_Var.Properties.Grid.SetTimeDistanceGrid(2,1)\n",
    "\n",
    "    # Close file\n",
    "    #EvFile.Close()\n",
    "    # Quit Echoview\n",
    "    #EvApp.Quit()"
   ]
  },
  {
   "cell_type": "code",
   "execution_count": 33,
   "id": "f5525387-2f9d-4914-a044-361f23685ce9",
   "metadata": {},
   "outputs": [],
   "source": [
    "EvApp = win32.Dispatch(\"EchoviewCom.EvApplication\") \n",
    "EvFile = EvApp.NewFile()"
   ]
  },
  {
   "cell_type": "code",
   "execution_count": 37,
   "id": "3991e726-78e7-40c7-b287-0212c9e81a0b",
   "metadata": {},
   "outputs": [
    {
     "data": {
      "text/plain": [
       "<COMObject NewFile>"
      ]
     },
     "execution_count": 37,
     "metadata": {},
     "output_type": "execute_result"
    }
   ],
   "source": []
  },
  {
   "cell_type": "code",
   "execution_count": 62,
   "id": "8d621b38-50a5-43d9-8098-844c8ea17eb2",
   "metadata": {},
   "outputs": [],
   "source": [
    "# close new file and work with previously opened file."
   ]
  },
  {
   "cell_type": "code",
   "execution_count": 61,
   "id": "e7c30ac5-64b2-471a-a310-02aff28f4c28",
   "metadata": {},
   "outputs": [],
   "source": [
    "head, tailEv = os.path.split(EV_file_names[0])\n",
    "\n",
    "for var_i in export_names:\n",
    "    Sv_diff= EvFile.Variables.FindByName(var_i)\n",
    "    \n",
    "    Sv_diff.Properties.Grid.SetDepthRangeGrid(1,5)\n",
    "    Sv_diff.Properties.Grid.SetTimeDistanceGrid(2,1)\n",
    "    Sv_diff.ExportData(export_folder+tailEv[:-3]+var_i+'.csv',-1,-1)\n"
   ]
  },
  {
   "cell_type": "code",
   "execution_count": 48,
   "id": "18281812-bd86-44a8-bcae-52485e3bb4e4",
   "metadata": {},
   "outputs": [
    {
     "ename": "AttributeError",
     "evalue": "'NoneType' object has no attribute 'ExportData'",
     "output_type": "error",
     "traceback": [
      "\u001b[1;31m---------------------------------------------------------------------------\u001b[0m",
      "\u001b[1;31mAttributeError\u001b[0m                            Traceback (most recent call last)",
      "Cell \u001b[1;32mIn[48], line 1\u001b[0m\n\u001b[1;32m----> 1\u001b[0m \u001b[43mSv_18\u001b[49m\u001b[38;5;241;43m.\u001b[39;49m\u001b[43mExportData\u001b[49m()\n",
      "\u001b[1;31mAttributeError\u001b[0m: 'NoneType' object has no attribute 'ExportData'"
     ]
    }
   ],
   "source": [
    "Sv_18.ExportData()"
   ]
  },
  {
   "cell_type": "code",
   "execution_count": 50,
   "id": "377ee762-658b-4498-9733-ede283bd4918",
   "metadata": {},
   "outputs": [
    {
     "data": {
      "text/plain": [
       "<COMObject FindByName>"
      ]
     },
     "execution_count": 50,
     "metadata": {},
     "output_type": "execute_result"
    }
   ],
   "source": [
    "EvFile.Variables.FindByName('S18-Sv38')"
   ]
  },
  {
   "cell_type": "code",
   "execution_count": 58,
   "id": "456f96a7-75e6-4ab7-9353-13fe23161006",
   "metadata": {},
   "outputs": [],
   "source": [
    "head, tailEv = os.path.split(EV_file_names[0])"
   ]
  },
  {
   "cell_type": "code",
   "execution_count": null,
   "id": "14164e17-9147-466f-8a61-cf0b15d18317",
   "metadata": {},
   "outputs": [],
   "source": []
  }
 ],
 "metadata": {
  "kernelspec": {
   "display_name": "Python 3 (ipykernel)",
   "language": "python",
   "name": "python3"
  },
  "language_info": {
   "codemirror_mode": {
    "name": "ipython",
    "version": 3
   },
   "file_extension": ".py",
   "mimetype": "text/x-python",
   "name": "python",
   "nbconvert_exporter": "python",
   "pygments_lexer": "ipython3",
   "version": "3.11.5"
  }
 },
 "nbformat": 4,
 "nbformat_minor": 5
}
