{
 "cells": [
  {
   "cell_type": "markdown",
   "id": "9e5661d1",
   "metadata": {},
   "source": [
    "Calculate fft window in terms on m or pulse lengths. No need to have more than 2 pulse lengths.*"
   ]
  },
  {
   "cell_type": "code",
   "execution_count": 12,
   "id": "3d103696",
   "metadata": {},
   "outputs": [],
   "source": [
    "pl_BB2020 = 1024 #us\n",
    "pl_AZKABAN = 512 #us\n",
    "\n",
    "c_BB2020 = 1500 #m/s\n",
    "c_AZKABAN = 1447 #m/s"
   ]
  },
  {
   "cell_type": "code",
   "execution_count": 13,
   "id": "de4b64c2",
   "metadata": {},
   "outputs": [],
   "source": [
    "FFTwindow_m = 0.4"
   ]
  },
  {
   "cell_type": "code",
   "execution_count": 14,
   "id": "0fe3844b",
   "metadata": {},
   "outputs": [],
   "source": [
    "pl_BB2020_m =  pl_BB2020*10**(-6) * c_BB2020\n",
    "pl_AZKABAN_m = pl_AZKABAN*10**(-6) * c_AZKABAN\n",
    "# m/s * s"
   ]
  },
  {
   "cell_type": "code",
   "execution_count": 15,
   "id": "01e832f3",
   "metadata": {},
   "outputs": [
    {
     "name": "stdout",
     "output_type": "stream",
     "text": [
      "1.536 0.740864\n"
     ]
    }
   ],
   "source": [
    "print(pl_BB2020_m, pl_AZKABAN_m)"
   ]
  },
  {
   "cell_type": "code",
   "execution_count": 25,
   "id": "84efddb4",
   "metadata": {},
   "outputs": [
    {
     "name": "stdout",
     "output_type": "stream",
     "text": [
      "Benoit-Bird 2020 had a FFT window of 0.26 pulse lengths\n",
      "They found no improvements after a third of the pulse length (contains main lobe and most of info?)\n"
     ]
    }
   ],
   "source": [
    "print(f'Benoit-Bird 2020 had a FFT window of {0.4/pl_BB2020_m:.2f} pulse lengths')\n",
    "print('They found no improvements after a third of the pulse length (contains main lobe and most of info?)')"
   ]
  },
  {
   "cell_type": "code",
   "execution_count": 24,
   "id": "5d655915",
   "metadata": {},
   "outputs": [
    {
     "name": "stdout",
     "output_type": "stream",
     "text": [
      "In my case 0.33 pulse lengths tranlates to had a FFT window of 0.24 m\n"
     ]
    }
   ],
   "source": [
    "print(f'In my case 0.33 pulse lengths tranlates to had a FFT window of {pl_AZKABAN_m*0.33:.2f} m')"
   ]
  },
  {
   "cell_type": "code",
   "execution_count": 4,
   "id": "7d2644ba",
   "metadata": {},
   "outputs": [],
   "source": [
    "pl_AFKABAN = 512 #us\n",
    "c_AFKABAN = 1458 # m/s\n",
    "\n",
    "pl_AFKABAN_m = pl_AFKABAN*10**(-6) * c_AFKABAN"
   ]
  },
  {
   "cell_type": "code",
   "execution_count": 9,
   "id": "34c3ef11",
   "metadata": {},
   "outputs": [
    {
     "data": {
      "text/plain": [
       "0.7464959999999999"
      ]
     },
     "execution_count": 9,
     "metadata": {},
     "output_type": "execute_result"
    }
   ],
   "source": [
    "window_size = 1 *pl_AFKABAN_m\n",
    "window_size"
   ]
  },
  {
   "cell_type": "code",
   "execution_count": 1,
   "id": "39d08168",
   "metadata": {},
   "outputs": [],
   "source": [
    "# Khodabandeloo 2021\n",
    "pl_K2021 = 2048 #us\n",
    "c_K2021 = 1528 # m/s\n",
    "\n",
    "pl_K2021_m = pl_K2021*10**(-6) * c_K2021"
   ]
  },
  {
   "cell_type": "code",
   "execution_count": 19,
   "id": "177ddb5f",
   "metadata": {},
   "outputs": [
    {
     "name": "stdout",
     "output_type": "stream",
     "text": [
      "1 pulse length measures 3.13 m\n",
      "They used FFT window of 0.3 m\n",
      "Therefore Khodabandeloo 2021 had a FFT window of 0.10 pulse lengths\n"
     ]
    }
   ],
   "source": [
    "print(f'1 pulse length measures {pl_K2021_m:.2f} m')\n",
    "print('They used FFT window of 0.3 m')\n",
    "print(f'Therefore Khodabandeloo 2021 had a FFT window of {0.3/pl_K2021_m:.2f} pulse lengths')"
   ]
  },
  {
   "cell_type": "code",
   "execution_count": null,
   "id": "01f6c30d",
   "metadata": {},
   "outputs": [],
   "source": []
  }
 ],
 "metadata": {
  "kernelspec": {
   "display_name": "Python 3 (ipykernel)",
   "language": "python",
   "name": "python3"
  },
  "language_info": {
   "codemirror_mode": {
    "name": "ipython",
    "version": 3
   },
   "file_extension": ".py",
   "mimetype": "text/x-python",
   "name": "python",
   "nbconvert_exporter": "python",
   "pygments_lexer": "ipython3",
   "version": "3.9.15"
  }
 },
 "nbformat": 4,
 "nbformat_minor": 5
}
