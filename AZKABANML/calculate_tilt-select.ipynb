{
 "cells": [
  {
   "cell_type": "markdown",
   "id": "31000758",
   "metadata": {},
   "source": [
    "In this notebook we used the fish tracks position information to calculate fish tilt (following Dunning et al., 2023)\n"
   ]
  },
  {
   "cell_type": "code",
   "execution_count": 1,
   "id": "bd4edf95",
   "metadata": {},
   "outputs": [],
   "source": [
    "import time\n",
    "import os.path\n",
    "import numpy as np\n",
    "import pandas as pd\n",
    "import pickle\n",
    "import matplotlib.pyplot as plt\n",
    "from sklearn import preprocessing\n",
    "import seaborn as sns\n",
    "from datetime import timedelta\n",
    "from tenacity import retry, stop_after_attempt\n",
    "import glob\n",
    "import scipy as sc\n",
    "import csaps\n",
    "\n",
    "import sys, errno  \n"
   ]
  },
  {
   "cell_type": "code",
   "execution_count": 2,
   "id": "3f48d281",
   "metadata": {},
   "outputs": [],
   "source": [
    "\n",
    "palette = sns.color_palette()\n",
    "plt.style.use(['seaborn-colorblind'])\n",
    "plt.rc('font', family='Arial')\n",
    "SMALL_SIZE = 12\n",
    "BIGGER_SIZE = 13\n",
    "plt.rc('font', size=SMALL_SIZE)          # controls default text sizes\n",
    "plt.rc('axes', titlesize=SMALL_SIZE)     # fontsize of the axes title\n",
    "plt.rc('axes', labelsize=BIGGER_SIZE)    # fontsize of the x and y labels\n",
    "plt.rc('xtick', labelsize=SMALL_SIZE)    # fontsize of the tick labels\n",
    "plt.rc('ytick', labelsize=SMALL_SIZE)    # fontsize of the tick labels\n",
    "plt.rc('legend', fontsize=SMALL_SIZE)    # legend fontsize\n",
    "plt.rcParams['xtick.bottom'] = True\n",
    "plt.rcParams['ytick.left'] = True\n",
    "plt.rcParams['xtick.direction'] = 'inout'\n",
    "plt.rcParams['ytick.direction'] = 'inout'\n",
    "plt.rcParams['xtick.major.size'] = 5\n",
    "plt.rcParams['xtick.minor.size'] = 3\n",
    "plt.rcParams['xtick.major.width'] = 1\n",
    "plt.rcParams['ytick.major.size'] = 5\n",
    "plt.rcParams['ytick.minor.size'] = 3\n",
    "plt.rcParams['ytick.major.width'] = 1\n",
    "\n",
    "savefigs_path = 'C:/Users/mbd/OneDrive - Akvaplan-niva AS/PhD-APN/ChaptersandExperiments/AFKABAN'"
   ]
  },
  {
   "cell_type": "code",
   "execution_count": 3,
   "id": "ade070f7",
   "metadata": {},
   "outputs": [],
   "source": [
    "# -- USER-DETERMINED PARAMETERS -----------------------------------------------\n",
    "letter_drive = 'F'\n",
    "ppath = f'{letter_drive}:/AFKABAN/Pcod_190123/select/'\n",
    "p2path = f'{letter_drive}:/AFKABAN/Pcod2_240123/select/'\n",
    "apath = f'{letter_drive}:/AFKABAN/Acod_200123/select/'\n",
    "pbpath = f'{letter_drive}:/AFKABAN/Pandalus_260123/select/'\n",
    "kpath = f'{letter_drive}:/AFKABAN/Krill_270123/select/'\n"
   ]
  },
  {
   "cell_type": "code",
   "execution_count": 4,
   "id": "04f87c12",
   "metadata": {},
   "outputs": [],
   "source": [
    "def tsf_targets_import(file_path):\n",
    "\n",
    "    \"\"\"\n",
    "    This function imports wideband frequency response .csv files exported from\n",
    "    Echoview and performs some basic housekeeping.\n",
    "    \n",
    "    PARAMETERS:\n",
    "        file_path: Path to wideband frequency response .csv file from Echoview.\n",
    "        \n",
    "    RETURNS:\n",
    "        df: Pandas dataframe.\n",
    "    \"\"\"\n",
    "    \n",
    "    def get_datetime(df, avg_flag):\n",
    "        \"\"\"\n",
    "        Convert Echoview timestamps in imported .csv to datetime.\n",
    "        \"\"\"\n",
    "        if avg_flag:\n",
    "            df['Ping_microseconds_start'] = df.Ping_millisecond_start * 1000\n",
    "            df['Ping_microseconds_start'] = [timedelta(microseconds = i) for i in df['Ping_microseconds_start']]\n",
    "            df['Datetime'] = df['Ping_date_start_Ping_time_start'] + df['Ping_microseconds_start']\n",
    "            df.drop(columns=['Ping_date_start_Ping_time_start',\n",
    "                             'Ping_millisecond_start',\n",
    "                             'Ping_microseconds_start'], \n",
    "                    inplace=True)\n",
    "        \n",
    "        else:\n",
    "            df['Ping_microseconds'] = df.Ping_milliseconds * 1000\n",
    "            df['Ping_microseconds'] = [timedelta(microseconds = i) for i in df['Ping_microseconds']]\n",
    "            df['Datetime'] = df['Ping_date_Ping_time'] + df['Ping_microseconds']\n",
    "            df.drop(columns=['Ping_date_Ping_time',\n",
    "                             'Ping_milliseconds',\n",
    "                             'Ping_microseconds'],\n",
    "                    inplace=True)\n",
    "        \n",
    "        return df\n",
    "    \n",
    "    if \"trackavg.csv\" in file_path:\n",
    "        parse_cols = ['Ping_date_start', 'Ping_time_start']\n",
    "        ind_col = None\n",
    "        avg_flag = True\n",
    "        transpose = True\n",
    "    if \"target\" in file_path:\n",
    "        parse_cols = ['Ping_date', 'Ping_time']\n",
    "        ind_col = None\n",
    "        avg_flag = False\n",
    "        transpose = False\n",
    "    else:\n",
    "        parse_cols = ['Ping_date', 'Ping_time']\n",
    "        ind_col = 'Target_index'\n",
    "        avg_flag = False\n",
    "        transpose = True\n",
    "        \n",
    "    if transpose:\n",
    "        transposed_path = file_path[:-4] + '_transposed.csv'\n",
    "        if os.path.isfile(transposed_path) == True:\n",
    "            df = pd.read_csv(transposed_path,\n",
    "                             index_col=ind_col,\n",
    "                             skiprows=1,\n",
    "                             skipfooter=2,\n",
    "                             engine='python',\n",
    "                             parse_dates=[parse_cols])\n",
    "        else:\n",
    "            df = pd.read_csv(file_path, low_memory=False).T\n",
    "            file_path = transposed_path\n",
    "            df.to_csv(path_or_buf=file_path)\n",
    "            print('A transposed TS(f) file was created at: \\n' + str(file_path))    \n",
    "            df = pd.read_csv(file_path,\n",
    "                             index_col=ind_col,\n",
    "                             skiprows=1,\n",
    "                             skipfooter=2,\n",
    "                             engine='python',\n",
    "                             parse_dates=[parse_cols])\n",
    "    else:\n",
    "        df = pd.read_csv(file_path,\n",
    "                 index_col=ind_col,\n",
    "                 skiprows=0,\n",
    "                 skipfooter=2,\n",
    "                 engine='python',\n",
    "                 parse_dates=[parse_cols])\n",
    "    \n",
    "    df = get_datetime(df, avg_flag)\n",
    "    \n",
    "    return df"
   ]
  },
  {
   "cell_type": "markdown",
   "id": "c48ac763",
   "metadata": {},
   "source": [
    "## Combine target and track data\n",
    "For the tilt calculations, we need information on the track, the major and minor axis angles and range. These informations are found in different Echoview exports. \n",
    "\n",
    "Here I combine the:\n",
    "- from the SED echogram -> Single targetss to CSV..,\n",
    "- Analysis by region, Wideband frequency response...\n"
   ]
  },
  {
   "cell_type": "code",
   "execution_count": 5,
   "id": "68750951",
   "metadata": {},
   "outputs": [],
   "source": [
    "def join_targettracks(path):\n",
    "    \"\"\"\n",
    "    This function imports wideband frequency response of tracks and single target export .csv files exported from\n",
    "    Echoview and combines them to match data on target spectra, track and in-beam target position.\n",
    "    \n",
    "    PARAMETERS:\n",
    "        path: Path to wideband frequency response + single target .csv file from Echoview.\n",
    "        \n",
    "    RETURNS:\n",
    "        targettracks_df: Pandas dataframe.\n",
    "    \"\"\"\n",
    "    \n",
    "    # Determine paths\n",
    "    tracks_path = path+\"SED_tsf_tracks.csv\"\n",
    "    target_path = path+'all_SED.target.csv'\n",
    "    \n",
    "    # Read tracks import (from Export by Regions -> Wideband frequecy response (both frequencies))\n",
    "    tracks_df = tsf_targets_import(tracks_path)\n",
    "    \n",
    "    # replace -99999 with nan\n",
    "    ts_s = np.where(tracks_df.columns.values=='90.000')[0][0]\n",
    "    ts_e = np.where(tracks_df.columns.values=='255.565')[0][0]\n",
    "    tracks_ts = tracks_df.iloc[:,ts_s:ts_e+1]\n",
    "    tracks_ts[tracks_ts<-99999]=np.nan\n",
    "    tracks_df.iloc[:,ts_s:ts_e+1] = tracks_ts\n",
    "    \n",
    "    # Change column names to match \n",
    "    tracks_df = tracks_df.rename(columns={'Ping_index':'Ping_number','Range':'Target_range'})\n",
    "    \n",
    "    # Read target info (from Single target to csv. includes ALL SED)\n",
    "    target_df = tsf_targets_import(target_path)\n",
    "\n",
    "    # Select columns to keep\n",
    "    target_df = target_df[['Ping_number', 'Target_range', 'Angle_minor_axis', 'Angle_major_axis', 'TS_comp']]\n",
    "    # Match multi index\n",
    "    tracks = tracks_df.set_index(['Ping_number','Target_range'])\n",
    "    target = target_df.set_index(['Ping_number','Target_range'])\n",
    "    # Join dataframes for target position and ts(f) for SED in tracks|\n",
    "    new_df = tracks.join(target)\n",
    "    targettracks_df = new_df.reset_index()\n",
    "    \n",
    "    targettracks_df = targettracks_df.sort_values(['Region_name','Ping_number'])\n",
    "    \n",
    "    return targettracks_df"
   ]
  },
  {
   "cell_type": "code",
   "execution_count": 6,
   "id": "ef7d7043",
   "metadata": {},
   "outputs": [],
   "source": [
    "a_df = join_targettracks(apath)\n",
    "p_df = join_targettracks(ppath)\n",
    "p2_df = join_targettracks(p2path)\n",
    "pb_df = join_targettracks(pbpath)\n",
    "\n"
   ]
  },
  {
   "cell_type": "markdown",
   "id": "b46cd8c3",
   "metadata": {},
   "source": [
    "## Calculate parameters for tilt calculations\n",
    "Following equations and assumptions from Dunning et al. (2023):\n",
    "- $x = ztan(\\theta)$\n",
    "- $y = ztan(\\phi)$\n",
    "- $z = \\sqrt{(r^2 - (x^2 + y^2))}$ -> - $z = \\sqrt{r^2 \\over tan^2(\\theta)+tan^2(\\phi)+1}$,\n",
    "\n",
    "\n",
    "where $\\theta$ is alongship (minor axis) angle and $\\phi$ is athwartship (major axis) angle. and r is the range\n"
   ]
  },
  {
   "cell_type": "markdown",
   "id": "38b0022c",
   "metadata": {},
   "source": [
    "The tilt angle is calculated by the elevation ($\\alpha$) between two points. We calculate it through the projection on the XY plane and the distance elevations.\n",
    " $\\tan{z_2-z_1 \\over \\sqrt{(x_2-x_1)^2+(y_2-y_1)^2}}$"
   ]
  },
  {
   "cell_type": "code",
   "execution_count": 7,
   "id": "5b28e1e7",
   "metadata": {},
   "outputs": [],
   "source": [
    "def calculate_tilt(df):\n",
    "    \n",
    "    # Calculate xyz coordinates from range and position in beam\n",
    "    rad_minor = np.deg2rad(df['Angle_minor_axis'])\n",
    "    rad_major = np.deg2rad(df['Angle_major_axis'])\n",
    "    df['z'] = -np.sqrt(df['Target_range']**2/((np.tan(rad_minor)**2)+(np.tan(rad_major)**2)+1))\n",
    "    df['x'] = df['z']*np.tan(rad_minor)\n",
    "    df['y'] = df['z']*np.tan(rad_major)\n",
    "    \n",
    "    alpha = np.zeros(len(df))*np.nan\n",
    "    tilt = np.zeros(len(df))*np.nan\n",
    "    \n",
    "    # Select a track\n",
    "    n_tracks = df['Region_name'].unique()\n",
    "    for i_track in range(len(n_tracks)):\n",
    "        track_inds = np.where(df['Region_name']==n_tracks[i_track])[0]\n",
    "        \n",
    "        # No smoothing by cubic spline, we found this added more variability in the values and increased the spread of the data.\n",
    "        for i in track_inds[:-1]:\n",
    "            # Calculate distance from i\n",
    "            del_x = df['x'].iloc[i+1] - df['x'].iloc[i]\n",
    "            del_y = df['y'].iloc[i+1] - df['y'].iloc[i]\n",
    "            del_z = df['z'].iloc[i+1] - df['z'].iloc[i]\n",
    "\n",
    "            # Projection of distance on XY plane\n",
    "            del_xy = np.sqrt(del_x**2+del_y**2)\n",
    "            \n",
    "            # Angle of XY distance and elevation\n",
    "            alpha[i] = np.rad2deg(np.arctan2(del_z,del_xy))\n",
    "        \n",
    "        # tilt at i is average of alpha between [i-1,i] and [i,i+1]\n",
    "        for i in track_inds[1:-1]:\n",
    "            tilt[i] = np.mean([alpha[i-1:i+1]])\n",
    "\n",
    "    # Record distance from on axis\n",
    "    df['off_axis_dist'] = np.sqrt(df['x']**2+df['y']**2) \n",
    "    df['off_axis_angle'] = 180-np.rad2deg(np.arctan2(df['off_axis_dist'],df['z']))\n",
    "\n",
    "    # First and last detections in a track should be NaN\n",
    "    df['tilt'] = tilt\n",
    "    df['alpha'] = alpha\n",
    "    \n",
    "    \n",
    "    return df"
   ]
  },
  {
   "cell_type": "code",
   "execution_count": 8,
   "id": "c05ee360",
   "metadata": {
    "scrolled": true
   },
   "outputs": [],
   "source": [
    "a_tilt_df = calculate_tilt(a_df)\n",
    "p_tilt_df = calculate_tilt(p_df)\n",
    "p2_tilt_df = calculate_tilt(p2_df)\n",
    "pb_tilt_df = calculate_tilt(pb_df)"
   ]
  },
  {
   "cell_type": "code",
   "execution_count": 9,
   "id": "7c36d7ee",
   "metadata": {},
   "outputs": [],
   "source": [
    "# remove bandwidth 162 to 170 kHz\n",
    "bad_s = np.where(a_tilt_df.columns.values=='160.565')[0][0]\n",
    "bad_e = np.where(a_tilt_df.columns.values=='170.645')[0][0]\n",
    "\n",
    "a_tilt_df.iloc[:,bad_s:bad_e+1]=np.nan\n",
    "p_tilt_df.iloc[:,bad_s:bad_e+1]=np.nan\n",
    "p2_tilt_df.iloc[:,bad_s:bad_e+1]=np.nan\n",
    "pb_tilt_df.iloc[:,bad_s:bad_e+1]=np.nan\n",
    "\n",
    "# remove 90-94 kHz\n",
    "bad_s = np.where(a_tilt_df.columns.values=='90.000')[0][0]\n",
    "bad_e = np.where(a_tilt_df.columns.values=='94.032')[0][0]\n",
    "\n",
    "a_tilt_df.iloc[:,bad_s:bad_e]=np.nan\n",
    "p_tilt_df.iloc[:,bad_s:bad_e]=np.nan\n",
    "p2_tilt_df.iloc[:,bad_s:bad_e]=np.nan\n",
    "pb_tilt_df.iloc[:,bad_s:bad_e]=np.nan\n",
    "\n",
    "# remove bandwidth 185-189 kHz\n",
    "bad_s = np.where(a_tilt_df.columns.values=='185.000')[0][0]\n",
    "bad_e = np.where(a_tilt_df.columns.values=='189.032')[0][0]\n",
    "\n",
    "a_tilt_df.iloc[:,bad_s:bad_e]=np.nan\n",
    "p_tilt_df.iloc[:,bad_s:bad_e]=np.nan\n",
    "p2_tilt_df.iloc[:,bad_s:bad_e]=np.nan\n",
    "pb_tilt_df.iloc[:,bad_s:bad_e]=np.nan\n",
    "\n",
    "# remove 251-255 kHz\n",
    "bad_s = np.where(a_tilt_df.columns.values=='251.532')[0][0]\n",
    "bad_e = np.where(a_tilt_df.columns.values=='255.565')[0][0]\n",
    "\n",
    "a_tilt_df.iloc[:,bad_s:bad_e+1]=np.nan\n",
    "p_tilt_df.iloc[:,bad_s:bad_e+1]=np.nan\n",
    "p2_tilt_df.iloc[:,bad_s:bad_e+1]=np.nan\n",
    "pb_tilt_df.iloc[:,bad_s:bad_e+1]=np.nan\n"
   ]
  },
  {
   "cell_type": "code",
   "execution_count": 10,
   "id": "127d128d",
   "metadata": {},
   "outputs": [],
   "source": [
    "a_tilt_df = a_tilt_df.reset_index()\n",
    "p_tilt_df = p_tilt_df.reset_index()\n",
    "p2_tilt_df = p2_tilt_df.reset_index()\n",
    "pb_tilt_df = pb_tilt_df.reset_index()"
   ]
  },
  {
   "cell_type": "code",
   "execution_count": 11,
   "id": "d26b1147",
   "metadata": {
    "scrolled": true
   },
   "outputs": [],
   "source": [
    "a_tilt_df.to_feather(f'{apath}/a_tilt_df.feather')\n",
    "p_tilt_df.to_feather(f'{ppath}/p_tilt_df.feather')\n",
    "p2_tilt_df.to_feather(f'{p2path}/p2_tilt_df.feather')\n",
    "pb_tilt_df.to_feather(f'{pbpath}/pb_tilt_df.feather')\n"
   ]
  },
  {
   "cell_type": "markdown",
   "id": "f9b76526",
   "metadata": {},
   "source": [
    "### Plot mean of all targets in tracks"
   ]
  },
  {
   "cell_type": "code",
   "execution_count": 12,
   "id": "8dfc807d",
   "metadata": {
    "scrolled": false
   },
   "outputs": [
    {
     "data": {
      "image/png": "[encoded data removed]",
      "text/plain": [
       "<Figure size 1000x600 with 1 Axes>"
      ]
     },
     "metadata": {},
     "output_type": "display_data"
    }
   ],
   "source": [
    "df_list = [a_tilt_df,p_tilt_df,p2_tilt_df,pb_tilt_df]\n",
    "name_list = ['Atlantic cod ($\\overline{L}$=52 cm;', 'Polar cod ($\\overline{L}$=18 cm;', 'Polar cod ($\\overline{L}$=17 cm;', 'Northern shrimp ($\\overline{L}$=8 cm;']\n",
    "fig,ax = plt.subplots(1,1, figsize=(10,6))\n",
    "\n",
    "for i_df in range(len(df_list)):\n",
    "    # calculate median tilt for intervals of 10 degrees tilt\n",
    "    df = df_list[i_df]\n",
    "    \n",
    "    ts_s = np.where(df.columns.values=='90.000')[0][0]\n",
    "    ts_e = np.where(df.columns.values=='255.565')[0][0]\n",
    "\n",
    "    df_ts = df.iloc[:,ts_s:ts_e+1]\n",
    "    # remove spectra with poor calibration results removed 161-170 kHz\n",
    "    \n",
    "    freqs = df_ts.columns.unique().values.astype(np.float64)\n",
    "    # Plot median and CI\n",
    "    ax.plot(freqs,df_ts.mean(), label='%s n=%.0f)'%(name_list[i_df],(len(df_ts)/2)))\n",
    "    ax.fill_between(freqs,df_ts.quantile(q=0.25),df_ts.quantile(q=0.75),alpha=0.2)\n",
    "\n",
    "    \n",
    "    ax.set_ylabel('Target Strength (dB re 1m$^2$)', fontsize=18)\n",
    "    ax.set_title('AFKABAN target spectra', fontsize=20)\n",
    "    ax.set_xlabel('Frequency (kHz)', fontsize=18)\n",
    "    ax.legend(loc='center left', bbox_to_anchor=(1, 0.5),fontsize=22)\n",
    "    \n",
    "#fig.savefig('C:/Users/mbd/OneDrive - Akvaplan-niva AS/PhD-APN/PhDdocs/ConferencesMeetings/WGFAST2023/target_spectra.jpeg', format='jpeg', dpi = 300, facecolor='w', bbox_inches='tight', transparent=True)"
   ]
  },
  {
   "cell_type": "markdown",
   "id": "f2784a7c",
   "metadata": {},
   "source": [
    "## Linearize and normalize"
   ]
  },
  {
   "cell_type": "code",
   "execution_count": null,
   "id": "3063729b",
   "metadata": {},
   "outputs": [],
   "source": []
  },
  {
   "cell_type": "code",
   "execution_count": 13,
   "id": "f620bcec",
   "metadata": {},
   "outputs": [
    {
     "ename": "NameError",
     "evalue": "name 'lin_norm' is not defined",
     "output_type": "error",
     "traceback": [
      "\u001b[1;31m---------------------------------------------------------------------------\u001b[0m",
      "\u001b[1;31mNameError\u001b[0m                                 Traceback (most recent call last)",
      "\u001b[1;32m~\\AppData\\Local\\Temp\\ipykernel_65940\\1074212836.py\u001b[0m in \u001b[0;36m<module>\u001b[1;34m\u001b[0m\n\u001b[1;32m----> 1\u001b[1;33m \u001b[0ma_sigbs_df\u001b[0m \u001b[1;33m=\u001b[0m \u001b[0mlin_norm\u001b[0m\u001b[1;33m(\u001b[0m\u001b[0ma_tilt_df\u001b[0m\u001b[1;33m)\u001b[0m\u001b[1;33m\u001b[0m\u001b[1;33m\u001b[0m\u001b[0m\n\u001b[0m\u001b[0;32m      2\u001b[0m \u001b[0mp_sigbs_df\u001b[0m \u001b[1;33m=\u001b[0m \u001b[0mlin_norm\u001b[0m\u001b[1;33m(\u001b[0m\u001b[0mp_tilt_df\u001b[0m\u001b[1;33m)\u001b[0m\u001b[1;33m\u001b[0m\u001b[1;33m\u001b[0m\u001b[0m\n\u001b[0;32m      3\u001b[0m \u001b[0mp2_sigbs_df\u001b[0m \u001b[1;33m=\u001b[0m \u001b[0mlin_norm\u001b[0m\u001b[1;33m(\u001b[0m\u001b[0mp2_tilt_df\u001b[0m\u001b[1;33m)\u001b[0m\u001b[1;33m\u001b[0m\u001b[1;33m\u001b[0m\u001b[0m\n\u001b[0;32m      4\u001b[0m \u001b[0mpb_sigbs_df\u001b[0m \u001b[1;33m=\u001b[0m \u001b[0mlin_norm\u001b[0m\u001b[1;33m(\u001b[0m\u001b[0mpb_tilt_df\u001b[0m\u001b[1;33m)\u001b[0m\u001b[1;33m\u001b[0m\u001b[1;33m\u001b[0m\u001b[0m\n",
      "\u001b[1;31mNameError\u001b[0m: name 'lin_norm' is not defined"
     ]
    }
   ],
   "source": [
    "a_sigbs_df = lin_norm(a_tilt_df)\n",
    "p_sigbs_df = lin_norm(p_tilt_df) \n",
    "p2_sigbs_df = lin_norm(p2_tilt_df) \n",
    "pb_sigbs_df = lin_norm(pb_tilt_df) "
   ]
  },
  {
   "cell_type": "code",
   "execution_count": null,
   "id": "e19e21c9",
   "metadata": {},
   "outputs": [],
   "source": [
    "df_list= [a_tilt_df,p_tilt_df,p2_tilt_df,pb_tilt_df]\n",
    "norm_list = [a_sigbs_df,p_sigbs_df,p2_sigbs_df,pb_sigbs_df]\n",
    "name_list = ['Atlantic cod ($\\overline{L}$=52 cm;', 'Polar cod ($\\overline{L}$=18 cm;', 'Polar cod ($\\overline{L}$=17 cm;', 'Northern shrimp ($\\overline{L}$=8 cm;']\n",
    "fig,ax = plt.subplots(1,1, figsize=(10,6))\n",
    "\n",
    "for i_df in range(len(df_list)):\n",
    "    # calculate median tilt for intervals of 10 degrees tilt\n",
    "    df = df_list[i_df]\n",
    "    data = norm_list[i_df]\n",
    "    ts_s = np.where(df.columns.values=='90.000')[0][0]\n",
    "    ts_e = np.where(df.columns.values=='255.565')[0][0]\n",
    "\n",
    "    df_ts = df.iloc[:,ts_s:ts_e+1]\n",
    "    # remove spectra with poor calibration results removed 161-170 kHz\n",
    "    \n",
    "    freqs = df_ts.columns.unique().values.astype(np.float64)\n",
    "    # Plot median and CI\n",
    "    ax.plot(freqs,data.mean(axis=0), label='%s n=%.0f)'%(name_list[i_df],(len(df_ts)/2)))\n",
    "    #ax.fill_between(freqs,np.quantile(data,q=0.25),np.quantile(data,q=0.75),alpha=0.2)\n",
    "\n",
    "    \n",
    "    ax.set_ylabel('Target Strength (dB re 1m$^2$)', fontsize=13)\n",
    "    ax.set_title('AFKABAN target spectra', fontsize=13)\n",
    "    ax.set_xlabel('Frequency (kHz)', fontsize=13)\n",
    "    ax.legend(loc='center left', bbox_to_anchor=(1, 0.5),fontsize=13)"
   ]
  },
  {
   "cell_type": "code",
   "execution_count": null,
   "id": "6f18c2a5",
   "metadata": {},
   "outputs": [],
   "source": [
    "df_list = [a_tilt_df,p_tilt_df,p2_tilt_df,pb_tilt_df]\n",
    "name_list = ['Atlantic cod ($\\overline{L}$=52 cm;', 'Polar cod ($\\overline{L}$=18 cm;', 'Polar cod ($\\overline{L}$=17 cm;', 'Northern shrimp ($\\overline{L}$=8 cm;']\n",
    "fig,ax = plt.subplots(1,1, figsize=(6,4))\n",
    "c_list=[1,2,0,3]\n",
    "for i_df in range(len(df_list)):\n",
    "    # calculate median tilt for intervals of 10 degrees tilt\n",
    "    df = df_list[i_df]\n",
    "    \n",
    "    ts_s = np.where(df.columns.values=='90.000')[0][0]\n",
    "    ts_e = np.where(df.columns.values=='255.565')[0][0]\n",
    "\n",
    "    df_ts = df.iloc[:,ts_s:ts_e+1]\n",
    "    # remove spectra with poor calibration results removed 161-170 kHz\n",
    "    \n",
    "    freqs = df_ts.columns.unique().values.astype(np.float64)\n",
    "    # Plot median and CI\n",
    "    ax.plot(freqs,df_ts.mean(), c=palette[c_list[i_df]], linewidth = 2, label='%s n=%.0f)'%(name_list[i_df],(len(df_ts)/2)))\n",
    "    ax.plot(freqs,df_ts.T, c = palette[c_list[i_df]], alpha=0.03)\n",
    "\n",
    "    \n",
    "    ax.set_ylabel('Target Strength (dB re 1m$^2$)', fontsize=13)\n",
    "    ax.set_title('AFKABAN target spectra', fontsize=13)\n",
    "    ax.set_xlabel('Frequency (kHz)', fontsize=13)\n",
    "    ax.legend(loc='center left', bbox_to_anchor=(1, 0.5),fontsize=13)\n",
    "    \n",
    "fig.savefig('C:/Users/mbd/OneDrive - Akvaplan-niva AS/PhD-APN/ChaptersandExperiments/AFKABAN/TargetSpectra.jpeg', format='jpeg', dpi = 300, facecolor='w', bbox_inches='tight', transparent=True)"
   ]
  },
  {
   "cell_type": "markdown",
   "id": "4ba1a40c",
   "metadata": {},
   "source": [
    "Observations:\n",
    "- It seems that a threshold at -60 dB could be used to discriminate between Northen shrimp and polar or Atlantic cod. \n",
    "- High variability in broadband target spectra, largest for Atlantic cod (~10 dB)\n",
    "- Both Polar cod medians follow same pattern. Atlantic cod is very similar but slight differences"
   ]
  },
  {
   "cell_type": "markdown",
   "id": "b6224665",
   "metadata": {},
   "source": [
    "### Plot distribution of tilt for all SED in tracks"
   ]
  },
  {
   "cell_type": "code",
   "execution_count": null,
   "id": "c1a975d1",
   "metadata": {
    "scrolled": false
   },
   "outputs": [],
   "source": [
    "## set up bins\n",
    "bin_array = np.arange(-80,80,10) \n",
    "fig, ax = plt.subplots(2,2, figsize=(8,6), sharex=True, sharey=True)\n",
    "axes = ax.flatten()\n",
    "\n",
    "df_list = [a_tilt_df,p_tilt_df,p2_tilt_df,pb_tilt_df]\n",
    "name_list = ['Atlantic cod', 'Polar cod', 'Polar cod (small)', 'Northern shrimp']\n",
    "\n",
    "for i_df in range(len(df_list)):\n",
    "    df = df_list[i_df]\n",
    "    axes[i_df].hist(df['tilt'], bins = bin_array, density=True, color='k')\n",
    "    axes[i_df].set_title(name_list[i_df])\n",
    "    axes[i_df].text(-75,0.036,'mean=%.1f' %np.mean(df['tilt']))\n",
    "    axes[i_df].text(-75,0.033,'s.d.=%.1f' %np.std(df['tilt']))\n",
    "    axes[i_df].text(-75,0.030,'n=%.0f' %(len(df['tilt'])/2))\n",
    "axes[0].set_ylabel('Density')\n",
    "axes[2].set_ylabel('Density')\n",
    "axes[2].set_xlabel('Tilt (deg)')\n",
    "axes[3].set_xlabel('Tilt (deg)');"
   ]
  },
  {
   "cell_type": "markdown",
   "id": "8138035d",
   "metadata": {},
   "source": [
    "### Plot median target spectra at different orientations"
   ]
  },
  {
   "cell_type": "code",
   "execution_count": null,
   "id": "143511d0",
   "metadata": {},
   "outputs": [],
   "source": [
    "## Plot by tilt\n",
    "df_list = [a_tilt_df,p_tilt_df,p2_tilt_df,pb_tilt_df]\n",
    "fig,ax = plt.subplots(3,3, figsize=(10,6), sharex=True, sharey=True)\n",
    "axes = ax.flatten()\n",
    "\n",
    "for i_df in range(len(df_list)):\n",
    "    # calculate median tilt for intervals of 10 degrees tilt.\n",
    "    df = df_list[i_df]\n",
    "    df['tilt_20'] = 20* (df['tilt']/20).round()\n",
    "    df_tilt_20 = df.groupby(['tilt_20']).median(numeric_only=True)\n",
    "    \n",
    "    ts_s = np.where(df.columns.values=='90.000')[0][0]\n",
    "    ts_e = np.where(df.columns.values=='255.565')[0][0]\n",
    "    freqs = df_tilt_20.columns.unique()[ts_s:ts_e].values.astype(np.float64)\n",
    "    \n",
    "\n",
    "    for i_tilt in range(len(df_tilt_20.index)):\n",
    "        axes[i_tilt].plot(freqs,df_tilt_20.iloc[i_tilt,ts_s:ts_e].T)\n",
    "        axes[i_tilt].set_title(df_tilt_20.index[i_tilt])"
   ]
  },
  {
   "cell_type": "markdown",
   "id": "ab70b064",
   "metadata": {},
   "source": [
    "Target spectra at high angles seem to have more peaks and nulls but there are also less targets to smooth over, so it is not necessarily more teaxtures spectra"
   ]
  },
  {
   "cell_type": "code",
   "execution_count": null,
   "id": "66175ff3",
   "metadata": {},
   "outputs": [],
   "source": [
    "## Plot by tilt\n",
    "df_list = [a_tilt_df,p_tilt_df,p2_tilt_df,pb_tilt_df]\n",
    "fig, ax = plt.subplots(4,1, figsize=(8,8), sharex=True, sharey=True)\n",
    "axes = ax.flatten()\n",
    "\n",
    "for i_df in range(len(df_list)):\n",
    "    # calculate median tilt for intervals of 10 degrees tilt.\n",
    "    df = df_list[i_df]\n",
    "    df['tilt_10'] = 10* (df['tilt']/10).round()\n",
    "    df_0 = df[df['tilt_10']==10]\n",
    "    ts_s = np.where(df.columns.values=='90.000')[0][0]\n",
    "    ts_e = np.where(df.columns.values=='255.565')[0][0]\n",
    "    df_0_ts = df_0.iloc[:,ts_s:ts_e]\n",
    "    \n",
    "    freqs = df_0_ts.columns.values.astype(np.float64)\n",
    "    \n",
    "    ax[i_df].plot(freqs,df_0_ts.T, alpha=0.09, color='k')\n",
    "    ax[i_df].set_title(name_list[i_df])\n",
    "    ax[i_df].set_ylim([-100,-10])"
   ]
  },
  {
   "cell_type": "markdown",
   "id": "3a6042cf",
   "metadata": {},
   "source": [
    "## Save track df"
   ]
  },
  {
   "cell_type": "code",
   "execution_count": null,
   "id": "524f71dd",
   "metadata": {},
   "outputs": [],
   "source": [
    "import warnings\n",
    "warnings.filterwarnings('ignore')\n",
    "\n",
    "df = p_tilt_df"
   ]
  },
  {
   "cell_type": "code",
   "execution_count": null,
   "id": "0648c928",
   "metadata": {},
   "outputs": [],
   "source": [
    "p_tilt_df.groupby('Region_name').mean()"
   ]
  },
  {
   "cell_type": "code",
   "execution_count": null,
   "id": "35335e1e",
   "metadata": {},
   "outputs": [],
   "source": [
    "region_list = df['Region_name'].unique()\n",
    "\n",
    "#------ \n",
    "for ind in range(len(region_list)):\n",
    "    ind_region = region_list[ind]\n",
    "    select_track = df[df['Region_name']==ind_region]\n",
    "    select_track[['Ping_number','z','alpha', 'tilt']]\n",
    "\n",
    "    ts_s = np.where(select_track.columns.values=='90.000')[0][0]\n",
    "    ts_e = np.where(select_track.columns.values=='255.565')[0][0]\n",
    "    \n",
    "    freqs = select_track.columns.unique()[ts_s:ts_e].values.astype(np.float64)\n",
    "    plt.plot(freqs,select_track.iloc[:,ts_s:ts_e].T, 'k', alpha=0.09);\n",
    "    plt.plot(freqs,np.nanmedian(select_track.iloc[:,ts_s:ts_e].T,axis=1), 'k')\n",
    "    plt.ylim([-80,-20])"
   ]
  },
  {
   "cell_type": "code",
   "execution_count": null,
   "id": "96ded11b",
   "metadata": {},
   "outputs": [],
   "source": [
    "np.median(select_track.iloc[:,ts_s:ts_e],axis=0)"
   ]
  },
  {
   "cell_type": "markdown",
   "id": "1c95442f",
   "metadata": {},
   "source": [
    "### Check tilt calculations"
   ]
  },
  {
   "cell_type": "code",
   "execution_count": null,
   "id": "79ed97ff",
   "metadata": {
    "scrolled": true
   },
   "outputs": [],
   "source": [
    "region_list = df['Region_name'].unique()\n",
    "\n",
    "#------ \n",
    "for ind in range(len(region_list)):\n",
    "    ind_region = region_list[ind]\n",
    "    select_track = df[df['Region_name']==ind_region]\n",
    "    select_track[['Ping_number','z','alpha', 'tilt']]\n",
    "    plt.figure(figsize=(12,4))\n",
    "    ts_s = np.where(select_track.columns.values=='90.000')[0][0]\n",
    "    ts_e = np.where(select_track.columns.values=='255.565')[0][0]\n",
    "    \n",
    "    freqs = select_track.columns.unique()[ts_s:ts_e].values.astype(np.float64)\n",
    "    plt.plot(freqs,select_track.iloc[:,ts_s:ts_e].T, 'k', alpha=0.09);\n",
    "    plt.plot(freqs,np.nanmedian(select_track.iloc[:,ts_s:ts_e].T,axis=1), 'k')\n",
    "    plt.ylim([-80,-20])"
   ]
  },
  {
   "cell_type": "code",
   "execution_count": null,
   "id": "e16395be",
   "metadata": {},
   "outputs": [],
   "source": [
    "plt.subplot(1,3,1)\n",
    "plt.plot(select_track['Ping_number'], select_track['z'], '.-')\n",
    "plt.subplot(1,3,2)\n",
    "plt.plot(select_track['Ping_number'], select_track['alpha'], '.-')\n",
    "plt.subplot(1,3,3)\n",
    "plt.plot(select_track['Ping_number'], select_track['tilt'], '.-')"
   ]
  },
  {
   "cell_type": "code",
   "execution_count": null,
   "id": "bb721dc3",
   "metadata": {},
   "outputs": [],
   "source": [
    "ax = plt.axes(projection='3d')\n",
    "\n",
    "ax.scatter3D(select_track['x'], select_track['y'], -select_track['z'], c=select_track['Ping_number']-select_track['Ping_number'].iloc[0]);"
   ]
  },
  {
   "cell_type": "code",
   "execution_count": null,
   "id": "eb63b544",
   "metadata": {},
   "outputs": [],
   "source": [
    "np.mean(select_track['tilt'])"
   ]
  },
  {
   "cell_type": "code",
   "execution_count": null,
   "id": "8ca4edb9",
   "metadata": {},
   "outputs": [],
   "source": [
    "np.mean(a_df['z']+a_df['Target_range'])"
   ]
  },
  {
   "cell_type": "code",
   "execution_count": null,
   "id": "8a73053a",
   "metadata": {},
   "outputs": [],
   "source": []
  }
 ],
 "metadata": {
  "kernelspec": {
   "display_name": "Python 3 (ipykernel)",
   "language": "python",
   "name": "python3"
  },
  "language_info": {
   "codemirror_mode": {
    "name": "ipython",
    "version": 3
   },
   "file_extension": ".py",
   "mimetype": "text/x-python",
   "name": "python",
   "nbconvert_exporter": "python",
   "pygments_lexer": "ipython3",
   "version": "3.9.15"
  }
 },
 "nbformat": 4,
 "nbformat_minor": 5
}
