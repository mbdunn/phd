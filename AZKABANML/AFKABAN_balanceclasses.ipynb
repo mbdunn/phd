{
 "cells": [
  {
   "cell_type": "markdown",
   "id": "ecaa482c",
   "metadata": {},
   "source": [
    "In this notebook we solve the problem of the imbalance of classes in the AFKABAN datasets"
   ]
  },
  {
   "cell_type": "code",
   "execution_count": 2,
   "id": "d5005d97",
   "metadata": {},
   "outputs": [],
   "source": [
    "import time\n",
    "import os.path\n",
    "import numpy as np\n",
    "import pandas as pd\n",
    "import pickle\n",
    "import random\n",
    "from sklearn.preprocessing import LabelEncoder\n",
    "from sklearn.model_selection import StratifiedKFold\n",
    "from sklearn.metrics import f1_score, confusion_matrix\n",
    "import hyperopt\n",
    "from hyperopt import tpe\n",
    "from hpsklearn import HyperoptEstimator\n",
    "from sklearn.neighbors import KNeighborsClassifier\n",
    "from datetime import timedelta\n",
    "from tenacity import retry, stop_after_attempt\n",
    "\n",
    "import sys, errno  \n",
    "import AZKABANML"
   ]
  },
  {
   "cell_type": "code",
   "execution_count": 3,
   "id": "b1c060d0",
   "metadata": {},
   "outputs": [],
   "source": [
    "# Set paths\n",
    "path = 'F:/AFKABAN/'\n",
    "classifypath = 'F:/AFKABAN/Classify/'\n",
    "\n",
    "df_120 = pd.read_feather(f'{path}/df_120.feather')\n",
    "df_200 = pd.read_feather(f'{path}/df_200.feather')\n",
    "\n",
    "df_120_w_h = pd.read_feather(f'{path}/df_120_w_h.feather')\n",
    "df_200_w_h = pd.read_feather(f'{path}/df_200_w_h.feather')"
   ]
  },
  {
   "cell_type": "code",
   "execution_count": 8,
   "id": "8624d1ef",
   "metadata": {},
   "outputs": [
    {
     "data": {
      "text/plain": [
       "3"
      ]
     },
     "execution_count": 8,
     "metadata": {},
     "output_type": "execute_result"
    }
   ],
   "source": [
    "len(df_120.groupby('Species').count().iloc[:,0])"
   ]
  },
  {
   "cell_type": "markdown",
   "id": "0a6dfa99",
   "metadata": {},
   "source": [
    "Class imbalance is when the classes are not represented equally. Here, we have ~ 600 polar cod, ~300 atlantic cod and ~ 100 Pandalus. Maybe even more imbalance when looking per frequency bandwidth"
   ]
  },
  {
   "cell_type": "markdown",
   "id": "c8389e3e",
   "metadata": {},
   "source": [
    "https://machinelearningmastery.com/tactics-to-combat-imbalanced-classes-in-your-machine-learning-dataset/"
   ]
  },
  {
   "cell_type": "markdown",
   "id": "acc36831",
   "metadata": {},
   "source": [
    "Methods to resolve te problem of imbalanced data:\n",
    "    \n",
    "    - over sampling (duplicate classes with fewer samples)\n",
    "    - under sampling (delete from classes with many samples)\n",
    "    - Use better metrics (F1 score solved this and accounts for false +)\n",
    "    - SMOTE?"
   ]
  },
  {
   "cell_type": "markdown",
   "id": "218b50ec",
   "metadata": {},
   "source": [
    "# Over sampling\n",
    "Easiest. Not so many samples so prefer over sampling to under sampling. Try multiplying shrimps and atlantic cod to match polar cod #"
   ]
  },
  {
   "cell_type": "code",
   "execution_count": 9,
   "id": "392a9126",
   "metadata": {},
   "outputs": [],
   "source": [
    "def balance_classes(df):\n",
    "    'Balance classes representative by over sampling pandalus and atlantic cod'\n",
    "    \n",
    "    count = df.groupby('Species').count().iloc[:,0]\n",
    "    df_balanced = df[df['Species']=='Polar cod'] #dominant species\n",
    "    \n",
    "    \n",
    "    if len(count) == 3:\n",
    "        \n",
    "        name_list = ['Atlantic cod','Northern shrimp']\n",
    "    else:\n",
    "        name_list = ['Atlantic cod','Northern shrimp', 'Herring']\n",
    "        \n",
    "    for spec in name_list:\n",
    "        new_ind = random.choices(np.where(df['Species']==spec)[0][:], k=count['Polar cod'])\n",
    "\n",
    "        df_balanced = pd.concat([df_balanced, df.iloc[new_ind,:]])\n",
    "        df_balanced = df_balanced.reset_index(drop=True)\n",
    "    \n",
    "    return df_balanced"
   ]
  },
  {
   "cell_type": "code",
   "execution_count": 10,
   "id": "afe8e3e8",
   "metadata": {},
   "outputs": [],
   "source": [
    "df_120_balanced = balance_classes(df_120)\n",
    "df_200_balanced = balance_classes(df_200)"
   ]
  },
  {
   "cell_type": "code",
   "execution_count": 11,
   "id": "c0f1e3f1",
   "metadata": {},
   "outputs": [],
   "source": [
    "df_120_w_h_balanced = balance_classes(df_120_w_h)\n",
    "df_200_w_h_balanced = balance_classes(df_200_w_h)"
   ]
  },
  {
   "cell_type": "code",
   "execution_count": 186,
   "id": "20261e66",
   "metadata": {},
   "outputs": [],
   "source": [
    "df_120_balanced.to_feather(f'{path}/df_120_balanced.feather')\n",
    "df_200_balanced.to_feather(f'{path}/df_200_balanced.feather')"
   ]
  },
  {
   "cell_type": "code",
   "execution_count": 13,
   "id": "57cd41b6",
   "metadata": {},
   "outputs": [],
   "source": [
    "df_120_w_h_balanced.to_feather(f'{path}/df_120_w_h_balanced.feather')\n",
    "df_200_w_h_balanced.to_feather(f'{path}/df_200_w_h_balanced.feather')"
   ]
  },
  {
   "cell_type": "markdown",
   "id": "e8fd8f91",
   "metadata": {},
   "source": [
    "Now the hyperoptimizer splits into 90% training and 10% testing with equal (+/- 1) distribution across the classes."
   ]
  },
  {
   "cell_type": "markdown",
   "id": "f75baae0",
   "metadata": {},
   "source": [
    "### linear balanced"
   ]
  },
  {
   "cell_type": "code",
   "execution_count": 188,
   "id": "4b540172",
   "metadata": {},
   "outputs": [],
   "source": [
    "df_120_sigbs_balanced = 10**(df_120_balanced.iloc[:,:-1]/10)\n",
    "df_200_sigbs_balanced = 10**(df_200_balanced.iloc[:,:-1]/10)"
   ]
  },
  {
   "cell_type": "code",
   "execution_count": 189,
   "id": "b225c576",
   "metadata": {},
   "outputs": [],
   "source": [
    "df_120_sigbs_balanced['Species'] = df_120_balanced['Species']\n",
    "df_200_sigbs_balanced['Species'] = df_200_balanced['Species']"
   ]
  },
  {
   "cell_type": "code",
   "execution_count": 190,
   "id": "2fa5da59",
   "metadata": {},
   "outputs": [],
   "source": [
    "df_120_sigbs_balanced.to_feather(f'{path}/df_120_sigbs_balanced.feather')\n",
    "df_200_sigbs_balanced.to_feather(f'{path}/df_200_sigbs_balanced.feather')"
   ]
  },
  {
   "cell_type": "code",
   "execution_count": 198,
   "id": "527b473d",
   "metadata": {},
   "outputs": [
    {
     "data": {
      "text/plain": [
       "69.5"
      ]
     },
     "execution_count": 198,
     "metadata": {},
     "output_type": "execute_result"
    }
   ],
   "source": [
    "len(df_120_balanced)/30"
   ]
  },
  {
   "cell_type": "code",
   "execution_count": 199,
   "id": "9aadd236",
   "metadata": {},
   "outputs": [
    {
     "data": {
      "text/plain": [
       "69.9"
      ]
     },
     "execution_count": 199,
     "metadata": {},
     "output_type": "execute_result"
    }
   ],
   "source": [
    "len(df_200_balanced)/30"
   ]
  },
  {
   "cell_type": "code",
   "execution_count": null,
   "id": "e9f96341",
   "metadata": {},
   "outputs": [],
   "source": []
  }
 ],
 "metadata": {
  "kernelspec": {
   "display_name": "Python 3 (ipykernel)",
   "language": "python",
   "name": "python3"
  },
  "language_info": {
   "codemirror_mode": {
    "name": "ipython",
    "version": 3
   },
   "file_extension": ".py",
   "mimetype": "text/x-python",
   "name": "python",
   "nbconvert_exporter": "python",
   "pygments_lexer": "ipython3",
   "version": "3.9.15"
  }
 },
 "nbformat": 4,
 "nbformat_minor": 5
}
