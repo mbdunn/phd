{
 "cells": [
  {
   "cell_type": "markdown",
   "id": "0db1e3d5",
   "metadata": {},
   "source": [
    "Script from Chelsey to read classifier results"
   ]
  },
  {
   "cell_type": "code",
   "execution_count": 1,
   "id": "efeab349",
   "metadata": {},
   "outputs": [],
   "source": [
    "import numpy as np\n",
    "import pandas as pd\n",
    "import matplotlib.pyplot as plt\n",
    "from sklearn.metrics import ConfusionMatrixDisplay\n",
    "import seaborn as sns\n",
    "import pickle\n",
    "import glob\n",
    "\n",
    "import AZKABANML"
   ]
  },
  {
   "cell_type": "markdown",
   "id": "8d1e384e",
   "metadata": {},
   "source": [
    "### Plotting settings"
   ]
  },
  {
   "cell_type": "code",
   "execution_count": 2,
   "id": "5d287c9e",
   "metadata": {},
   "outputs": [],
   "source": [
    "\n",
    "palette = sns.color_palette()\n",
    "plt.style.use(['seaborn-colorblind'])\n",
    "plt.rc('font', family='Arial')\n",
    "SMALL_SIZE = 11\n",
    "BIGGER_SIZE = 13\n",
    "plt.rc('font', size=SMALL_SIZE)          # controls default text sizes\n",
    "plt.rc('axes', titlesize=SMALL_SIZE)     # fontsize of the axes title\n",
    "plt.rc('axes', labelsize=BIGGER_SIZE)    # fontsize of the x and y labels\n",
    "plt.rc('xtick', labelsize=SMALL_SIZE)    # fontsize of the tick labels\n",
    "plt.rc('ytick', labelsize=SMALL_SIZE)    # fontsize of the tick labels\n",
    "plt.rc('legend', fontsize=SMALL_SIZE)    # legend fontsize\n",
    "plt.rcParams['xtick.bottom'] = True\n",
    "plt.rcParams['ytick.left'] = True\n",
    "plt.rcParams['xtick.direction'] = 'inout'\n",
    "plt.rcParams['ytick.direction'] = 'inout'\n",
    "plt.rcParams['xtick.major.size'] = 5\n",
    "plt.rcParams['xtick.minor.size'] = 3\n",
    "plt.rcParams['xtick.major.width'] = 1\n",
    "plt.rcParams['ytick.major.size'] = 5\n",
    "plt.rcParams['ytick.minor.size'] = 3\n",
    "plt.rcParams['ytick.major.width'] = 1\n",
    "\n",
    "savefigs_path = 'C:/Users/mbd/OneDrive - Akvaplan-niva AS/PhD-APN/ChaptersandExperiments/AZKABAN-light/ZoopMix_paper/Figs/'\n",
    "\n",
    "one_col = 85 *0.0393701\n",
    "two_col = 170*0.0393701"
   ]
  },
  {
   "cell_type": "markdown",
   "id": "07b13862",
   "metadata": {},
   "source": [
    "### Read results for any classifier"
   ]
  },
  {
   "cell_type": "code",
   "execution_count": 3,
   "id": "8a90150f",
   "metadata": {},
   "outputs": [],
   "source": [
    "path = r'F:/AFKABAN/Classify'"
   ]
  },
  {
   "cell_type": "code",
   "execution_count": 4,
   "id": "b59671c9",
   "metadata": {},
   "outputs": [],
   "source": [
    "def read_results(classifier,classifypath):\n",
    "    ' read the classifier results and predictions from the selected classifier'\n",
    "    \n",
    "    main_path = f'{path}/{classifier}'\n",
    "    cv_path = '_NestedCV.pkl'\n",
    "    best_params = '_BestParams.pkl'\n",
    "\n",
    "    # Load dataframes\n",
    "    cv_df = pd.read_pickle(main_path + cv_path) # Nested CV results\n",
    "    best_params = pd.read_pickle(main_path + best_params)\n",
    "\n",
    "    return {'name':classifier, 'cv_df':cv_df, 'best_params':best_params}"
   ]
  },
  {
   "cell_type": "markdown",
   "id": "8b0596d2",
   "metadata": {},
   "source": [
    "# Read results"
   ]
  },
  {
   "cell_type": "markdown",
   "id": "c8cf4955",
   "metadata": {},
   "source": [
    "#### kNN"
   ]
  },
  {
   "cell_type": "code",
   "execution_count": 5,
   "id": "de2788f4",
   "metadata": {},
   "outputs": [],
   "source": [
    "kNN_120 = AZKABANML.read_results('kNN_08-05-2023_120_balanced',path)\n",
    "kNN_200 = AZKABANML.read_results('kNN_08-05-2023_200_balanced',path)\n",
    "\n",
    "kNN_120_minmax= AZKABANML.read_results('kNN_10-05-2023_120_minmax',path)\n",
    "kNN_200_minmax = AZKABANML.read_results('kNN_10-05-2023_200_minmax',path)\n",
    "\n",
    "kNN_120_sigbs= AZKABANML.read_results('kNN_08-05-2023_120_sigbs',path)\n",
    "kNN_200_sigbs = AZKABANML.read_results('kNN_08-05-2023_200_sigbs',path)\n",
    "\n",
    "kNN_120_norm= AZKABANML.read_results('kNN_06-06-2023_120_norm',path)\n",
    "kNN_200_norm = AZKABANML.read_results('kNN_06-06-2023_200_norm',path)\n",
    "\n"
   ]
  },
  {
   "cell_type": "markdown",
   "id": "552fa4dc",
   "metadata": {},
   "source": [
    "#### LightGBM"
   ]
  },
  {
   "cell_type": "code",
   "execution_count": 53,
   "id": "d4a0a3aa",
   "metadata": {},
   "outputs": [],
   "source": [
    "lightGBM_120 = AZKABANML.read_results('lightGBM_08-05-2023_120_balanced',path)\n",
    "lightGBM_200 = AZKABANML.read_results('lightGBM_08-05-2023_200_balanced',path)\n",
    "\n",
    "lightGBM_120_minmax = AZKABANML.read_results('lightGBM_23-05-2023_120_minmax',path)\n",
    "lightGBM_200_minmax = AZKABANML.read_results('lightGBM_23-05-2023_200_minmax',path)\n",
    "\n",
    "\n",
    "lightGBM_120_norm = AZKABANML.read_results('lightGBM_06-06-2023_120_norm',path)\n",
    "lightGBM_200_norm = AZKABANML.read_results('lightGBM_06-06-2023_200_norm',path)"
   ]
  },
  {
   "cell_type": "markdown",
   "id": "8d01c6d1",
   "metadata": {},
   "source": [
    "#### SVC"
   ]
  },
  {
   "cell_type": "code",
   "execution_count": 65,
   "id": "fc0bc95d",
   "metadata": {},
   "outputs": [],
   "source": [
    "SVC_120 = AZKABANML.read_results('SVC_08-05-2023_120_balanced',path)\n",
    "SVC_200 = AZKABANML.read_results('SVC_08-05-2023_200_balanced',path)\n",
    "\n",
    "SVC_120_minmax = AZKABANML.read_results('SVC_23-05-2023_120_minmax',path)\n",
    "SVC_200_minmax = AZKABANML.read_results('SVC_23-05-2023_200_minmax',path)\n",
    "\n",
    "SVC_120_norm = AZKABANML.read_results('SVC_06-06-2023_120_norm',path)\n",
    "SVC_200_norm = AZKABANML.read_results('SVC_06-06-2023_200_norm',path)"
   ]
  },
  {
   "cell_type": "markdown",
   "id": "7a92ecf7",
   "metadata": {},
   "source": [
    "#### gNB"
   ]
  },
  {
   "cell_type": "code",
   "execution_count": 55,
   "id": "3002fa49",
   "metadata": {
    "scrolled": true
   },
   "outputs": [],
   "source": [
    "gNB_120 = read_results('gNB_02-05-2023_120',path)\n",
    "gNB_200 = read_results('gNB_02-05-2023_200',path)"
   ]
  },
  {
   "cell_type": "markdown",
   "id": "e3f5699b",
   "metadata": {},
   "source": [
    "# Model Parameters"
   ]
  },
  {
   "cell_type": "markdown",
   "id": "04210812",
   "metadata": {},
   "source": [
    "## Print best params"
   ]
  },
  {
   "cell_type": "code",
   "execution_count": 72,
   "id": "e0f8b6aa",
   "metadata": {},
   "outputs": [
    {
     "data": {
      "text/html": [
       "<style>#sk-container-id-4 {color: black;background-color: white;}#sk-container-id-4 pre{padding: 0;}#sk-container-id-4 div.sk-toggleable {background-color: white;}#sk-container-id-4 label.sk-toggleable__label {cursor: pointer;display: block;width: 100%;margin-bottom: 0;padding: 0.3em;box-sizing: border-box;text-align: center;}#sk-container-id-4 label.sk-toggleable__label-arrow:before {content: \"▸\";float: left;margin-right: 0.25em;color: #696969;}#sk-container-id-4 label.sk-toggleable__label-arrow:hover:before {color: black;}#sk-container-id-4 div.sk-estimator:hover label.sk-toggleable__label-arrow:before {color: black;}#sk-container-id-4 div.sk-toggleable__content {max-height: 0;max-width: 0;overflow: hidden;text-align: left;background-color: #f0f8ff;}#sk-container-id-4 div.sk-toggleable__content pre {margin: 0.2em;color: black;border-radius: 0.25em;background-color: #f0f8ff;}#sk-container-id-4 input.sk-toggleable__control:checked~div.sk-toggleable__content {max-height: 200px;max-width: 100%;overflow: auto;}#sk-container-id-4 input.sk-toggleable__control:checked~label.sk-toggleable__label-arrow:before {content: \"▾\";}#sk-container-id-4 div.sk-estimator input.sk-toggleable__control:checked~label.sk-toggleable__label {background-color: #d4ebff;}#sk-container-id-4 div.sk-label input.sk-toggleable__control:checked~label.sk-toggleable__label {background-color: #d4ebff;}#sk-container-id-4 input.sk-hidden--visually {border: 0;clip: rect(1px 1px 1px 1px);clip: rect(1px, 1px, 1px, 1px);height: 1px;margin: -1px;overflow: hidden;padding: 0;position: absolute;width: 1px;}#sk-container-id-4 div.sk-estimator {font-family: monospace;background-color: #f0f8ff;border: 1px dotted black;border-radius: 0.25em;box-sizing: border-box;margin-bottom: 0.5em;}#sk-container-id-4 div.sk-estimator:hover {background-color: #d4ebff;}#sk-container-id-4 div.sk-parallel-item::after {content: \"\";width: 100%;border-bottom: 1px solid gray;flex-grow: 1;}#sk-container-id-4 div.sk-label:hover label.sk-toggleable__label {background-color: #d4ebff;}#sk-container-id-4 div.sk-serial::before {content: \"\";position: absolute;border-left: 1px solid gray;box-sizing: border-box;top: 0;bottom: 0;left: 50%;z-index: 0;}#sk-container-id-4 div.sk-serial {display: flex;flex-direction: column;align-items: center;background-color: white;padding-right: 0.2em;padding-left: 0.2em;position: relative;}#sk-container-id-4 div.sk-item {position: relative;z-index: 1;}#sk-container-id-4 div.sk-parallel {display: flex;align-items: stretch;justify-content: center;background-color: white;position: relative;}#sk-container-id-4 div.sk-item::before, #sk-container-id-4 div.sk-parallel-item::before {content: \"\";position: absolute;border-left: 1px solid gray;box-sizing: border-box;top: 0;bottom: 0;left: 50%;z-index: -1;}#sk-container-id-4 div.sk-parallel-item {display: flex;flex-direction: column;z-index: 1;position: relative;background-color: white;}#sk-container-id-4 div.sk-parallel-item:first-child::after {align-self: flex-end;width: 50%;}#sk-container-id-4 div.sk-parallel-item:last-child::after {align-self: flex-start;width: 50%;}#sk-container-id-4 div.sk-parallel-item:only-child::after {width: 0;}#sk-container-id-4 div.sk-dashed-wrapped {border: 1px dashed gray;margin: 0 0.4em 0.5em 0.4em;box-sizing: border-box;padding-bottom: 0.4em;background-color: white;}#sk-container-id-4 div.sk-label label {font-family: monospace;font-weight: bold;display: inline-block;line-height: 1.2em;}#sk-container-id-4 div.sk-label-container {text-align: center;}#sk-container-id-4 div.sk-container {/* jupyter's `normalize.less` sets `[hidden] { display: none; }` but bootstrap.min.css set `[hidden] { display: none !important; }` so we also need the `!important` here to be able to override the default hidden behavior on the sphinx rendered scikit-learn.org. See: https://github.com/scikit-learn/scikit-learn/issues/21755 */display: inline-block !important;position: relative;}#sk-container-id-4 div.sk-text-repr-fallback {display: none;}</style><div id=\"sk-container-id-4\" class=\"sk-top-container\"><div class=\"sk-text-repr-fallback\"><pre>LGBMClassifier(boosting_type=&#x27;goss&#x27;, colsample_bytree=0.7809633132836477,\n",
       "               learning_rate=0.017215392284894805, max_delta_step=0,\n",
       "               max_depth=7, min_child_weight=2, n_estimators=4600,\n",
       "               num_leaves=28, objective=&#x27;binary&#x27;,\n",
       "               reg_alpha=0.0009712999580650016, reg_lambda=2.0454429537368877,\n",
       "               scale_pos_weight=1, seed=4, subsample=0.5855450214468267)</pre><b>In a Jupyter environment, please rerun this cell to show the HTML representation or trust the notebook. <br />On GitHub, the HTML representation is unable to render, please try loading this page with nbviewer.org.</b></div><div class=\"sk-container\" hidden><div class=\"sk-item\"><div class=\"sk-estimator sk-toggleable\"><input class=\"sk-toggleable__control sk-hidden--visually\" id=\"sk-estimator-id-4\" type=\"checkbox\" checked><label for=\"sk-estimator-id-4\" class=\"sk-toggleable__label sk-toggleable__label-arrow\">LGBMClassifier</label><div class=\"sk-toggleable__content\"><pre>LGBMClassifier(boosting_type=&#x27;goss&#x27;, colsample_bytree=0.7809633132836477,\n",
       "               learning_rate=0.017215392284894805, max_delta_step=0,\n",
       "               max_depth=7, min_child_weight=2, n_estimators=4600,\n",
       "               num_leaves=28, objective=&#x27;binary&#x27;,\n",
       "               reg_alpha=0.0009712999580650016, reg_lambda=2.0454429537368877,\n",
       "               scale_pos_weight=1, seed=4, subsample=0.5855450214468267)</pre></div></div></div></div></div>"
      ],
      "text/plain": [
       "LGBMClassifier(boosting_type='goss', colsample_bytree=0.7809633132836477,\n",
       "               learning_rate=0.017215392284894805, max_delta_step=0,\n",
       "               max_depth=7, min_child_weight=2, n_estimators=4600,\n",
       "               num_leaves=28, objective='binary',\n",
       "               reg_alpha=0.0009712999580650016, reg_lambda=2.0454429537368877,\n",
       "               scale_pos_weight=1, seed=4, subsample=0.5855450214468267)"
      ]
     },
     "execution_count": 72,
     "metadata": {},
     "output_type": "execute_result"
    }
   ],
   "source": [
    "lightGBM_120_norm['best_params']['learner']"
   ]
  },
  {
   "cell_type": "code",
   "execution_count": 57,
   "id": "01a60b78",
   "metadata": {},
   "outputs": [
    {
     "data": {
      "text/plain": [
       "{'learner': SVC(C=1.7478498299796177, coef0=0.7712015894592644,\n",
       "     decision_function_shape='ovo', degree=5, kernel='poly', random_state=4,\n",
       "     tol=0.00021721347685542503),\n",
       " 'preprocs': (MinMaxScaler(feature_range=(0.0, 1.0)),),\n",
       " 'ex_preprocs': ()}"
      ]
     },
     "execution_count": 57,
     "metadata": {},
     "output_type": "execute_result"
    }
   ],
   "source": [
    "SVC_120_minmax['best_params']"
   ]
  },
  {
   "cell_type": "code",
   "execution_count": 58,
   "id": "3529d0b8",
   "metadata": {},
   "outputs": [
    {
     "data": {
      "text/html": [
       "<div>\n",
       "<style scoped>\n",
       "    .dataframe tbody tr th:only-of-type {\n",
       "        vertical-align: middle;\n",
       "    }\n",
       "\n",
       "    .dataframe tbody tr th {\n",
       "        vertical-align: top;\n",
       "    }\n",
       "\n",
       "    .dataframe thead th {\n",
       "        text-align: right;\n",
       "    }\n",
       "</style>\n",
       "<table border=\"1\" class=\"dataframe\">\n",
       "  <thead>\n",
       "    <tr style=\"text-align: right;\">\n",
       "      <th></th>\n",
       "      <th>Outer_fold</th>\n",
       "      <th>Outer_score</th>\n",
       "      <th>Outer_unweighted_scores</th>\n",
       "      <th>Outer_unweighted_score_labels</th>\n",
       "      <th>Outer_confusion_matrix</th>\n",
       "      <th>Outer_training_duration</th>\n",
       "      <th>Trial</th>\n",
       "      <th>Trial_loss</th>\n",
       "      <th>Trial_duration</th>\n",
       "    </tr>\n",
       "  </thead>\n",
       "  <tbody>\n",
       "    <tr>\n",
       "      <th>0</th>\n",
       "      <td>0</td>\n",
       "      <td>0.985644</td>\n",
       "      <td>[0.9781021897810219, 1.0, 0.9787234042553192]</td>\n",
       "      <td>[Atlantic cod, Northern shrimp, Polar cod]</td>\n",
       "      <td>[[67, 0, 2], [0, 70, 0], [1, 0, 69]]</td>\n",
       "      <td>234.161575</td>\n",
       "      <td>0</td>\n",
       "      <td>0.135394</td>\n",
       "      <td>2.002759</td>\n",
       "    </tr>\n",
       "    <tr>\n",
       "      <th>1</th>\n",
       "      <td>0</td>\n",
       "      <td>0.985644</td>\n",
       "      <td>[0.9781021897810219, 1.0, 0.9787234042553192]</td>\n",
       "      <td>[Atlantic cod, Northern shrimp, Polar cod]</td>\n",
       "      <td>[[67, 0, 2], [0, 70, 0], [1, 0, 69]]</td>\n",
       "      <td>234.161575</td>\n",
       "      <td>1</td>\n",
       "      <td>0.070362</td>\n",
       "      <td>1.586058</td>\n",
       "    </tr>\n",
       "    <tr>\n",
       "      <th>2</th>\n",
       "      <td>0</td>\n",
       "      <td>0.985644</td>\n",
       "      <td>[0.9781021897810219, 1.0, 0.9787234042553192]</td>\n",
       "      <td>[Atlantic cod, Northern shrimp, Polar cod]</td>\n",
       "      <td>[[67, 0, 2], [0, 70, 0], [1, 0, 69]]</td>\n",
       "      <td>234.161575</td>\n",
       "      <td>2</td>\n",
       "      <td>0.030384</td>\n",
       "      <td>1.682025</td>\n",
       "    </tr>\n",
       "    <tr>\n",
       "      <th>3</th>\n",
       "      <td>0</td>\n",
       "      <td>0.985644</td>\n",
       "      <td>[0.9781021897810219, 1.0, 0.9787234042553192]</td>\n",
       "      <td>[Atlantic cod, Northern shrimp, Polar cod]</td>\n",
       "      <td>[[67, 0, 2], [0, 70, 0], [1, 0, 69]]</td>\n",
       "      <td>234.161575</td>\n",
       "      <td>3</td>\n",
       "      <td>0.088486</td>\n",
       "      <td>0.266424</td>\n",
       "    </tr>\n",
       "    <tr>\n",
       "      <th>4</th>\n",
       "      <td>0</td>\n",
       "      <td>0.985644</td>\n",
       "      <td>[0.9781021897810219, 1.0, 0.9787234042553192]</td>\n",
       "      <td>[Atlantic cod, Northern shrimp, Polar cod]</td>\n",
       "      <td>[[67, 0, 2], [0, 70, 0], [1, 0, 69]]</td>\n",
       "      <td>234.161575</td>\n",
       "      <td>4</td>\n",
       "      <td>0.054371</td>\n",
       "      <td>0.277154</td>\n",
       "    </tr>\n",
       "    <tr>\n",
       "      <th>...</th>\n",
       "      <td>...</td>\n",
       "      <td>...</td>\n",
       "      <td>...</td>\n",
       "      <td>...</td>\n",
       "      <td>...</td>\n",
       "      <td>...</td>\n",
       "      <td>...</td>\n",
       "      <td>...</td>\n",
       "      <td>...</td>\n",
       "    </tr>\n",
       "    <tr>\n",
       "      <th>495</th>\n",
       "      <td>9</td>\n",
       "      <td>0.990382</td>\n",
       "      <td>[0.9859154929577464, 1.0, 0.9852941176470589]</td>\n",
       "      <td>[Atlantic cod, Northern shrimp, Polar cod]</td>\n",
       "      <td>[[70, 0, 0], [0, 69, 0], [2, 0, 67]]</td>\n",
       "      <td>238.915716</td>\n",
       "      <td>45</td>\n",
       "      <td>0.036228</td>\n",
       "      <td>0.266553</td>\n",
       "    </tr>\n",
       "    <tr>\n",
       "      <th>496</th>\n",
       "      <td>9</td>\n",
       "      <td>0.990382</td>\n",
       "      <td>[0.9859154929577464, 1.0, 0.9852941176470589]</td>\n",
       "      <td>[Atlantic cod, Northern shrimp, Polar cod]</td>\n",
       "      <td>[[70, 0, 0], [0, 69, 0], [2, 0, 67]]</td>\n",
       "      <td>238.915716</td>\n",
       "      <td>46</td>\n",
       "      <td>0.043687</td>\n",
       "      <td>0.255381</td>\n",
       "    </tr>\n",
       "    <tr>\n",
       "      <th>497</th>\n",
       "      <td>9</td>\n",
       "      <td>0.990382</td>\n",
       "      <td>[0.9859154929577464, 1.0, 0.9852941176470589]</td>\n",
       "      <td>[Atlantic cod, Northern shrimp, Polar cod]</td>\n",
       "      <td>[[70, 0, 0], [0, 69, 0], [2, 0, 67]]</td>\n",
       "      <td>238.915716</td>\n",
       "      <td>47</td>\n",
       "      <td>0.104422</td>\n",
       "      <td>0.303215</td>\n",
       "    </tr>\n",
       "    <tr>\n",
       "      <th>498</th>\n",
       "      <td>9</td>\n",
       "      <td>0.990382</td>\n",
       "      <td>[0.9859154929577464, 1.0, 0.9852941176470589]</td>\n",
       "      <td>[Atlantic cod, Northern shrimp, Polar cod]</td>\n",
       "      <td>[[70, 0, 0], [0, 69, 0], [2, 0, 67]]</td>\n",
       "      <td>238.915716</td>\n",
       "      <td>48</td>\n",
       "      <td>0.016516</td>\n",
       "      <td>0.209950</td>\n",
       "    </tr>\n",
       "    <tr>\n",
       "      <th>499</th>\n",
       "      <td>9</td>\n",
       "      <td>0.990382</td>\n",
       "      <td>[0.9859154929577464, 1.0, 0.9852941176470589]</td>\n",
       "      <td>[Atlantic cod, Northern shrimp, Polar cod]</td>\n",
       "      <td>[[70, 0, 0], [0, 69, 0], [2, 0, 67]]</td>\n",
       "      <td>238.915716</td>\n",
       "      <td>49</td>\n",
       "      <td>0.015450</td>\n",
       "      <td>2.183877</td>\n",
       "    </tr>\n",
       "  </tbody>\n",
       "</table>\n",
       "<p>500 rows × 9 columns</p>\n",
       "</div>"
      ],
      "text/plain": [
       "     Outer_fold  Outer_score                        Outer_unweighted_scores  \\\n",
       "0             0     0.985644  [0.9781021897810219, 1.0, 0.9787234042553192]   \n",
       "1             0     0.985644  [0.9781021897810219, 1.0, 0.9787234042553192]   \n",
       "2             0     0.985644  [0.9781021897810219, 1.0, 0.9787234042553192]   \n",
       "3             0     0.985644  [0.9781021897810219, 1.0, 0.9787234042553192]   \n",
       "4             0     0.985644  [0.9781021897810219, 1.0, 0.9787234042553192]   \n",
       "..          ...          ...                                            ...   \n",
       "495           9     0.990382  [0.9859154929577464, 1.0, 0.9852941176470589]   \n",
       "496           9     0.990382  [0.9859154929577464, 1.0, 0.9852941176470589]   \n",
       "497           9     0.990382  [0.9859154929577464, 1.0, 0.9852941176470589]   \n",
       "498           9     0.990382  [0.9859154929577464, 1.0, 0.9852941176470589]   \n",
       "499           9     0.990382  [0.9859154929577464, 1.0, 0.9852941176470589]   \n",
       "\n",
       "                  Outer_unweighted_score_labels  \\\n",
       "0    [Atlantic cod, Northern shrimp, Polar cod]   \n",
       "1    [Atlantic cod, Northern shrimp, Polar cod]   \n",
       "2    [Atlantic cod, Northern shrimp, Polar cod]   \n",
       "3    [Atlantic cod, Northern shrimp, Polar cod]   \n",
       "4    [Atlantic cod, Northern shrimp, Polar cod]   \n",
       "..                                          ...   \n",
       "495  [Atlantic cod, Northern shrimp, Polar cod]   \n",
       "496  [Atlantic cod, Northern shrimp, Polar cod]   \n",
       "497  [Atlantic cod, Northern shrimp, Polar cod]   \n",
       "498  [Atlantic cod, Northern shrimp, Polar cod]   \n",
       "499  [Atlantic cod, Northern shrimp, Polar cod]   \n",
       "\n",
       "                   Outer_confusion_matrix  Outer_training_duration  Trial  \\\n",
       "0    [[67, 0, 2], [0, 70, 0], [1, 0, 69]]               234.161575      0   \n",
       "1    [[67, 0, 2], [0, 70, 0], [1, 0, 69]]               234.161575      1   \n",
       "2    [[67, 0, 2], [0, 70, 0], [1, 0, 69]]               234.161575      2   \n",
       "3    [[67, 0, 2], [0, 70, 0], [1, 0, 69]]               234.161575      3   \n",
       "4    [[67, 0, 2], [0, 70, 0], [1, 0, 69]]               234.161575      4   \n",
       "..                                    ...                      ...    ...   \n",
       "495  [[70, 0, 0], [0, 69, 0], [2, 0, 67]]               238.915716     45   \n",
       "496  [[70, 0, 0], [0, 69, 0], [2, 0, 67]]               238.915716     46   \n",
       "497  [[70, 0, 0], [0, 69, 0], [2, 0, 67]]               238.915716     47   \n",
       "498  [[70, 0, 0], [0, 69, 0], [2, 0, 67]]               238.915716     48   \n",
       "499  [[70, 0, 0], [0, 69, 0], [2, 0, 67]]               238.915716     49   \n",
       "\n",
       "     Trial_loss  Trial_duration  \n",
       "0      0.135394        2.002759  \n",
       "1      0.070362        1.586058  \n",
       "2      0.030384        1.682025  \n",
       "3      0.088486        0.266424  \n",
       "4      0.054371        0.277154  \n",
       "..          ...             ...  \n",
       "495    0.036228        0.266553  \n",
       "496    0.043687        0.255381  \n",
       "497    0.104422        0.303215  \n",
       "498    0.016516        0.209950  \n",
       "499    0.015450        2.183877  \n",
       "\n",
       "[500 rows x 9 columns]"
      ]
     },
     "execution_count": 58,
     "metadata": {},
     "output_type": "execute_result"
    }
   ],
   "source": [
    "kNN_120['cv_df']"
   ]
  },
  {
   "cell_type": "markdown",
   "id": "4e3286fd",
   "metadata": {},
   "source": [
    "# Nested Cross-Validation"
   ]
  },
  {
   "cell_type": "markdown",
   "id": "cfd98582",
   "metadata": {},
   "source": [
    "## Print F1 score results"
   ]
  },
  {
   "cell_type": "markdown",
   "id": "5b8bd386",
   "metadata": {},
   "source": [
    "### Compare algorithms"
   ]
  },
  {
   "cell_type": "markdown",
   "id": "8c09dd85",
   "metadata": {},
   "source": [
    "#### 120 kHz"
   ]
  },
  {
   "cell_type": "code",
   "execution_count": 59,
   "id": "c591e482",
   "metadata": {
    "scrolled": false
   },
   "outputs": [
    {
     "name": "stdout",
     "output_type": "stream",
     "text": [
      "\n",
      "Classifier: kNN_08-05-2023_120_balanced\n",
      "Mean class-weighted F1 score for : 0.99 ± 0.0\n",
      "Mean F1 score for Atlantic cod: 0.98 ± 0.01\n",
      "Mean F1 score for Northern shrimp: 1.0 ± 0.0\n",
      "Mean F1 score for Polar cod: 0.98 ± 0.01\n",
      "\n",
      "Classifier: lightGBM_08-05-2023_120_balanced\n",
      "Mean class-weighted F1 score for : 0.99 ± 0.01\n",
      "Mean F1 score for Atlantic cod: 0.99 ± 0.01\n",
      "Mean F1 score for Northern shrimp: 1.0 ± 0.0\n",
      "Mean F1 score for Polar cod: 0.99 ± 0.01\n",
      "\n",
      "Classifier: SVC_08-05-2023_120_balanced\n",
      "Mean class-weighted F1 score for : 0.98 ± 0.01\n",
      "Mean F1 score for Atlantic cod: 0.98 ± 0.02\n",
      "Mean F1 score for Northern shrimp: 1.0 ± 0.0\n",
      "Mean F1 score for Polar cod: 0.98 ± 0.02\n",
      "\n",
      "Classifier: gNB_02-05-2023_120\n",
      "Mean class-weighted F1 score for : 0.88 ± 0.04\n",
      "Mean F1 score for Atlantic cod: 0.87 ± 0.05\n",
      "Mean F1 score for Northern shrimp: 1.0 ± 0.0\n",
      "Mean F1 score for Polar cod: 0.86 ± 0.05\n"
     ]
    }
   ],
   "source": [
    "classifier_list = [kNN_120, lightGBM_120, SVC_120, gNB_120]\n",
    "for class_i in classifier_list:\n",
    "    print('\\nClassifier: '+class_i['name'])\n",
    "    AZKABANML.print_F1_mean(class_i)"
   ]
  },
  {
   "cell_type": "markdown",
   "id": "3cff74fc",
   "metadata": {},
   "source": [
    "##### 200 kHz"
   ]
  },
  {
   "cell_type": "code",
   "execution_count": 60,
   "id": "2cd58032",
   "metadata": {},
   "outputs": [
    {
     "name": "stdout",
     "output_type": "stream",
     "text": [
      "\n",
      "Classifier: kNN_08-05-2023_200_balanced\n",
      "Mean class-weighted F1 score for : 0.99 ± 0.0\n",
      "Mean F1 score for Atlantic cod: 0.98 ± 0.01\n",
      "Mean F1 score for Northern shrimp: 1.0 ± 0.0\n",
      "Mean F1 score for Polar cod: 0.98 ± 0.01\n",
      "\n",
      "Classifier: lightGBM_08-05-2023_200_balanced\n",
      "Mean class-weighted F1 score for : 0.99 ± 0.0\n",
      "Mean F1 score for Atlantic cod: 0.99 ± 0.01\n",
      "Mean F1 score for Northern shrimp: 1.0 ± 0.0\n",
      "Mean F1 score for Polar cod: 0.98 ± 0.01\n",
      "\n",
      "Classifier: SVC_08-05-2023_200_balanced\n",
      "Mean class-weighted F1 score for : 0.98 ± 0.01\n",
      "Mean F1 score for Atlantic cod: 0.97 ± 0.01\n",
      "Mean F1 score for Northern shrimp: 1.0 ± 0.01\n",
      "Mean F1 score for Polar cod: 0.97 ± 0.02\n",
      "\n",
      "Classifier: gNB_02-05-2023_200\n",
      "Mean class-weighted F1 score for : 0.78 ± 0.03\n",
      "Mean F1 score for Atlantic cod: 0.68 ± 0.05\n",
      "Mean F1 score for Northern shrimp: 1.0 ± 0.0\n",
      "Mean F1 score for Polar cod: 0.74 ± 0.04\n"
     ]
    }
   ],
   "source": [
    "classifier_list = [kNN_200, lightGBM_200, SVC_200, gNB_200]\n",
    "for class_i in classifier_list:\n",
    "    print('\\nClassifier: '+class_i['name'])\n",
    "    AZKABANML.print_F1_mean(class_i)"
   ]
  },
  {
   "cell_type": "markdown",
   "id": "7588aa14",
   "metadata": {},
   "source": [
    "LightGBM and SVC are equally good, slightly better than kNN. gNB is worst, will not repeat.\n",
    "\n",
    "Better results with 120 for the poorer performing algorithms (kNN and gNB)"
   ]
  },
  {
   "cell_type": "markdown",
   "id": "b819e3fb",
   "metadata": {},
   "source": [
    "## Compare preprocessing (any), sigbs, balanced"
   ]
  },
  {
   "cell_type": "code",
   "execution_count": 61,
   "id": "b472c090",
   "metadata": {
    "scrolled": false
   },
   "outputs": [
    {
     "name": "stdout",
     "output_type": "stream",
     "text": [
      "\n",
      "Classifier: kNN_08-05-2023_120_sigbs\n",
      "Mean class-weighted F1 score for : 0.99 ± 0.01\n",
      "Mean F1 score for Atlantic cod: 0.98 ± 0.01\n",
      "Mean F1 score for Northern shrimp: 1.0 ± 0.0\n",
      "Mean F1 score for Polar cod: 0.98 ± 0.01\n",
      "\n",
      "Classifier: kNN_08-05-2023_120_balanced\n",
      "Mean class-weighted F1 score for : 0.99 ± 0.0\n",
      "Mean F1 score for Atlantic cod: 0.98 ± 0.01\n",
      "Mean F1 score for Northern shrimp: 1.0 ± 0.0\n",
      "Mean F1 score for Polar cod: 0.98 ± 0.01\n",
      "\n",
      "Classifier: kNN_06-06-2023_120_norm\n",
      "Mean class-weighted F1 score for : 0.96 ± 0.01\n",
      "Mean F1 score for Atlantic cod: 0.95 ± 0.02\n",
      "Mean F1 score for Northern shrimp: 0.99 ± 0.01\n",
      "Mean F1 score for Polar cod: 0.94 ± 0.02\n",
      "\n",
      "Classifier: kNN_10-05-2023_120_minmax\n",
      "Mean class-weighted F1 score for : 0.99 ± 0.01\n",
      "Mean F1 score for Atlantic cod: 0.98 ± 0.01\n",
      "Mean F1 score for Northern shrimp: 1.0 ± 0.0\n",
      "Mean F1 score for Polar cod: 0.98 ± 0.01\n"
     ]
    }
   ],
   "source": [
    "classifier_list = [kNN_120_sigbs, kNN_120, kNN_120_norm,kNN_120_minmax]\n",
    "for class_i in classifier_list:\n",
    "    print('\\nClassifier: '+class_i['name'])\n",
    "    AZKABANML.print_F1_mean(class_i)"
   ]
  },
  {
   "cell_type": "code",
   "execution_count": 6,
   "id": "5743cb1d",
   "metadata": {},
   "outputs": [
    {
     "name": "stdout",
     "output_type": "stream",
     "text": [
      "\n",
      "Classifier: kNN_08-05-2023_200_sigbs\n",
      "Mean class-weighted F1 score for : 0.99 ± 0.01\n",
      "Mean F1 score for Atlantic cod: 0.98 ± 0.01\n",
      "Mean F1 score for Northern shrimp: 1.0 ± 0.0\n",
      "Mean F1 score for Polar cod: 0.98 ± 0.01\n",
      "\n",
      "Classifier: kNN_08-05-2023_200_balanced\n",
      "Mean class-weighted F1 score for : 0.99 ± 0.0\n",
      "Mean F1 score for Atlantic cod: 0.98 ± 0.01\n",
      "Mean F1 score for Northern shrimp: 1.0 ± 0.0\n",
      "Mean F1 score for Polar cod: 0.98 ± 0.01\n",
      "\n",
      "Classifier: kNN_06-06-2023_200_norm\n",
      "Mean class-weighted F1 score for : 0.97 ± 0.01\n",
      "Mean F1 score for Atlantic cod: 0.98 ± 0.01\n",
      "Mean F1 score for Northern shrimp: 0.97 ± 0.01\n",
      "Mean F1 score for Polar cod: 0.95 ± 0.02\n",
      "\n",
      "Classifier: kNN_10-05-2023_200_minmax\n",
      "Mean class-weighted F1 score for : 0.99 ± 0.01\n",
      "Mean F1 score for Atlantic cod: 0.98 ± 0.01\n",
      "Mean F1 score for Northern shrimp: 1.0 ± 0.0\n",
      "Mean F1 score for Polar cod: 0.98 ± 0.01\n"
     ]
    }
   ],
   "source": [
    "classifier_list = [kNN_200_sigbs, kNN_200, kNN_200_norm,kNN_200_minmax]\n",
    "for class_i in classifier_list:\n",
    "    print('\\nClassifier: '+class_i['name'])\n",
    "    AZKABANML.print_F1_mean(class_i)"
   ]
  },
  {
   "cell_type": "code",
   "execution_count": 67,
   "id": "8c7f411b",
   "metadata": {},
   "outputs": [
    {
     "name": "stdout",
     "output_type": "stream",
     "text": [
      "\n",
      "Classifier: kNN_06-06-2023_120_norm\n",
      "Mean class-weighted F1 score for : 0.96 ± 0.01\n",
      "Mean F1 score for Atlantic cod: 0.95 ± 0.02\n",
      "Mean F1 score for Northern shrimp: 0.99 ± 0.01\n",
      "Mean F1 score for Polar cod: 0.94 ± 0.02\n",
      "\n",
      "Classifier: SVC_06-06-2023_120_norm\n",
      "Mean class-weighted F1 score for : 0.97 ± 0.02\n",
      "Mean F1 score for Atlantic cod: 0.96 ± 0.02\n",
      "Mean F1 score for Northern shrimp: 0.99 ± 0.01\n",
      "Mean F1 score for Polar cod: 0.95 ± 0.03\n",
      "\n",
      "Classifier: lightGBM_06-06-2023_120_norm\n",
      "Mean class-weighted F1 score for : 0.97 ± 0.01\n",
      "Mean F1 score for Atlantic cod: 0.96 ± 0.02\n",
      "Mean F1 score for Northern shrimp: 0.99 ± 0.01\n",
      "Mean F1 score for Polar cod: 0.95 ± 0.02\n"
     ]
    }
   ],
   "source": [
    "classifier_list = [kNN_120_norm, lightGBM_120_norm, SVC_120_norm]\n",
    "for class_i in classifier_list:\n",
    "    print('\\nClassifier: '+class_i['name'])\n",
    "    AZKABANML.print_F1_mean(class_i)"
   ]
  },
  {
   "cell_type": "code",
   "execution_count": 68,
   "id": "bf2e6657",
   "metadata": {},
   "outputs": [
    {
     "name": "stdout",
     "output_type": "stream",
     "text": [
      "\n",
      "Classifier: kNN_06-06-2023_200_norm\n",
      "Mean class-weighted F1 score for : 0.97 ± 0.01\n",
      "Mean F1 score for Atlantic cod: 0.98 ± 0.01\n",
      "Mean F1 score for Northern shrimp: 0.97 ± 0.01\n",
      "Mean F1 score for Polar cod: 0.95 ± 0.02\n",
      "\n",
      "Classifier: lightGBM_06-06-2023_200_norm\n",
      "Mean class-weighted F1 score for : 0.97 ± 0.01\n",
      "Mean F1 score for Atlantic cod: 0.98 ± 0.01\n",
      "Mean F1 score for Northern shrimp: 0.98 ± 0.01\n",
      "Mean F1 score for Polar cod: 0.96 ± 0.01\n",
      "\n",
      "Classifier: lightGBM_06-06-2023_200_norm\n",
      "Mean class-weighted F1 score for : 0.97 ± 0.01\n",
      "Mean F1 score for Atlantic cod: 0.98 ± 0.01\n",
      "Mean F1 score for Northern shrimp: 0.98 ± 0.01\n",
      "Mean F1 score for Polar cod: 0.96 ± 0.01\n"
     ]
    }
   ],
   "source": [
    "classifier_list = [kNN_200_norm, lightGBM_200_norm, lightGBM_200_norm]\n",
    "for class_i in classifier_list:\n",
    "    print('\\nClassifier: '+class_i['name'])\n",
    "    AZKABANML.print_F1_mean(class_i)"
   ]
  },
  {
   "cell_type": "markdown",
   "id": "648c3bf7",
   "metadata": {},
   "source": [
    "Improvement of ~0.2 on the Mean class-weighted F1 score with preprocessing (any.)"
   ]
  },
  {
   "cell_type": "markdown",
   "id": "7fdee438",
   "metadata": {},
   "source": [
    "## Print mesocosm detection values"
   ]
  },
  {
   "cell_type": "markdown",
   "id": "b4d8f0fd",
   "metadata": {},
   "source": [
    "## Plot confusion matrix"
   ]
  },
  {
   "cell_type": "code",
   "execution_count": 47,
   "id": "0bb5d83b",
   "metadata": {},
   "outputs": [
    {
     "data": {
      "image/png": "[encoded data removed]",
      "text/plain": [
       "<Figure size 1000x200 with 2 Axes>"
      ]
     },
     "metadata": {},
     "output_type": "display_data"
    }
   ],
   "source": [
    "classifier_list = [kNN_120, kNN_120_sigbs]\n",
    "fig,ax = plt.subplots(1,2,figsize=(10,2))\n",
    "axes = ax.flatten()\n",
    "labels = ['A. cod', 'N. shrimp','P. cod',]\n",
    "i=0\n",
    "for class_i in classifier_list:\n",
    "    cmp = ConfusionMatrixDisplay(class_i['cv_df'].Outer_confusion_matrix.mean()/69.5,\n",
    "                             display_labels=labels)\n",
    "    cmp.plot(ax=axes[i], colorbar=False, values_format='.2f')\n",
    "    axes[i].set(title=class_i['name']);\n",
    "    i += 1"
   ]
  },
  {
   "cell_type": "code",
   "execution_count": 48,
   "id": "3968038b",
   "metadata": {},
   "outputs": [
    {
     "data": {
      "image/png": "[encoded data removed]",
      "text/plain": [
       "<Figure size 1000x200 with 2 Axes>"
      ]
     },
     "metadata": {},
     "output_type": "display_data"
    }
   ],
   "source": [
    "classifier_list = [kNN_200, kNN_200_sigbs]\n",
    "fig,ax = plt.subplots(1,2,figsize=(10,2))\n",
    "axes = ax.flatten()\n",
    "labels = ['A. cod', 'N. shrimp','P. cod',]\n",
    "i=0\n",
    "for class_i in classifier_list:\n",
    "    cmp = ConfusionMatrixDisplay(class_i['cv_df'].Outer_confusion_matrix.mean()/69.9,\n",
    "                             display_labels=labels)\n",
    "    cmp.plot(ax=axes[i], colorbar=False, values_format='.2f')\n",
    "    axes[i].set(title=class_i['name']);\n",
    "    i += 1"
   ]
  },
  {
   "cell_type": "markdown",
   "id": "b5c9edd6",
   "metadata": {},
   "source": [
    "Observations:\n",
    "- normalized confusion matrix\n",
    "- In all algorithms some Atlantic cod are being classified as Polar cod. More in kNN, less  with lightGBM"
   ]
  },
  {
   "cell_type": "code",
   "execution_count": 50,
   "id": "1cb959bd",
   "metadata": {},
   "outputs": [
    {
     "data": {
      "image/png": "[encoded data removed]",
      "text/plain": [
       "<Figure size 1000x200 with 2 Axes>"
      ]
     },
     "metadata": {},
     "output_type": "display_data"
    }
   ],
   "source": [
    "classifier_list = [lightGBM_120, lightGBM_120_norm]\n",
    "fig,ax = plt.subplots(1,2,figsize=(10,2))\n",
    "axes = ax.flatten()\n",
    "labels = ['A. cod', 'N. shrimp','P. cod',]\n",
    "i=0\n",
    "for class_i in classifier_list:\n",
    "    cmp = ConfusionMatrixDisplay(class_i['cv_df'].Outer_confusion_matrix.mean()/69.5,\n",
    "                             display_labels=labels)\n",
    "    cmp.plot(ax=axes[i], colorbar=False, values_format='.2f')\n",
    "    axes[i].set(title=class_i['name']);\n",
    "    i += 1"
   ]
  },
  {
   "cell_type": "code",
   "execution_count": 52,
   "id": "9eb7d824",
   "metadata": {},
   "outputs": [
    {
     "data": {
      "image/png": "[encoded data removed]",
      "text/plain": [
       "<Figure size 1000x200 with 2 Axes>"
      ]
     },
     "metadata": {},
     "output_type": "display_data"
    }
   ],
   "source": [
    "classifier_list = [SVC_120, SVC_120_minmax]\n",
    "fig,ax = plt.subplots(1,2,figsize=(10,2))\n",
    "axes = ax.flatten()\n",
    "labels = ['A. cod', 'N. shrimp','P. cod',]\n",
    "i=0\n",
    "for class_i in classifier_list:\n",
    "    cmp = ConfusionMatrixDisplay(class_i['cv_df'].Outer_confusion_matrix.mean()/69.5,\n",
    "                             display_labels=labels)\n",
    "    cmp.plot(ax=axes[i], colorbar=False, values_format='.2f')\n",
    "    axes[i].set(title=class_i['name']);\n",
    "    i += 1"
   ]
  },
  {
   "cell_type": "code",
   "execution_count": null,
   "id": "75ba5cd1",
   "metadata": {},
   "outputs": [],
   "source": []
  }
 ],
 "metadata": {
  "kernelspec": {
   "display_name": "Python 3 (ipykernel)",
   "language": "python",
   "name": "python3"
  },
  "language_info": {
   "codemirror_mode": {
    "name": "ipython",
    "version": 3
   },
   "file_extension": ".py",
   "mimetype": "text/x-python",
   "name": "python",
   "nbconvert_exporter": "python",
   "pygments_lexer": "ipython3",
   "version": "3.9.15"
  }
 },
 "nbformat": 4,
 "nbformat_minor": 5
}
