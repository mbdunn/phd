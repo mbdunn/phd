{
 "cells": [
  {
   "cell_type": "markdown",
   "id": "ecaa482c",
   "metadata": {},
   "source": [
    "In this notebook we solve the problem of the imbalance of classes in the AFKABAN datasets"
   ]
  },
  {
   "cell_type": "code",
   "execution_count": 22,
   "id": "d5005d97",
   "metadata": {},
   "outputs": [],
   "source": [
    "import time\n",
    "import os.path\n",
    "import numpy as np\n",
    "import pandas as pd\n",
    "import pickle\n",
    "import random\n",
    "from sklearn.preprocessing import LabelEncoder\n",
    "from sklearn.model_selection import StratifiedKFold, GroupKFold\n",
    "from sklearn.metrics import f1_score, confusion_matrix\n",
    "import hyperopt\n",
    "from hyperopt import tpe\n",
    "from hpsklearn import HyperoptEstimator\n",
    "from sklearn.neighbors import KNeighborsClassifier\n",
    "from datetime import timedelta\n",
    "from tenacity import retry, stop_after_attempt\n",
    "import sys, errno\n",
    "import AZKABANML"
   ]
  },
  {
   "cell_type": "code",
   "execution_count": 11,
   "id": "b1c060d0",
   "metadata": {},
   "outputs": [],
   "source": [
    "# Set paths\n",
    "path = 'F:/AFKABAN/review2024'\n",
    "classifypath = 'F:/AFKABAN/Classify/'\n",
    "\n",
    "df_120 = pd.read_feather(f'{path}/SED_120_df.feather')\n",
    "df_200 = pd.read_feather(f'{path}/SED_200_df.feather')\n",
    "\n",
    "track_120 = pd.read_feather(f'{path}/track_120_df.feather')\n",
    "track_200 = pd.read_feather(f'{path}/track_200_df.feather')\n",
    "\n",
    "#df_120_w_h = pd.read_feather(f'{path}/df_120_w_h.feather')\n",
    "#df_200_w_h = pd.read_feather(f'{path}/df_200_w_h.feather')"
   ]
  },
  {
   "cell_type": "markdown",
   "id": "0a6dfa99",
   "metadata": {},
   "source": [
    "Class imbalance is when the classes are not represented equally. Here, we have ~ 600 polar cod, ~300 atlantic cod and ~ 100 Pandalus. Maybe even more imbalance when looking per frequency bandwidth"
   ]
  },
  {
   "cell_type": "markdown",
   "id": "c8389e3e",
   "metadata": {},
   "source": [
    "https://machinelearningmastery.com/tactics-to-combat-imbalanced-classes-in-your-machine-learning-dataset/"
   ]
  },
  {
   "cell_type": "markdown",
   "id": "acc36831",
   "metadata": {},
   "source": [
    "Methods to resolve te problem of imbalanced data:\n",
    "    \n",
    "    - over sampling (duplicate classes with fewer samples)\n",
    "    - under sampling (delete from classes with many samples)\n",
    "    - Use better metrics (F1 score solved this and accounts for false +)\n",
    "    - SMOTE?"
   ]
  },
  {
   "cell_type": "markdown",
   "id": "218b50ec",
   "metadata": {},
   "source": [
    "# Over sampling\n",
    "Easiest. Not so many samples so prefer over sampling to under sampling. Try multiplying shrimps and atlantic cod to match polar cod #"
   ]
  },
  {
   "cell_type": "code",
   "execution_count": 12,
   "id": "392a9126",
   "metadata": {},
   "outputs": [],
   "source": [
    "def balance_classes(df, track):\n",
    "    'Balance classes representative by over sampling pandalus and atlantic cod'\n",
    "\n",
    "    count = df.groupby('Species').count().iloc[:,5]\n",
    "    df_balanced = df[df['Species']=='Polar cod'] #dominant species\n",
    "    select_ind = np.where(df['Species']=='Polar cod')[0]\n",
    "    track_balanced = track.iloc[select_ind]\n",
    "\n",
    "    name_list = ['Atlantic cod','Northern shrimp']\n",
    "\n",
    "\n",
    "    for spec in name_list:\n",
    "        new_ind = random.choices(np.where(df['Species']==spec)[0][:], k=count['Polar cod'])\n",
    "        df_balanced = pd.concat([df_balanced, df.iloc[new_ind,:]])\n",
    "        df_balanced = df_balanced.reset_index(drop=True)\n",
    "\n",
    "        track_balanced = pd.concat([track_balanced, track.iloc[new_ind,:]])\n",
    "        track_balanced = track_balanced.reset_index(drop=True)\n",
    "\n",
    "    return df_balanced, track_balanced"
   ]
  },
  {
   "cell_type": "code",
   "execution_count": 13,
   "id": "afe8e3e8",
   "metadata": {},
   "outputs": [],
   "source": [
    "df_120_balanced, track_120_balanced = balance_classes(df_120, track_120)\n",
    "df_200_balanced, track_200_balanced = balance_classes(df_200, track_200)"
   ]
  },
  {
   "cell_type": "code",
   "execution_count": 14,
   "id": "95ecaa9d",
   "metadata": {},
   "outputs": [
    {
     "data": {
      "text/html": [
       "<div>\n",
       "<style scoped>\n",
       "    .dataframe tbody tr th:only-of-type {\n",
       "        vertical-align: middle;\n",
       "    }\n",
       "\n",
       "    .dataframe tbody tr th {\n",
       "        vertical-align: top;\n",
       "    }\n",
       "\n",
       "    .dataframe thead th {\n",
       "        text-align: right;\n",
       "    }\n",
       "</style>\n",
       "<table border=\"1\" class=\"dataframe\">\n",
       "  <thead>\n",
       "    <tr style=\"text-align: right;\">\n",
       "      <th></th>\n",
       "      <th>Region_name</th>\n",
       "    </tr>\n",
       "  </thead>\n",
       "  <tbody>\n",
       "    <tr>\n",
       "      <th>0</th>\n",
       "      <td>Region 125</td>\n",
       "    </tr>\n",
       "    <tr>\n",
       "      <th>1</th>\n",
       "      <td>Region 125</td>\n",
       "    </tr>\n",
       "    <tr>\n",
       "      <th>2</th>\n",
       "      <td>Region 125</td>\n",
       "    </tr>\n",
       "    <tr>\n",
       "      <th>3</th>\n",
       "      <td>Region 125</td>\n",
       "    </tr>\n",
       "    <tr>\n",
       "      <th>4</th>\n",
       "      <td>Region 125</td>\n",
       "    </tr>\n",
       "    <tr>\n",
       "      <th>...</th>\n",
       "      <td>...</td>\n",
       "    </tr>\n",
       "    <tr>\n",
       "      <th>2080</th>\n",
       "      <td>Region 301</td>\n",
       "    </tr>\n",
       "    <tr>\n",
       "      <th>2081</th>\n",
       "      <td>Region 327</td>\n",
       "    </tr>\n",
       "    <tr>\n",
       "      <th>2082</th>\n",
       "      <td>Region 310</td>\n",
       "    </tr>\n",
       "    <tr>\n",
       "      <th>2083</th>\n",
       "      <td>Region 301</td>\n",
       "    </tr>\n",
       "    <tr>\n",
       "      <th>2084</th>\n",
       "      <td>Region 320</td>\n",
       "    </tr>\n",
       "  </tbody>\n",
       "</table>\n",
       "<p>2085 rows × 1 columns</p>\n",
       "</div>"
      ],
      "text/plain": [
       "     Region_name\n",
       "0     Region 125\n",
       "1     Region 125\n",
       "2     Region 125\n",
       "3     Region 125\n",
       "4     Region 125\n",
       "...          ...\n",
       "2080  Region 301\n",
       "2081  Region 327\n",
       "2082  Region 310\n",
       "2083  Region 301\n",
       "2084  Region 320\n",
       "\n",
       "[2085 rows x 1 columns]"
      ]
     },
     "execution_count": 14,
     "metadata": {},
     "output_type": "execute_result"
    }
   ],
   "source": [
    "track_120_balanced"
   ]
  },
  {
   "cell_type": "code",
   "execution_count": 15,
   "id": "20261e66",
   "metadata": {},
   "outputs": [],
   "source": [
    "df_120_balanced.to_feather(f'{path}/df_120_balanced.feather')\n",
    "df_200_balanced.to_feather(f'{path}/df_200_balanced.feather')\n",
    "\n",
    "track_120_balanced.to_feather(f'{path}/track_120_balanced.feather')\n",
    "track_200_balanced.to_feather(f'{path}/track_200_balanced.feather')"
   ]
  },
  {
   "cell_type": "markdown",
   "id": "e8fd8f91",
   "metadata": {},
   "source": [
    "Now the hyperoptimizer splits into 90% training and 10% testing with equal (+/- 1) distribution across the classes."
   ]
  },
  {
   "cell_type": "markdown",
   "id": "f75baae0",
   "metadata": {},
   "source": [
    "### linear balanced"
   ]
  },
  {
   "cell_type": "code",
   "execution_count": 16,
   "id": "4b540172",
   "metadata": {},
   "outputs": [],
   "source": [
    "df_120_sigbs_balanced = 10**(df_120_balanced.iloc[:,:-1]/10)\n",
    "df_200_sigbs_balanced = 10**(df_200_balanced.iloc[:,:-1]/10)"
   ]
  },
  {
   "cell_type": "code",
   "execution_count": 17,
   "id": "b225c576",
   "metadata": {},
   "outputs": [],
   "source": [
    "df_120_sigbs_balanced['Species'] = df_120_balanced['Species']\n",
    "df_200_sigbs_balanced['Species'] = df_200_balanced['Species']"
   ]
  },
  {
   "cell_type": "code",
   "execution_count": 18,
   "id": "2fa5da59",
   "metadata": {},
   "outputs": [],
   "source": [
    "df_120_sigbs_balanced.to_feather(f'{path}/df_120_sigbs_balanced.feather')\n",
    "df_200_sigbs_balanced.to_feather(f'{path}/df_200_sigbs_balanced.feather')"
   ]
  },
  {
   "cell_type": "code",
   "execution_count": 19,
   "id": "527b473d",
   "metadata": {},
   "outputs": [
    {
     "data": {
      "text/plain": [
       "69.5"
      ]
     },
     "execution_count": 19,
     "metadata": {},
     "output_type": "execute_result"
    }
   ],
   "source": [
    "len(df_120_balanced)/30"
   ]
  }
 ],
 "metadata": {
  "kernelspec": {
   "display_name": "Python 3 (ipykernel)",
   "language": "python",
   "name": "python3"
  },
  "language_info": {
   "codemirror_mode": {
    "name": "ipython",
    "version": 3
   },
   "file_extension": ".py",
   "mimetype": "text/x-python",
   "name": "python",
   "nbconvert_exporter": "python",
   "pygments_lexer": "ipython3",
   "version": "3.9.19"
  }
 },
 "nbformat": 4,
 "nbformat_minor": 5
}
