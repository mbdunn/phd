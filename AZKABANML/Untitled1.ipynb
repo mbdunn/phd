{
 "cells": [
  {
   "cell_type": "code",
   "execution_count": 1,
   "id": "10611697",
   "metadata": {},
   "outputs": [],
   "source": [
    "import numpy as np\n",
    "import pandas as pd\n",
    "import matplotlib.pyplot as plt\n",
    "from sklearn.metrics import ConfusionMatrixDisplay\n",
    "import seaborn as sns\n",
    "import pickle"
   ]
  },
  {
   "cell_type": "code",
   "execution_count": 2,
   "id": "9a87b659",
   "metadata": {},
   "outputs": [],
   "source": [
    "palette = sns.color_palette('colorblind')\n",
    "plt.style.use(['seaborn-colorblind'])\n",
    "plt.rc('font', family='Arial')\n",
    "SMALL_SIZE = 11\n",
    "BIGGER_SIZE = 14\n",
    "plt.rc('font', size=SMALL_SIZE) # controls default text sizes\n",
    "plt.rc('axes', titlesize=SMALL_SIZE) # fontsize of the axes title\n",
    "plt.rc('axes', labelsize=BIGGER_SIZE) # fontsize of the x and y labels\n",
    "plt.rc('xtick', labelsize=SMALL_SIZE) # fontsize of the tick labels\n",
    "plt.rc('ytick', labelsize=SMALL_SIZE) # fontsize of the tick labels\n",
    "plt.rc('legend', fontsize=SMALL_SIZE) # legend fontsize\n",
    "plt.rcParams['xtick.bottom'] = True\n",
    "plt.rcParams['ytick.left'] = True\n",
    "plt.rcParams['xtick.direction'] = 'inout'\n",
    "plt.rcParams['ytick.direction'] = 'inout'\n",
    "plt.rcParams['xtick.major.size'] = 5\n",
    "plt.rcParams['xtick.minor.size'] = 3\n",
    "plt.rcParams['xtick.major.width'] = 1\n",
    "plt.rcParams['ytick.major.size'] = 5\n",
    "plt.rcParams['ytick.minor.size'] = 3\n",
    "plt.rcParams['ytick.major.width'] = 1"
   ]
  },
  {
   "cell_type": "code",
   "execution_count": 3,
   "id": "841f996a",
   "metadata": {},
   "outputs": [
    {
     "ename": "SyntaxError",
     "evalue": "invalid character in identifier (4142224530.py, line 8)",
     "output_type": "error",
     "traceback": [
      "\u001b[1;36m  File \u001b[1;32m\"C:\\Users\\mbd\\AppData\\Local\\Temp\\ipykernel_27588\\4142224530.py\"\u001b[1;36m, line \u001b[1;32m8\u001b[0m\n\u001b[1;33m    →kNN-predicted(\"labels\")\u001b[0m\n\u001b[1;37m       ^\u001b[0m\n\u001b[1;31mSyntaxError\u001b[0m\u001b[1;31m:\u001b[0m invalid character in identifier\n"
     ]
    }
   ],
   "source": [
    "path = 'C:\\Users\\mbd\\OneDrive - Akvaplan-niva AS\\PhD-APN\\ChaptersandExperiments\\AZKABAN-light\\ZoopMix_paper'\n",
    "\n",
    "main_path = f'{path}\\2022-11-15_kNN_NewCopepods_NewTracks\\'\n",
    "pred_path = '_Predictions.pkl'\n",
    "cv_path = '_NestedCV.pkl'\n",
    "trackavg_path = '_NewTracks_TrackAvg_Predictions.pkl'\n",
    "tracked_path = '_NewTracks_SED-Tracked_Predictions.pkl'\n",
    "best_params = '_BestParams.pkl'\n",
    "pred_df = pd.read_pickle(main_path + pred_path) # Echoview SED file with␣\n",
    ",→kNN-predicted labels\n",
    "1\n",
    "pred_df.reset_index(drop=True, inplace=True)\n",
    "cv_df = pd.read_pickle(main_path + cv_path) # Nested CV results\n",
    "trackavg_df = pd.read_pickle(main_path + trackavg_path)\n",
    "tracked_df = pd.read_pickle(main_path + tracked_path)\n",
    "best_params = pd.read_pickle(main_path + best_params)\n",
    "model_path = r'C:\\Users\\mbd\\OneDrive - Akvaplan-niva AS\\PhD-APN\\ChaptersandExperiments\\AZKABAN-light\\ZoopMix_paper\\AZKABAN_ZoopMix_data_FullBandwidth_newcopepod.feather'\n",
    "model_df = pd.read_feather(model_path)\n",
    "# Restructure model_df to match ev_df\n",
    "n_species = len(model_df.spec.unique())\n",
    "n_models_per_species = 1000\n",
    "freqs = [float(i) for i in model_df.freq.unique()]\n",
    "n_model_f_bins = len(freqs) # No. of freq bins\n",
    "X_list = []\n",
    "y_list = []\n",
    "start_lim = 0\n",
    "stop_lim = n_model_f_bins\n",
    "for i in range(n_species * n_models_per_species):\n",
    "TS_array = model_df.TS[start_lim:stop_lim].values\n",
    "species_label = model_df.spec[start_lim:stop_lim].values[0]\n",
    "X_list.append(TS_array)\n",
    "y_list.append(species_label)\n",
    "start_lim += n_model_f_bins\n",
    "stop_lim += n_model_f_bins\n",
    "model_df = pd.DataFrame(X_list, columns=freqs)\n",
    "model_df['Species'] = y_list"
   ]
  },
  {
   "cell_type": "code",
   "execution_count": null,
   "id": "5aef099e",
   "metadata": {},
   "outputs": [],
   "source": []
  }
 ],
 "metadata": {
  "kernelspec": {
   "display_name": "Python 3 (ipykernel)",
   "language": "python",
   "name": "python3"
  },
  "language_info": {
   "codemirror_mode": {
    "name": "ipython",
    "version": 3
   },
   "file_extension": ".py",
   "mimetype": "text/x-python",
   "name": "python",
   "nbconvert_exporter": "python",
   "pygments_lexer": "ipython3",
   "version": "3.7.11"
  }
 },
 "nbformat": 4,
 "nbformat_minor": 5
}
