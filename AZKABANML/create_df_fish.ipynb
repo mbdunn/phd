{
 "cells": [
  {
   "cell_type": "markdown",
   "id": "f40377a2",
   "metadata": {},
   "source": [
    "Function to create a spectral response data frame for each frequency band and a corresponding track dataframe"
   ]
  },
  {
   "cell_type": "code",
   "execution_count": 1,
   "id": "eab9c33e",
   "metadata": {},
   "outputs": [],
   "source": [
    "import time\n",
    "import os.path\n",
    "import numpy as np\n",
    "import pandas as pd\n",
    "import pickle\n",
    "import scipy\n",
    "from sklearn.preprocessing import LabelEncoder\n",
    "from sklearn.model_selection import StratifiedKFold, GroupKFold\n",
    "from sklearn.metrics import f1_score, confusion_matrix\n",
    "#from sklearn.neighbors import KNeighborsClassifier\n",
    "import hyperopt\n",
    "from hyperopt import hp\n",
    "from hyperopt import tpe\n",
    "from hpsklearn import HyperoptEstimator, k_neighbors_classifier, svc, lightgbm_classification, random_forest_classifier\n",
    "from sklearn.metrics import ConfusionMatrixDisplay\n",
    "import lightgbm\n",
    "from datetime import timedelta\n",
    "from tenacity import retry, stop_after_attempt\n",
    "import matplotlib.pyplot as plt\n",
    "\n",
    "import sys, errno"
   ]
  },
  {
   "cell_type": "code",
   "execution_count": 2,
   "id": "b2319ec6",
   "metadata": {},
   "outputs": [],
   "source": [
    "# -- USER-DETERMINED PARAMETERS -----------------------------------------------\n",
    "letter_drive = 'F'\n",
    "path = f'{letter_drive}:/AFKABAN/review2024/'\n",
    "ppath = f'{letter_drive}:/AFKABAN/Pcod_190123/select/'\n",
    "p2path = f'{letter_drive}:/AFKABAN/Pcod2_240123/select/'\n",
    "apath = f'{letter_drive}:/AFKABAN/Acod_200123/select/'\n",
    "pbpath = f'{letter_drive}:/AFKABAN/Pandalus_260123/select/'\n",
    "\n",
    "# CLASSIFIER\n",
    "unique_id = '13-03-2023_SVC_AFKABAN' # Unique ID for output file paths\n",
    "clf = svc(unique_id)  # Classifier\n",
    "\n",
    "# NESTED CROSS-VALIDATION\n",
    "#preprocessing = [] # List of sklearn pre-processing modules\n",
    "#ex_preprocessing = [] # As above, see help(HyperoptEstimator) for info\n",
    "n_splits = 2 # Value of k for k-fold cross-validation in outer loop\n",
    "n_folds = 2 # Value of k for k-fold cross-validation in inner loop\n",
    "max_evals = 10 # No. of HyperOpt trials\n",
    "timeout = 600 # HyperOpt trial timeout (seconds)\n",
    "n_jobs = -1 # No. of jobs to run in parallel; -1 uses all processors\n",
    "retry_limit = 3 # No. of times to retry before failing"
   ]
  },
  {
   "cell_type": "markdown",
   "id": "664acfb7",
   "metadata": {},
   "source": [
    "# Read the dataframes"
   ]
  },
  {
   "cell_type": "code",
   "execution_count": 3,
   "id": "485f0cf7",
   "metadata": {},
   "outputs": [],
   "source": [
    "# Read pickle to open on Stokes\n",
    "a_df = pd.read_feather(apath+'/a_tilt_df.feather')\n",
    "p_df = pd.read_feather(ppath+'/p_tilt_df.feather')\n",
    "p2_df = pd.read_feather(p2path+'/p2_tilt_df.feather')\n",
    "pb_df = pd.read_feather(pbpath+'/pb_tilt_df.feather')"
   ]
  },
  {
   "cell_type": "code",
   "execution_count": 4,
   "id": "6e958d3f",
   "metadata": {},
   "outputs": [],
   "source": [
    "def select_ts_bandwidth(df):\n",
    "    'Function to seperated target spectra from 120 kHz and 200 kHz echosounders'\n",
    "    ind_120 = np.where(np.isnan(df['201.129']))[0]\n",
    "    ts_s_120 = np.where(df.columns.values=='90.000')[0][0]\n",
    "    ts_e_120 = np.where(df.columns.values=='162.581')[0][0]\n",
    "    track_col = np.where(a_df.columns.values ==['Region_name'])[0][0]\n",
    "\n",
    "    ind_200 = np.where(np.isnan(df['120.242']))[0]\n",
    "    ts_s_200 = np.where(df.columns.values=='185.000')[0][0]\n",
    "    ts_e_200 = np.where(df.columns.values=='255.565')[0][0]\n",
    "\n",
    "    df_120 = df.iloc[ind_120,ts_s_120:ts_e_120]\n",
    "    df_200 = df.iloc[ind_200,ts_s_200:ts_e_200]\n",
    "\n",
    "    track_120 = df.iloc[ind_120,track_col]\n",
    "    track_200 = df.iloc[ind_200,track_col]\n",
    "\n",
    "    return df_120, df_200, track_120, track_200"
   ]
  },
  {
   "cell_type": "code",
   "execution_count": 5,
   "id": "7cedb51d",
   "metadata": {},
   "outputs": [],
   "source": [
    "a_df_120, a_df_200, a_track_120, a_track_200 = select_ts_bandwidth(a_df)\n",
    "p_df_120, p_df_200, p_track_120, p_track_200 = select_ts_bandwidth(p_df)\n",
    "p2_df_120, p2_df_200, p2_track_120, p2_track_200 = select_ts_bandwidth(p2_df)\n",
    "pb_df_120, pb_df_200, pb_track_120, pb_track_200 = select_ts_bandwidth(pb_df)"
   ]
  },
  {
   "cell_type": "markdown",
   "id": "ab39c3cf",
   "metadata": {},
   "source": [
    "# Classification functions"
   ]
  },
  {
   "cell_type": "code",
   "execution_count": 6,
   "id": "3d5fccd3",
   "metadata": {},
   "outputs": [],
   "source": [
    "SED_120_df = pd.concat([a_df_120,p_df_120,p2_df_120,pb_df_120])\n",
    "track_120_df = pd.concat([a_track_120,p_track_120,p2_track_120,pb_track_120]).to_frame()\n",
    "\n",
    "Species = np.concatenate([np.repeat('Atlantic cod',len(a_df_120)),np.repeat('Polar cod',len(p_df_120)),np.repeat('Polar cod',len(p2_df_120)),np.repeat('Northern shrimp',len(pb_df_120))])\n",
    "SED_120_df['Species']=Species"
   ]
  },
  {
   "cell_type": "code",
   "execution_count": 7,
   "id": "1e1b4bde",
   "metadata": {},
   "outputs": [],
   "source": [
    "SED_200_df = pd.concat([a_df_200,p_df_200,p2_df_200,pb_df_200])\n",
    "track_200_df = pd.concat([a_track_200,p_track_200,p2_track_200,pb_track_200]).to_frame()\n",
    "\n",
    "Species = np.concatenate([np.repeat('Atlantic cod',len(a_df_200)),np.repeat('Polar cod',len(p_df_200)),np.repeat('Polar cod',len(p2_df_200)),np.repeat('Northern shrimp',len(pb_df_200))])\n",
    "SED_200_df['Species']=Species"
   ]
  },
  {
   "cell_type": "code",
   "execution_count": 9,
   "id": "36966d07",
   "metadata": {},
   "outputs": [],
   "source": [
    "SED_120_df = SED_120_df.reset_index(drop=True)\n",
    "SED_200_df = SED_200_df.reset_index(drop=True)\n",
    "\n",
    "track_120_df = track_120_df.reset_index(drop=True)\n",
    "track_200_df = track_200_df.reset_index(drop=True)"
   ]
  },
  {
   "cell_type": "code",
   "execution_count": 10,
   "id": "ff286cdf",
   "metadata": {},
   "outputs": [],
   "source": [
    "SED_120_df.to_feather(f'{path}/SED_120_df.feather')\n",
    "SED_200_df.to_feather(f'{path}/SED_200_df.feather')\n",
    "\n",
    "track_120_df.to_feather(f'{path}/track_120_df.feather')\n",
    "track_200_df.to_feather(f'{path}/track_200_df.feather')\n"
   ]
  },
  {
   "cell_type": "markdown",
   "id": "7eff6791",
   "metadata": {},
   "source": []
  }
 ],
 "metadata": {
  "kernelspec": {
   "display_name": "Python 3 (ipykernel)",
   "language": "python",
   "name": "python3"
  },
  "language_info": {
   "codemirror_mode": {
    "name": "ipython",
    "version": 3
   },
   "file_extension": ".py",
   "mimetype": "text/x-python",
   "name": "python",
   "nbconvert_exporter": "python",
   "pygments_lexer": "ipython3",
   "version": "3.9.19"
  }
 },
 "nbformat": 4,
 "nbformat_minor": 5
}
