{
 "cells": [
  {
   "cell_type": "markdown",
   "id": "ecaa482c",
   "metadata": {},
   "source": [
    "In this notebook we solve the problem of the imbalance of classes in the AFKABAN datasets"
   ]
  },
  {
   "cell_type": "code",
   "execution_count": 1,
   "id": "d5005d97",
   "metadata": {},
   "outputs": [],
   "source": [
    "import time\n",
    "import os.path\n",
    "import numpy as np\n",
    "import pandas as pd\n",
    "import pickle\n",
    "import random\n",
    "from sklearn.preprocessing import LabelEncoder\n",
    "from sklearn.model_selection import StratifiedKFold, GroupKFold\n",
    "from sklearn.metrics import f1_score, confusion_matrix\n",
    "import hyperopt\n",
    "from hyperopt import tpe\n",
    "from hpsklearn import HyperoptEstimator\n",
    "from sklearn.neighbors import KNeighborsClassifier\n",
    "from datetime import timedelta\n",
    "from tenacity import retry, stop_after_attempt\n",
    "import sys, errno\n",
    "import AZKABANML"
   ]
  },
  {
   "cell_type": "code",
   "execution_count": 2,
   "id": "b1c060d0",
   "metadata": {},
   "outputs": [],
   "source": [
    "# Set paths\n",
    "path = 'F:/AFKABAN/review2024'\n",
    "classifypath = 'F:/AFKABAN/Classify/'\n",
    "\n",
    "df_120 = pd.read_feather(f'{path}/SED_120_df.feather')\n",
    "df_200 = pd.read_feather(f'{path}/SED_200_df.feather')\n",
    "\n",
    "track_120 = pd.read_feather(f'{path}/track_120_df.feather')\n",
    "track_200 = pd.read_feather(f'{path}/track_200_df.feather')\n",
    "\n",
    "#df_120_w_h = pd.read_feather(f'{path}/df_120_w_h.feather')\n",
    "#df_200_w_h = pd.read_feather(f'{path}/df_200_w_h.feather')"
   ]
  },
  {
   "cell_type": "code",
   "execution_count": 3,
   "id": "f3b4a50f",
   "metadata": {},
   "outputs": [],
   "source": [
    "df_train = df_120.loc[:,:].copy()\n",
    "\n",
    "le = LabelEncoder() # Maps labels -> int (e.g. Atlantic cod -> 0, Polar cod -> 1)\n",
    "df_train['Species_le'] = le.fit_transform(df_train.Species)\n",
    "X = df_train.iloc[:,:-2].to_numpy() # Features, TS(f) only\n",
    "y = df_train.loc[:,'Species_le'].to_numpy() # Labels"
   ]
  },
  {
   "cell_type": "code",
   "execution_count": 4,
   "id": "9aadd236",
   "metadata": {},
   "outputs": [],
   "source": [
    "cv = GroupKFold(n_splits=5)\n",
    "i_list = []\n",
    "i_start=0\n",
    "for tr_i, te_i in cv.split(X,y, track_120):\n",
    "        i_list.append([tr_i, te_i])"
   ]
  },
  {
   "cell_type": "code",
   "execution_count": 7,
   "id": "80fb4545",
   "metadata": {},
   "outputs": [
    {
     "name": "stdout",
     "output_type": "stream",
     "text": [
      "Beginning fold 1 of 5\n",
      "[0 1 2]\n",
      "Beginning fold 2 of 5\n",
      "[0 1 2]\n",
      "Beginning fold 3 of 5\n",
      "[0 1 2]\n",
      "Beginning fold 4 of 5\n",
      "[0 1 2]\n",
      "Beginning fold 5 of 5\n",
      "[0 2]\n"
     ]
    }
   ],
   "source": [
    "for i in range(i_start, len(i_list)):\n",
    "    results_list = []\n",
    "    print('Beginning fold ' + str(i+1) + ' of ' + str(len(i_list)))\n",
    "\n",
    "    # Split data into training and test tests\n",
    "    X_train = X[i_list[i][0]]\n",
    "    y_train = y[i_list[i][0]]\n",
    "    X_test = X[i_list[i][1]]\n",
    "    y_test = y[i_list[i][1]]\n",
    "    print(np.unique(y_test))\n",
    "    #print(track_120.iloc[i_list[i][0]])\n",
    "    #print(track_120.iloc[i_list[i][1]])\n",
    "\n",
    "    start = time.time()"
   ]
  },
  {
   "cell_type": "code",
   "execution_count": null,
   "id": "968ef2db",
   "metadata": {},
   "outputs": [],
   "source": []
  }
 ],
 "metadata": {
  "kernelspec": {
   "display_name": "Python 3 (ipykernel)",
   "language": "python",
   "name": "python3"
  },
  "language_info": {
   "codemirror_mode": {
    "name": "ipython",
    "version": 3
   },
   "file_extension": ".py",
   "mimetype": "text/x-python",
   "name": "python",
   "nbconvert_exporter": "python",
   "pygments_lexer": "ipython3",
   "version": "3.9.19"
  }
 },
 "nbformat": 4,
 "nbformat_minor": 5
}
