{
 "cells": [
  {
   "cell_type": "markdown",
   "metadata": {},
   "source": [
    "This notebook will plot the biological samples with the nearest boat and sailbuoy acoustics."
   ]
  },
  {
   "cell_type": "code",
   "execution_count": 2,
   "metadata": {},
   "outputs": [],
   "source": [
    "import glob\n",
    "import numpy as np\n",
    "import pandas as pd\n",
    "from netCDF4 import Dataset\n",
    "import matplotlib.pyplot as plt\n",
    "import matplotlib.image as mpimg\n",
    "import cartopy.crs as ccrs\n",
    "import cartopy\n",
    "import sb_tools\n",
    "import seaborn as sns\n",
    "\n",
    "from math import radians, cos, sin, asin, sqrt\n",
    "from pyechoplot.plotting import plot_Sv, plot_mask, save_png_plot, setup_ek500_cmap\n"
   ]
  },
  {
   "cell_type": "code",
   "execution_count": 3,
   "metadata": {},
   "outputs": [],
   "source": [
    "sns.set_theme(style=\"darkgrid\")\n",
    "sns.color_palette(\"viridis\", as_cmap=True)\n",
    "sns.set(rc={'figure.figsize':(11.7,8.27)})\n",
    "title_font = {\n",
    "    'fontname': 'DejaVu Sans', 'size': '15', 'color': 'black',\n",
    "    'weight': 'medium'\n",
    "}\n",
    "axis_font = {'fontname': 'DejaVu Sans', 'size': '15', 'color': 'black'}"
   ]
  },
  {
   "cell_type": "markdown",
   "metadata": {},
   "source": [
    "# Extract time and positions closest to stations\n",
    "For boat acoustics and SB\n",
    "Stations of interest in Tromsøflaket are Station 7, 9, 11, 15, 16 and 17."
   ]
  },
  {
   "cell_type": "code",
   "execution_count": 4,
   "metadata": {},
   "outputs": [],
   "source": [
    "SP_stations_df = pd.read_excel('C:/Users/mbd/OneDrive - Akvaplan-niva AS/PhD-APN/ChaptersandExperiments/Tromsøflaket/SeaPatchesStations.xlsx',header=0)\n",
    "SP_lons = SP_stations_df['longitude (deg)']\n",
    "SP_lats = SP_stations_df['latitude (deg)']\n",
    "stn_num = SP_stations_df['Station']"
   ]
  },
  {
   "cell_type": "code",
   "execution_count": 5,
   "metadata": {},
   "outputs": [
    {
     "data": {
      "text/html": [
       "<div>\n",
       "<style scoped>\n",
       "    .dataframe tbody tr th:only-of-type {\n",
       "        vertical-align: middle;\n",
       "    }\n",
       "\n",
       "    .dataframe tbody tr th {\n",
       "        vertical-align: top;\n",
       "    }\n",
       "\n",
       "    .dataframe thead th {\n",
       "        text-align: right;\n",
       "    }\n",
       "</style>\n",
       "<table border=\"1\" class=\"dataframe\">\n",
       "  <thead>\n",
       "    <tr style=\"text-align: right;\">\n",
       "      <th></th>\n",
       "      <th>GPS_date</th>\n",
       "      <th>GPS_time</th>\n",
       "      <th>Latitude</th>\n",
       "      <th>Longitude</th>\n",
       "      <th>GPS_datetime</th>\n",
       "    </tr>\n",
       "  </thead>\n",
       "  <tbody>\n",
       "    <tr>\n",
       "      <th>0</th>\n",
       "      <td>2018-06-20</td>\n",
       "      <td>17:55:02</td>\n",
       "      <td>69.691767</td>\n",
       "      <td>16.675131</td>\n",
       "      <td>2018-06-20 17:55:02</td>\n",
       "    </tr>\n",
       "    <tr>\n",
       "      <th>1</th>\n",
       "      <td>2018-06-20</td>\n",
       "      <td>17:55:02</td>\n",
       "      <td>69.691767</td>\n",
       "      <td>16.675131</td>\n",
       "      <td>2018-06-20 17:55:02</td>\n",
       "    </tr>\n",
       "    <tr>\n",
       "      <th>2</th>\n",
       "      <td>2018-06-20</td>\n",
       "      <td>17:55:02</td>\n",
       "      <td>69.691767</td>\n",
       "      <td>16.675131</td>\n",
       "      <td>2018-06-20 17:55:02</td>\n",
       "    </tr>\n",
       "    <tr>\n",
       "      <th>3</th>\n",
       "      <td>2018-06-20</td>\n",
       "      <td>17:55:03</td>\n",
       "      <td>69.691780</td>\n",
       "      <td>16.675205</td>\n",
       "      <td>2018-06-20 17:55:03</td>\n",
       "    </tr>\n",
       "    <tr>\n",
       "      <th>4</th>\n",
       "      <td>2018-06-20</td>\n",
       "      <td>17:55:03</td>\n",
       "      <td>69.691780</td>\n",
       "      <td>16.675205</td>\n",
       "      <td>2018-06-20 17:55:03</td>\n",
       "    </tr>\n",
       "    <tr>\n",
       "      <th>...</th>\n",
       "      <td>...</td>\n",
       "      <td>...</td>\n",
       "      <td>...</td>\n",
       "      <td>...</td>\n",
       "      <td>...</td>\n",
       "    </tr>\n",
       "    <tr>\n",
       "      <th>3389536</th>\n",
       "      <td>2018-06-27</td>\n",
       "      <td>06:50:17</td>\n",
       "      <td>69.800275</td>\n",
       "      <td>19.384785</td>\n",
       "      <td>2018-06-27 06:50:17</td>\n",
       "    </tr>\n",
       "    <tr>\n",
       "      <th>3389537</th>\n",
       "      <td>2018-06-27</td>\n",
       "      <td>06:50:17</td>\n",
       "      <td>69.800275</td>\n",
       "      <td>19.384785</td>\n",
       "      <td>2018-06-27 06:50:17</td>\n",
       "    </tr>\n",
       "    <tr>\n",
       "      <th>3389538</th>\n",
       "      <td>2018-06-27</td>\n",
       "      <td>06:50:17</td>\n",
       "      <td>69.800270</td>\n",
       "      <td>19.384726</td>\n",
       "      <td>2018-06-27 06:50:17</td>\n",
       "    </tr>\n",
       "    <tr>\n",
       "      <th>3389539</th>\n",
       "      <td>2018-06-27</td>\n",
       "      <td>06:50:17</td>\n",
       "      <td>69.800270</td>\n",
       "      <td>19.384726</td>\n",
       "      <td>2018-06-27 06:50:17</td>\n",
       "    </tr>\n",
       "    <tr>\n",
       "      <th>3389540</th>\n",
       "      <td>2018-06-27</td>\n",
       "      <td>06:50:17</td>\n",
       "      <td>69.800270</td>\n",
       "      <td>19.384726</td>\n",
       "      <td>2018-06-27 06:50:17</td>\n",
       "    </tr>\n",
       "  </tbody>\n",
       "</table>\n",
       "<p>3389541 rows × 5 columns</p>\n",
       "</div>"
      ],
      "text/plain": [
       "           GPS_date  GPS_time   Latitude  Longitude        GPS_datetime\n",
       "0        2018-06-20  17:55:02  69.691767  16.675131 2018-06-20 17:55:02\n",
       "1        2018-06-20  17:55:02  69.691767  16.675131 2018-06-20 17:55:02\n",
       "2        2018-06-20  17:55:02  69.691767  16.675131 2018-06-20 17:55:02\n",
       "3        2018-06-20  17:55:03  69.691780  16.675205 2018-06-20 17:55:03\n",
       "4        2018-06-20  17:55:03  69.691780  16.675205 2018-06-20 17:55:03\n",
       "...             ...       ...        ...        ...                 ...\n",
       "3389536  2018-06-27  06:50:17  69.800275  19.384785 2018-06-27 06:50:17\n",
       "3389537  2018-06-27  06:50:17  69.800275  19.384785 2018-06-27 06:50:17\n",
       "3389538  2018-06-27  06:50:17  69.800270  19.384726 2018-06-27 06:50:17\n",
       "3389539  2018-06-27  06:50:17  69.800270  19.384726 2018-06-27 06:50:17\n",
       "3389540  2018-06-27  06:50:17  69.800270  19.384726 2018-06-27 06:50:17\n",
       "\n",
       "[3389541 rows x 5 columns]"
      ]
     },
     "execution_count": 5,
     "metadata": {},
     "output_type": "execute_result"
    }
   ],
   "source": [
    "#load Sailbuoy position\n",
    "SB_gps_df = pd.read_excel('C:/Users/mbd/OneDrive - Akvaplan-niva AS/PhD-APN/ChaptersandExperiments/Tromsøflaket/SB_env_tromsøflaket2018.xlsx',header=0, engine=\"openpyxl\")\n",
    "\n",
    "#load Sea patches cruise location\n",
    "SP_gps_df_20 = pd.read_csv('C:/Users/mbd/OneDrive - Akvaplan-niva AS/PhD-APN/ChaptersandExperiments/Tromsøflaket/SP_GPSExport_20.gps.csv', usecols=[1,2,4,5])\n",
    "SP_gps_df = pd.read_csv('C:/Users/mbd/OneDrive - Akvaplan-niva AS/PhD-APN/ChaptersandExperiments/Tromsøflaket/SP_GPSExport.gps.csv', usecols=[1,2,4,5])\n",
    "SP_gps_df = pd.concat([SP_gps_df_20, SP_gps_df], ignore_index=True)\n",
    "# Add datetime\n",
    "SP_gps_df['GPS_datetime']=pd.to_datetime(SP_gps_df['GPS_date']+' '+SP_gps_df['GPS_time'])\n",
    "SP_gps_df\n"
   ]
  },
  {
   "cell_type": "code",
   "execution_count": 6,
   "metadata": {},
   "outputs": [],
   "source": [
    "def distance(s_lat, s_lng, e_lat, e_lng):\n",
    "\n",
    "   # approximate radius of earth in km\n",
    "   R = 6373.0\n",
    "\n",
    "   s_lat = s_lat*np.pi/180.0                      \n",
    "   s_lng = np.deg2rad(s_lng)     \n",
    "   e_lat = np.deg2rad(e_lat)                       \n",
    "   e_lng = np.deg2rad(e_lng)  \n",
    "\n",
    "   d = np.sin((e_lat - s_lat)/2)**2 + np.cos(s_lat)*np.cos(e_lat) * np.sin((e_lng - s_lng)/2)**2\n",
    "\n",
    "   return 2 * R * np.arcsin(np.sqrt(d))"
   ]
  },
  {
   "cell_type": "code",
   "execution_count": 7,
   "metadata": {},
   "outputs": [],
   "source": [
    "flaket_stations = np.array([7,9,11,15,16,17])\n",
    "SB_closest_index = np.zeros(len(flaket_stations))\n",
    "SP_closest_index = np.zeros(len(flaket_stations))\n",
    "\n",
    "for ind in range(len(flaket_stations)):\n",
    "    station_index = flaket_stations[ind]-1\n",
    "    \n",
    "    # Nearest Sailbuoy location to station\n",
    "    dist = distance(SP_lats[station_index],SP_lons[station_index], SB_gps_df['latitude (deg)'], SB_gps_df['longitude (deg)'])\n",
    "    SB_closest_index[ind] = np.argmin(dist)\n",
    "    \n",
    "    #Nearest sea patches cruise to station\n",
    "    dist_SP = distance(SP_lats[station_index],SP_lons[station_index], SP_gps_df['Latitude'], SP_gps_df['Longitude'])\n",
    "    SP_closest_index[ind] = np.argmin(dist_SP)"
   ]
  },
  {
   "cell_type": "markdown",
   "metadata": {},
   "source": [
    "# When was it closest?"
   ]
  },
  {
   "cell_type": "code",
   "execution_count": 8,
   "metadata": {},
   "outputs": [
    {
     "data": {
      "text/plain": [
       "3.0     2018-06-21 09:40:00\n",
       "52.0    2018-06-25 13:30:00\n",
       "34.0    2018-06-22 11:00:00\n",
       "85.0    2018-06-26 22:30:00\n",
       "127.0   2018-06-29 22:00:00\n",
       "119.0   2018-06-29 06:00:00\n",
       "Name: datetime, dtype: datetime64[ns]"
      ]
     },
     "execution_count": 8,
     "metadata": {},
     "output_type": "execute_result"
    }
   ],
   "source": [
    "SB_gps_df['datetime'][SB_closest_index]"
   ]
  },
  {
   "cell_type": "code",
   "execution_count": 9,
   "metadata": {},
   "outputs": [
    {
     "data": {
      "text/plain": [
       "215955.0    2018-06-21 03:54:54\n",
       "1018320.0   2018-06-22 17:03:40\n",
       "1297692.0   2018-06-23 05:59:40\n",
       "1924278.0   2018-06-24 11:00:10\n",
       "2326203.0   2018-06-25 05:36:37\n",
       "2630523.0   2018-06-25 19:41:56\n",
       "Name: GPS_datetime, dtype: datetime64[ns]"
      ]
     },
     "execution_count": 9,
     "metadata": {},
     "output_type": "execute_result"
    }
   ],
   "source": [
    "SP_gps_df['GPS_datetime'][SP_closest_index]"
   ]
  },
  {
   "cell_type": "markdown",
   "metadata": {},
   "source": [
    "# Open and extract Sv \n",
    "From boat and SB acoustics. Using code from SSLEM toolbox, Proud et al. 2015"
   ]
  },
  {
   "cell_type": "code",
   "execution_count": 10,
   "metadata": {},
   "outputs": [
    {
     "name": "stdout",
     "output_type": "stream",
     "text": [
      "3.0   2018-06-21 09:40:00\n",
      "Name: datetime, dtype: datetime64[ns]\n",
      "215955.0   2018-06-21 03:54:54\n",
      "Name: GPS_datetime, dtype: datetime64[ns]\n"
     ]
    }
   ],
   "source": [
    "# Time nearest to Station 7\n",
    "stn_ind = SB_closest_index[flaket_stations == 7]\n",
    "print(SB_gps_df['datetime'][stn_ind])\n",
    "\n",
    "SP_stn_ind = SP_closest_index[flaket_stations == 7]\n",
    "print(SP_gps_df['GPS_datetime'][SP_stn_ind])\n"
   ]
  },
  {
   "cell_type": "code",
   "execution_count": 11,
   "metadata": {},
   "outputs": [
    {
     "ename": "XLRDError",
     "evalue": "Unsupported format, or corrupt file: Expected BOF record; found b'\\xef\\xbb\\xbfProce'",
     "output_type": "error",
     "traceback": [
      "\u001b[1;31m---------------------------------------------------------------------------\u001b[0m",
      "\u001b[1;31mXLRDError\u001b[0m                                 Traceback (most recent call last)",
      "\u001b[1;32m<ipython-input-11-e1dfed945b54>\u001b[0m in \u001b[0;36m<module>\u001b[1;34m\u001b[0m\n\u001b[0;32m      9\u001b[0m \u001b[0mfname_SB\u001b[0m \u001b[1;33m=\u001b[0m \u001b[1;34m'D:/GLIDER2018/Echosounder/EVexport/SBanalysis_20180621_24.csv'\u001b[0m\u001b[1;33m\u001b[0m\u001b[1;33m\u001b[0m\u001b[0m\n\u001b[0;32m     10\u001b[0m \u001b[1;31m# Open excel file into dataframe\u001b[0m\u001b[1;33m\u001b[0m\u001b[1;33m\u001b[0m\u001b[1;33m\u001b[0m\u001b[0m\n\u001b[1;32m---> 11\u001b[1;33m \u001b[0mSB_df\u001b[0m \u001b[1;33m=\u001b[0m \u001b[0mpd\u001b[0m\u001b[1;33m.\u001b[0m\u001b[0mread_excel\u001b[0m\u001b[1;33m(\u001b[0m\u001b[0mfname_SB\u001b[0m\u001b[1;33m,\u001b[0m \u001b[0mheader\u001b[0m\u001b[1;33m=\u001b[0m\u001b[1;36m0\u001b[0m\u001b[1;33m)\u001b[0m\u001b[1;33m\u001b[0m\u001b[1;33m\u001b[0m\u001b[0m\n\u001b[0m\u001b[0;32m     12\u001b[0m \u001b[1;31m## Put the mean Sv data into a table, with x axis as pings and y axis as layer depth min (for now)\u001b[0m\u001b[1;33m\u001b[0m\u001b[1;33m\u001b[0m\u001b[1;33m\u001b[0m\u001b[0m\n\u001b[0;32m     13\u001b[0m \u001b[0mSv_table_SB\u001b[0m \u001b[1;33m=\u001b[0m \u001b[0mSB_df\u001b[0m\u001b[1;33m.\u001b[0m\u001b[0mpivot\u001b[0m\u001b[1;33m(\u001b[0m\u001b[0mindex\u001b[0m\u001b[1;33m=\u001b[0m\u001b[1;34m'Layer_depth_min'\u001b[0m\u001b[1;33m,\u001b[0m \u001b[0mcolumns\u001b[0m\u001b[1;33m=\u001b[0m\u001b[1;34m'Ping_S'\u001b[0m\u001b[1;33m,\u001b[0m \u001b[0mvalues\u001b[0m\u001b[1;33m=\u001b[0m\u001b[1;34m'Sv_mean'\u001b[0m\u001b[1;33m)\u001b[0m\u001b[1;33m\u001b[0m\u001b[1;33m\u001b[0m\u001b[0m\n",
      "\u001b[1;32m~\\anaconda3\\lib\\site-packages\\pandas\\io\\excel\\_base.py\u001b[0m in \u001b[0;36mread_excel\u001b[1;34m(io, sheet_name, header, names, index_col, usecols, squeeze, dtype, engine, converters, true_values, false_values, skiprows, nrows, na_values, keep_default_na, verbose, parse_dates, date_parser, thousands, comment, skipfooter, convert_float, mangle_dupe_cols, **kwds)\u001b[0m\n\u001b[0;32m    302\u001b[0m \u001b[1;33m\u001b[0m\u001b[0m\n\u001b[0;32m    303\u001b[0m     \u001b[1;32mif\u001b[0m \u001b[1;32mnot\u001b[0m \u001b[0misinstance\u001b[0m\u001b[1;33m(\u001b[0m\u001b[0mio\u001b[0m\u001b[1;33m,\u001b[0m \u001b[0mExcelFile\u001b[0m\u001b[1;33m)\u001b[0m\u001b[1;33m:\u001b[0m\u001b[1;33m\u001b[0m\u001b[1;33m\u001b[0m\u001b[0m\n\u001b[1;32m--> 304\u001b[1;33m         \u001b[0mio\u001b[0m \u001b[1;33m=\u001b[0m \u001b[0mExcelFile\u001b[0m\u001b[1;33m(\u001b[0m\u001b[0mio\u001b[0m\u001b[1;33m,\u001b[0m \u001b[0mengine\u001b[0m\u001b[1;33m=\u001b[0m\u001b[0mengine\u001b[0m\u001b[1;33m)\u001b[0m\u001b[1;33m\u001b[0m\u001b[1;33m\u001b[0m\u001b[0m\n\u001b[0m\u001b[0;32m    305\u001b[0m     \u001b[1;32melif\u001b[0m \u001b[0mengine\u001b[0m \u001b[1;32mand\u001b[0m \u001b[0mengine\u001b[0m \u001b[1;33m!=\u001b[0m \u001b[0mio\u001b[0m\u001b[1;33m.\u001b[0m\u001b[0mengine\u001b[0m\u001b[1;33m:\u001b[0m\u001b[1;33m\u001b[0m\u001b[1;33m\u001b[0m\u001b[0m\n\u001b[0;32m    306\u001b[0m         raise ValueError(\n",
      "\u001b[1;32m~\\anaconda3\\lib\\site-packages\\pandas\\io\\excel\\_base.py\u001b[0m in \u001b[0;36m__init__\u001b[1;34m(self, io, engine)\u001b[0m\n\u001b[0;32m    822\u001b[0m         \u001b[0mself\u001b[0m\u001b[1;33m.\u001b[0m\u001b[0m_io\u001b[0m \u001b[1;33m=\u001b[0m \u001b[0mstringify_path\u001b[0m\u001b[1;33m(\u001b[0m\u001b[0mio\u001b[0m\u001b[1;33m)\u001b[0m\u001b[1;33m\u001b[0m\u001b[1;33m\u001b[0m\u001b[0m\n\u001b[0;32m    823\u001b[0m \u001b[1;33m\u001b[0m\u001b[0m\n\u001b[1;32m--> 824\u001b[1;33m         \u001b[0mself\u001b[0m\u001b[1;33m.\u001b[0m\u001b[0m_reader\u001b[0m \u001b[1;33m=\u001b[0m \u001b[0mself\u001b[0m\u001b[1;33m.\u001b[0m\u001b[0m_engines\u001b[0m\u001b[1;33m[\u001b[0m\u001b[0mengine\u001b[0m\u001b[1;33m]\u001b[0m\u001b[1;33m(\u001b[0m\u001b[0mself\u001b[0m\u001b[1;33m.\u001b[0m\u001b[0m_io\u001b[0m\u001b[1;33m)\u001b[0m\u001b[1;33m\u001b[0m\u001b[1;33m\u001b[0m\u001b[0m\n\u001b[0m\u001b[0;32m    825\u001b[0m \u001b[1;33m\u001b[0m\u001b[0m\n\u001b[0;32m    826\u001b[0m     \u001b[1;32mdef\u001b[0m \u001b[0m__fspath__\u001b[0m\u001b[1;33m(\u001b[0m\u001b[0mself\u001b[0m\u001b[1;33m)\u001b[0m\u001b[1;33m:\u001b[0m\u001b[1;33m\u001b[0m\u001b[1;33m\u001b[0m\u001b[0m\n",
      "\u001b[1;32m~\\anaconda3\\lib\\site-packages\\pandas\\io\\excel\\_xlrd.py\u001b[0m in \u001b[0;36m__init__\u001b[1;34m(self, filepath_or_buffer)\u001b[0m\n\u001b[0;32m     19\u001b[0m         \u001b[0merr_msg\u001b[0m \u001b[1;33m=\u001b[0m \u001b[1;34m\"Install xlrd >= 1.0.0 for Excel support\"\u001b[0m\u001b[1;33m\u001b[0m\u001b[1;33m\u001b[0m\u001b[0m\n\u001b[0;32m     20\u001b[0m         \u001b[0mimport_optional_dependency\u001b[0m\u001b[1;33m(\u001b[0m\u001b[1;34m\"xlrd\"\u001b[0m\u001b[1;33m,\u001b[0m \u001b[0mextra\u001b[0m\u001b[1;33m=\u001b[0m\u001b[0merr_msg\u001b[0m\u001b[1;33m)\u001b[0m\u001b[1;33m\u001b[0m\u001b[1;33m\u001b[0m\u001b[0m\n\u001b[1;32m---> 21\u001b[1;33m         \u001b[0msuper\u001b[0m\u001b[1;33m(\u001b[0m\u001b[1;33m)\u001b[0m\u001b[1;33m.\u001b[0m\u001b[0m__init__\u001b[0m\u001b[1;33m(\u001b[0m\u001b[0mfilepath_or_buffer\u001b[0m\u001b[1;33m)\u001b[0m\u001b[1;33m\u001b[0m\u001b[1;33m\u001b[0m\u001b[0m\n\u001b[0m\u001b[0;32m     22\u001b[0m \u001b[1;33m\u001b[0m\u001b[0m\n\u001b[0;32m     23\u001b[0m     \u001b[1;33m@\u001b[0m\u001b[0mproperty\u001b[0m\u001b[1;33m\u001b[0m\u001b[1;33m\u001b[0m\u001b[0m\n",
      "\u001b[1;32m~\\anaconda3\\lib\\site-packages\\pandas\\io\\excel\\_base.py\u001b[0m in \u001b[0;36m__init__\u001b[1;34m(self, filepath_or_buffer)\u001b[0m\n\u001b[0;32m    351\u001b[0m             \u001b[0mself\u001b[0m\u001b[1;33m.\u001b[0m\u001b[0mbook\u001b[0m \u001b[1;33m=\u001b[0m \u001b[0mself\u001b[0m\u001b[1;33m.\u001b[0m\u001b[0mload_workbook\u001b[0m\u001b[1;33m(\u001b[0m\u001b[0mfilepath_or_buffer\u001b[0m\u001b[1;33m)\u001b[0m\u001b[1;33m\u001b[0m\u001b[1;33m\u001b[0m\u001b[0m\n\u001b[0;32m    352\u001b[0m         \u001b[1;32melif\u001b[0m \u001b[0misinstance\u001b[0m\u001b[1;33m(\u001b[0m\u001b[0mfilepath_or_buffer\u001b[0m\u001b[1;33m,\u001b[0m \u001b[0mstr\u001b[0m\u001b[1;33m)\u001b[0m\u001b[1;33m:\u001b[0m\u001b[1;33m\u001b[0m\u001b[1;33m\u001b[0m\u001b[0m\n\u001b[1;32m--> 353\u001b[1;33m             \u001b[0mself\u001b[0m\u001b[1;33m.\u001b[0m\u001b[0mbook\u001b[0m \u001b[1;33m=\u001b[0m \u001b[0mself\u001b[0m\u001b[1;33m.\u001b[0m\u001b[0mload_workbook\u001b[0m\u001b[1;33m(\u001b[0m\u001b[0mfilepath_or_buffer\u001b[0m\u001b[1;33m)\u001b[0m\u001b[1;33m\u001b[0m\u001b[1;33m\u001b[0m\u001b[0m\n\u001b[0m\u001b[0;32m    354\u001b[0m         \u001b[1;32melif\u001b[0m \u001b[0misinstance\u001b[0m\u001b[1;33m(\u001b[0m\u001b[0mfilepath_or_buffer\u001b[0m\u001b[1;33m,\u001b[0m \u001b[0mbytes\u001b[0m\u001b[1;33m)\u001b[0m\u001b[1;33m:\u001b[0m\u001b[1;33m\u001b[0m\u001b[1;33m\u001b[0m\u001b[0m\n\u001b[0;32m    355\u001b[0m             \u001b[0mself\u001b[0m\u001b[1;33m.\u001b[0m\u001b[0mbook\u001b[0m \u001b[1;33m=\u001b[0m \u001b[0mself\u001b[0m\u001b[1;33m.\u001b[0m\u001b[0mload_workbook\u001b[0m\u001b[1;33m(\u001b[0m\u001b[0mBytesIO\u001b[0m\u001b[1;33m(\u001b[0m\u001b[0mfilepath_or_buffer\u001b[0m\u001b[1;33m)\u001b[0m\u001b[1;33m)\u001b[0m\u001b[1;33m\u001b[0m\u001b[1;33m\u001b[0m\u001b[0m\n",
      "\u001b[1;32m~\\anaconda3\\lib\\site-packages\\pandas\\io\\excel\\_xlrd.py\u001b[0m in \u001b[0;36mload_workbook\u001b[1;34m(self, filepath_or_buffer)\u001b[0m\n\u001b[0;32m     34\u001b[0m             \u001b[1;32mreturn\u001b[0m \u001b[0mopen_workbook\u001b[0m\u001b[1;33m(\u001b[0m\u001b[0mfile_contents\u001b[0m\u001b[1;33m=\u001b[0m\u001b[0mdata\u001b[0m\u001b[1;33m)\u001b[0m\u001b[1;33m\u001b[0m\u001b[1;33m\u001b[0m\u001b[0m\n\u001b[0;32m     35\u001b[0m         \u001b[1;32melse\u001b[0m\u001b[1;33m:\u001b[0m\u001b[1;33m\u001b[0m\u001b[1;33m\u001b[0m\u001b[0m\n\u001b[1;32m---> 36\u001b[1;33m             \u001b[1;32mreturn\u001b[0m \u001b[0mopen_workbook\u001b[0m\u001b[1;33m(\u001b[0m\u001b[0mfilepath_or_buffer\u001b[0m\u001b[1;33m)\u001b[0m\u001b[1;33m\u001b[0m\u001b[1;33m\u001b[0m\u001b[0m\n\u001b[0m\u001b[0;32m     37\u001b[0m \u001b[1;33m\u001b[0m\u001b[0m\n\u001b[0;32m     38\u001b[0m     \u001b[1;33m@\u001b[0m\u001b[0mproperty\u001b[0m\u001b[1;33m\u001b[0m\u001b[1;33m\u001b[0m\u001b[0m\n",
      "\u001b[1;32m~\\anaconda3\\lib\\site-packages\\xlrd\\__init__.py\u001b[0m in \u001b[0;36mopen_workbook\u001b[1;34m(filename, logfile, verbosity, use_mmap, file_contents, encoding_override, formatting_info, on_demand, ragged_rows)\u001b[0m\n\u001b[0;32m    155\u001b[0m         \u001b[0mformatting_info\u001b[0m\u001b[1;33m=\u001b[0m\u001b[0mformatting_info\u001b[0m\u001b[1;33m,\u001b[0m\u001b[1;33m\u001b[0m\u001b[1;33m\u001b[0m\u001b[0m\n\u001b[0;32m    156\u001b[0m         \u001b[0mon_demand\u001b[0m\u001b[1;33m=\u001b[0m\u001b[0mon_demand\u001b[0m\u001b[1;33m,\u001b[0m\u001b[1;33m\u001b[0m\u001b[1;33m\u001b[0m\u001b[0m\n\u001b[1;32m--> 157\u001b[1;33m         \u001b[0mragged_rows\u001b[0m\u001b[1;33m=\u001b[0m\u001b[0mragged_rows\u001b[0m\u001b[1;33m,\u001b[0m\u001b[1;33m\u001b[0m\u001b[1;33m\u001b[0m\u001b[0m\n\u001b[0m\u001b[0;32m    158\u001b[0m     )\n\u001b[0;32m    159\u001b[0m     \u001b[1;32mreturn\u001b[0m \u001b[0mbk\u001b[0m\u001b[1;33m\u001b[0m\u001b[1;33m\u001b[0m\u001b[0m\n",
      "\u001b[1;32m~\\anaconda3\\lib\\site-packages\\xlrd\\book.py\u001b[0m in \u001b[0;36mopen_workbook_xls\u001b[1;34m(filename, logfile, verbosity, use_mmap, file_contents, encoding_override, formatting_info, on_demand, ragged_rows)\u001b[0m\n\u001b[0;32m     90\u001b[0m         \u001b[0mt1\u001b[0m \u001b[1;33m=\u001b[0m \u001b[0mperf_counter\u001b[0m\u001b[1;33m(\u001b[0m\u001b[1;33m)\u001b[0m\u001b[1;33m\u001b[0m\u001b[1;33m\u001b[0m\u001b[0m\n\u001b[0;32m     91\u001b[0m         \u001b[0mbk\u001b[0m\u001b[1;33m.\u001b[0m\u001b[0mload_time_stage_1\u001b[0m \u001b[1;33m=\u001b[0m \u001b[0mt1\u001b[0m \u001b[1;33m-\u001b[0m \u001b[0mt0\u001b[0m\u001b[1;33m\u001b[0m\u001b[1;33m\u001b[0m\u001b[0m\n\u001b[1;32m---> 92\u001b[1;33m         \u001b[0mbiff_version\u001b[0m \u001b[1;33m=\u001b[0m \u001b[0mbk\u001b[0m\u001b[1;33m.\u001b[0m\u001b[0mgetbof\u001b[0m\u001b[1;33m(\u001b[0m\u001b[0mXL_WORKBOOK_GLOBALS\u001b[0m\u001b[1;33m)\u001b[0m\u001b[1;33m\u001b[0m\u001b[1;33m\u001b[0m\u001b[0m\n\u001b[0m\u001b[0;32m     93\u001b[0m         \u001b[1;32mif\u001b[0m \u001b[1;32mnot\u001b[0m \u001b[0mbiff_version\u001b[0m\u001b[1;33m:\u001b[0m\u001b[1;33m\u001b[0m\u001b[1;33m\u001b[0m\u001b[0m\n\u001b[0;32m     94\u001b[0m             \u001b[1;32mraise\u001b[0m \u001b[0mXLRDError\u001b[0m\u001b[1;33m(\u001b[0m\u001b[1;34m\"Can't determine file's BIFF version\"\u001b[0m\u001b[1;33m)\u001b[0m\u001b[1;33m\u001b[0m\u001b[1;33m\u001b[0m\u001b[0m\n",
      "\u001b[1;32m~\\anaconda3\\lib\\site-packages\\xlrd\\book.py\u001b[0m in \u001b[0;36mgetbof\u001b[1;34m(self, rqd_stream)\u001b[0m\n\u001b[0;32m   1276\u001b[0m             \u001b[0mbof_error\u001b[0m\u001b[1;33m(\u001b[0m\u001b[1;34m'Expected BOF record; met end of file'\u001b[0m\u001b[1;33m)\u001b[0m\u001b[1;33m\u001b[0m\u001b[1;33m\u001b[0m\u001b[0m\n\u001b[0;32m   1277\u001b[0m         \u001b[1;32mif\u001b[0m \u001b[0mopcode\u001b[0m \u001b[1;32mnot\u001b[0m \u001b[1;32min\u001b[0m \u001b[0mbofcodes\u001b[0m\u001b[1;33m:\u001b[0m\u001b[1;33m\u001b[0m\u001b[1;33m\u001b[0m\u001b[0m\n\u001b[1;32m-> 1278\u001b[1;33m             \u001b[0mbof_error\u001b[0m\u001b[1;33m(\u001b[0m\u001b[1;34m'Expected BOF record; found %r'\u001b[0m \u001b[1;33m%\u001b[0m \u001b[0mself\u001b[0m\u001b[1;33m.\u001b[0m\u001b[0mmem\u001b[0m\u001b[1;33m[\u001b[0m\u001b[0msavpos\u001b[0m\u001b[1;33m:\u001b[0m\u001b[0msavpos\u001b[0m\u001b[1;33m+\u001b[0m\u001b[1;36m8\u001b[0m\u001b[1;33m]\u001b[0m\u001b[1;33m)\u001b[0m\u001b[1;33m\u001b[0m\u001b[1;33m\u001b[0m\u001b[0m\n\u001b[0m\u001b[0;32m   1279\u001b[0m         \u001b[0mlength\u001b[0m \u001b[1;33m=\u001b[0m \u001b[0mself\u001b[0m\u001b[1;33m.\u001b[0m\u001b[0mget2bytes\u001b[0m\u001b[1;33m(\u001b[0m\u001b[1;33m)\u001b[0m\u001b[1;33m\u001b[0m\u001b[1;33m\u001b[0m\u001b[0m\n\u001b[0;32m   1280\u001b[0m         \u001b[1;32mif\u001b[0m \u001b[0mlength\u001b[0m \u001b[1;33m==\u001b[0m \u001b[0mMY_EOF\u001b[0m\u001b[1;33m:\u001b[0m\u001b[1;33m\u001b[0m\u001b[1;33m\u001b[0m\u001b[0m\n",
      "\u001b[1;32m~\\anaconda3\\lib\\site-packages\\xlrd\\book.py\u001b[0m in \u001b[0;36mbof_error\u001b[1;34m(msg)\u001b[0m\n\u001b[0;32m   1270\u001b[0m \u001b[1;33m\u001b[0m\u001b[0m\n\u001b[0;32m   1271\u001b[0m         \u001b[1;32mdef\u001b[0m \u001b[0mbof_error\u001b[0m\u001b[1;33m(\u001b[0m\u001b[0mmsg\u001b[0m\u001b[1;33m)\u001b[0m\u001b[1;33m:\u001b[0m\u001b[1;33m\u001b[0m\u001b[1;33m\u001b[0m\u001b[0m\n\u001b[1;32m-> 1272\u001b[1;33m             \u001b[1;32mraise\u001b[0m \u001b[0mXLRDError\u001b[0m\u001b[1;33m(\u001b[0m\u001b[1;34m'Unsupported format, or corrupt file: '\u001b[0m \u001b[1;33m+\u001b[0m \u001b[0mmsg\u001b[0m\u001b[1;33m)\u001b[0m\u001b[1;33m\u001b[0m\u001b[1;33m\u001b[0m\u001b[0m\n\u001b[0m\u001b[0;32m   1273\u001b[0m         \u001b[0msavpos\u001b[0m \u001b[1;33m=\u001b[0m \u001b[0mself\u001b[0m\u001b[1;33m.\u001b[0m\u001b[0m_position\u001b[0m\u001b[1;33m\u001b[0m\u001b[1;33m\u001b[0m\u001b[0m\n\u001b[0;32m   1274\u001b[0m         \u001b[0mopcode\u001b[0m \u001b[1;33m=\u001b[0m \u001b[0mself\u001b[0m\u001b[1;33m.\u001b[0m\u001b[0mget2bytes\u001b[0m\u001b[1;33m(\u001b[0m\u001b[1;33m)\u001b[0m\u001b[1;33m\u001b[0m\u001b[1;33m\u001b[0m\u001b[0m\n",
      "\u001b[1;31mXLRDError\u001b[0m: Unsupported format, or corrupt file: Expected BOF record; found b'\\xef\\xbb\\xbfProce'"
     ]
    }
   ],
   "source": [
    "fname = 'D:/GLIDER2018/Echosounder/EVexport/boat_20180622PM.xlsx'\n",
    "# Open excel file into dataframe\n",
    "Sv_df = pd.read_excel(fname, header=0)\n",
    "## Put the mean Sv data into a table, with x axis as pings and y axis as layer depth min (for now)\n",
    "Sv_table = Sv_df.pivot(index='Layer_depth_min', columns='Ping_S', values='Sv_mean')\n",
    "# Convert dataframe to numpy array to comply with the algorithm\n",
    "Sv = np.array(Sv_table)\n",
    "\n",
    "fname_SB = 'D:/GLIDER2018/Echosounder/EVexport/SBanalysis_20180621_24.csv'\n",
    "# Open excel file into dataframe\n",
    "SB_df = pd.read_excel(fname_SB, header=0)\n",
    "## Put the mean Sv data into a table, with x axis as pings and y axis as layer depth min (for now)\n",
    "Sv_table_SB = SB_df.pivot(index='Layer_depth_min', columns='Ping_S', values='Sv_mean')\n",
    "# Convert dataframe to numpy array to comply with the algorithm\n",
    "Sv_SB = np.array(Sv_table_SB)\n",
    "\n",
    "\n",
    "plt.figure(figsize=(15,10))\n",
    "plt.subplot(3,1,1)\n",
    "plot_Sv(Sv_SB)\n",
    "plt.subplot(3,1,2)\n",
    "plot_Sv(Sv)\n",
    "plt.title('Findings at Station 7')"
   ]
  },
  {
   "cell_type": "code",
   "execution_count": null,
   "metadata": {},
   "outputs": [],
   "source": [
    "# Time nearest to Station 9\n",
    "stn_ind = closest_index[flaket_stations == 9]\n",
    "print(SB_env_df['datetime'][stn_ind])\n",
    "\n",
    "SP_stn_ind = SP_closest_index[flaket_stations == 9]\n",
    "print(SP_env_df['GPS_datetime'][SP_stn_ind])\n"
   ]
  },
  {
   "cell_type": "code",
   "execution_count": null,
   "metadata": {},
   "outputs": [],
   "source": [
    "fname = 'D:/GLIDER2018/Echosounder/EVexport/boat_20180625PM.xlsx'\n",
    "# Open excel file into dataframe\n",
    "Sv_df = pd.read_excel(fname, header=0)\n",
    "## Put the mean Sv data into a table, with x axis as pings and y axis as layer depth min (for now)\n",
    "Sv_table = Sv_df.pivot(index='Layer_depth_min', columns='Ping_S', values='Sv_mean')\n",
    "# Convert dataframe to numpy array to comply with the algorithm\n",
    "Sv = np.array(Sv_table)\n",
    "\n",
    "fname_SB = 'D:/GLIDER2018/Echosounder/EVexport/SBanalysis_20180625pm.xlsx'\n",
    "# Open excel file into dataframe\n",
    "SB_df = pd.read_excel(fname_SB, header=0)\n",
    "## Put the mean Sv data into a table, with x axis as pings and y axis as layer depth min (for now)\n",
    "Sv_table_SB = SB_df.pivot(index='Layer_depth_min', columns='Ping_S', values='Sv_mean')\n",
    "# Convert dataframe to numpy array to comply with the algorithm\n",
    "Sv_SB = np.array(Sv_table_SB)\n",
    "\n",
    "\n",
    "plt.figure(figsize=(15,10))\n",
    "plt.subplot(3,1,1)\n",
    "plot_Sv(Sv)\n",
    "plt.subplot(3,1,2)\n",
    "plot_Sv(Sv_SB)\n",
    "plt.title('Findings at Station 9')"
   ]
  },
  {
   "cell_type": "code",
   "execution_count": null,
   "metadata": {},
   "outputs": [],
   "source": []
  },
  {
   "cell_type": "code",
   "execution_count": null,
   "metadata": {},
   "outputs": [],
   "source": [
    "# Time nearest to Station 11\n",
    "\n",
    "SP_stn_ind = SP_closest_index[flaket_stations == 16]\n",
    "print(SP_env_df['GPS_datetime'][SP_stn_ind])\n",
    "\n",
    "stn_ind = closest_index[flaket_stations == 16]\n",
    "print(SB_env_df['datetime'][stn_ind])\n"
   ]
  },
  {
   "cell_type": "code",
   "execution_count": null,
   "metadata": {},
   "outputs": [],
   "source": [
    "fname = 'D:/GLIDER2018/Echosounder/EVexport/boat_20180625AM.xlsx'\n",
    "# Open excel file into dataframe\n",
    "Sv_df = pd.read_excel(fname, header=0)\n",
    "## Put the mean Sv data into a table, with x axis as pings and y axis as layer depth min (for now)\n",
    "Sv_table = Sv_df.pivot(index='Layer_depth_min', columns='Ping_S', values='Sv_mean')\n",
    "# Convert dataframe to numpy array to comply with the algorithm\n",
    "Sv = np.array(Sv_table)\n",
    "\n",
    "fname_SB = 'D:/GLIDER2018/Echosounder/EVexport/SBanalysis_20180629pm.xlsx'\n",
    "# Open excel file into dataframe\n",
    "SB_df = pd.read_excel(fname_SB, header=0)\n",
    "## Put the mean Sv data into a table, with x axis as pings and y axis as layer depth min (for now)\n",
    "Sv_table_SB = SB_df.pivot(index='Layer_depth_min', columns='Ping_S', values='Sv_mean')\n",
    "# Convert dataframe to numpy array to comply with the algorithm\n",
    "Sv_SB = np.array(Sv_table_SB)\n",
    "\n",
    "\n",
    "plt.figure(figsize=(15,10))\n",
    "plt.subplot(3,1,1)\n",
    "plt.imshow(Sv)\n",
    "plt.subplot(3,1,2)\n",
    "plot_Sv(Sv_SB)\n",
    "plt.title('Findings at Station 9')"
   ]
  },
  {
   "cell_type": "code",
   "execution_count": null,
   "metadata": {},
   "outputs": [],
   "source": [
    "Date= pd.to_datetime(Sv_df.Date_M, format='%Y%m%d')\n",
    "Datetime = pd.to_datetime(Date.dt.strftime('%Y%m%d')+ \" \"+ Sv_df.Time_M.astype('str'))\n",
    "\n",
    "fig = plt.figure()\n",
    "c = plt.pcolor(np.unique(Datetime),np.unique(Sv_df['Layer_depth_min']),Sv, cmap=\"viridis\", vmin=-84, vmax=-34)\n",
    "fig.colorbar(c)"
   ]
  },
  {
   "cell_type": "code",
   "execution_count": null,
   "metadata": {},
   "outputs": [],
   "source": [
    "np.shape(Sv)"
   ]
  },
  {
   "cell_type": "code",
   "execution_count": null,
   "metadata": {},
   "outputs": [],
   "source": [
    "np.shape(np.unique(Sv_df['Layer_depth_min']))"
   ]
  },
  {
   "cell_type": "code",
   "execution_count": null,
   "metadata": {},
   "outputs": [],
   "source": [
    "np.shape(np.unique(Sv_df['Date_M','Time_M']))"
   ]
  },
  {
   "cell_type": "code",
   "execution_count": null,
   "metadata": {},
   "outputs": [],
   "source": [
    "pd.to_datetime(Sv_df['Date_M']+' '+Sv_df['Time_M'])"
   ]
  },
  {
   "cell_type": "code",
   "execution_count": null,
   "metadata": {},
   "outputs": [],
   "source": [
    "Date= pd.to_datetime(Sv_df.Date_M, format='%Y%m%d')\n",
    "Datetime = pd.to_datetime(Date.dt.strftime('%Y%m%d')+ \" \"+ Sv_df.Time_M.astype('str'))"
   ]
  },
  {
   "cell_type": "code",
   "execution_count": null,
   "metadata": {},
   "outputs": [],
   "source": [
    "np.unique(Datetime)"
   ]
  },
  {
   "cell_type": "code",
   "execution_count": null,
   "metadata": {},
   "outputs": [],
   "source": []
  }
 ],
 "metadata": {
  "kernelspec": {
   "display_name": "Python 3",
   "language": "python",
   "name": "python3"
  },
  "language_info": {
   "codemirror_mode": {
    "name": "ipython",
    "version": 3
   },
   "file_extension": ".py",
   "mimetype": "text/x-python",
   "name": "python",
   "nbconvert_exporter": "python",
   "pygments_lexer": "ipython3",
   "version": "3.7.7"
  }
 },
 "nbformat": 4,
 "nbformat_minor": 4
}
