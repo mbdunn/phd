{
 "cells": [
  {
   "cell_type": "code",
   "execution_count": 41,
   "metadata": {},
   "outputs": [
    {
     "ename": "ModuleNotFoundError",
     "evalue": "No module named 'echopype.azfp'",
     "output_type": "error",
     "traceback": [
      "\u001b[1;31m---------------------------------------------------------------------------\u001b[0m",
      "\u001b[1;31mModuleNotFoundError\u001b[0m                       Traceback (most recent call last)",
      "\u001b[1;32m<ipython-input-41-24c2f88760ff>\u001b[0m in \u001b[0;36m<module>\u001b[1;34m\u001b[0m\n\u001b[1;32m----> 1\u001b[1;33m \u001b[1;32mfrom\u001b[0m \u001b[0mechopype\u001b[0m\u001b[1;33m.\u001b[0m\u001b[0mazfp\u001b[0m \u001b[1;32mimport\u001b[0m \u001b[0mConvertAZFP\u001b[0m\u001b[1;33m\u001b[0m\u001b[1;33m\u001b[0m\u001b[0m\n\u001b[0m",
      "\u001b[1;31mModuleNotFoundError\u001b[0m: No module named 'echopype.azfp'"
     ]
    }
   ],
   "source": [
    "from echopype.azfp import ConvertAZFP\n"
   ]
  },
  {
   "cell_type": "code",
   "execution_count": 38,
   "metadata": {},
   "outputs": [
    {
     "name": "stdout",
     "output_type": "stream",
     "text": [
      "Help on package echopype.convert in echopype:\n",
      "\n",
      "NAME\n",
      "    echopype.convert\n",
      "\n",
      "PACKAGE CONTENTS\n",
      "    azfp\n",
      "    convert\n",
      "    ek60\n",
      "    set_nc_groups\n",
      "    utils (package)\n",
      "\n",
      "FILE\n",
      "    c:\\users\\xoxmu\\anaconda3\\lib\\site-packages\\echopype\\convert\\__init__.py\n",
      "\n",
      "\n"
     ]
    }
   ],
   "source": [
    "help(ep.convert)"
   ]
  },
  {
   "cell_type": "code",
   "execution_count": null,
   "metadata": {},
   "outputs": [],
   "source": []
  }
 ],
 "metadata": {
  "kernelspec": {
   "display_name": "Python 3",
   "language": "python",
   "name": "python3"
  },
  "language_info": {
   "codemirror_mode": {
    "name": "ipython",
    "version": 3
   },
   "file_extension": ".py",
   "mimetype": "text/x-python",
   "name": "python",
   "nbconvert_exporter": "python",
   "pygments_lexer": "ipython3",
   "version": "3.6.8"
  }
 },
 "nbformat": 4,
 "nbformat_minor": 2
}
