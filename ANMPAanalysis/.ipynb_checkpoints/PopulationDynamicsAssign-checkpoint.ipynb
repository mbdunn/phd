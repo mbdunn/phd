{
 "cells": [
  {
   "cell_type": "markdown",
   "metadata": {},
   "source": [
    "# Assignment for Populations Dynamics\n",
    "### Fish 6001\n",
    "### Muriel Dunn\n",
    "### October 09 2019\n",
    "\n",
    "Find estimates of r and u based on Atlantic Halibut landing data using a surplus population model."
   ]
  },
  {
   "cell_type": "code",
   "execution_count": 85,
   "metadata": {},
   "outputs": [],
   "source": [
    "# Import toolboxes\n",
    "import numpy as np\n",
    "import pandas as pd\n",
    "import matplotlib.pyplot as plt\n",
    "import scipy as sp\n",
    "from scipy import optimize as op"
   ]
  },
  {
   "cell_type": "markdown",
   "metadata": {},
   "source": [
    "### Import landings/year data "
   ]
  },
  {
   "cell_type": "code",
   "execution_count": 52,
   "metadata": {},
   "outputs": [],
   "source": [
    "fname = '../data/Halibut_Landings.csv'\n",
    "#Import landings and year\n",
    "data = pd.read_csv(fname, header=0, usecols=[0,1])\n",
    "T= data.values[:,0]\n",
    "L = data.values[:,1]\n"
   ]
  },
  {
   "cell_type": "markdown",
   "metadata": {},
   "source": [
    "### Initial conditions"
   ]
  },
  {
   "cell_type": "code",
   "execution_count": 53,
   "metadata": {},
   "outputs": [],
   "source": [
    "Bo = 2000\n",
    "K = 75000\n",
    "\n"
   ]
  },
  {
   "cell_type": "markdown",
   "metadata": {},
   "source": [
    "### Make Schaefer model"
   ]
  },
  {
   "cell_type": "code",
   "execution_count": 96,
   "metadata": {},
   "outputs": [],
   "source": [
    "def schaefer(params, L, Bo, K):\n",
    "    # The schaefer model is a suprlus population model used to interatively estimare biomass based on fishing efforts \n",
    "    # and recruitment/growth/natural mortality.\n",
    "    \n",
    "    # Allocate space for results\n",
    "    B = np.empty(np.size(T))\n",
    "    c = np.empty(np.size(T))\n",
    "    #ssq = np.empty(size(T))\n",
    "    \n",
    "    r = params[0]\n",
    "    u = params[1]\n",
    "    \n",
    "    \n",
    "    # Calculate first time step\n",
    "    B[0] = Bo\n",
    "    c[0] = u * Bo #Catch\n",
    "    \n",
    "    for t in np.arange(np.size(T)-1):\n",
    "        B[t+1] = B[t] + r*B[t]*(1-(B[t]/K)) - u*B[t]\n",
    "        \n",
    "    c = u*B[t]\n",
    "\n",
    "    ssq = np.square((L-c))\n",
    "    sum_ssq = np.sum(ssq)\n",
    "    \n",
    "    return  sum_ssq"
   ]
  },
  {
   "cell_type": "markdown",
   "metadata": {},
   "source": [
    "### Optimize schaefer function to find optimal r and u\n",
    "Use python version of R optimize from scipy package.\n"
   ]
  },
  {
   "cell_type": "code",
   "execution_count": 111,
   "metadata": {},
   "outputs": [],
   "source": [
    "res = op.minimize(schaefer,[0.5,0,5], args=(L,Bo,K), method='Nelder-Mead')"
   ]
  },
  {
   "cell_type": "raw",
   "metadata": {},
   "source": []
  },
  {
   "cell_type": "code",
   "execution_count": 102,
   "metadata": {},
   "outputs": [],
   "source": [
    "sum_ssq = schaefer([0.5,0.5],L,Bo,K)"
   ]
  },
  {
   "cell_type": "code",
   "execution_count": null,
   "metadata": {},
   "outputs": [],
   "source": []
  }
 ],
 "metadata": {
  "kernelspec": {
   "display_name": "Python 3",
   "language": "python",
   "name": "python3"
  },
  "language_info": {
   "codemirror_mode": {
    "name": "ipython",
    "version": 3
   },
   "file_extension": ".py",
   "mimetype": "text/x-python",
   "name": "python",
   "nbconvert_exporter": "python",
   "pygments_lexer": "ipython3",
   "version": "3.6.8"
  }
 },
 "nbformat": 4,
 "nbformat_minor": 2
}
