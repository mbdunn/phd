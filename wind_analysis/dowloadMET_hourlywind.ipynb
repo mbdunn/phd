{
 "cells": [
  {
   "cell_type": "markdown",
   "id": "33be019a",
   "metadata": {},
   "source": [
    "In this notebook I will extract hourly wind data of Tromsøflaket from met.no"
   ]
  },
  {
   "cell_type": "markdown",
   "id": "d460e0c2",
   "metadata": {},
   "source": [
    "client ID: 013cae58-0a1e-4921-8131-5a3875e54cd3\n",
    "\n",
    "secret client: 43e48ef1-9434-4616-b8fa-33c019c3a115"
   ]
  },
  {
   "cell_type": "code",
   "execution_count": 31,
   "id": "b1b1dc6d",
   "metadata": {},
   "outputs": [],
   "source": [
    "import requests\n",
    "import numpy as np\n",
    "import pandas as pd\n",
    "import matplotlib.pyplot as plt\n",
    "from datetime import datetime\n",
    "import seaborn as sns\n",
    "%matplotlib inline\n",
    "\n",
    "# Insert your own client ID here`\n",
    "client_id = '013cae58-0a1e-4921-8131-5a3875e54cd3'"
   ]
  },
  {
   "cell_type": "code",
   "execution_count": 32,
   "id": "1b4241c3",
   "metadata": {},
   "outputs": [],
   "source": [
    "sns.set_theme(style=\"darkgrid\")\n",
    "sns.color_palette(\"viridis\", as_cmap=True)\n",
    "title_font = {\n",
    "    'fontname': 'DejaVu Sans', 'size': '15', 'color': 'black',\n",
    "    'weight': 'medium'\n",
    "}\n",
    "axis_font = {'fontname': 'DejaVu Sans', 'size': '15', 'color': 'black'}"
   ]
  },
  {
   "cell_type": "markdown",
   "id": "9983019d",
   "metadata": {},
   "source": [
    "# Get data from met.no\n",
    "\n",
    "https://frost.met.no/python_example.html"
   ]
  },
  {
   "cell_type": "code",
   "execution_count": 2,
   "id": "b386f732",
   "metadata": {},
   "outputs": [],
   "source": [
    "# Define endpoint and parameters\n",
    "endpoint = 'https://frost.met.no/observations/v0.jsonld'\n",
    "parameters = {\n",
    "    'sources': 'SN90720:0',\n",
    "    'elements': 'wind_speed',\n",
    "    'referencetime': '2018-06-20/2018-06-30',\n",
    "}\n",
    "# Issue an HTTP GET request\n",
    "r = requests.get(endpoint, parameters, auth=(client_id,''))\n",
    "# Extract JSON data\n",
    "json = r.json()"
   ]
  },
  {
   "cell_type": "code",
   "execution_count": 3,
   "id": "7dfecd41",
   "metadata": {},
   "outputs": [
    {
     "name": "stdout",
     "output_type": "stream",
     "text": [
      "Data retrieved from frost.met.no!\n"
     ]
    }
   ],
   "source": [
    "# Check if the request worked, print out any errors\n",
    "if r.status_code == 200:\n",
    "    data = json['data']\n",
    "    print('Data retrieved from frost.met.no!')\n",
    "else:\n",
    "    print('Error! Returned status code %s' % r.status_code)\n",
    "    print('Message: %s' % json['error']['message'])\n",
    "    print('Reason: %s' % json['error']['reason'])"
   ]
  },
  {
   "cell_type": "code",
   "execution_count": 4,
   "id": "6bce78e1",
   "metadata": {},
   "outputs": [],
   "source": [
    "# This will return a Dataframe with all of the observations in a table format\n",
    "df = pd.DataFrame()\n",
    "for i in range(len(data)):\n",
    "    row = pd.DataFrame(data[i]['observations'])\n",
    "    row['referenceTime'] = data[i]['referenceTime']\n",
    "    row['sourceId'] = data[i]['sourceId']\n",
    "    df = df.append(row)\n",
    "\n",
    "df = df.reset_index()"
   ]
  },
  {
   "cell_type": "code",
   "execution_count": 5,
   "id": "cc6d24ff",
   "metadata": {},
   "outputs": [
    {
     "data": {
      "text/html": [
       "<div>\n",
       "<style scoped>\n",
       "    .dataframe tbody tr th:only-of-type {\n",
       "        vertical-align: middle;\n",
       "    }\n",
       "\n",
       "    .dataframe tbody tr th {\n",
       "        vertical-align: top;\n",
       "    }\n",
       "\n",
       "    .dataframe thead th {\n",
       "        text-align: right;\n",
       "    }\n",
       "</style>\n",
       "<table border=\"1\" class=\"dataframe\">\n",
       "  <thead>\n",
       "    <tr style=\"text-align: right;\">\n",
       "      <th></th>\n",
       "      <th>index</th>\n",
       "      <th>elementId</th>\n",
       "      <th>value</th>\n",
       "      <th>unit</th>\n",
       "      <th>level</th>\n",
       "      <th>timeOffset</th>\n",
       "      <th>timeResolution</th>\n",
       "      <th>timeSeriesId</th>\n",
       "      <th>performanceCategory</th>\n",
       "      <th>exposureCategory</th>\n",
       "      <th>qualityCode</th>\n",
       "      <th>referenceTime</th>\n",
       "      <th>sourceId</th>\n",
       "    </tr>\n",
       "  </thead>\n",
       "  <tbody>\n",
       "    <tr>\n",
       "      <th>0</th>\n",
       "      <td>0</td>\n",
       "      <td>wind_speed</td>\n",
       "      <td>3.5</td>\n",
       "      <td>m/s</td>\n",
       "      <td>{'levelType': 'height_above_ground', 'unit': '...</td>\n",
       "      <td>PT0H</td>\n",
       "      <td>PT1H</td>\n",
       "      <td>0</td>\n",
       "      <td>C</td>\n",
       "      <td>2</td>\n",
       "      <td>6</td>\n",
       "      <td>2018-06-20T00:00:00.000Z</td>\n",
       "      <td>SN90720:0</td>\n",
       "    </tr>\n",
       "    <tr>\n",
       "      <th>1</th>\n",
       "      <td>0</td>\n",
       "      <td>wind_speed</td>\n",
       "      <td>5.2</td>\n",
       "      <td>m/s</td>\n",
       "      <td>{'levelType': 'height_above_ground', 'unit': '...</td>\n",
       "      <td>PT0H</td>\n",
       "      <td>PT1H</td>\n",
       "      <td>0</td>\n",
       "      <td>C</td>\n",
       "      <td>2</td>\n",
       "      <td>6</td>\n",
       "      <td>2018-06-20T01:00:00.000Z</td>\n",
       "      <td>SN90720:0</td>\n",
       "    </tr>\n",
       "    <tr>\n",
       "      <th>2</th>\n",
       "      <td>0</td>\n",
       "      <td>wind_speed</td>\n",
       "      <td>5.1</td>\n",
       "      <td>m/s</td>\n",
       "      <td>{'levelType': 'height_above_ground', 'unit': '...</td>\n",
       "      <td>PT0H</td>\n",
       "      <td>PT1H</td>\n",
       "      <td>0</td>\n",
       "      <td>C</td>\n",
       "      <td>2</td>\n",
       "      <td>6</td>\n",
       "      <td>2018-06-20T02:00:00.000Z</td>\n",
       "      <td>SN90720:0</td>\n",
       "    </tr>\n",
       "    <tr>\n",
       "      <th>3</th>\n",
       "      <td>0</td>\n",
       "      <td>wind_speed</td>\n",
       "      <td>5.8</td>\n",
       "      <td>m/s</td>\n",
       "      <td>{'levelType': 'height_above_ground', 'unit': '...</td>\n",
       "      <td>PT0H</td>\n",
       "      <td>PT1H</td>\n",
       "      <td>0</td>\n",
       "      <td>C</td>\n",
       "      <td>2</td>\n",
       "      <td>6</td>\n",
       "      <td>2018-06-20T03:00:00.000Z</td>\n",
       "      <td>SN90720:0</td>\n",
       "    </tr>\n",
       "    <tr>\n",
       "      <th>4</th>\n",
       "      <td>0</td>\n",
       "      <td>wind_speed</td>\n",
       "      <td>5.7</td>\n",
       "      <td>m/s</td>\n",
       "      <td>{'levelType': 'height_above_ground', 'unit': '...</td>\n",
       "      <td>PT0H</td>\n",
       "      <td>PT1H</td>\n",
       "      <td>0</td>\n",
       "      <td>C</td>\n",
       "      <td>2</td>\n",
       "      <td>6</td>\n",
       "      <td>2018-06-20T04:00:00.000Z</td>\n",
       "      <td>SN90720:0</td>\n",
       "    </tr>\n",
       "  </tbody>\n",
       "</table>\n",
       "</div>"
      ],
      "text/plain": [
       "   index   elementId  value unit  \\\n",
       "0      0  wind_speed    3.5  m/s   \n",
       "1      0  wind_speed    5.2  m/s   \n",
       "2      0  wind_speed    5.1  m/s   \n",
       "3      0  wind_speed    5.8  m/s   \n",
       "4      0  wind_speed    5.7  m/s   \n",
       "\n",
       "                                               level timeOffset  \\\n",
       "0  {'levelType': 'height_above_ground', 'unit': '...       PT0H   \n",
       "1  {'levelType': 'height_above_ground', 'unit': '...       PT0H   \n",
       "2  {'levelType': 'height_above_ground', 'unit': '...       PT0H   \n",
       "3  {'levelType': 'height_above_ground', 'unit': '...       PT0H   \n",
       "4  {'levelType': 'height_above_ground', 'unit': '...       PT0H   \n",
       "\n",
       "  timeResolution  timeSeriesId performanceCategory exposureCategory  \\\n",
       "0           PT1H             0                   C                2   \n",
       "1           PT1H             0                   C                2   \n",
       "2           PT1H             0                   C                2   \n",
       "3           PT1H             0                   C                2   \n",
       "4           PT1H             0                   C                2   \n",
       "\n",
       "   qualityCode             referenceTime   sourceId  \n",
       "0            6  2018-06-20T00:00:00.000Z  SN90720:0  \n",
       "1            6  2018-06-20T01:00:00.000Z  SN90720:0  \n",
       "2            6  2018-06-20T02:00:00.000Z  SN90720:0  \n",
       "3            6  2018-06-20T03:00:00.000Z  SN90720:0  \n",
       "4            6  2018-06-20T04:00:00.000Z  SN90720:0  "
      ]
     },
     "execution_count": 5,
     "metadata": {},
     "output_type": "execute_result"
    }
   ],
   "source": [
    "df.head()\n"
   ]
  },
  {
   "cell_type": "code",
   "execution_count": 26,
   "id": "79a3ebe2",
   "metadata": {},
   "outputs": [],
   "source": [
    "columns = ['referenceTime','value']\n",
    "df2 = df[columns].copy()\n",
    "df2.referenceTime = pd.to_datetime(df2['referenceTime'])"
   ]
  },
  {
   "cell_type": "code",
   "execution_count": null,
   "id": "5329ff73",
   "metadata": {},
   "outputs": [],
   "source": [
    "\n"
   ]
  },
  {
   "cell_type": "code",
   "execution_count": 39,
   "id": "ca43408e",
   "metadata": {},
   "outputs": [
    {
     "data": {
      "text/plain": [
       "<matplotlib.legend.Legend at 0x1ef23b81fc8>"
      ]
     },
     "execution_count": 39,
     "metadata": {},
     "output_type": "execute_result"
    },
    {
     "data": {
      "image/png": "[encoded data removed]",
      "text/plain": [
       "<Figure size 432x288 with 1 Axes>"
      ]
     },
     "metadata": {},
     "output_type": "display_data"
    }
   ],
   "source": [
    "df2.plot(x='referenceTime')\n",
    "plt.ylabel('Wind speed (m/s)')\n",
    "plt.xlabel('Date')\n",
    "plt.legend(['Hourly maximum at Sommarøya'])"
   ]
  },
  {
   "cell_type": "code",
   "execution_count": 38,
   "id": "d1ad5356",
   "metadata": {},
   "outputs": [
    {
     "ename": "TypeError",
     "evalue": "descriptor 'timestamp' requires a 'datetime.datetime' object but received a 'str'",
     "output_type": "error",
     "traceback": [
      "\u001b[1;31m---------------------------------------------------------------------------\u001b[0m",
      "\u001b[1;31mTypeError\u001b[0m                                 Traceback (most recent call last)",
      "\u001b[1;32m<ipython-input-38-fcfcc1f35ad4>\u001b[0m in \u001b[0;36m<module>\u001b[1;34m\u001b[0m\n\u001b[1;32m----> 1\u001b[1;33m \u001b[0mdatetime\u001b[0m\u001b[1;33m.\u001b[0m\u001b[0mtimestamp\u001b[0m\u001b[1;33m(\u001b[0m\u001b[0mdf2\u001b[0m\u001b[1;33m.\u001b[0m\u001b[0mreferenceTime\u001b[0m\u001b[1;33m[\u001b[0m\u001b[1;36m0\u001b[0m\u001b[1;33m]\u001b[0m\u001b[1;33m)\u001b[0m\u001b[1;33m\u001b[0m\u001b[1;33m\u001b[0m\u001b[0m\n\u001b[0m",
      "\u001b[1;31mTypeError\u001b[0m: descriptor 'timestamp' requires a 'datetime.datetime' object but received a 'str'"
     ]
    }
   ],
   "source": [
    "datetime.timestamp(df2.referenceTime[0])"
   ]
  },
  {
   "cell_type": "code",
   "execution_count": null,
   "id": "02c3de01",
   "metadata": {},
   "outputs": [],
   "source": []
  }
 ],
 "metadata": {
  "kernelspec": {
   "display_name": "Python 3",
   "language": "python",
   "name": "python3"
  },
  "language_info": {
   "codemirror_mode": {
    "name": "ipython",
    "version": 3
   },
   "file_extension": ".py",
   "mimetype": "text/x-python",
   "name": "python",
   "nbconvert_exporter": "python",
   "pygments_lexer": "ipython3",
   "version": "3.7.7"
  }
 },
 "nbformat": 4,
 "nbformat_minor": 5
}
