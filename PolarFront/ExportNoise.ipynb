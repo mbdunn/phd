{
 "cells": [
  {
   "cell_type": "markdown",
   "id": "0c6afe62",
   "metadata": {},
   "source": [
    "In this notebook we will export images from Polar front Sailbuoy data"
   ]
  },
  {
   "cell_type": "code",
   "execution_count": 1,
   "id": "a639a45a",
   "metadata": {},
   "outputs": [],
   "source": [
    "import numpy as np\n",
    "import win32com.client as win32\n",
    "import glob\n",
    "import os"
   ]
  },
  {
   "cell_type": "markdown",
   "id": "0a6e22d9",
   "metadata": {},
   "source": [
    "# Select the EV file"
   ]
  },
  {
   "cell_type": "code",
   "execution_count": 154,
   "id": "46211d5c",
   "metadata": {},
   "outputs": [],
   "source": [
    "# Location of data files\n",
    "ev_noise = 'C:/Users/mbd/OneDrive - Akvaplan-niva AS/PhD-APN/ChaptersandExperiments/AZKABAN-light/ZoopMix_paper/CHELSEY2020-05-05_Noise.EV'\n",
    "\n",
    "raw_path = 'F:/Nya-AZKABAN/Zooplankton_17012022/'\n",
    "\n",
    "export_path = 'C:/Users/mbd/OneDrive - Akvaplan-niva AS/PhD-APN/ChaptersandExperiments/AZKABAN-light/ZoopMix_paper/Noise/'\n"
   ]
  },
  {
   "cell_type": "markdown",
   "id": "d9b1b546",
   "metadata": {},
   "source": [
    "# Run code\n",
    "Automate TS export at different wideband select frequencies\n"
   ]
  },
  {
   "cell_type": "code",
   "execution_count": 159,
   "id": "00802dbf",
   "metadata": {},
   "outputs": [
    {
     "data": {
      "text/plain": [
       "True"
      ]
     },
     "execution_count": 159,
     "metadata": {},
     "output_type": "execute_result"
    }
   ],
   "source": [
    "# Connect to the Echoview application\n",
    "EvApp = win32.Dispatch(\"EchoviewCom.EvApplication\") \n",
    "#EvApp.Minimize()\n",
    "\n",
    "#Create new file\n",
    "EvFile = EvApp.NewFile(ev_noise)\n",
    "\n",
    "# Load data file\n",
    "Fileset = EvFile.Filesets.FindByName('Fileset 1')\n",
    "Fileset.DataFiles.Add(raw_path+'Zoop-17012022-Phase0-D20220117-T112412-7.raw')\n",
    "\n",
    "# Select variable to vary\n",
    "Widebandselect_Var = EvFile.Variables.FindByName('Wideband frequency select 1')\n",
    "Processed_Var = EvFile.Variables.FindByName('Processed data 1')\n",
    "\n",
    "# select region\n",
    "top_line = EvFile.Lines.FindByName('0.5m')\n",
    "bottom_line = EvFile.Lines.FindByName('2.5 m')\n",
    "\n",
    "Processed_Var.CreateLineRelativeRegion('NoiseZone', top_line, bottom_line, 192,850)\n",
    "noisezone = EvFile.Regions.FindByName('NoiseZone')\n",
    "\n",
    "# Change freq subset\n",
    "\n",
    "for freq in np.linspace(185,255,71):\n",
    "    EvApp.Exec(f'{Widebandselect_Var.Name}| Frequency =|{freq}')\n",
    "    Widebandselect_Var.ExportDataForRegion(f'{export_path}noise{freq}.csv',noisezone)\n",
    "    \n",
    "# Close file\n",
    "EvFile.Close()\n",
    "\n",
    "# Quit Echoview\n",
    "EvApp.Quit()"
   ]
  },
  {
   "cell_type": "code",
   "execution_count": null,
   "id": "e56164cd",
   "metadata": {},
   "outputs": [],
   "source": []
  }
 ],
 "metadata": {
  "kernelspec": {
   "display_name": "Python 3 (ipykernel)",
   "language": "python",
   "name": "python3"
  },
  "language_info": {
   "codemirror_mode": {
    "name": "ipython",
    "version": 3
   },
   "file_extension": ".py",
   "mimetype": "text/x-python",
   "name": "python",
   "nbconvert_exporter": "python",
   "pygments_lexer": "ipython3",
   "version": "3.7.11"
  }
 },
 "nbformat": 4,
 "nbformat_minor": 5
}
