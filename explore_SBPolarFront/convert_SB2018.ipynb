{
 "cells": [
  {
   "cell_type": "markdown",
   "id": "cc4b86e8",
   "metadata": {},
   "source": [
    "first convert files to netcdf"
   ]
  },
  {
   "cell_type": "code",
   "execution_count": 1,
   "id": "160d8177",
   "metadata": {},
   "outputs": [],
   "source": [
    "import echopype as ep\n",
    "import xarray as xr\n",
    "import glob\n",
    "import numpy as np\n",
    "import matplotlib.pyplot as plt\n",
    "\n",
    "import warnings\n",
    "warnings.simplefilter(\"ignore\", category=DeprecationWarning)"
   ]
  },
  {
   "cell_type": "code",
   "execution_count": 2,
   "id": "c501078c",
   "metadata": {},
   "outputs": [
    {
     "data": {
      "text/plain": [
       "'0.5.6'"
      ]
     },
     "execution_count": 2,
     "metadata": {},
     "output_type": "execute_result"
    }
   ],
   "source": [
    "ep.__version__"
   ]
  },
  {
   "cell_type": "markdown",
   "id": "ff75352c",
   "metadata": {},
   "source": [
    "Select data files"
   ]
  },
  {
   "cell_type": "code",
   "execution_count": 10,
   "id": "49e51744",
   "metadata": {},
   "outputs": [
    {
     "data": {
      "text/plain": [
       "['F:GLIDER2018/Echosounder/Echosounder\\\\GLIDER_SB_2018_v5-Phase0-D20180611-T000109-0.raw',\n",
       " 'F:GLIDER2018/Echosounder/Echosounder\\\\GLIDER_SB_2018_v5-Phase0-D20180611-T000701-1.raw',\n",
       " 'F:GLIDER2018/Echosounder/Echosounder\\\\GLIDER_SB_2018_v5-Phase0-D20180611-T001252-2.raw',\n",
       " 'F:GLIDER2018/Echosounder/Echosounder\\\\GLIDER_SB_2018_v5-Phase0-D20180611-T003109-0.raw',\n",
       " 'F:GLIDER2018/Echosounder/Echosounder\\\\GLIDER_SB_2018_v5-Phase0-D20180611-T003701-1.raw',\n",
       " 'F:GLIDER2018/Echosounder/Echosounder\\\\GLIDER_SB_2018_v5-Phase0-D20180611-T004252-2.raw',\n",
       " 'F:GLIDER2018/Echosounder/Echosounder\\\\GLIDER_SB_2018_v5-Phase0-D20180611-T010109-0.raw',\n",
       " 'F:GLIDER2018/Echosounder/Echosounder\\\\GLIDER_SB_2018_v5-Phase0-D20180611-T010705-1.raw',\n",
       " 'F:GLIDER2018/Echosounder/Echosounder\\\\GLIDER_SB_2018_v5-Phase0-D20180611-T011303-2.raw',\n",
       " 'F:GLIDER2018/Echosounder/Echosounder\\\\GLIDER_SB_2018_v5-Phase0-D20180611-T013108-0.raw',\n",
       " 'F:GLIDER2018/Echosounder/Echosounder\\\\GLIDER_SB_2018_v5-Phase0-D20180611-T013700-1.raw',\n",
       " 'F:GLIDER2018/Echosounder/Echosounder\\\\GLIDER_SB_2018_v5-Phase0-D20180611-T014251-2.raw',\n",
       " 'F:GLIDER2018/Echosounder/Echosounder\\\\GLIDER_SB_2018_v5-Phase0-D20180611-T020124-0.raw',\n",
       " 'F:GLIDER2018/Echosounder/Echosounder\\\\GLIDER_SB_2018_v5-Phase0-D20180611-T020716-1.raw',\n",
       " 'F:GLIDER2018/Echosounder/Echosounder\\\\GLIDER_SB_2018_v5-Phase0-D20180611-T021307-2.raw',\n",
       " 'F:GLIDER2018/Echosounder/Echosounder\\\\GLIDER_SB_2018_v5-Phase0-D20180611-T023112-0.raw',\n",
       " 'F:GLIDER2018/Echosounder/Echosounder\\\\GLIDER_SB_2018_v5-Phase0-D20180611-T023704-1.raw',\n",
       " 'F:GLIDER2018/Echosounder/Echosounder\\\\GLIDER_SB_2018_v5-Phase0-D20180611-T024255-2.raw',\n",
       " 'F:GLIDER2018/Echosounder/Echosounder\\\\GLIDER_SB_2018_v5-Phase0-D20180611-T030110-0.raw',\n",
       " 'F:GLIDER2018/Echosounder/Echosounder\\\\GLIDER_SB_2018_v5-Phase0-D20180611-T030702-1.raw',\n",
       " 'F:GLIDER2018/Echosounder/Echosounder\\\\GLIDER_SB_2018_v5-Phase0-D20180611-T031255-2.raw',\n",
       " 'F:GLIDER2018/Echosounder/Echosounder\\\\GLIDER_SB_2018_v5-Phase0-D20180611-T033108-0.raw',\n",
       " 'F:GLIDER2018/Echosounder/Echosounder\\\\GLIDER_SB_2018_v5-Phase0-D20180611-T033706-1.raw',\n",
       " 'F:GLIDER2018/Echosounder/Echosounder\\\\GLIDER_SB_2018_v5-Phase0-D20180611-T034257-2.raw',\n",
       " 'F:GLIDER2018/Echosounder/Echosounder\\\\GLIDER_SB_2018_v5-Phase0-D20180611-T040109-0.raw',\n",
       " 'F:GLIDER2018/Echosounder/Echosounder\\\\GLIDER_SB_2018_v5-Phase0-D20180611-T040701-1.raw',\n",
       " 'F:GLIDER2018/Echosounder/Echosounder\\\\GLIDER_SB_2018_v5-Phase0-D20180611-T041252-2.raw',\n",
       " 'F:GLIDER2018/Echosounder/Echosounder\\\\GLIDER_SB_2018_v5-Phase0-D20180611-T043108-0.raw',\n",
       " 'F:GLIDER2018/Echosounder/Echosounder\\\\GLIDER_SB_2018_v5-Phase0-D20180611-T043700-1.raw',\n",
       " 'F:GLIDER2018/Echosounder/Echosounder\\\\GLIDER_SB_2018_v5-Phase0-D20180611-T044251-2.raw',\n",
       " 'F:GLIDER2018/Echosounder/Echosounder\\\\GLIDER_SB_2018_v5-Phase0-D20180611-T050121-0.raw',\n",
       " 'F:GLIDER2018/Echosounder/Echosounder\\\\GLIDER_SB_2018_v5-Phase0-D20180611-T050713-1.raw',\n",
       " 'F:GLIDER2018/Echosounder/Echosounder\\\\GLIDER_SB_2018_v5-Phase0-D20180611-T051304-2.raw',\n",
       " 'F:GLIDER2018/Echosounder/Echosounder\\\\GLIDER_SB_2018_v5-Phase0-D20180611-T053109-0.raw',\n",
       " 'F:GLIDER2018/Echosounder/Echosounder\\\\GLIDER_SB_2018_v5-Phase0-D20180611-T053703-1.raw',\n",
       " 'F:GLIDER2018/Echosounder/Echosounder\\\\GLIDER_SB_2018_v5-Phase0-D20180611-T054255-2.raw',\n",
       " 'F:GLIDER2018/Echosounder/Echosounder\\\\GLIDER_SB_2018_v5-Phase0-D20180611-T060108-0.raw',\n",
       " 'F:GLIDER2018/Echosounder/Echosounder\\\\GLIDER_SB_2018_v5-Phase0-D20180611-T060700-1.raw',\n",
       " 'F:GLIDER2018/Echosounder/Echosounder\\\\GLIDER_SB_2018_v5-Phase0-D20180611-T061256-2.raw',\n",
       " 'F:GLIDER2018/Echosounder/Echosounder\\\\GLIDER_SB_2018_v5-Phase0-D20180611-T063110-0.raw',\n",
       " 'F:GLIDER2018/Echosounder/Echosounder\\\\GLIDER_SB_2018_v5-Phase0-D20180611-T063702-1.raw',\n",
       " 'F:GLIDER2018/Echosounder/Echosounder\\\\GLIDER_SB_2018_v5-Phase0-D20180611-T064259-2.raw',\n",
       " 'F:GLIDER2018/Echosounder/Echosounder\\\\GLIDER_SB_2018_v5-Phase0-D20180611-T070112-0.raw',\n",
       " 'F:GLIDER2018/Echosounder/Echosounder\\\\GLIDER_SB_2018_v5-Phase0-D20180611-T070704-1.raw',\n",
       " 'F:GLIDER2018/Echosounder/Echosounder\\\\GLIDER_SB_2018_v5-Phase0-D20180611-T071301-2.raw',\n",
       " 'F:GLIDER2018/Echosounder/Echosounder\\\\GLIDER_SB_2018_v5-Phase0-D20180611-T073110-0.raw',\n",
       " 'F:GLIDER2018/Echosounder/Echosounder\\\\GLIDER_SB_2018_v5-Phase0-D20180611-T073702-1.raw',\n",
       " 'F:GLIDER2018/Echosounder/Echosounder\\\\GLIDER_SB_2018_v5-Phase0-D20180611-T074259-2.raw',\n",
       " 'F:GLIDER2018/Echosounder/Echosounder\\\\GLIDER_SB_2018_v5-Phase0-D20180611-T080125-0.raw',\n",
       " 'F:GLIDER2018/Echosounder/Echosounder\\\\GLIDER_SB_2018_v5-Phase0-D20180611-T080723-1.raw',\n",
       " 'F:GLIDER2018/Echosounder/Echosounder\\\\GLIDER_SB_2018_v5-Phase0-D20180611-T081320-2.raw',\n",
       " 'F:GLIDER2018/Echosounder/Echosounder\\\\GLIDER_SB_2018_v5-Phase0-D20180611-T083108-0.raw',\n",
       " 'F:GLIDER2018/Echosounder/Echosounder\\\\GLIDER_SB_2018_v5-Phase0-D20180611-T083700-1.raw',\n",
       " 'F:GLIDER2018/Echosounder/Echosounder\\\\GLIDER_SB_2018_v5-Phase0-D20180611-T084300-2.raw',\n",
       " 'F:GLIDER2018/Echosounder/Echosounder\\\\GLIDER_SB_2018_v5-Phase0-D20180611-T090108-0.raw',\n",
       " 'F:GLIDER2018/Echosounder/Echosounder\\\\GLIDER_SB_2018_v5-Phase0-D20180611-T090700-1.raw',\n",
       " 'F:GLIDER2018/Echosounder/Echosounder\\\\GLIDER_SB_2018_v5-Phase0-D20180611-T091257-2.raw',\n",
       " 'F:GLIDER2018/Echosounder/Echosounder\\\\GLIDER_SB_2018_v5-Phase0-D20180611-T093110-0.raw',\n",
       " 'F:GLIDER2018/Echosounder/Echosounder\\\\GLIDER_SB_2018_v5-Phase0-D20180611-T093702-1.raw',\n",
       " 'F:GLIDER2018/Echosounder/Echosounder\\\\GLIDER_SB_2018_v5-Phase0-D20180611-T094303-2.raw',\n",
       " 'F:GLIDER2018/Echosounder/Echosounder\\\\GLIDER_SB_2018_v5-Phase0-D20180611-T100108-0.raw',\n",
       " 'F:GLIDER2018/Echosounder/Echosounder\\\\GLIDER_SB_2018_v5-Phase0-D20180611-T100700-1.raw',\n",
       " 'F:GLIDER2018/Echosounder/Echosounder\\\\GLIDER_SB_2018_v5-Phase0-D20180611-T101257-2.raw',\n",
       " 'F:GLIDER2018/Echosounder/Echosounder\\\\GLIDER_SB_2018_v5-Phase0-D20180611-T103110-0.raw',\n",
       " 'F:GLIDER2018/Echosounder/Echosounder\\\\GLIDER_SB_2018_v5-Phase0-D20180611-T103710-1.raw',\n",
       " 'F:GLIDER2018/Echosounder/Echosounder\\\\GLIDER_SB_2018_v5-Phase0-D20180611-T104307-2.raw',\n",
       " 'F:GLIDER2018/Echosounder/Echosounder\\\\GLIDER_SB_2018_v5-Phase0-D20180611-T110108-0.raw',\n",
       " 'F:GLIDER2018/Echosounder/Echosounder\\\\GLIDER_SB_2018_v5-Phase0-D20180611-T110700-1.raw',\n",
       " 'F:GLIDER2018/Echosounder/Echosounder\\\\GLIDER_SB_2018_v5-Phase0-D20180611-T111257-2.raw',\n",
       " 'F:GLIDER2018/Echosounder/Echosounder\\\\GLIDER_SB_2018_v5-Phase0-D20180611-T113124-0.raw',\n",
       " 'F:GLIDER2018/Echosounder/Echosounder\\\\GLIDER_SB_2018_v5-Phase0-D20180611-T113716-1.raw',\n",
       " 'F:GLIDER2018/Echosounder/Echosounder\\\\GLIDER_SB_2018_v5-Phase0-D20180611-T114313-2.raw',\n",
       " 'F:GLIDER2018/Echosounder/Echosounder\\\\GLIDER_SB_2018_v5-Phase0-D20180611-T120112-0.raw',\n",
       " 'F:GLIDER2018/Echosounder/Echosounder\\\\GLIDER_SB_2018_v5-Phase0-D20180611-T120704-1.raw',\n",
       " 'F:GLIDER2018/Echosounder/Echosounder\\\\GLIDER_SB_2018_v5-Phase0-D20180611-T121301-2.raw',\n",
       " 'F:GLIDER2018/Echosounder/Echosounder\\\\GLIDER_SB_2018_v5-Phase0-D20180611-T123109-0.raw',\n",
       " 'F:GLIDER2018/Echosounder/Echosounder\\\\GLIDER_SB_2018_v5-Phase0-D20180611-T123701-1.raw',\n",
       " 'F:GLIDER2018/Echosounder/Echosounder\\\\GLIDER_SB_2018_v5-Phase0-D20180611-T124258-2.raw',\n",
       " 'F:GLIDER2018/Echosounder/Echosounder\\\\GLIDER_SB_2018_v5-Phase0-D20180611-T130109-0.raw',\n",
       " 'F:GLIDER2018/Echosounder/Echosounder\\\\GLIDER_SB_2018_v5-Phase0-D20180611-T130705-1.raw',\n",
       " 'F:GLIDER2018/Echosounder/Echosounder\\\\GLIDER_SB_2018_v5-Phase0-D20180611-T131305-2.raw',\n",
       " 'F:GLIDER2018/Echosounder/Echosounder\\\\GLIDER_SB_2018_v5-Phase0-D20180611-T133110-0.raw',\n",
       " 'F:GLIDER2018/Echosounder/Echosounder\\\\GLIDER_SB_2018_v5-Phase0-D20180611-T133702-1.raw',\n",
       " 'F:GLIDER2018/Echosounder/Echosounder\\\\GLIDER_SB_2018_v5-Phase0-D20180611-T134259-2.raw',\n",
       " 'F:GLIDER2018/Echosounder/Echosounder\\\\GLIDER_SB_2018_v5-Phase0-D20180611-T140124-0.raw',\n",
       " 'F:GLIDER2018/Echosounder/Echosounder\\\\GLIDER_SB_2018_v5-Phase0-D20180611-T140716-1.raw',\n",
       " 'F:GLIDER2018/Echosounder/Echosounder\\\\GLIDER_SB_2018_v5-Phase0-D20180611-T141313-2.raw',\n",
       " 'F:GLIDER2018/Echosounder/Echosounder\\\\GLIDER_SB_2018_v5-Phase0-D20180611-T143109-0.raw',\n",
       " 'F:GLIDER2018/Echosounder/Echosounder\\\\GLIDER_SB_2018_v5-Phase0-D20180611-T143701-1.raw',\n",
       " 'F:GLIDER2018/Echosounder/Echosounder\\\\GLIDER_SB_2018_v5-Phase0-D20180611-T144258-2.raw',\n",
       " 'F:GLIDER2018/Echosounder/Echosounder\\\\GLIDER_SB_2018_v5-Phase0-D20180611-T150109-0.raw',\n",
       " 'F:GLIDER2018/Echosounder/Echosounder\\\\GLIDER_SB_2018_v5-Phase0-D20180611-T150703-1.raw',\n",
       " 'F:GLIDER2018/Echosounder/Echosounder\\\\GLIDER_SB_2018_v5-Phase0-D20180611-T151302-2.raw',\n",
       " 'F:GLIDER2018/Echosounder/Echosounder\\\\GLIDER_SB_2018_v5-Phase0-D20180611-T153108-0.raw',\n",
       " 'F:GLIDER2018/Echosounder/Echosounder\\\\GLIDER_SB_2018_v5-Phase0-D20180611-T153706-1.raw',\n",
       " 'F:GLIDER2018/Echosounder/Echosounder\\\\GLIDER_SB_2018_v5-Phase0-D20180611-T154304-2.raw',\n",
       " 'F:GLIDER2018/Echosounder/Echosounder\\\\GLIDER_SB_2018_v5-Phase0-D20180611-T160108-0.raw',\n",
       " 'F:GLIDER2018/Echosounder/Echosounder\\\\GLIDER_SB_2018_v5-Phase0-D20180611-T160700-1.raw',\n",
       " 'F:GLIDER2018/Echosounder/Echosounder\\\\GLIDER_SB_2018_v5-Phase0-D20180611-T161257-2.raw',\n",
       " 'F:GLIDER2018/Echosounder/Echosounder\\\\GLIDER_SB_2018_v5-Phase0-D20180611-T163108-0.raw',\n",
       " 'F:GLIDER2018/Echosounder/Echosounder\\\\GLIDER_SB_2018_v5-Phase0-D20180611-T163700-1.raw',\n",
       " 'F:GLIDER2018/Echosounder/Echosounder\\\\GLIDER_SB_2018_v5-Phase0-D20180611-T164257-2.raw',\n",
       " 'F:GLIDER2018/Echosounder/Echosounder\\\\GLIDER_SB_2018_v5-Phase0-D20180611-T170110-0.raw',\n",
       " 'F:GLIDER2018/Echosounder/Echosounder\\\\GLIDER_SB_2018_v5-Phase0-D20180611-T170702-1.raw',\n",
       " 'F:GLIDER2018/Echosounder/Echosounder\\\\GLIDER_SB_2018_v5-Phase0-D20180611-T171259-2.raw',\n",
       " 'F:GLIDER2018/Echosounder/Echosounder\\\\GLIDER_SB_2018_v5-Phase0-D20180611-T173124-0.raw',\n",
       " 'F:GLIDER2018/Echosounder/Echosounder\\\\GLIDER_SB_2018_v5-Phase0-D20180611-T173716-1.raw',\n",
       " 'F:GLIDER2018/Echosounder/Echosounder\\\\GLIDER_SB_2018_v5-Phase0-D20180611-T174316-2.raw',\n",
       " 'F:GLIDER2018/Echosounder/Echosounder\\\\GLIDER_SB_2018_v5-Phase0-D20180611-T180108-0.raw',\n",
       " 'F:GLIDER2018/Echosounder/Echosounder\\\\GLIDER_SB_2018_v5-Phase0-D20180611-T180700-1.raw',\n",
       " 'F:GLIDER2018/Echosounder/Echosounder\\\\GLIDER_SB_2018_v5-Phase0-D20180611-T181251-2.raw',\n",
       " 'F:GLIDER2018/Echosounder/Echosounder\\\\GLIDER_SB_2018_v5-Phase0-D20180611-T183109-0.raw',\n",
       " 'F:GLIDER2018/Echosounder/Echosounder\\\\GLIDER_SB_2018_v5-Phase0-D20180611-T183701-1.raw',\n",
       " 'F:GLIDER2018/Echosounder/Echosounder\\\\GLIDER_SB_2018_v5-Phase0-D20180611-T184252-2.raw',\n",
       " 'F:GLIDER2018/Echosounder/Echosounder\\\\GLIDER_SB_2018_v5-Phase0-D20180611-T190110-0.raw',\n",
       " 'F:GLIDER2018/Echosounder/Echosounder\\\\GLIDER_SB_2018_v5-Phase0-D20180611-T190702-1.raw',\n",
       " 'F:GLIDER2018/Echosounder/Echosounder\\\\GLIDER_SB_2018_v5-Phase0-D20180611-T191253-2.raw',\n",
       " 'F:GLIDER2018/Echosounder/Echosounder\\\\GLIDER_SB_2018_v5-Phase0-D20180611-T193108-0.raw',\n",
       " 'F:GLIDER2018/Echosounder/Echosounder\\\\GLIDER_SB_2018_v5-Phase0-D20180611-T193700-1.raw',\n",
       " 'F:GLIDER2018/Echosounder/Echosounder\\\\GLIDER_SB_2018_v5-Phase0-D20180611-T194251-2.raw',\n",
       " 'F:GLIDER2018/Echosounder/Echosounder\\\\GLIDER_SB_2018_v5-Phase0-D20180611-T200125-0.raw',\n",
       " 'F:GLIDER2018/Echosounder/Echosounder\\\\GLIDER_SB_2018_v5-Phase0-D20180611-T200726-1.raw',\n",
       " 'F:GLIDER2018/Echosounder/Echosounder\\\\GLIDER_SB_2018_v5-Phase0-D20180611-T201323-2.raw',\n",
       " 'F:GLIDER2018/Echosounder/Echosounder\\\\GLIDER_SB_2018_v5-Phase0-D20180611-T203108-0.raw',\n",
       " 'F:GLIDER2018/Echosounder/Echosounder\\\\GLIDER_SB_2018_v5-Phase0-D20180611-T203700-1.raw',\n",
       " 'F:GLIDER2018/Echosounder/Echosounder\\\\GLIDER_SB_2018_v5-Phase0-D20180611-T204251-2.raw',\n",
       " 'F:GLIDER2018/Echosounder/Echosounder\\\\GLIDER_SB_2018_v5-Phase0-D20180611-T210108-0.raw',\n",
       " 'F:GLIDER2018/Echosounder/Echosounder\\\\GLIDER_SB_2018_v5-Phase0-D20180611-T210700-1.raw',\n",
       " 'F:GLIDER2018/Echosounder/Echosounder\\\\GLIDER_SB_2018_v5-Phase0-D20180611-T211251-2.raw',\n",
       " 'F:GLIDER2018/Echosounder/Echosounder\\\\GLIDER_SB_2018_v5-Phase0-D20180611-T213110-0.raw',\n",
       " 'F:GLIDER2018/Echosounder/Echosounder\\\\GLIDER_SB_2018_v5-Phase0-D20180611-T213702-1.raw',\n",
       " 'F:GLIDER2018/Echosounder/Echosounder\\\\GLIDER_SB_2018_v5-Phase0-D20180611-T214253-2.raw',\n",
       " 'F:GLIDER2018/Echosounder/Echosounder\\\\GLIDER_SB_2018_v5-Phase0-D20180611-T220108-0.raw',\n",
       " 'F:GLIDER2018/Echosounder/Echosounder\\\\GLIDER_SB_2018_v5-Phase0-D20180611-T220700-1.raw',\n",
       " 'F:GLIDER2018/Echosounder/Echosounder\\\\GLIDER_SB_2018_v5-Phase0-D20180611-T221300-2.raw',\n",
       " 'F:GLIDER2018/Echosounder/Echosounder\\\\GLIDER_SB_2018_v5-Phase0-D20180611-T223108-0.raw',\n",
       " 'F:GLIDER2018/Echosounder/Echosounder\\\\GLIDER_SB_2018_v5-Phase0-D20180611-T223700-1.raw',\n",
       " 'F:GLIDER2018/Echosounder/Echosounder\\\\GLIDER_SB_2018_v5-Phase0-D20180611-T224251-2.raw',\n",
       " 'F:GLIDER2018/Echosounder/Echosounder\\\\GLIDER_SB_2018_v5-Phase0-D20180611-T230108-0.raw',\n",
       " 'F:GLIDER2018/Echosounder/Echosounder\\\\GLIDER_SB_2018_v5-Phase0-D20180611-T230700-1.raw',\n",
       " 'F:GLIDER2018/Echosounder/Echosounder\\\\GLIDER_SB_2018_v5-Phase0-D20180611-T231251-2.raw',\n",
       " 'F:GLIDER2018/Echosounder/Echosounder\\\\GLIDER_SB_2018_v5-Phase0-D20180611-T233124-0.raw',\n",
       " 'F:GLIDER2018/Echosounder/Echosounder\\\\GLIDER_SB_2018_v5-Phase0-D20180611-T233716-1.raw',\n",
       " 'F:GLIDER2018/Echosounder/Echosounder\\\\GLIDER_SB_2018_v5-Phase0-D20180611-T234307-2.raw']"
      ]
     },
     "execution_count": 10,
     "metadata": {},
     "output_type": "execute_result"
    }
   ],
   "source": [
    "path = 'F:GLIDER2018/Echosounder/Echosounder'\n",
    "flist = glob.glob(f\"{path}/*D20180611*.raw\")\n",
    "flist"
   ]
  },
  {
   "cell_type": "code",
   "execution_count": 9,
   "id": "07afddf9",
   "metadata": {},
   "outputs": [
    {
     "name": "stdout",
     "output_type": "stream",
     "text": [
      "14:31:32  parsing file GLIDER_SB_2018_v5-Phase0-D20180612-T000109-0.raw, time of first ping: 2018-Jun-12 00:01:09\n",
      "WARNING: The water_level_draft was not in the file. Value set to NaN.\n",
      "14:31:33  saving F:GLIDER2018/Echosounder/Echosounder/nc_files_daase2\\GLIDER_SB_2018_v5-Phase0-D20180612-T000109-0.nc\n"
     ]
    },
    {
     "name": "stderr",
     "output_type": "stream",
     "text": [
      "C:\\Users\\mbd\\anaconda3\\envs\\phd-env\\lib\\site-packages\\pandas\\core\\arrays\\timedeltas.py:754: RuntimeWarning: invalid value encountered in multiply\n",
      "  return self - (self // other) * other\n"
     ]
    },
    {
     "name": "stdout",
     "output_type": "stream",
     "text": [
      "14:31:39  parsing file GLIDER_SB_2018_v5-Phase0-D20180612-T000701-1.raw, time of first ping: 2018-Jun-12 00:07:01\n",
      "WARNING: The water_level_draft was not in the file. Value set to NaN.\n",
      "14:31:40  saving F:GLIDER2018/Echosounder/Echosounder/nc_files_daase2\\GLIDER_SB_2018_v5-Phase0-D20180612-T000701-1.nc\n"
     ]
    },
    {
     "name": "stderr",
     "output_type": "stream",
     "text": [
      "C:\\Users\\mbd\\anaconda3\\envs\\phd-env\\lib\\site-packages\\pandas\\core\\arrays\\timedeltas.py:754: RuntimeWarning: invalid value encountered in multiply\n",
      "  return self - (self // other) * other\n"
     ]
    },
    {
     "name": "stdout",
     "output_type": "stream",
     "text": [
      "14:31:45  parsing file GLIDER_SB_2018_v5-Phase0-D20180612-T001252-2.raw, time of first ping: 2018-Jun-12 00:12:52\n",
      "WARNING: The water_level_draft was not in the file. Value set to NaN.\n",
      "14:31:45  saving F:GLIDER2018/Echosounder/Echosounder/nc_files_daase2\\GLIDER_SB_2018_v5-Phase0-D20180612-T001252-2.nc\n"
     ]
    },
    {
     "name": "stderr",
     "output_type": "stream",
     "text": [
      "C:\\Users\\mbd\\anaconda3\\envs\\phd-env\\lib\\site-packages\\pandas\\core\\arrays\\timedeltas.py:754: RuntimeWarning: invalid value encountered in multiply\n",
      "  return self - (self // other) * other\n"
     ]
    },
    {
     "name": "stdout",
     "output_type": "stream",
     "text": [
      "14:31:49  parsing file GLIDER_SB_2018_v5-Phase0-D20180612-T003109-0.raw, time of first ping: 2018-Jun-12 00:31:09\n",
      "WARNING: The water_level_draft was not in the file. Value set to NaN.\n",
      "14:31:51  saving F:GLIDER2018/Echosounder/Echosounder/nc_files_daase2\\GLIDER_SB_2018_v5-Phase0-D20180612-T003109-0.nc\n"
     ]
    },
    {
     "name": "stderr",
     "output_type": "stream",
     "text": [
      "C:\\Users\\mbd\\anaconda3\\envs\\phd-env\\lib\\site-packages\\pandas\\core\\arrays\\timedeltas.py:754: RuntimeWarning: invalid value encountered in multiply\n",
      "  return self - (self // other) * other\n"
     ]
    },
    {
     "name": "stdout",
     "output_type": "stream",
     "text": [
      "14:31:55  parsing file GLIDER_SB_2018_v5-Phase0-D20180612-T003703-1.raw, time of first ping: 2018-Jun-12 00:37:03\n",
      "WARNING: The water_level_draft was not in the file. Value set to NaN.\n",
      "14:31:57  saving F:GLIDER2018/Echosounder/Echosounder/nc_files_daase2\\GLIDER_SB_2018_v5-Phase0-D20180612-T003703-1.nc\n"
     ]
    },
    {
     "name": "stderr",
     "output_type": "stream",
     "text": [
      "C:\\Users\\mbd\\anaconda3\\envs\\phd-env\\lib\\site-packages\\pandas\\core\\arrays\\timedeltas.py:754: RuntimeWarning: invalid value encountered in multiply\n",
      "  return self - (self // other) * other\n"
     ]
    },
    {
     "name": "stdout",
     "output_type": "stream",
     "text": [
      "14:32:01  parsing file GLIDER_SB_2018_v5-Phase0-D20180612-T004258-2.raw, time of first ping: 2018-Jun-12 00:42:58\n",
      "WARNING: The water_level_draft was not in the file. Value set to NaN.\n",
      "14:32:02  saving F:GLIDER2018/Echosounder/Echosounder/nc_files_daase2\\GLIDER_SB_2018_v5-Phase0-D20180612-T004258-2.nc\n"
     ]
    },
    {
     "name": "stderr",
     "output_type": "stream",
     "text": [
      "C:\\Users\\mbd\\anaconda3\\envs\\phd-env\\lib\\site-packages\\pandas\\core\\arrays\\timedeltas.py:754: RuntimeWarning: invalid value encountered in multiply\n",
      "  return self - (self // other) * other\n"
     ]
    },
    {
     "name": "stdout",
     "output_type": "stream",
     "text": [
      "14:32:05  parsing file GLIDER_SB_2018_v5-Phase0-D20180612-T010109-0.raw, time of first ping: 2018-Jun-12 01:01:09\n",
      "WARNING: The water_level_draft was not in the file. Value set to NaN.\n",
      "14:32:07  saving F:GLIDER2018/Echosounder/Echosounder/nc_files_daase2\\GLIDER_SB_2018_v5-Phase0-D20180612-T010109-0.nc\n"
     ]
    },
    {
     "name": "stderr",
     "output_type": "stream",
     "text": [
      "C:\\Users\\mbd\\anaconda3\\envs\\phd-env\\lib\\site-packages\\pandas\\core\\arrays\\timedeltas.py:754: RuntimeWarning: invalid value encountered in multiply\n",
      "  return self - (self // other) * other\n"
     ]
    },
    {
     "name": "stdout",
     "output_type": "stream",
     "text": [
      "14:32:11  parsing file GLIDER_SB_2018_v5-Phase0-D20180612-T010701-1.raw, time of first ping: 2018-Jun-12 01:07:01\n",
      "WARNING: The water_level_draft was not in the file. Value set to NaN.\n",
      "14:32:13  saving F:GLIDER2018/Echosounder/Echosounder/nc_files_daase2\\GLIDER_SB_2018_v5-Phase0-D20180612-T010701-1.nc\n"
     ]
    },
    {
     "name": "stderr",
     "output_type": "stream",
     "text": [
      "C:\\Users\\mbd\\anaconda3\\envs\\phd-env\\lib\\site-packages\\pandas\\core\\arrays\\timedeltas.py:754: RuntimeWarning: invalid value encountered in multiply\n",
      "  return self - (self // other) * other\n"
     ]
    },
    {
     "name": "stdout",
     "output_type": "stream",
     "text": [
      "14:32:17  parsing file GLIDER_SB_2018_v5-Phase0-D20180612-T011252-2.raw, time of first ping: 2018-Jun-12 01:12:52\n",
      "WARNING: The water_level_draft was not in the file. Value set to NaN.\n",
      "14:32:18  saving F:GLIDER2018/Echosounder/Echosounder/nc_files_daase2\\GLIDER_SB_2018_v5-Phase0-D20180612-T011252-2.nc\n"
     ]
    },
    {
     "name": "stderr",
     "output_type": "stream",
     "text": [
      "C:\\Users\\mbd\\anaconda3\\envs\\phd-env\\lib\\site-packages\\pandas\\core\\arrays\\timedeltas.py:754: RuntimeWarning: invalid value encountered in multiply\n",
      "  return self - (self // other) * other\n"
     ]
    },
    {
     "name": "stdout",
     "output_type": "stream",
     "text": [
      "14:32:21  parsing file GLIDER_SB_2018_v5-Phase0-D20180612-T013108-0.raw, time of first ping: 2018-Jun-12 01:31:08\n",
      "WARNING: The water_level_draft was not in the file. Value set to NaN.\n",
      "14:32:23  saving F:GLIDER2018/Echosounder/Echosounder/nc_files_daase2\\GLIDER_SB_2018_v5-Phase0-D20180612-T013108-0.nc\n"
     ]
    },
    {
     "name": "stderr",
     "output_type": "stream",
     "text": [
      "C:\\Users\\mbd\\anaconda3\\envs\\phd-env\\lib\\site-packages\\pandas\\core\\arrays\\timedeltas.py:754: RuntimeWarning: invalid value encountered in multiply\n",
      "  return self - (self // other) * other\n"
     ]
    },
    {
     "name": "stdout",
     "output_type": "stream",
     "text": [
      "14:32:27  parsing file GLIDER_SB_2018_v5-Phase0-D20180612-T013700-1.raw, time of first ping: 2018-Jun-12 01:37:00\n",
      "WARNING: The water_level_draft was not in the file. Value set to NaN.\n",
      "14:32:29  saving F:GLIDER2018/Echosounder/Echosounder/nc_files_daase2\\GLIDER_SB_2018_v5-Phase0-D20180612-T013700-1.nc\n"
     ]
    },
    {
     "name": "stderr",
     "output_type": "stream",
     "text": [
      "C:\\Users\\mbd\\anaconda3\\envs\\phd-env\\lib\\site-packages\\pandas\\core\\arrays\\timedeltas.py:754: RuntimeWarning: invalid value encountered in multiply\n",
      "  return self - (self // other) * other\n"
     ]
    },
    {
     "name": "stdout",
     "output_type": "stream",
     "text": [
      "14:32:33  parsing file GLIDER_SB_2018_v5-Phase0-D20180612-T014251-2.raw, time of first ping: 2018-Jun-12 01:42:51\n",
      "WARNING: The water_level_draft was not in the file. Value set to NaN.\n",
      "14:32:34  saving F:GLIDER2018/Echosounder/Echosounder/nc_files_daase2\\GLIDER_SB_2018_v5-Phase0-D20180612-T014251-2.nc\n"
     ]
    },
    {
     "name": "stderr",
     "output_type": "stream",
     "text": [
      "C:\\Users\\mbd\\anaconda3\\envs\\phd-env\\lib\\site-packages\\pandas\\core\\arrays\\timedeltas.py:754: RuntimeWarning: invalid value encountered in multiply\n",
      "  return self - (self // other) * other\n"
     ]
    },
    {
     "name": "stdout",
     "output_type": "stream",
     "text": [
      "14:32:38  parsing file GLIDER_SB_2018_v5-Phase0-D20180612-T020126-0.raw, time of first ping: 2018-Jun-12 02:01:26\n",
      "WARNING: The water_level_draft was not in the file. Value set to NaN.\n",
      "14:32:39  saving F:GLIDER2018/Echosounder/Echosounder/nc_files_daase2\\GLIDER_SB_2018_v5-Phase0-D20180612-T020126-0.nc\n"
     ]
    },
    {
     "name": "stderr",
     "output_type": "stream",
     "text": [
      "C:\\Users\\mbd\\anaconda3\\envs\\phd-env\\lib\\site-packages\\pandas\\core\\arrays\\timedeltas.py:754: RuntimeWarning: invalid value encountered in multiply\n",
      "  return self - (self // other) * other\n"
     ]
    },
    {
     "name": "stdout",
     "output_type": "stream",
     "text": [
      "14:32:43  parsing file GLIDER_SB_2018_v5-Phase0-D20180612-T020718-1.raw, time of first ping: 2018-Jun-12 02:07:18\n",
      "WARNING: The water_level_draft was not in the file. Value set to NaN.\n",
      "14:32:45  saving F:GLIDER2018/Echosounder/Echosounder/nc_files_daase2\\GLIDER_SB_2018_v5-Phase0-D20180612-T020718-1.nc\n"
     ]
    },
    {
     "name": "stderr",
     "output_type": "stream",
     "text": [
      "C:\\Users\\mbd\\anaconda3\\envs\\phd-env\\lib\\site-packages\\pandas\\core\\arrays\\timedeltas.py:754: RuntimeWarning: invalid value encountered in multiply\n",
      "  return self - (self // other) * other\n"
     ]
    },
    {
     "name": "stdout",
     "output_type": "stream",
     "text": [
      "14:32:49  parsing file GLIDER_SB_2018_v5-Phase0-D20180612-T021309-2.raw, time of first ping: 2018-Jun-12 02:13:09\n",
      "WARNING: The water_level_draft was not in the file. Value set to NaN.\n",
      "14:32:50  saving F:GLIDER2018/Echosounder/Echosounder/nc_files_daase2\\GLIDER_SB_2018_v5-Phase0-D20180612-T021309-2.nc\n"
     ]
    },
    {
     "name": "stderr",
     "output_type": "stream",
     "text": [
      "C:\\Users\\mbd\\anaconda3\\envs\\phd-env\\lib\\site-packages\\pandas\\core\\arrays\\timedeltas.py:754: RuntimeWarning: invalid value encountered in multiply\n",
      "  return self - (self // other) * other\n"
     ]
    },
    {
     "name": "stdout",
     "output_type": "stream",
     "text": [
      "14:32:53  parsing file GLIDER_SB_2018_v5-Phase0-D20180612-T023110-0.raw, time of first ping: 2018-Jun-12 02:31:10\n",
      "WARNING: The water_level_draft was not in the file. Value set to NaN.\n",
      "14:32:55  saving F:GLIDER2018/Echosounder/Echosounder/nc_files_daase2\\GLIDER_SB_2018_v5-Phase0-D20180612-T023110-0.nc\n"
     ]
    },
    {
     "name": "stderr",
     "output_type": "stream",
     "text": [
      "C:\\Users\\mbd\\anaconda3\\envs\\phd-env\\lib\\site-packages\\pandas\\core\\arrays\\timedeltas.py:754: RuntimeWarning: invalid value encountered in multiply\n",
      "  return self - (self // other) * other\n"
     ]
    },
    {
     "name": "stdout",
     "output_type": "stream",
     "text": [
      "14:32:59  parsing file GLIDER_SB_2018_v5-Phase0-D20180612-T023702-1.raw, time of first ping: 2018-Jun-12 02:37:02\n",
      "WARNING: The water_level_draft was not in the file. Value set to NaN.\n",
      "14:33:00  saving F:GLIDER2018/Echosounder/Echosounder/nc_files_daase2\\GLIDER_SB_2018_v5-Phase0-D20180612-T023702-1.nc\n"
     ]
    },
    {
     "name": "stderr",
     "output_type": "stream",
     "text": [
      "C:\\Users\\mbd\\anaconda3\\envs\\phd-env\\lib\\site-packages\\pandas\\core\\arrays\\timedeltas.py:754: RuntimeWarning: invalid value encountered in multiply\n",
      "  return self - (self // other) * other\n"
     ]
    },
    {
     "name": "stdout",
     "output_type": "stream",
     "text": [
      "14:33:04  parsing file GLIDER_SB_2018_v5-Phase0-D20180612-T024259-2.raw, time of first ping: 2018-Jun-12 02:42:59\n",
      "WARNING: The water_level_draft was not in the file. Value set to NaN.\n",
      "14:33:05  saving F:GLIDER2018/Echosounder/Echosounder/nc_files_daase2\\GLIDER_SB_2018_v5-Phase0-D20180612-T024259-2.nc\n"
     ]
    },
    {
     "name": "stderr",
     "output_type": "stream",
     "text": [
      "C:\\Users\\mbd\\anaconda3\\envs\\phd-env\\lib\\site-packages\\pandas\\core\\arrays\\timedeltas.py:754: RuntimeWarning: invalid value encountered in multiply\n",
      "  return self - (self // other) * other\n"
     ]
    },
    {
     "name": "stdout",
     "output_type": "stream",
     "text": [
      "14:33:09  parsing file GLIDER_SB_2018_v5-Phase0-D20180612-T030110-0.raw, time of first ping: 2018-Jun-12 03:01:10\n",
      "WARNING: The water_level_draft was not in the file. Value set to NaN.\n",
      "14:33:10  saving F:GLIDER2018/Echosounder/Echosounder/nc_files_daase2\\GLIDER_SB_2018_v5-Phase0-D20180612-T030110-0.nc\n"
     ]
    },
    {
     "name": "stderr",
     "output_type": "stream",
     "text": [
      "C:\\Users\\mbd\\anaconda3\\envs\\phd-env\\lib\\site-packages\\pandas\\core\\arrays\\timedeltas.py:754: RuntimeWarning: invalid value encountered in multiply\n",
      "  return self - (self // other) * other\n"
     ]
    },
    {
     "name": "stdout",
     "output_type": "stream",
     "text": [
      "14:33:15  parsing file GLIDER_SB_2018_v5-Phase0-D20180612-T030708-1.raw, time of first ping: 2018-Jun-12 03:07:08\n",
      "WARNING: The water_level_draft was not in the file. Value set to NaN.\n",
      "14:33:16  saving F:GLIDER2018/Echosounder/Echosounder/nc_files_daase2\\GLIDER_SB_2018_v5-Phase0-D20180612-T030708-1.nc\n"
     ]
    },
    {
     "name": "stderr",
     "output_type": "stream",
     "text": [
      "C:\\Users\\mbd\\anaconda3\\envs\\phd-env\\lib\\site-packages\\pandas\\core\\arrays\\timedeltas.py:754: RuntimeWarning: invalid value encountered in multiply\n",
      "  return self - (self // other) * other\n"
     ]
    },
    {
     "name": "stdout",
     "output_type": "stream",
     "text": [
      "14:33:21  parsing file GLIDER_SB_2018_v5-Phase0-D20180612-T031310-2.raw, time of first ping: 2018-Jun-12 03:13:10\n",
      "WARNING: The water_level_draft was not in the file. Value set to NaN.\n",
      "14:33:21  saving F:GLIDER2018/Echosounder/Echosounder/nc_files_daase2\\GLIDER_SB_2018_v5-Phase0-D20180612-T031310-2.nc\n"
     ]
    },
    {
     "name": "stderr",
     "output_type": "stream",
     "text": [
      "C:\\Users\\mbd\\anaconda3\\envs\\phd-env\\lib\\site-packages\\pandas\\core\\arrays\\timedeltas.py:754: RuntimeWarning: invalid value encountered in multiply\n",
      "  return self - (self // other) * other\n"
     ]
    },
    {
     "name": "stdout",
     "output_type": "stream",
     "text": [
      "14:33:25  parsing file GLIDER_SB_2018_v5-Phase0-D20180612-T033108-0.raw, time of first ping: 2018-Jun-12 03:31:08\n",
      "WARNING: The water_level_draft was not in the file. Value set to NaN.\n",
      "14:33:27  saving F:GLIDER2018/Echosounder/Echosounder/nc_files_daase2\\GLIDER_SB_2018_v5-Phase0-D20180612-T033108-0.nc\n"
     ]
    },
    {
     "name": "stderr",
     "output_type": "stream",
     "text": [
      "C:\\Users\\mbd\\anaconda3\\envs\\phd-env\\lib\\site-packages\\pandas\\core\\arrays\\timedeltas.py:754: RuntimeWarning: invalid value encountered in multiply\n",
      "  return self - (self // other) * other\n"
     ]
    },
    {
     "name": "stdout",
     "output_type": "stream",
     "text": [
      "14:33:33  parsing file GLIDER_SB_2018_v5-Phase0-D20180612-T033700-1.raw, time of first ping: 2018-Jun-12 03:37:00\n",
      "WARNING: The water_level_draft was not in the file. Value set to NaN.\n",
      "14:33:37  saving F:GLIDER2018/Echosounder/Echosounder/nc_files_daase2\\GLIDER_SB_2018_v5-Phase0-D20180612-T033700-1.nc\n"
     ]
    },
    {
     "name": "stderr",
     "output_type": "stream",
     "text": [
      "C:\\Users\\mbd\\anaconda3\\envs\\phd-env\\lib\\site-packages\\pandas\\core\\arrays\\timedeltas.py:754: RuntimeWarning: invalid value encountered in multiply\n",
      "  return self - (self // other) * other\n"
     ]
    },
    {
     "name": "stdout",
     "output_type": "stream",
     "text": [
      "14:33:43  parsing file GLIDER_SB_2018_v5-Phase0-D20180612-T034251-2.raw, time of first ping: 2018-Jun-12 03:42:51\n",
      "WARNING: The water_level_draft was not in the file. Value set to NaN.\n",
      "14:33:46  saving F:GLIDER2018/Echosounder/Echosounder/nc_files_daase2\\GLIDER_SB_2018_v5-Phase0-D20180612-T034251-2.nc\n"
     ]
    },
    {
     "name": "stderr",
     "output_type": "stream",
     "text": [
      "C:\\Users\\mbd\\anaconda3\\envs\\phd-env\\lib\\site-packages\\pandas\\core\\arrays\\timedeltas.py:754: RuntimeWarning: invalid value encountered in multiply\n",
      "  return self - (self // other) * other\n"
     ]
    },
    {
     "name": "stdout",
     "output_type": "stream",
     "text": [
      "14:33:52  parsing file GLIDER_SB_2018_v5-Phase0-D20180612-T040108-0.raw, time of first ping: 2018-Jun-12 04:01:08\n",
      "WARNING: The water_level_draft was not in the file. Value set to NaN.\n",
      "14:33:53  saving F:GLIDER2018/Echosounder/Echosounder/nc_files_daase2\\GLIDER_SB_2018_v5-Phase0-D20180612-T040108-0.nc\n"
     ]
    },
    {
     "name": "stderr",
     "output_type": "stream",
     "text": [
      "C:\\Users\\mbd\\anaconda3\\envs\\phd-env\\lib\\site-packages\\pandas\\core\\arrays\\timedeltas.py:754: RuntimeWarning: invalid value encountered in multiply\n",
      "  return self - (self // other) * other\n"
     ]
    },
    {
     "name": "stdout",
     "output_type": "stream",
     "text": [
      "14:33:58  parsing file GLIDER_SB_2018_v5-Phase0-D20180612-T040700-1.raw, time of first ping: 2018-Jun-12 04:07:00\n",
      "WARNING: The water_level_draft was not in the file. Value set to NaN.\n",
      "14:33:59  saving F:GLIDER2018/Echosounder/Echosounder/nc_files_daase2\\GLIDER_SB_2018_v5-Phase0-D20180612-T040700-1.nc\n"
     ]
    },
    {
     "name": "stderr",
     "output_type": "stream",
     "text": [
      "C:\\Users\\mbd\\anaconda3\\envs\\phd-env\\lib\\site-packages\\pandas\\core\\arrays\\timedeltas.py:754: RuntimeWarning: invalid value encountered in multiply\n",
      "  return self - (self // other) * other\n"
     ]
    },
    {
     "name": "stdout",
     "output_type": "stream",
     "text": [
      "14:34:04  parsing file GLIDER_SB_2018_v5-Phase0-D20180612-T041257-2.raw, time of first ping: 2018-Jun-12 04:12:57\n",
      "WARNING: The water_level_draft was not in the file. Value set to NaN.\n",
      "14:34:04  saving F:GLIDER2018/Echosounder/Echosounder/nc_files_daase2\\GLIDER_SB_2018_v5-Phase0-D20180612-T041257-2.nc\n"
     ]
    },
    {
     "name": "stderr",
     "output_type": "stream",
     "text": [
      "C:\\Users\\mbd\\anaconda3\\envs\\phd-env\\lib\\site-packages\\pandas\\core\\arrays\\timedeltas.py:754: RuntimeWarning: invalid value encountered in multiply\n",
      "  return self - (self // other) * other\n"
     ]
    },
    {
     "name": "stdout",
     "output_type": "stream",
     "text": [
      "14:34:09  parsing file GLIDER_SB_2018_v5-Phase0-D20180612-T043109-0.raw, time of first ping: 2018-Jun-12 04:31:09\n",
      "WARNING: The water_level_draft was not in the file. Value set to NaN.\n",
      "14:34:10  saving F:GLIDER2018/Echosounder/Echosounder/nc_files_daase2\\GLIDER_SB_2018_v5-Phase0-D20180612-T043109-0.nc\n"
     ]
    },
    {
     "name": "stderr",
     "output_type": "stream",
     "text": [
      "C:\\Users\\mbd\\anaconda3\\envs\\phd-env\\lib\\site-packages\\pandas\\core\\arrays\\timedeltas.py:754: RuntimeWarning: invalid value encountered in multiply\n",
      "  return self - (self // other) * other\n"
     ]
    },
    {
     "name": "stdout",
     "output_type": "stream",
     "text": [
      "14:34:15  parsing file GLIDER_SB_2018_v5-Phase0-D20180612-T043701-1.raw, time of first ping: 2018-Jun-12 04:37:01\n",
      "WARNING: The water_level_draft was not in the file. Value set to NaN.\n",
      "14:34:16  saving F:GLIDER2018/Echosounder/Echosounder/nc_files_daase2\\GLIDER_SB_2018_v5-Phase0-D20180612-T043701-1.nc\n"
     ]
    },
    {
     "name": "stderr",
     "output_type": "stream",
     "text": [
      "C:\\Users\\mbd\\anaconda3\\envs\\phd-env\\lib\\site-packages\\pandas\\core\\arrays\\timedeltas.py:754: RuntimeWarning: invalid value encountered in multiply\n",
      "  return self - (self // other) * other\n"
     ]
    },
    {
     "name": "stdout",
     "output_type": "stream",
     "text": [
      "14:34:20  parsing file GLIDER_SB_2018_v5-Phase0-D20180612-T044301-2.raw, time of first ping: 2018-Jun-12 04:43:01\n",
      "WARNING: The water_level_draft was not in the file. Value set to NaN.\n",
      "14:34:21  saving F:GLIDER2018/Echosounder/Echosounder/nc_files_daase2\\GLIDER_SB_2018_v5-Phase0-D20180612-T044301-2.nc\n"
     ]
    },
    {
     "name": "stderr",
     "output_type": "stream",
     "text": [
      "C:\\Users\\mbd\\anaconda3\\envs\\phd-env\\lib\\site-packages\\pandas\\core\\arrays\\timedeltas.py:754: RuntimeWarning: invalid value encountered in multiply\n",
      "  return self - (self // other) * other\n"
     ]
    },
    {
     "name": "stdout",
     "output_type": "stream",
     "text": [
      "14:34:27  parsing file GLIDER_SB_2018_v5-Phase0-D20180612-T050126-0.raw, time of first ping: 2018-Jun-12 05:01:26\n",
      "WARNING: The water_level_draft was not in the file. Value set to NaN.\n",
      "14:34:28  saving F:GLIDER2018/Echosounder/Echosounder/nc_files_daase2\\GLIDER_SB_2018_v5-Phase0-D20180612-T050126-0.nc\n"
     ]
    },
    {
     "name": "stderr",
     "output_type": "stream",
     "text": [
      "C:\\Users\\mbd\\anaconda3\\envs\\phd-env\\lib\\site-packages\\pandas\\core\\arrays\\timedeltas.py:754: RuntimeWarning: invalid value encountered in multiply\n",
      "  return self - (self // other) * other\n"
     ]
    },
    {
     "name": "stdout",
     "output_type": "stream",
     "text": [
      "14:34:35  parsing file GLIDER_SB_2018_v5-Phase0-D20180612-T050718-1.raw, time of first ping: 2018-Jun-12 05:07:18\n",
      "WARNING: The water_level_draft was not in the file. Value set to NaN.\n",
      "14:34:39  saving F:GLIDER2018/Echosounder/Echosounder/nc_files_daase2\\GLIDER_SB_2018_v5-Phase0-D20180612-T050718-1.nc\n"
     ]
    },
    {
     "name": "stderr",
     "output_type": "stream",
     "text": [
      "C:\\Users\\mbd\\anaconda3\\envs\\phd-env\\lib\\site-packages\\pandas\\core\\arrays\\timedeltas.py:754: RuntimeWarning: invalid value encountered in multiply\n",
      "  return self - (self // other) * other\n"
     ]
    },
    {
     "name": "stdout",
     "output_type": "stream",
     "text": [
      "14:34:43  parsing file GLIDER_SB_2018_v5-Phase0-D20180612-T051315-2.raw, time of first ping: 2018-Jun-12 05:13:15\n",
      "WARNING: The water_level_draft was not in the file. Value set to NaN.\n",
      "14:34:44  saving F:GLIDER2018/Echosounder/Echosounder/nc_files_daase2\\GLIDER_SB_2018_v5-Phase0-D20180612-T051315-2.nc\n"
     ]
    },
    {
     "name": "stderr",
     "output_type": "stream",
     "text": [
      "C:\\Users\\mbd\\anaconda3\\envs\\phd-env\\lib\\site-packages\\pandas\\core\\arrays\\timedeltas.py:754: RuntimeWarning: invalid value encountered in multiply\n",
      "  return self - (self // other) * other\n"
     ]
    },
    {
     "name": "stdout",
     "output_type": "stream",
     "text": [
      "14:34:49  parsing file GLIDER_SB_2018_v5-Phase0-D20180612-T053109-0.raw, time of first ping: 2018-Jun-12 05:31:09\n",
      "WARNING: The water_level_draft was not in the file. Value set to NaN.\n",
      "14:34:50  saving F:GLIDER2018/Echosounder/Echosounder/nc_files_daase2\\GLIDER_SB_2018_v5-Phase0-D20180612-T053109-0.nc\n"
     ]
    },
    {
     "name": "stderr",
     "output_type": "stream",
     "text": [
      "C:\\Users\\mbd\\anaconda3\\envs\\phd-env\\lib\\site-packages\\pandas\\core\\arrays\\timedeltas.py:754: RuntimeWarning: invalid value encountered in multiply\n",
      "  return self - (self // other) * other\n"
     ]
    },
    {
     "name": "stdout",
     "output_type": "stream",
     "text": [
      "14:34:55  parsing file GLIDER_SB_2018_v5-Phase0-D20180612-T053709-1.raw, time of first ping: 2018-Jun-12 05:37:09\n",
      "WARNING: The water_level_draft was not in the file. Value set to NaN.\n",
      "14:34:58  saving F:GLIDER2018/Echosounder/Echosounder/nc_files_daase2\\GLIDER_SB_2018_v5-Phase0-D20180612-T053709-1.nc\n"
     ]
    },
    {
     "name": "stderr",
     "output_type": "stream",
     "text": [
      "C:\\Users\\mbd\\anaconda3\\envs\\phd-env\\lib\\site-packages\\pandas\\core\\arrays\\timedeltas.py:754: RuntimeWarning: invalid value encountered in multiply\n",
      "  return self - (self // other) * other\n"
     ]
    },
    {
     "name": "stdout",
     "output_type": "stream",
     "text": [
      "14:35:04  parsing file GLIDER_SB_2018_v5-Phase0-D20180612-T054306-2.raw, time of first ping: 2018-Jun-12 05:43:06\n",
      "WARNING: The water_level_draft was not in the file. Value set to NaN.\n",
      "14:35:05  saving F:GLIDER2018/Echosounder/Echosounder/nc_files_daase2\\GLIDER_SB_2018_v5-Phase0-D20180612-T054306-2.nc\n"
     ]
    },
    {
     "name": "stderr",
     "output_type": "stream",
     "text": [
      "C:\\Users\\mbd\\anaconda3\\envs\\phd-env\\lib\\site-packages\\pandas\\core\\arrays\\timedeltas.py:754: RuntimeWarning: invalid value encountered in multiply\n",
      "  return self - (self // other) * other\n"
     ]
    },
    {
     "name": "stdout",
     "output_type": "stream",
     "text": [
      "14:35:09  parsing file GLIDER_SB_2018_v5-Phase0-D20180612-T060108-0.raw, time of first ping: 2018-Jun-12 06:01:08\n",
      "WARNING: The water_level_draft was not in the file. Value set to NaN.\n",
      "14:35:13  saving F:GLIDER2018/Echosounder/Echosounder/nc_files_daase2\\GLIDER_SB_2018_v5-Phase0-D20180612-T060108-0.nc\n"
     ]
    },
    {
     "name": "stderr",
     "output_type": "stream",
     "text": [
      "C:\\Users\\mbd\\anaconda3\\envs\\phd-env\\lib\\site-packages\\pandas\\core\\arrays\\timedeltas.py:754: RuntimeWarning: invalid value encountered in multiply\n",
      "  return self - (self // other) * other\n"
     ]
    },
    {
     "name": "stdout",
     "output_type": "stream",
     "text": [
      "14:35:19  parsing file GLIDER_SB_2018_v5-Phase0-D20180612-T060700-1.raw, time of first ping: 2018-Jun-12 06:07:00\n",
      "WARNING: The water_level_draft was not in the file. Value set to NaN.\n",
      "14:35:24  saving F:GLIDER2018/Echosounder/Echosounder/nc_files_daase2\\GLIDER_SB_2018_v5-Phase0-D20180612-T060700-1.nc\n"
     ]
    },
    {
     "name": "stderr",
     "output_type": "stream",
     "text": [
      "C:\\Users\\mbd\\anaconda3\\envs\\phd-env\\lib\\site-packages\\pandas\\core\\arrays\\timedeltas.py:754: RuntimeWarning: invalid value encountered in multiply\n",
      "  return self - (self // other) * other\n"
     ]
    },
    {
     "name": "stdout",
     "output_type": "stream",
     "text": [
      "14:35:29  parsing file GLIDER_SB_2018_v5-Phase0-D20180612-T061257-2.raw, time of first ping: 2018-Jun-12 06:12:57\n",
      "WARNING: The water_level_draft was not in the file. Value set to NaN.\n",
      "14:35:29  saving F:GLIDER2018/Echosounder/Echosounder/nc_files_daase2\\GLIDER_SB_2018_v5-Phase0-D20180612-T061257-2.nc\n"
     ]
    },
    {
     "name": "stderr",
     "output_type": "stream",
     "text": [
      "C:\\Users\\mbd\\anaconda3\\envs\\phd-env\\lib\\site-packages\\pandas\\core\\arrays\\timedeltas.py:754: RuntimeWarning: invalid value encountered in multiply\n",
      "  return self - (self // other) * other\n"
     ]
    },
    {
     "name": "stdout",
     "output_type": "stream",
     "text": [
      "14:35:34  parsing file GLIDER_SB_2018_v5-Phase0-D20180612-T063108-0.raw, time of first ping: 2018-Jun-12 06:31:08\n",
      "WARNING: The water_level_draft was not in the file. Value set to NaN.\n",
      "14:35:36  saving F:GLIDER2018/Echosounder/Echosounder/nc_files_daase2\\GLIDER_SB_2018_v5-Phase0-D20180612-T063108-0.nc\n"
     ]
    },
    {
     "name": "stderr",
     "output_type": "stream",
     "text": [
      "C:\\Users\\mbd\\anaconda3\\envs\\phd-env\\lib\\site-packages\\pandas\\core\\arrays\\timedeltas.py:754: RuntimeWarning: invalid value encountered in multiply\n",
      "  return self - (self // other) * other\n"
     ]
    },
    {
     "name": "stdout",
     "output_type": "stream",
     "text": [
      "14:35:42  parsing file GLIDER_SB_2018_v5-Phase0-D20180612-T063700-1.raw, time of first ping: 2018-Jun-12 06:37:00\n",
      "WARNING: The water_level_draft was not in the file. Value set to NaN.\n",
      "14:35:44  saving F:GLIDER2018/Echosounder/Echosounder/nc_files_daase2\\GLIDER_SB_2018_v5-Phase0-D20180612-T063700-1.nc\n"
     ]
    },
    {
     "name": "stderr",
     "output_type": "stream",
     "text": [
      "C:\\Users\\mbd\\anaconda3\\envs\\phd-env\\lib\\site-packages\\pandas\\core\\arrays\\timedeltas.py:754: RuntimeWarning: invalid value encountered in multiply\n",
      "  return self - (self // other) * other\n"
     ]
    },
    {
     "name": "stdout",
     "output_type": "stream",
     "text": [
      "14:35:51  parsing file GLIDER_SB_2018_v5-Phase0-D20180612-T064257-2.raw, time of first ping: 2018-Jun-12 06:42:58\n",
      "WARNING: The water_level_draft was not in the file. Value set to NaN.\n",
      "14:35:52  saving F:GLIDER2018/Echosounder/Echosounder/nc_files_daase2\\GLIDER_SB_2018_v5-Phase0-D20180612-T064257-2.nc\n"
     ]
    },
    {
     "name": "stderr",
     "output_type": "stream",
     "text": [
      "C:\\Users\\mbd\\anaconda3\\envs\\phd-env\\lib\\site-packages\\pandas\\core\\arrays\\timedeltas.py:754: RuntimeWarning: invalid value encountered in multiply\n",
      "  return self - (self // other) * other\n"
     ]
    },
    {
     "name": "stdout",
     "output_type": "stream",
     "text": [
      "14:35:58  parsing file GLIDER_SB_2018_v5-Phase0-D20180612-T070109-0.raw, time of first ping: 2018-Jun-12 07:01:09\n",
      "WARNING: The water_level_draft was not in the file. Value set to NaN.\n",
      "14:36:00  saving F:GLIDER2018/Echosounder/Echosounder/nc_files_daase2\\GLIDER_SB_2018_v5-Phase0-D20180612-T070109-0.nc\n"
     ]
    },
    {
     "name": "stderr",
     "output_type": "stream",
     "text": [
      "C:\\Users\\mbd\\anaconda3\\envs\\phd-env\\lib\\site-packages\\pandas\\core\\arrays\\timedeltas.py:754: RuntimeWarning: invalid value encountered in multiply\n",
      "  return self - (self // other) * other\n"
     ]
    },
    {
     "name": "stdout",
     "output_type": "stream",
     "text": [
      "14:36:05  parsing file GLIDER_SB_2018_v5-Phase0-D20180612-T070701-1.raw, time of first ping: 2018-Jun-12 07:07:01\n",
      "WARNING: The water_level_draft was not in the file. Value set to NaN.\n",
      "14:36:07  saving F:GLIDER2018/Echosounder/Echosounder/nc_files_daase2\\GLIDER_SB_2018_v5-Phase0-D20180612-T070701-1.nc\n"
     ]
    },
    {
     "name": "stderr",
     "output_type": "stream",
     "text": [
      "C:\\Users\\mbd\\anaconda3\\envs\\phd-env\\lib\\site-packages\\pandas\\core\\arrays\\timedeltas.py:754: RuntimeWarning: invalid value encountered in multiply\n",
      "  return self - (self // other) * other\n"
     ]
    },
    {
     "name": "stdout",
     "output_type": "stream",
     "text": [
      "14:36:12  parsing file GLIDER_SB_2018_v5-Phase0-D20180612-T071258-2.raw, time of first ping: 2018-Jun-12 07:12:58\n",
      "WARNING: The water_level_draft was not in the file. Value set to NaN.\n",
      "14:36:12  saving F:GLIDER2018/Echosounder/Echosounder/nc_files_daase2\\GLIDER_SB_2018_v5-Phase0-D20180612-T071258-2.nc\n"
     ]
    },
    {
     "name": "stderr",
     "output_type": "stream",
     "text": [
      "C:\\Users\\mbd\\anaconda3\\envs\\phd-env\\lib\\site-packages\\pandas\\core\\arrays\\timedeltas.py:754: RuntimeWarning: invalid value encountered in multiply\n",
      "  return self - (self // other) * other\n"
     ]
    },
    {
     "name": "stdout",
     "output_type": "stream",
     "text": [
      "14:36:16  parsing file GLIDER_SB_2018_v5-Phase0-D20180612-T073109-0.raw, time of first ping: 2018-Jun-12 07:31:09\n",
      "WARNING: The water_level_draft was not in the file. Value set to NaN.\n",
      "14:36:18  saving F:GLIDER2018/Echosounder/Echosounder/nc_files_daase2\\GLIDER_SB_2018_v5-Phase0-D20180612-T073109-0.nc\n"
     ]
    },
    {
     "name": "stderr",
     "output_type": "stream",
     "text": [
      "C:\\Users\\mbd\\anaconda3\\envs\\phd-env\\lib\\site-packages\\pandas\\core\\arrays\\timedeltas.py:754: RuntimeWarning: invalid value encountered in multiply\n",
      "  return self - (self // other) * other\n"
     ]
    },
    {
     "name": "stdout",
     "output_type": "stream",
     "text": [
      "14:36:23  parsing file GLIDER_SB_2018_v5-Phase0-D20180612-T073701-1.raw, time of first ping: 2018-Jun-12 07:37:01\n",
      "WARNING: The water_level_draft was not in the file. Value set to NaN.\n",
      "14:36:25  saving F:GLIDER2018/Echosounder/Echosounder/nc_files_daase2\\GLIDER_SB_2018_v5-Phase0-D20180612-T073701-1.nc\n"
     ]
    },
    {
     "name": "stderr",
     "output_type": "stream",
     "text": [
      "C:\\Users\\mbd\\anaconda3\\envs\\phd-env\\lib\\site-packages\\pandas\\core\\arrays\\timedeltas.py:754: RuntimeWarning: invalid value encountered in multiply\n",
      "  return self - (self // other) * other\n"
     ]
    },
    {
     "name": "stdout",
     "output_type": "stream",
     "text": [
      "14:36:30  parsing file GLIDER_SB_2018_v5-Phase0-D20180612-T074258-2.raw, time of first ping: 2018-Jun-12 07:42:58\n",
      "WARNING: The water_level_draft was not in the file. Value set to NaN.\n",
      "14:36:30  saving F:GLIDER2018/Echosounder/Echosounder/nc_files_daase2\\GLIDER_SB_2018_v5-Phase0-D20180612-T074258-2.nc\n"
     ]
    },
    {
     "name": "stderr",
     "output_type": "stream",
     "text": [
      "C:\\Users\\mbd\\anaconda3\\envs\\phd-env\\lib\\site-packages\\pandas\\core\\arrays\\timedeltas.py:754: RuntimeWarning: invalid value encountered in multiply\n",
      "  return self - (self // other) * other\n"
     ]
    },
    {
     "name": "stdout",
     "output_type": "stream",
     "text": [
      "14:36:35  parsing file GLIDER_SB_2018_v5-Phase0-D20180612-T080128-0.raw, time of first ping: 2018-Jun-12 08:01:28\n",
      "WARNING: The water_level_draft was not in the file. Value set to NaN.\n",
      "14:36:36  saving F:GLIDER2018/Echosounder/Echosounder/nc_files_daase2\\GLIDER_SB_2018_v5-Phase0-D20180612-T080128-0.nc\n"
     ]
    },
    {
     "name": "stderr",
     "output_type": "stream",
     "text": [
      "C:\\Users\\mbd\\anaconda3\\envs\\phd-env\\lib\\site-packages\\pandas\\core\\arrays\\timedeltas.py:754: RuntimeWarning: invalid value encountered in multiply\n",
      "  return self - (self // other) * other\n"
     ]
    },
    {
     "name": "stdout",
     "output_type": "stream",
     "text": [
      "14:36:41  parsing file GLIDER_SB_2018_v5-Phase0-D20180612-T080724-1.raw, time of first ping: 2018-Jun-12 08:07:24\n",
      "WARNING: The water_level_draft was not in the file. Value set to NaN.\n",
      "14:36:42  saving F:GLIDER2018/Echosounder/Echosounder/nc_files_daase2\\GLIDER_SB_2018_v5-Phase0-D20180612-T080724-1.nc\n"
     ]
    },
    {
     "name": "stderr",
     "output_type": "stream",
     "text": [
      "C:\\Users\\mbd\\anaconda3\\envs\\phd-env\\lib\\site-packages\\pandas\\core\\arrays\\timedeltas.py:754: RuntimeWarning: invalid value encountered in multiply\n",
      "  return self - (self // other) * other\n"
     ]
    },
    {
     "name": "stdout",
     "output_type": "stream",
     "text": [
      "14:36:46  parsing file GLIDER_SB_2018_v5-Phase0-D20180612-T081321-2.raw, time of first ping: 2018-Jun-12 08:13:21\n",
      "WARNING: The water_level_draft was not in the file. Value set to NaN.\n",
      "14:36:47  saving F:GLIDER2018/Echosounder/Echosounder/nc_files_daase2\\GLIDER_SB_2018_v5-Phase0-D20180612-T081321-2.nc\n"
     ]
    },
    {
     "name": "stderr",
     "output_type": "stream",
     "text": [
      "C:\\Users\\mbd\\anaconda3\\envs\\phd-env\\lib\\site-packages\\pandas\\core\\arrays\\timedeltas.py:754: RuntimeWarning: invalid value encountered in multiply\n",
      "  return self - (self // other) * other\n"
     ]
    },
    {
     "name": "stdout",
     "output_type": "stream",
     "text": [
      "14:36:51  parsing file GLIDER_SB_2018_v5-Phase0-D20180612-T083108-0.raw, time of first ping: 2018-Jun-12 08:31:08\n",
      "WARNING: The water_level_draft was not in the file. Value set to NaN.\n",
      "14:36:53  saving F:GLIDER2018/Echosounder/Echosounder/nc_files_daase2\\GLIDER_SB_2018_v5-Phase0-D20180612-T083108-0.nc\n"
     ]
    },
    {
     "name": "stderr",
     "output_type": "stream",
     "text": [
      "C:\\Users\\mbd\\anaconda3\\envs\\phd-env\\lib\\site-packages\\pandas\\core\\arrays\\timedeltas.py:754: RuntimeWarning: invalid value encountered in multiply\n",
      "  return self - (self // other) * other\n"
     ]
    },
    {
     "name": "stdout",
     "output_type": "stream",
     "text": [
      "14:36:57  parsing file GLIDER_SB_2018_v5-Phase0-D20180612-T083700-1.raw, time of first ping: 2018-Jun-12 08:37:00\n",
      "WARNING: The water_level_draft was not in the file. Value set to NaN.\n",
      "14:36:58  saving F:GLIDER2018/Echosounder/Echosounder/nc_files_daase2\\GLIDER_SB_2018_v5-Phase0-D20180612-T083700-1.nc\n"
     ]
    },
    {
     "name": "stderr",
     "output_type": "stream",
     "text": [
      "C:\\Users\\mbd\\anaconda3\\envs\\phd-env\\lib\\site-packages\\pandas\\core\\arrays\\timedeltas.py:754: RuntimeWarning: invalid value encountered in multiply\n",
      "  return self - (self // other) * other\n"
     ]
    },
    {
     "name": "stdout",
     "output_type": "stream",
     "text": [
      "14:37:03  parsing file GLIDER_SB_2018_v5-Phase0-D20180612-T084257-2.raw, time of first ping: 2018-Jun-12 08:42:57\n",
      "WARNING: The water_level_draft was not in the file. Value set to NaN.\n",
      "14:37:04  saving F:GLIDER2018/Echosounder/Echosounder/nc_files_daase2\\GLIDER_SB_2018_v5-Phase0-D20180612-T084257-2.nc\n"
     ]
    },
    {
     "name": "stderr",
     "output_type": "stream",
     "text": [
      "C:\\Users\\mbd\\anaconda3\\envs\\phd-env\\lib\\site-packages\\pandas\\core\\arrays\\timedeltas.py:754: RuntimeWarning: invalid value encountered in multiply\n",
      "  return self - (self // other) * other\n"
     ]
    },
    {
     "name": "stdout",
     "output_type": "stream",
     "text": [
      "14:37:08  parsing file GLIDER_SB_2018_v5-Phase0-D20180612-T090108-0.raw, time of first ping: 2018-Jun-12 09:01:08\n",
      "WARNING: The water_level_draft was not in the file. Value set to NaN.\n",
      "14:37:09  saving F:GLIDER2018/Echosounder/Echosounder/nc_files_daase2\\GLIDER_SB_2018_v5-Phase0-D20180612-T090108-0.nc\n"
     ]
    },
    {
     "name": "stderr",
     "output_type": "stream",
     "text": [
      "C:\\Users\\mbd\\anaconda3\\envs\\phd-env\\lib\\site-packages\\pandas\\core\\arrays\\timedeltas.py:754: RuntimeWarning: invalid value encountered in multiply\n",
      "  return self - (self // other) * other\n"
     ]
    },
    {
     "name": "stdout",
     "output_type": "stream",
     "text": [
      "14:37:13  parsing file GLIDER_SB_2018_v5-Phase0-D20180612-T090700-1.raw, time of first ping: 2018-Jun-12 09:07:00\n",
      "WARNING: The water_level_draft was not in the file. Value set to NaN.\n",
      "14:37:14  saving F:GLIDER2018/Echosounder/Echosounder/nc_files_daase2\\GLIDER_SB_2018_v5-Phase0-D20180612-T090700-1.nc\n"
     ]
    },
    {
     "name": "stderr",
     "output_type": "stream",
     "text": [
      "C:\\Users\\mbd\\anaconda3\\envs\\phd-env\\lib\\site-packages\\pandas\\core\\arrays\\timedeltas.py:754: RuntimeWarning: invalid value encountered in multiply\n",
      "  return self - (self // other) * other\n"
     ]
    },
    {
     "name": "stdout",
     "output_type": "stream",
     "text": [
      "14:37:19  parsing file GLIDER_SB_2018_v5-Phase0-D20180612-T091300-2.raw, time of first ping: 2018-Jun-12 09:13:00\n",
      "WARNING: The water_level_draft was not in the file. Value set to NaN.\n",
      "14:37:19  saving F:GLIDER2018/Echosounder/Echosounder/nc_files_daase2\\GLIDER_SB_2018_v5-Phase0-D20180612-T091300-2.nc\n"
     ]
    },
    {
     "name": "stderr",
     "output_type": "stream",
     "text": [
      "C:\\Users\\mbd\\anaconda3\\envs\\phd-env\\lib\\site-packages\\pandas\\core\\arrays\\timedeltas.py:754: RuntimeWarning: invalid value encountered in multiply\n",
      "  return self - (self // other) * other\n"
     ]
    },
    {
     "name": "stdout",
     "output_type": "stream",
     "text": [
      "14:37:23  parsing file GLIDER_SB_2018_v5-Phase0-D20180612-T093109-0.raw, time of first ping: 2018-Jun-12 09:31:09\n",
      "WARNING: The water_level_draft was not in the file. Value set to NaN.\n",
      "14:37:25  saving F:GLIDER2018/Echosounder/Echosounder/nc_files_daase2\\GLIDER_SB_2018_v5-Phase0-D20180612-T093109-0.nc\n"
     ]
    },
    {
     "name": "stderr",
     "output_type": "stream",
     "text": [
      "C:\\Users\\mbd\\anaconda3\\envs\\phd-env\\lib\\site-packages\\pandas\\core\\arrays\\timedeltas.py:754: RuntimeWarning: invalid value encountered in multiply\n",
      "  return self - (self // other) * other\n"
     ]
    },
    {
     "name": "stdout",
     "output_type": "stream",
     "text": [
      "14:37:29  parsing file GLIDER_SB_2018_v5-Phase0-D20180612-T093701-1.raw, time of first ping: 2018-Jun-12 09:37:01\n",
      "WARNING: The water_level_draft was not in the file. Value set to NaN.\n",
      "14:37:31  saving F:GLIDER2018/Echosounder/Echosounder/nc_files_daase2\\GLIDER_SB_2018_v5-Phase0-D20180612-T093701-1.nc\n"
     ]
    },
    {
     "name": "stderr",
     "output_type": "stream",
     "text": [
      "C:\\Users\\mbd\\anaconda3\\envs\\phd-env\\lib\\site-packages\\pandas\\core\\arrays\\timedeltas.py:754: RuntimeWarning: invalid value encountered in multiply\n",
      "  return self - (self // other) * other\n"
     ]
    },
    {
     "name": "stdout",
     "output_type": "stream",
     "text": [
      "14:37:35  parsing file GLIDER_SB_2018_v5-Phase0-D20180612-T094258-2.raw, time of first ping: 2018-Jun-12 09:42:58\n",
      "WARNING: The water_level_draft was not in the file. Value set to NaN.\n",
      "14:37:36  saving F:GLIDER2018/Echosounder/Echosounder/nc_files_daase2\\GLIDER_SB_2018_v5-Phase0-D20180612-T094258-2.nc\n"
     ]
    },
    {
     "name": "stderr",
     "output_type": "stream",
     "text": [
      "C:\\Users\\mbd\\anaconda3\\envs\\phd-env\\lib\\site-packages\\pandas\\core\\arrays\\timedeltas.py:754: RuntimeWarning: invalid value encountered in multiply\n",
      "  return self - (self // other) * other\n"
     ]
    },
    {
     "name": "stdout",
     "output_type": "stream",
     "text": [
      "14:37:39  parsing file GLIDER_SB_2018_v5-Phase0-D20180612-T100110-0.raw, time of first ping: 2018-Jun-12 10:01:10\n",
      "WARNING: The water_level_draft was not in the file. Value set to NaN.\n",
      "14:37:40  saving F:GLIDER2018/Echosounder/Echosounder/nc_files_daase2\\GLIDER_SB_2018_v5-Phase0-D20180612-T100110-0.nc\n"
     ]
    },
    {
     "name": "stderr",
     "output_type": "stream",
     "text": [
      "C:\\Users\\mbd\\anaconda3\\envs\\phd-env\\lib\\site-packages\\pandas\\core\\arrays\\timedeltas.py:754: RuntimeWarning: invalid value encountered in multiply\n",
      "  return self - (self // other) * other\n"
     ]
    },
    {
     "name": "stdout",
     "output_type": "stream",
     "text": [
      "14:37:45  parsing file GLIDER_SB_2018_v5-Phase0-D20180612-T100712-1.raw, time of first ping: 2018-Jun-12 10:07:13\n",
      "WARNING: The water_level_draft was not in the file. Value set to NaN.\n",
      "14:37:46  saving F:GLIDER2018/Echosounder/Echosounder/nc_files_daase2\\GLIDER_SB_2018_v5-Phase0-D20180612-T100712-1.nc\n"
     ]
    },
    {
     "name": "stderr",
     "output_type": "stream",
     "text": [
      "C:\\Users\\mbd\\anaconda3\\envs\\phd-env\\lib\\site-packages\\pandas\\core\\arrays\\timedeltas.py:754: RuntimeWarning: invalid value encountered in multiply\n",
      "  return self - (self // other) * other\n"
     ]
    },
    {
     "name": "stdout",
     "output_type": "stream",
     "text": [
      "14:37:51  parsing file GLIDER_SB_2018_v5-Phase0-D20180612-T101311-2.raw, time of first ping: 2018-Jun-12 10:13:11\n",
      "WARNING: The water_level_draft was not in the file. Value set to NaN.\n",
      "14:37:51  saving F:GLIDER2018/Echosounder/Echosounder/nc_files_daase2\\GLIDER_SB_2018_v5-Phase0-D20180612-T101311-2.nc\n"
     ]
    },
    {
     "name": "stderr",
     "output_type": "stream",
     "text": [
      "C:\\Users\\mbd\\anaconda3\\envs\\phd-env\\lib\\site-packages\\pandas\\core\\arrays\\timedeltas.py:754: RuntimeWarning: invalid value encountered in multiply\n",
      "  return self - (self // other) * other\n"
     ]
    },
    {
     "name": "stdout",
     "output_type": "stream",
     "text": [
      "14:37:55  parsing file GLIDER_SB_2018_v5-Phase0-D20180612-T103108-0.raw, time of first ping: 2018-Jun-12 10:31:08\n",
      "WARNING: The water_level_draft was not in the file. Value set to NaN.\n",
      "14:37:56  saving F:GLIDER2018/Echosounder/Echosounder/nc_files_daase2\\GLIDER_SB_2018_v5-Phase0-D20180612-T103108-0.nc\n"
     ]
    },
    {
     "name": "stderr",
     "output_type": "stream",
     "text": [
      "C:\\Users\\mbd\\anaconda3\\envs\\phd-env\\lib\\site-packages\\pandas\\core\\arrays\\timedeltas.py:754: RuntimeWarning: invalid value encountered in multiply\n",
      "  return self - (self // other) * other\n"
     ]
    },
    {
     "name": "stdout",
     "output_type": "stream",
     "text": [
      "14:38:00  parsing file GLIDER_SB_2018_v5-Phase0-D20180612-T103703-1.raw, time of first ping: 2018-Jun-12 10:37:04\n",
      "WARNING: The water_level_draft was not in the file. Value set to NaN.\n",
      "14:38:02  saving F:GLIDER2018/Echosounder/Echosounder/nc_files_daase2\\GLIDER_SB_2018_v5-Phase0-D20180612-T103703-1.nc\n"
     ]
    },
    {
     "name": "stderr",
     "output_type": "stream",
     "text": [
      "C:\\Users\\mbd\\anaconda3\\envs\\phd-env\\lib\\site-packages\\pandas\\core\\arrays\\timedeltas.py:754: RuntimeWarning: invalid value encountered in multiply\n",
      "  return self - (self // other) * other\n"
     ]
    },
    {
     "name": "stdout",
     "output_type": "stream",
     "text": [
      "14:38:06  parsing file GLIDER_SB_2018_v5-Phase0-D20180612-T104301-2.raw, time of first ping: 2018-Jun-12 10:43:01\n",
      "WARNING: The water_level_draft was not in the file. Value set to NaN.\n",
      "14:38:07  saving F:GLIDER2018/Echosounder/Echosounder/nc_files_daase2\\GLIDER_SB_2018_v5-Phase0-D20180612-T104301-2.nc\n"
     ]
    },
    {
     "name": "stderr",
     "output_type": "stream",
     "text": [
      "C:\\Users\\mbd\\anaconda3\\envs\\phd-env\\lib\\site-packages\\pandas\\core\\arrays\\timedeltas.py:754: RuntimeWarning: invalid value encountered in multiply\n",
      "  return self - (self // other) * other\n"
     ]
    },
    {
     "name": "stdout",
     "output_type": "stream",
     "text": [
      "14:38:11  parsing file GLIDER_SB_2018_v5-Phase0-D20180612-T110108-0.raw, time of first ping: 2018-Jun-12 11:01:08\n",
      "WARNING: The water_level_draft was not in the file. Value set to NaN.\n",
      "14:38:12  saving F:GLIDER2018/Echosounder/Echosounder/nc_files_daase2\\GLIDER_SB_2018_v5-Phase0-D20180612-T110108-0.nc\n"
     ]
    },
    {
     "name": "stderr",
     "output_type": "stream",
     "text": [
      "C:\\Users\\mbd\\anaconda3\\envs\\phd-env\\lib\\site-packages\\pandas\\core\\arrays\\timedeltas.py:754: RuntimeWarning: invalid value encountered in multiply\n",
      "  return self - (self // other) * other\n"
     ]
    },
    {
     "name": "stdout",
     "output_type": "stream",
     "text": [
      "14:38:17  parsing file GLIDER_SB_2018_v5-Phase0-D20180612-T110700-1.raw, time of first ping: 2018-Jun-12 11:07:00\n",
      "WARNING: The water_level_draft was not in the file. Value set to NaN.\n",
      "14:38:19  saving F:GLIDER2018/Echosounder/Echosounder/nc_files_daase2\\GLIDER_SB_2018_v5-Phase0-D20180612-T110700-1.nc\n"
     ]
    },
    {
     "name": "stderr",
     "output_type": "stream",
     "text": [
      "C:\\Users\\mbd\\anaconda3\\envs\\phd-env\\lib\\site-packages\\pandas\\core\\arrays\\timedeltas.py:754: RuntimeWarning: invalid value encountered in multiply\n",
      "  return self - (self // other) * other\n"
     ]
    },
    {
     "name": "stdout",
     "output_type": "stream",
     "text": [
      "14:38:24  parsing file GLIDER_SB_2018_v5-Phase0-D20180612-T111257-2.raw, time of first ping: 2018-Jun-12 11:12:57\n",
      "WARNING: The water_level_draft was not in the file. Value set to NaN.\n",
      "14:38:25  saving F:GLIDER2018/Echosounder/Echosounder/nc_files_daase2\\GLIDER_SB_2018_v5-Phase0-D20180612-T111257-2.nc\n"
     ]
    },
    {
     "name": "stderr",
     "output_type": "stream",
     "text": [
      "C:\\Users\\mbd\\anaconda3\\envs\\phd-env\\lib\\site-packages\\pandas\\core\\arrays\\timedeltas.py:754: RuntimeWarning: invalid value encountered in multiply\n",
      "  return self - (self // other) * other\n"
     ]
    },
    {
     "name": "stdout",
     "output_type": "stream",
     "text": [
      "14:38:28  parsing file GLIDER_SB_2018_v5-Phase0-D20180612-T113108-0.raw, time of first ping: 2018-Jun-12 11:31:08\n",
      "WARNING: The water_level_draft was not in the file. Value set to NaN.\n",
      "14:38:30  saving F:GLIDER2018/Echosounder/Echosounder/nc_files_daase2\\GLIDER_SB_2018_v5-Phase0-D20180612-T113108-0.nc\n"
     ]
    },
    {
     "name": "stderr",
     "output_type": "stream",
     "text": [
      "C:\\Users\\mbd\\anaconda3\\envs\\phd-env\\lib\\site-packages\\pandas\\core\\arrays\\timedeltas.py:754: RuntimeWarning: invalid value encountered in multiply\n",
      "  return self - (self // other) * other\n"
     ]
    },
    {
     "name": "stdout",
     "output_type": "stream",
     "text": [
      "14:38:35  parsing file GLIDER_SB_2018_v5-Phase0-D20180612-T113700-1.raw, time of first ping: 2018-Jun-12 11:37:00\n",
      "WARNING: The water_level_draft was not in the file. Value set to NaN.\n",
      "14:38:36  saving F:GLIDER2018/Echosounder/Echosounder/nc_files_daase2\\GLIDER_SB_2018_v5-Phase0-D20180612-T113700-1.nc\n"
     ]
    },
    {
     "name": "stderr",
     "output_type": "stream",
     "text": [
      "C:\\Users\\mbd\\anaconda3\\envs\\phd-env\\lib\\site-packages\\pandas\\core\\arrays\\timedeltas.py:754: RuntimeWarning: invalid value encountered in multiply\n",
      "  return self - (self // other) * other\n"
     ]
    },
    {
     "name": "stdout",
     "output_type": "stream",
     "text": [
      "14:38:40  parsing file GLIDER_SB_2018_v5-Phase0-D20180612-T114257-2.raw, time of first ping: 2018-Jun-12 11:42:57\n",
      "WARNING: The water_level_draft was not in the file. Value set to NaN.\n",
      "14:38:41  saving F:GLIDER2018/Echosounder/Echosounder/nc_files_daase2\\GLIDER_SB_2018_v5-Phase0-D20180612-T114257-2.nc\n"
     ]
    },
    {
     "name": "stderr",
     "output_type": "stream",
     "text": [
      "C:\\Users\\mbd\\anaconda3\\envs\\phd-env\\lib\\site-packages\\pandas\\core\\arrays\\timedeltas.py:754: RuntimeWarning: invalid value encountered in multiply\n",
      "  return self - (self // other) * other\n"
     ]
    },
    {
     "name": "stdout",
     "output_type": "stream",
     "text": [
      "14:38:45  parsing file GLIDER_SB_2018_v5-Phase0-D20180612-T120125-0.raw, time of first ping: 2018-Jun-12 12:01:25\n",
      "WARNING: The water_level_draft was not in the file. Value set to NaN.\n",
      "14:38:46  saving F:GLIDER2018/Echosounder/Echosounder/nc_files_daase2\\GLIDER_SB_2018_v5-Phase0-D20180612-T120125-0.nc\n"
     ]
    },
    {
     "name": "stderr",
     "output_type": "stream",
     "text": [
      "C:\\Users\\mbd\\anaconda3\\envs\\phd-env\\lib\\site-packages\\pandas\\core\\arrays\\timedeltas.py:754: RuntimeWarning: invalid value encountered in multiply\n",
      "  return self - (self // other) * other\n"
     ]
    },
    {
     "name": "stdout",
     "output_type": "stream",
     "text": [
      "14:38:51  parsing file GLIDER_SB_2018_v5-Phase0-D20180612-T120717-1.raw, time of first ping: 2018-Jun-12 12:07:17\n",
      "WARNING: The water_level_draft was not in the file. Value set to NaN.\n",
      "14:38:52  saving F:GLIDER2018/Echosounder/Echosounder/nc_files_daase2\\GLIDER_SB_2018_v5-Phase0-D20180612-T120717-1.nc\n"
     ]
    },
    {
     "name": "stderr",
     "output_type": "stream",
     "text": [
      "C:\\Users\\mbd\\anaconda3\\envs\\phd-env\\lib\\site-packages\\pandas\\core\\arrays\\timedeltas.py:754: RuntimeWarning: invalid value encountered in multiply\n",
      "  return self - (self // other) * other\n"
     ]
    },
    {
     "name": "stdout",
     "output_type": "stream",
     "text": [
      "14:38:57  parsing file GLIDER_SB_2018_v5-Phase0-D20180612-T121314-2.raw, time of first ping: 2018-Jun-12 12:13:14\n",
      "WARNING: The water_level_draft was not in the file. Value set to NaN.\n",
      "14:38:57  saving F:GLIDER2018/Echosounder/Echosounder/nc_files_daase2\\GLIDER_SB_2018_v5-Phase0-D20180612-T121314-2.nc\n"
     ]
    },
    {
     "name": "stderr",
     "output_type": "stream",
     "text": [
      "C:\\Users\\mbd\\anaconda3\\envs\\phd-env\\lib\\site-packages\\pandas\\core\\arrays\\timedeltas.py:754: RuntimeWarning: invalid value encountered in multiply\n",
      "  return self - (self // other) * other\n"
     ]
    },
    {
     "name": "stdout",
     "output_type": "stream",
     "text": [
      "14:39:01  parsing file GLIDER_SB_2018_v5-Phase0-D20180612-T123112-0.raw, time of first ping: 2018-Jun-12 12:31:12\n",
      "WARNING: The water_level_draft was not in the file. Value set to NaN.\n",
      "14:39:03  saving F:GLIDER2018/Echosounder/Echosounder/nc_files_daase2\\GLIDER_SB_2018_v5-Phase0-D20180612-T123112-0.nc\n"
     ]
    },
    {
     "name": "stderr",
     "output_type": "stream",
     "text": [
      "C:\\Users\\mbd\\anaconda3\\envs\\phd-env\\lib\\site-packages\\pandas\\core\\arrays\\timedeltas.py:754: RuntimeWarning: invalid value encountered in multiply\n",
      "  return self - (self // other) * other\n"
     ]
    },
    {
     "name": "stdout",
     "output_type": "stream",
     "text": [
      "14:39:07  parsing file GLIDER_SB_2018_v5-Phase0-D20180612-T123710-1.raw, time of first ping: 2018-Jun-12 12:37:10\n",
      "WARNING: The water_level_draft was not in the file. Value set to NaN.\n",
      "14:39:08  saving F:GLIDER2018/Echosounder/Echosounder/nc_files_daase2\\GLIDER_SB_2018_v5-Phase0-D20180612-T123710-1.nc\n"
     ]
    },
    {
     "name": "stderr",
     "output_type": "stream",
     "text": [
      "C:\\Users\\mbd\\anaconda3\\envs\\phd-env\\lib\\site-packages\\pandas\\core\\arrays\\timedeltas.py:754: RuntimeWarning: invalid value encountered in multiply\n",
      "  return self - (self // other) * other\n"
     ]
    },
    {
     "name": "stdout",
     "output_type": "stream",
     "text": [
      "14:39:12  parsing file GLIDER_SB_2018_v5-Phase0-D20180612-T124307-2.raw, time of first ping: 2018-Jun-12 12:43:07\n",
      "WARNING: The water_level_draft was not in the file. Value set to NaN.\n",
      "14:39:13  saving F:GLIDER2018/Echosounder/Echosounder/nc_files_daase2\\GLIDER_SB_2018_v5-Phase0-D20180612-T124307-2.nc\n"
     ]
    },
    {
     "name": "stderr",
     "output_type": "stream",
     "text": [
      "C:\\Users\\mbd\\anaconda3\\envs\\phd-env\\lib\\site-packages\\pandas\\core\\arrays\\timedeltas.py:754: RuntimeWarning: invalid value encountered in multiply\n",
      "  return self - (self // other) * other\n"
     ]
    },
    {
     "name": "stdout",
     "output_type": "stream",
     "text": [
      "14:39:17  parsing file GLIDER_SB_2018_v5-Phase0-D20180612-T130108-0.raw, time of first ping: 2018-Jun-12 13:01:08\n",
      "WARNING: The water_level_draft was not in the file. Value set to NaN.\n",
      "14:39:18  saving F:GLIDER2018/Echosounder/Echosounder/nc_files_daase2\\GLIDER_SB_2018_v5-Phase0-D20180612-T130108-0.nc\n"
     ]
    },
    {
     "name": "stderr",
     "output_type": "stream",
     "text": [
      "C:\\Users\\mbd\\anaconda3\\envs\\phd-env\\lib\\site-packages\\pandas\\core\\arrays\\timedeltas.py:754: RuntimeWarning: invalid value encountered in multiply\n",
      "  return self - (self // other) * other\n"
     ]
    },
    {
     "name": "stdout",
     "output_type": "stream",
     "text": [
      "14:39:23  parsing file GLIDER_SB_2018_v5-Phase0-D20180612-T130700-1.raw, time of first ping: 2018-Jun-12 13:07:00\n",
      "WARNING: The water_level_draft was not in the file. Value set to NaN.\n",
      "14:39:24  saving F:GLIDER2018/Echosounder/Echosounder/nc_files_daase2\\GLIDER_SB_2018_v5-Phase0-D20180612-T130700-1.nc\n"
     ]
    },
    {
     "name": "stderr",
     "output_type": "stream",
     "text": [
      "C:\\Users\\mbd\\anaconda3\\envs\\phd-env\\lib\\site-packages\\pandas\\core\\arrays\\timedeltas.py:754: RuntimeWarning: invalid value encountered in multiply\n",
      "  return self - (self // other) * other\n"
     ]
    },
    {
     "name": "stdout",
     "output_type": "stream",
     "text": [
      "14:39:28  parsing file GLIDER_SB_2018_v5-Phase0-D20180612-T131257-2.raw, time of first ping: 2018-Jun-12 13:12:57\n",
      "WARNING: The water_level_draft was not in the file. Value set to NaN.\n",
      "14:39:29  saving F:GLIDER2018/Echosounder/Echosounder/nc_files_daase2\\GLIDER_SB_2018_v5-Phase0-D20180612-T131257-2.nc\n"
     ]
    },
    {
     "name": "stderr",
     "output_type": "stream",
     "text": [
      "C:\\Users\\mbd\\anaconda3\\envs\\phd-env\\lib\\site-packages\\pandas\\core\\arrays\\timedeltas.py:754: RuntimeWarning: invalid value encountered in multiply\n",
      "  return self - (self // other) * other\n"
     ]
    },
    {
     "name": "stdout",
     "output_type": "stream",
     "text": [
      "14:39:32  parsing file GLIDER_SB_2018_v5-Phase0-D20180612-T133108-0.raw, time of first ping: 2018-Jun-12 13:31:08\n",
      "WARNING: The water_level_draft was not in the file. Value set to NaN.\n",
      "14:39:34  saving F:GLIDER2018/Echosounder/Echosounder/nc_files_daase2\\GLIDER_SB_2018_v5-Phase0-D20180612-T133108-0.nc\n"
     ]
    },
    {
     "name": "stderr",
     "output_type": "stream",
     "text": [
      "C:\\Users\\mbd\\anaconda3\\envs\\phd-env\\lib\\site-packages\\pandas\\core\\arrays\\timedeltas.py:754: RuntimeWarning: invalid value encountered in multiply\n",
      "  return self - (self // other) * other\n"
     ]
    },
    {
     "name": "stdout",
     "output_type": "stream",
     "text": [
      "14:39:38  parsing file GLIDER_SB_2018_v5-Phase0-D20180612-T133700-1.raw, time of first ping: 2018-Jun-12 13:37:00\n",
      "WARNING: The water_level_draft was not in the file. Value set to NaN.\n",
      "14:39:39  saving F:GLIDER2018/Echosounder/Echosounder/nc_files_daase2\\GLIDER_SB_2018_v5-Phase0-D20180612-T133700-1.nc\n"
     ]
    },
    {
     "name": "stderr",
     "output_type": "stream",
     "text": [
      "C:\\Users\\mbd\\anaconda3\\envs\\phd-env\\lib\\site-packages\\pandas\\core\\arrays\\timedeltas.py:754: RuntimeWarning: invalid value encountered in multiply\n",
      "  return self - (self // other) * other\n"
     ]
    },
    {
     "name": "stdout",
     "output_type": "stream",
     "text": [
      "14:39:44  parsing file GLIDER_SB_2018_v5-Phase0-D20180612-T134300-2.raw, time of first ping: 2018-Jun-12 13:43:00\n",
      "WARNING: The water_level_draft was not in the file. Value set to NaN.\n",
      "14:39:45  saving F:GLIDER2018/Echosounder/Echosounder/nc_files_daase2\\GLIDER_SB_2018_v5-Phase0-D20180612-T134300-2.nc\n"
     ]
    },
    {
     "name": "stderr",
     "output_type": "stream",
     "text": [
      "C:\\Users\\mbd\\anaconda3\\envs\\phd-env\\lib\\site-packages\\pandas\\core\\arrays\\timedeltas.py:754: RuntimeWarning: invalid value encountered in multiply\n",
      "  return self - (self // other) * other\n"
     ]
    },
    {
     "name": "stdout",
     "output_type": "stream",
     "text": [
      "14:39:48  parsing file GLIDER_SB_2018_v5-Phase0-D20180612-T140109-0.raw, time of first ping: 2018-Jun-12 14:01:09\n",
      "WARNING: The water_level_draft was not in the file. Value set to NaN.\n",
      "14:39:50  saving F:GLIDER2018/Echosounder/Echosounder/nc_files_daase2\\GLIDER_SB_2018_v5-Phase0-D20180612-T140109-0.nc\n"
     ]
    },
    {
     "name": "stderr",
     "output_type": "stream",
     "text": [
      "C:\\Users\\mbd\\anaconda3\\envs\\phd-env\\lib\\site-packages\\pandas\\core\\arrays\\timedeltas.py:754: RuntimeWarning: invalid value encountered in multiply\n",
      "  return self - (self // other) * other\n"
     ]
    },
    {
     "name": "stdout",
     "output_type": "stream",
     "text": [
      "14:39:55  parsing file GLIDER_SB_2018_v5-Phase0-D20180612-T140701-1.raw, time of first ping: 2018-Jun-12 14:07:01\n",
      "WARNING: The water_level_draft was not in the file. Value set to NaN.\n",
      "14:39:56  saving F:GLIDER2018/Echosounder/Echosounder/nc_files_daase2\\GLIDER_SB_2018_v5-Phase0-D20180612-T140701-1.nc\n"
     ]
    },
    {
     "name": "stderr",
     "output_type": "stream",
     "text": [
      "C:\\Users\\mbd\\anaconda3\\envs\\phd-env\\lib\\site-packages\\pandas\\core\\arrays\\timedeltas.py:754: RuntimeWarning: invalid value encountered in multiply\n",
      "  return self - (self // other) * other\n"
     ]
    },
    {
     "name": "stdout",
     "output_type": "stream",
     "text": [
      "14:40:00  parsing file GLIDER_SB_2018_v5-Phase0-D20180612-T141258-2.raw, time of first ping: 2018-Jun-12 14:12:58\n",
      "WARNING: The water_level_draft was not in the file. Value set to NaN.\n",
      "14:40:01  saving F:GLIDER2018/Echosounder/Echosounder/nc_files_daase2\\GLIDER_SB_2018_v5-Phase0-D20180612-T141258-2.nc\n"
     ]
    },
    {
     "name": "stderr",
     "output_type": "stream",
     "text": [
      "C:\\Users\\mbd\\anaconda3\\envs\\phd-env\\lib\\site-packages\\pandas\\core\\arrays\\timedeltas.py:754: RuntimeWarning: invalid value encountered in multiply\n",
      "  return self - (self // other) * other\n"
     ]
    },
    {
     "name": "stdout",
     "output_type": "stream",
     "text": [
      "14:40:05  parsing file GLIDER_SB_2018_v5-Phase0-D20180612-T143108-0.raw, time of first ping: 2018-Jun-12 14:31:08\n",
      "WARNING: The water_level_draft was not in the file. Value set to NaN.\n",
      "14:40:06  saving F:GLIDER2018/Echosounder/Echosounder/nc_files_daase2\\GLIDER_SB_2018_v5-Phase0-D20180612-T143108-0.nc\n"
     ]
    },
    {
     "name": "stderr",
     "output_type": "stream",
     "text": [
      "C:\\Users\\mbd\\anaconda3\\envs\\phd-env\\lib\\site-packages\\pandas\\core\\arrays\\timedeltas.py:754: RuntimeWarning: invalid value encountered in multiply\n",
      "  return self - (self // other) * other\n"
     ]
    },
    {
     "name": "stdout",
     "output_type": "stream",
     "text": [
      "14:40:10  parsing file GLIDER_SB_2018_v5-Phase0-D20180612-T143700-1.raw, time of first ping: 2018-Jun-12 14:37:00\n",
      "WARNING: The water_level_draft was not in the file. Value set to NaN.\n",
      "14:40:12  saving F:GLIDER2018/Echosounder/Echosounder/nc_files_daase2\\GLIDER_SB_2018_v5-Phase0-D20180612-T143700-1.nc\n"
     ]
    },
    {
     "name": "stderr",
     "output_type": "stream",
     "text": [
      "C:\\Users\\mbd\\anaconda3\\envs\\phd-env\\lib\\site-packages\\pandas\\core\\arrays\\timedeltas.py:754: RuntimeWarning: invalid value encountered in multiply\n",
      "  return self - (self // other) * other\n"
     ]
    },
    {
     "name": "stdout",
     "output_type": "stream",
     "text": [
      "14:40:16  parsing file GLIDER_SB_2018_v5-Phase0-D20180612-T144251-2.raw, time of first ping: 2018-Jun-12 14:42:51\n",
      "WARNING: The water_level_draft was not in the file. Value set to NaN.\n",
      "14:40:17  saving F:GLIDER2018/Echosounder/Echosounder/nc_files_daase2\\GLIDER_SB_2018_v5-Phase0-D20180612-T144251-2.nc\n"
     ]
    },
    {
     "name": "stderr",
     "output_type": "stream",
     "text": [
      "C:\\Users\\mbd\\anaconda3\\envs\\phd-env\\lib\\site-packages\\pandas\\core\\arrays\\timedeltas.py:754: RuntimeWarning: invalid value encountered in multiply\n",
      "  return self - (self // other) * other\n"
     ]
    },
    {
     "name": "stdout",
     "output_type": "stream",
     "text": [
      "14:40:21  parsing file GLIDER_SB_2018_v5-Phase0-D20180612-T150126-0.raw, time of first ping: 2018-Jun-12 15:01:26\n",
      "WARNING: The water_level_draft was not in the file. Value set to NaN.\n",
      "14:40:22  saving F:GLIDER2018/Echosounder/Echosounder/nc_files_daase2\\GLIDER_SB_2018_v5-Phase0-D20180612-T150126-0.nc\n"
     ]
    },
    {
     "name": "stderr",
     "output_type": "stream",
     "text": [
      "C:\\Users\\mbd\\anaconda3\\envs\\phd-env\\lib\\site-packages\\pandas\\core\\arrays\\timedeltas.py:754: RuntimeWarning: invalid value encountered in multiply\n",
      "  return self - (self // other) * other\n"
     ]
    },
    {
     "name": "stdout",
     "output_type": "stream",
     "text": [
      "14:40:27  parsing file GLIDER_SB_2018_v5-Phase0-D20180612-T150722-1.raw, time of first ping: 2018-Jun-12 15:07:23\n",
      "WARNING: The water_level_draft was not in the file. Value set to NaN.\n",
      "14:40:29  saving F:GLIDER2018/Echosounder/Echosounder/nc_files_daase2\\GLIDER_SB_2018_v5-Phase0-D20180612-T150722-1.nc\n"
     ]
    },
    {
     "name": "stderr",
     "output_type": "stream",
     "text": [
      "C:\\Users\\mbd\\anaconda3\\envs\\phd-env\\lib\\site-packages\\pandas\\core\\arrays\\timedeltas.py:754: RuntimeWarning: invalid value encountered in multiply\n",
      "  return self - (self // other) * other\n"
     ]
    },
    {
     "name": "stdout",
     "output_type": "stream",
     "text": [
      "14:40:34  parsing file GLIDER_SB_2018_v5-Phase0-D20180612-T151320-2.raw, time of first ping: 2018-Jun-12 15:13:20\n",
      "WARNING: The water_level_draft was not in the file. Value set to NaN.\n",
      "14:40:34  saving F:GLIDER2018/Echosounder/Echosounder/nc_files_daase2\\GLIDER_SB_2018_v5-Phase0-D20180612-T151320-2.nc\n"
     ]
    },
    {
     "name": "stderr",
     "output_type": "stream",
     "text": [
      "C:\\Users\\mbd\\anaconda3\\envs\\phd-env\\lib\\site-packages\\pandas\\core\\arrays\\timedeltas.py:754: RuntimeWarning: invalid value encountered in multiply\n",
      "  return self - (self // other) * other\n"
     ]
    },
    {
     "name": "stdout",
     "output_type": "stream",
     "text": [
      "14:40:38  parsing file GLIDER_SB_2018_v5-Phase0-D20180612-T153108-0.raw, time of first ping: 2018-Jun-12 15:31:08\n",
      "WARNING: The water_level_draft was not in the file. Value set to NaN.\n",
      "14:40:40  saving F:GLIDER2018/Echosounder/Echosounder/nc_files_daase2\\GLIDER_SB_2018_v5-Phase0-D20180612-T153108-0.nc\n"
     ]
    },
    {
     "name": "stderr",
     "output_type": "stream",
     "text": [
      "C:\\Users\\mbd\\anaconda3\\envs\\phd-env\\lib\\site-packages\\pandas\\core\\arrays\\timedeltas.py:754: RuntimeWarning: invalid value encountered in multiply\n",
      "  return self - (self // other) * other\n"
     ]
    },
    {
     "name": "stdout",
     "output_type": "stream",
     "text": [
      "14:40:44  parsing file GLIDER_SB_2018_v5-Phase0-D20180612-T153700-1.raw, time of first ping: 2018-Jun-12 15:37:00\n",
      "WARNING: The water_level_draft was not in the file. Value set to NaN.\n",
      "14:40:45  saving F:GLIDER2018/Echosounder/Echosounder/nc_files_daase2\\GLIDER_SB_2018_v5-Phase0-D20180612-T153700-1.nc\n"
     ]
    },
    {
     "name": "stderr",
     "output_type": "stream",
     "text": [
      "C:\\Users\\mbd\\anaconda3\\envs\\phd-env\\lib\\site-packages\\pandas\\core\\arrays\\timedeltas.py:754: RuntimeWarning: invalid value encountered in multiply\n",
      "  return self - (self // other) * other\n"
     ]
    },
    {
     "name": "stdout",
     "output_type": "stream",
     "text": [
      "14:40:50  parsing file GLIDER_SB_2018_v5-Phase0-D20180612-T154251-2.raw, time of first ping: 2018-Jun-12 15:42:51\n",
      "WARNING: The water_level_draft was not in the file. Value set to NaN.\n",
      "14:40:50  saving F:GLIDER2018/Echosounder/Echosounder/nc_files_daase2\\GLIDER_SB_2018_v5-Phase0-D20180612-T154251-2.nc\n"
     ]
    },
    {
     "name": "stderr",
     "output_type": "stream",
     "text": [
      "C:\\Users\\mbd\\anaconda3\\envs\\phd-env\\lib\\site-packages\\pandas\\core\\arrays\\timedeltas.py:754: RuntimeWarning: invalid value encountered in multiply\n",
      "  return self - (self // other) * other\n"
     ]
    },
    {
     "name": "stdout",
     "output_type": "stream",
     "text": [
      "14:40:55  parsing file GLIDER_SB_2018_v5-Phase0-D20180612-T160110-0.raw, time of first ping: 2018-Jun-12 16:01:10\n",
      "WARNING: The water_level_draft was not in the file. Value set to NaN.\n",
      "14:40:56  saving F:GLIDER2018/Echosounder/Echosounder/nc_files_daase2\\GLIDER_SB_2018_v5-Phase0-D20180612-T160110-0.nc\n"
     ]
    },
    {
     "name": "stderr",
     "output_type": "stream",
     "text": [
      "C:\\Users\\mbd\\anaconda3\\envs\\phd-env\\lib\\site-packages\\pandas\\core\\arrays\\timedeltas.py:754: RuntimeWarning: invalid value encountered in multiply\n",
      "  return self - (self // other) * other\n"
     ]
    },
    {
     "name": "stdout",
     "output_type": "stream",
     "text": [
      "14:41:00  parsing file GLIDER_SB_2018_v5-Phase0-D20180612-T160702-1.raw, time of first ping: 2018-Jun-12 16:07:02\n",
      "WARNING: The water_level_draft was not in the file. Value set to NaN.\n",
      "14:41:02  saving F:GLIDER2018/Echosounder/Echosounder/nc_files_daase2\\GLIDER_SB_2018_v5-Phase0-D20180612-T160702-1.nc\n"
     ]
    },
    {
     "name": "stderr",
     "output_type": "stream",
     "text": [
      "C:\\Users\\mbd\\anaconda3\\envs\\phd-env\\lib\\site-packages\\pandas\\core\\arrays\\timedeltas.py:754: RuntimeWarning: invalid value encountered in multiply\n",
      "  return self - (self // other) * other\n"
     ]
    },
    {
     "name": "stdout",
     "output_type": "stream",
     "text": [
      "14:41:06  parsing file GLIDER_SB_2018_v5-Phase0-D20180612-T161253-2.raw, time of first ping: 2018-Jun-12 16:12:53\n",
      "WARNING: The water_level_draft was not in the file. Value set to NaN.\n",
      "14:41:07  saving F:GLIDER2018/Echosounder/Echosounder/nc_files_daase2\\GLIDER_SB_2018_v5-Phase0-D20180612-T161253-2.nc\n"
     ]
    },
    {
     "name": "stderr",
     "output_type": "stream",
     "text": [
      "C:\\Users\\mbd\\anaconda3\\envs\\phd-env\\lib\\site-packages\\pandas\\core\\arrays\\timedeltas.py:754: RuntimeWarning: invalid value encountered in multiply\n",
      "  return self - (self // other) * other\n"
     ]
    },
    {
     "name": "stdout",
     "output_type": "stream",
     "text": [
      "14:41:10  parsing file GLIDER_SB_2018_v5-Phase0-D20180612-T163108-0.raw, time of first ping: 2018-Jun-12 16:31:08\n",
      "WARNING: The water_level_draft was not in the file. Value set to NaN.\n",
      "14:41:12  saving F:GLIDER2018/Echosounder/Echosounder/nc_files_daase2\\GLIDER_SB_2018_v5-Phase0-D20180612-T163108-0.nc\n"
     ]
    },
    {
     "name": "stderr",
     "output_type": "stream",
     "text": [
      "C:\\Users\\mbd\\anaconda3\\envs\\phd-env\\lib\\site-packages\\pandas\\core\\arrays\\timedeltas.py:754: RuntimeWarning: invalid value encountered in multiply\n",
      "  return self - (self // other) * other\n"
     ]
    },
    {
     "name": "stdout",
     "output_type": "stream",
     "text": [
      "14:41:16  parsing file GLIDER_SB_2018_v5-Phase0-D20180612-T163700-1.raw, time of first ping: 2018-Jun-12 16:37:00\n",
      "WARNING: The water_level_draft was not in the file. Value set to NaN.\n",
      "14:41:17  saving F:GLIDER2018/Echosounder/Echosounder/nc_files_daase2\\GLIDER_SB_2018_v5-Phase0-D20180612-T163700-1.nc\n"
     ]
    },
    {
     "name": "stderr",
     "output_type": "stream",
     "text": [
      "C:\\Users\\mbd\\anaconda3\\envs\\phd-env\\lib\\site-packages\\pandas\\core\\arrays\\timedeltas.py:754: RuntimeWarning: invalid value encountered in multiply\n",
      "  return self - (self // other) * other\n"
     ]
    },
    {
     "name": "stdout",
     "output_type": "stream",
     "text": [
      "14:41:22  parsing file GLIDER_SB_2018_v5-Phase0-D20180612-T164251-2.raw, time of first ping: 2018-Jun-12 16:42:51\n",
      "WARNING: The water_level_draft was not in the file. Value set to NaN.\n",
      "14:41:23  saving F:GLIDER2018/Echosounder/Echosounder/nc_files_daase2\\GLIDER_SB_2018_v5-Phase0-D20180612-T164251-2.nc\n"
     ]
    },
    {
     "name": "stderr",
     "output_type": "stream",
     "text": [
      "C:\\Users\\mbd\\anaconda3\\envs\\phd-env\\lib\\site-packages\\pandas\\core\\arrays\\timedeltas.py:754: RuntimeWarning: invalid value encountered in multiply\n",
      "  return self - (self // other) * other\n"
     ]
    },
    {
     "name": "stdout",
     "output_type": "stream",
     "text": [
      "14:41:26  parsing file GLIDER_SB_2018_v5-Phase0-D20180612-T170110-0.raw, time of first ping: 2018-Jun-12 17:01:10\n",
      "WARNING: The water_level_draft was not in the file. Value set to NaN.\n",
      "14:41:28  saving F:GLIDER2018/Echosounder/Echosounder/nc_files_daase2\\GLIDER_SB_2018_v5-Phase0-D20180612-T170110-0.nc\n"
     ]
    },
    {
     "name": "stderr",
     "output_type": "stream",
     "text": [
      "C:\\Users\\mbd\\anaconda3\\envs\\phd-env\\lib\\site-packages\\pandas\\core\\arrays\\timedeltas.py:754: RuntimeWarning: invalid value encountered in multiply\n",
      "  return self - (self // other) * other\n"
     ]
    },
    {
     "name": "stdout",
     "output_type": "stream",
     "text": [
      "14:41:32  parsing file GLIDER_SB_2018_v5-Phase0-D20180612-T170702-1.raw, time of first ping: 2018-Jun-12 17:07:02\n",
      "WARNING: The water_level_draft was not in the file. Value set to NaN.\n",
      "14:41:33  saving F:GLIDER2018/Echosounder/Echosounder/nc_files_daase2\\GLIDER_SB_2018_v5-Phase0-D20180612-T170702-1.nc\n"
     ]
    },
    {
     "name": "stderr",
     "output_type": "stream",
     "text": [
      "C:\\Users\\mbd\\anaconda3\\envs\\phd-env\\lib\\site-packages\\pandas\\core\\arrays\\timedeltas.py:754: RuntimeWarning: invalid value encountered in multiply\n",
      "  return self - (self // other) * other\n"
     ]
    },
    {
     "name": "stdout",
     "output_type": "stream",
     "text": [
      "14:41:38  parsing file GLIDER_SB_2018_v5-Phase0-D20180612-T171253-2.raw, time of first ping: 2018-Jun-12 17:12:53\n",
      "WARNING: The water_level_draft was not in the file. Value set to NaN.\n",
      "14:41:39  saving F:GLIDER2018/Echosounder/Echosounder/nc_files_daase2\\GLIDER_SB_2018_v5-Phase0-D20180612-T171253-2.nc\n"
     ]
    },
    {
     "name": "stderr",
     "output_type": "stream",
     "text": [
      "C:\\Users\\mbd\\anaconda3\\envs\\phd-env\\lib\\site-packages\\pandas\\core\\arrays\\timedeltas.py:754: RuntimeWarning: invalid value encountered in multiply\n",
      "  return self - (self // other) * other\n"
     ]
    },
    {
     "name": "stdout",
     "output_type": "stream",
     "text": [
      "14:41:43  parsing file GLIDER_SB_2018_v5-Phase0-D20180612-T173109-0.raw, time of first ping: 2018-Jun-12 17:31:09\n",
      "WARNING: The water_level_draft was not in the file. Value set to NaN.\n",
      "14:41:45  saving F:GLIDER2018/Echosounder/Echosounder/nc_files_daase2\\GLIDER_SB_2018_v5-Phase0-D20180612-T173109-0.nc\n"
     ]
    },
    {
     "name": "stderr",
     "output_type": "stream",
     "text": [
      "C:\\Users\\mbd\\anaconda3\\envs\\phd-env\\lib\\site-packages\\pandas\\core\\arrays\\timedeltas.py:754: RuntimeWarning: invalid value encountered in multiply\n",
      "  return self - (self // other) * other\n"
     ]
    },
    {
     "name": "stdout",
     "output_type": "stream",
     "text": [
      "14:41:49  parsing file GLIDER_SB_2018_v5-Phase0-D20180612-T173701-1.raw, time of first ping: 2018-Jun-12 17:37:01\n",
      "WARNING: The water_level_draft was not in the file. Value set to NaN.\n",
      "14:41:50  saving F:GLIDER2018/Echosounder/Echosounder/nc_files_daase2\\GLIDER_SB_2018_v5-Phase0-D20180612-T173701-1.nc\n"
     ]
    },
    {
     "name": "stderr",
     "output_type": "stream",
     "text": [
      "C:\\Users\\mbd\\anaconda3\\envs\\phd-env\\lib\\site-packages\\pandas\\core\\arrays\\timedeltas.py:754: RuntimeWarning: invalid value encountered in multiply\n",
      "  return self - (self // other) * other\n"
     ]
    },
    {
     "name": "stdout",
     "output_type": "stream",
     "text": [
      "14:41:55  parsing file GLIDER_SB_2018_v5-Phase0-D20180612-T174258-2.raw, time of first ping: 2018-Jun-12 17:42:58\n",
      "WARNING: The water_level_draft was not in the file. Value set to NaN.\n",
      "14:41:55  saving F:GLIDER2018/Echosounder/Echosounder/nc_files_daase2\\GLIDER_SB_2018_v5-Phase0-D20180612-T174258-2.nc\n"
     ]
    },
    {
     "name": "stderr",
     "output_type": "stream",
     "text": [
      "C:\\Users\\mbd\\anaconda3\\envs\\phd-env\\lib\\site-packages\\pandas\\core\\arrays\\timedeltas.py:754: RuntimeWarning: invalid value encountered in multiply\n",
      "  return self - (self // other) * other\n"
     ]
    },
    {
     "name": "stdout",
     "output_type": "stream",
     "text": [
      "14:41:59  parsing file GLIDER_SB_2018_v5-Phase0-D20180612-T180124-0.raw, time of first ping: 2018-Jun-12 18:01:24\n",
      "WARNING: The water_level_draft was not in the file. Value set to NaN.\n",
      "14:42:01  saving F:GLIDER2018/Echosounder/Echosounder/nc_files_daase2\\GLIDER_SB_2018_v5-Phase0-D20180612-T180124-0.nc\n"
     ]
    },
    {
     "name": "stderr",
     "output_type": "stream",
     "text": [
      "C:\\Users\\mbd\\anaconda3\\envs\\phd-env\\lib\\site-packages\\pandas\\core\\arrays\\timedeltas.py:754: RuntimeWarning: invalid value encountered in multiply\n",
      "  return self - (self // other) * other\n"
     ]
    },
    {
     "name": "stdout",
     "output_type": "stream",
     "text": [
      "14:42:05  parsing file GLIDER_SB_2018_v5-Phase0-D20180612-T180716-1.raw, time of first ping: 2018-Jun-12 18:07:16\n",
      "WARNING: The water_level_draft was not in the file. Value set to NaN.\n",
      "14:42:07  saving F:GLIDER2018/Echosounder/Echosounder/nc_files_daase2\\GLIDER_SB_2018_v5-Phase0-D20180612-T180716-1.nc\n"
     ]
    },
    {
     "name": "stderr",
     "output_type": "stream",
     "text": [
      "C:\\Users\\mbd\\anaconda3\\envs\\phd-env\\lib\\site-packages\\pandas\\core\\arrays\\timedeltas.py:754: RuntimeWarning: invalid value encountered in multiply\n",
      "  return self - (self // other) * other\n"
     ]
    },
    {
     "name": "stdout",
     "output_type": "stream",
     "text": [
      "14:42:11  parsing file GLIDER_SB_2018_v5-Phase0-D20180612-T181307-2.raw, time of first ping: 2018-Jun-12 18:13:07\n",
      "WARNING: The water_level_draft was not in the file. Value set to NaN.\n",
      "14:42:12  saving F:GLIDER2018/Echosounder/Echosounder/nc_files_daase2\\GLIDER_SB_2018_v5-Phase0-D20180612-T181307-2.nc\n"
     ]
    },
    {
     "name": "stderr",
     "output_type": "stream",
     "text": [
      "C:\\Users\\mbd\\anaconda3\\envs\\phd-env\\lib\\site-packages\\pandas\\core\\arrays\\timedeltas.py:754: RuntimeWarning: invalid value encountered in multiply\n",
      "  return self - (self // other) * other\n"
     ]
    },
    {
     "name": "stdout",
     "output_type": "stream",
     "text": [
      "14:42:16  parsing file GLIDER_SB_2018_v5-Phase0-D20180612-T183108-0.raw, time of first ping: 2018-Jun-12 18:31:08\n",
      "WARNING: The water_level_draft was not in the file. Value set to NaN.\n",
      "14:42:17  saving F:GLIDER2018/Echosounder/Echosounder/nc_files_daase2\\GLIDER_SB_2018_v5-Phase0-D20180612-T183108-0.nc\n"
     ]
    },
    {
     "name": "stderr",
     "output_type": "stream",
     "text": [
      "C:\\Users\\mbd\\anaconda3\\envs\\phd-env\\lib\\site-packages\\pandas\\core\\arrays\\timedeltas.py:754: RuntimeWarning: invalid value encountered in multiply\n",
      "  return self - (self // other) * other\n"
     ]
    },
    {
     "name": "stdout",
     "output_type": "stream",
     "text": [
      "14:42:22  parsing file GLIDER_SB_2018_v5-Phase0-D20180612-T183700-1.raw, time of first ping: 2018-Jun-12 18:37:00\n",
      "WARNING: The water_level_draft was not in the file. Value set to NaN.\n",
      "14:42:23  saving F:GLIDER2018/Echosounder/Echosounder/nc_files_daase2\\GLIDER_SB_2018_v5-Phase0-D20180612-T183700-1.nc\n"
     ]
    },
    {
     "name": "stderr",
     "output_type": "stream",
     "text": [
      "C:\\Users\\mbd\\anaconda3\\envs\\phd-env\\lib\\site-packages\\pandas\\core\\arrays\\timedeltas.py:754: RuntimeWarning: invalid value encountered in multiply\n",
      "  return self - (self // other) * other\n"
     ]
    },
    {
     "name": "stdout",
     "output_type": "stream",
     "text": [
      "14:42:27  parsing file GLIDER_SB_2018_v5-Phase0-D20180612-T184251-2.raw, time of first ping: 2018-Jun-12 18:42:51\n",
      "WARNING: The water_level_draft was not in the file. Value set to NaN.\n",
      "14:42:28  saving F:GLIDER2018/Echosounder/Echosounder/nc_files_daase2\\GLIDER_SB_2018_v5-Phase0-D20180612-T184251-2.nc\n"
     ]
    },
    {
     "name": "stderr",
     "output_type": "stream",
     "text": [
      "C:\\Users\\mbd\\anaconda3\\envs\\phd-env\\lib\\site-packages\\pandas\\core\\arrays\\timedeltas.py:754: RuntimeWarning: invalid value encountered in multiply\n",
      "  return self - (self // other) * other\n"
     ]
    },
    {
     "name": "stdout",
     "output_type": "stream",
     "text": [
      "14:42:32  parsing file GLIDER_SB_2018_v5-Phase0-D20180612-T190109-0.raw, time of first ping: 2018-Jun-12 19:01:09\n",
      "WARNING: The water_level_draft was not in the file. Value set to NaN.\n",
      "14:42:33  saving F:GLIDER2018/Echosounder/Echosounder/nc_files_daase2\\GLIDER_SB_2018_v5-Phase0-D20180612-T190109-0.nc\n"
     ]
    },
    {
     "name": "stderr",
     "output_type": "stream",
     "text": [
      "C:\\Users\\mbd\\anaconda3\\envs\\phd-env\\lib\\site-packages\\pandas\\core\\arrays\\timedeltas.py:754: RuntimeWarning: invalid value encountered in multiply\n",
      "  return self - (self // other) * other\n"
     ]
    },
    {
     "name": "stdout",
     "output_type": "stream",
     "text": [
      "14:42:37  parsing file GLIDER_SB_2018_v5-Phase0-D20180612-T190701-1.raw, time of first ping: 2018-Jun-12 19:07:01\n",
      "WARNING: The water_level_draft was not in the file. Value set to NaN.\n",
      "14:42:39  saving F:GLIDER2018/Echosounder/Echosounder/nc_files_daase2\\GLIDER_SB_2018_v5-Phase0-D20180612-T190701-1.nc\n"
     ]
    },
    {
     "name": "stderr",
     "output_type": "stream",
     "text": [
      "C:\\Users\\mbd\\anaconda3\\envs\\phd-env\\lib\\site-packages\\pandas\\core\\arrays\\timedeltas.py:754: RuntimeWarning: invalid value encountered in multiply\n",
      "  return self - (self // other) * other\n"
     ]
    },
    {
     "name": "stdout",
     "output_type": "stream",
     "text": [
      "14:42:43  parsing file GLIDER_SB_2018_v5-Phase0-D20180612-T191252-2.raw, time of first ping: 2018-Jun-12 19:12:52\n",
      "WARNING: The water_level_draft was not in the file. Value set to NaN.\n",
      "14:42:44  saving F:GLIDER2018/Echosounder/Echosounder/nc_files_daase2\\GLIDER_SB_2018_v5-Phase0-D20180612-T191252-2.nc\n"
     ]
    },
    {
     "name": "stderr",
     "output_type": "stream",
     "text": [
      "C:\\Users\\mbd\\anaconda3\\envs\\phd-env\\lib\\site-packages\\pandas\\core\\arrays\\timedeltas.py:754: RuntimeWarning: invalid value encountered in multiply\n",
      "  return self - (self // other) * other\n"
     ]
    },
    {
     "name": "stdout",
     "output_type": "stream",
     "text": [
      "14:42:48  parsing file GLIDER_SB_2018_v5-Phase0-D20180612-T193112-0.raw, time of first ping: 2018-Jun-12 19:31:12\n",
      "WARNING: The water_level_draft was not in the file. Value set to NaN.\n",
      "14:42:50  saving F:GLIDER2018/Echosounder/Echosounder/nc_files_daase2\\GLIDER_SB_2018_v5-Phase0-D20180612-T193112-0.nc\n"
     ]
    },
    {
     "name": "stderr",
     "output_type": "stream",
     "text": [
      "C:\\Users\\mbd\\anaconda3\\envs\\phd-env\\lib\\site-packages\\pandas\\core\\arrays\\timedeltas.py:754: RuntimeWarning: invalid value encountered in multiply\n",
      "  return self - (self // other) * other\n"
     ]
    },
    {
     "name": "stdout",
     "output_type": "stream",
     "text": [
      "14:42:54  parsing file GLIDER_SB_2018_v5-Phase0-D20180612-T193706-1.raw, time of first ping: 2018-Jun-12 19:37:06\n",
      "WARNING: The water_level_draft was not in the file. Value set to NaN.\n",
      "14:42:56  saving F:GLIDER2018/Echosounder/Echosounder/nc_files_daase2\\GLIDER_SB_2018_v5-Phase0-D20180612-T193706-1.nc\n"
     ]
    },
    {
     "name": "stderr",
     "output_type": "stream",
     "text": [
      "C:\\Users\\mbd\\anaconda3\\envs\\phd-env\\lib\\site-packages\\pandas\\core\\arrays\\timedeltas.py:754: RuntimeWarning: invalid value encountered in multiply\n",
      "  return self - (self // other) * other\n"
     ]
    },
    {
     "name": "stdout",
     "output_type": "stream",
     "text": [
      "14:43:01  parsing file GLIDER_SB_2018_v5-Phase0-D20180612-T194301-2.raw, time of first ping: 2018-Jun-12 19:43:01\n",
      "WARNING: The water_level_draft was not in the file. Value set to NaN.\n",
      "14:43:02  saving F:GLIDER2018/Echosounder/Echosounder/nc_files_daase2\\GLIDER_SB_2018_v5-Phase0-D20180612-T194301-2.nc\n"
     ]
    },
    {
     "name": "stderr",
     "output_type": "stream",
     "text": [
      "C:\\Users\\mbd\\anaconda3\\envs\\phd-env\\lib\\site-packages\\pandas\\core\\arrays\\timedeltas.py:754: RuntimeWarning: invalid value encountered in multiply\n",
      "  return self - (self // other) * other\n"
     ]
    },
    {
     "name": "stdout",
     "output_type": "stream",
     "text": [
      "14:43:05  parsing file GLIDER_SB_2018_v5-Phase0-D20180612-T200110-0.raw, time of first ping: 2018-Jun-12 20:01:10\n",
      "WARNING: The water_level_draft was not in the file. Value set to NaN.\n",
      "14:43:07  saving F:GLIDER2018/Echosounder/Echosounder/nc_files_daase2\\GLIDER_SB_2018_v5-Phase0-D20180612-T200110-0.nc\n"
     ]
    },
    {
     "name": "stderr",
     "output_type": "stream",
     "text": [
      "C:\\Users\\mbd\\anaconda3\\envs\\phd-env\\lib\\site-packages\\pandas\\core\\arrays\\timedeltas.py:754: RuntimeWarning: invalid value encountered in multiply\n",
      "  return self - (self // other) * other\n"
     ]
    },
    {
     "name": "stdout",
     "output_type": "stream",
     "text": [
      "14:43:14  parsing file GLIDER_SB_2018_v5-Phase0-D20180612-T200702-1.raw, time of first ping: 2018-Jun-12 20:07:02\n",
      "WARNING: The water_level_draft was not in the file. Value set to NaN.\n",
      "14:43:16  saving F:GLIDER2018/Echosounder/Echosounder/nc_files_daase2\\GLIDER_SB_2018_v5-Phase0-D20180612-T200702-1.nc\n"
     ]
    },
    {
     "name": "stderr",
     "output_type": "stream",
     "text": [
      "C:\\Users\\mbd\\anaconda3\\envs\\phd-env\\lib\\site-packages\\pandas\\core\\arrays\\timedeltas.py:754: RuntimeWarning: invalid value encountered in multiply\n",
      "  return self - (self // other) * other\n"
     ]
    },
    {
     "name": "stdout",
     "output_type": "stream",
     "text": [
      "14:43:22  parsing file GLIDER_SB_2018_v5-Phase0-D20180612-T201253-2.raw, time of first ping: 2018-Jun-12 20:12:53\n",
      "WARNING: The water_level_draft was not in the file. Value set to NaN.\n",
      "14:43:22  saving F:GLIDER2018/Echosounder/Echosounder/nc_files_daase2\\GLIDER_SB_2018_v5-Phase0-D20180612-T201253-2.nc\n"
     ]
    },
    {
     "name": "stderr",
     "output_type": "stream",
     "text": [
      "C:\\Users\\mbd\\anaconda3\\envs\\phd-env\\lib\\site-packages\\pandas\\core\\arrays\\timedeltas.py:754: RuntimeWarning: invalid value encountered in multiply\n",
      "  return self - (self // other) * other\n"
     ]
    },
    {
     "name": "stdout",
     "output_type": "stream",
     "text": [
      "14:43:28  parsing file GLIDER_SB_2018_v5-Phase0-D20180612-T203108-0.raw, time of first ping: 2018-Jun-12 20:31:08\n",
      "WARNING: The water_level_draft was not in the file. Value set to NaN.\n",
      "14:43:30  saving F:GLIDER2018/Echosounder/Echosounder/nc_files_daase2\\GLIDER_SB_2018_v5-Phase0-D20180612-T203108-0.nc\n"
     ]
    },
    {
     "name": "stderr",
     "output_type": "stream",
     "text": [
      "C:\\Users\\mbd\\anaconda3\\envs\\phd-env\\lib\\site-packages\\pandas\\core\\arrays\\timedeltas.py:754: RuntimeWarning: invalid value encountered in multiply\n",
      "  return self - (self // other) * other\n"
     ]
    },
    {
     "name": "stdout",
     "output_type": "stream",
     "text": [
      "14:43:35  parsing file GLIDER_SB_2018_v5-Phase0-D20180612-T203706-1.raw, time of first ping: 2018-Jun-12 20:37:07\n",
      "WARNING: The water_level_draft was not in the file. Value set to NaN.\n",
      "14:43:37  saving F:GLIDER2018/Echosounder/Echosounder/nc_files_daase2\\GLIDER_SB_2018_v5-Phase0-D20180612-T203706-1.nc\n"
     ]
    },
    {
     "name": "stderr",
     "output_type": "stream",
     "text": [
      "C:\\Users\\mbd\\anaconda3\\envs\\phd-env\\lib\\site-packages\\pandas\\core\\arrays\\timedeltas.py:754: RuntimeWarning: invalid value encountered in multiply\n",
      "  return self - (self // other) * other\n"
     ]
    },
    {
     "name": "stdout",
     "output_type": "stream",
     "text": [
      "14:43:42  parsing file GLIDER_SB_2018_v5-Phase0-D20180612-T204257-2.raw, time of first ping: 2018-Jun-12 20:42:58\n",
      "WARNING: The water_level_draft was not in the file. Value set to NaN.\n",
      "14:43:42  saving F:GLIDER2018/Echosounder/Echosounder/nc_files_daase2\\GLIDER_SB_2018_v5-Phase0-D20180612-T204257-2.nc\n"
     ]
    },
    {
     "name": "stderr",
     "output_type": "stream",
     "text": [
      "C:\\Users\\mbd\\anaconda3\\envs\\phd-env\\lib\\site-packages\\pandas\\core\\arrays\\timedeltas.py:754: RuntimeWarning: invalid value encountered in multiply\n",
      "  return self - (self // other) * other\n"
     ]
    },
    {
     "name": "stdout",
     "output_type": "stream",
     "text": [
      "14:43:47  parsing file GLIDER_SB_2018_v5-Phase0-D20180612-T210109-0.raw, time of first ping: 2018-Jun-12 21:01:09\n",
      "WARNING: The water_level_draft was not in the file. Value set to NaN.\n",
      "14:43:48  saving F:GLIDER2018/Echosounder/Echosounder/nc_files_daase2\\GLIDER_SB_2018_v5-Phase0-D20180612-T210109-0.nc\n"
     ]
    },
    {
     "name": "stderr",
     "output_type": "stream",
     "text": [
      "C:\\Users\\mbd\\anaconda3\\envs\\phd-env\\lib\\site-packages\\pandas\\core\\arrays\\timedeltas.py:754: RuntimeWarning: invalid value encountered in multiply\n",
      "  return self - (self // other) * other\n"
     ]
    },
    {
     "name": "stdout",
     "output_type": "stream",
     "text": [
      "14:43:53  parsing file GLIDER_SB_2018_v5-Phase0-D20180612-T210701-1.raw, time of first ping: 2018-Jun-12 21:07:01\n",
      "WARNING: The water_level_draft was not in the file. Value set to NaN.\n",
      "14:43:54  saving F:GLIDER2018/Echosounder/Echosounder/nc_files_daase2\\GLIDER_SB_2018_v5-Phase0-D20180612-T210701-1.nc\n"
     ]
    },
    {
     "name": "stderr",
     "output_type": "stream",
     "text": [
      "C:\\Users\\mbd\\anaconda3\\envs\\phd-env\\lib\\site-packages\\pandas\\core\\arrays\\timedeltas.py:754: RuntimeWarning: invalid value encountered in multiply\n",
      "  return self - (self // other) * other\n"
     ]
    },
    {
     "name": "stdout",
     "output_type": "stream",
     "text": [
      "14:43:59  parsing file GLIDER_SB_2018_v5-Phase0-D20180612-T211252-2.raw, time of first ping: 2018-Jun-12 21:12:52\n",
      "WARNING: The water_level_draft was not in the file. Value set to NaN.\n",
      "14:44:00  saving F:GLIDER2018/Echosounder/Echosounder/nc_files_daase2\\GLIDER_SB_2018_v5-Phase0-D20180612-T211252-2.nc\n"
     ]
    },
    {
     "name": "stderr",
     "output_type": "stream",
     "text": [
      "C:\\Users\\mbd\\anaconda3\\envs\\phd-env\\lib\\site-packages\\pandas\\core\\arrays\\timedeltas.py:754: RuntimeWarning: invalid value encountered in multiply\n",
      "  return self - (self // other) * other\n"
     ]
    },
    {
     "name": "stdout",
     "output_type": "stream",
     "text": [
      "14:44:04  parsing file GLIDER_SB_2018_v5-Phase0-D20180612-T213125-0.raw, time of first ping: 2018-Jun-12 21:31:25\n",
      "WARNING: The water_level_draft was not in the file. Value set to NaN.\n",
      "14:44:05  saving F:GLIDER2018/Echosounder/Echosounder/nc_files_daase2\\GLIDER_SB_2018_v5-Phase0-D20180612-T213125-0.nc\n"
     ]
    },
    {
     "name": "stderr",
     "output_type": "stream",
     "text": [
      "C:\\Users\\mbd\\anaconda3\\envs\\phd-env\\lib\\site-packages\\pandas\\core\\arrays\\timedeltas.py:754: RuntimeWarning: invalid value encountered in multiply\n",
      "  return self - (self // other) * other\n"
     ]
    },
    {
     "name": "stdout",
     "output_type": "stream",
     "text": [
      "14:44:11  parsing file GLIDER_SB_2018_v5-Phase0-D20180612-T213717-1.raw, time of first ping: 2018-Jun-12 21:37:17\n",
      "WARNING: The water_level_draft was not in the file. Value set to NaN.\n",
      "14:44:12  saving F:GLIDER2018/Echosounder/Echosounder/nc_files_daase2\\GLIDER_SB_2018_v5-Phase0-D20180612-T213717-1.nc\n"
     ]
    },
    {
     "name": "stderr",
     "output_type": "stream",
     "text": [
      "C:\\Users\\mbd\\anaconda3\\envs\\phd-env\\lib\\site-packages\\pandas\\core\\arrays\\timedeltas.py:754: RuntimeWarning: invalid value encountered in multiply\n",
      "  return self - (self // other) * other\n"
     ]
    },
    {
     "name": "stdout",
     "output_type": "stream",
     "text": [
      "14:44:17  parsing file GLIDER_SB_2018_v5-Phase0-D20180612-T214308-2.raw, time of first ping: 2018-Jun-12 21:43:08\n",
      "WARNING: The water_level_draft was not in the file. Value set to NaN.\n",
      "14:44:18  saving F:GLIDER2018/Echosounder/Echosounder/nc_files_daase2\\GLIDER_SB_2018_v5-Phase0-D20180612-T214308-2.nc\n"
     ]
    },
    {
     "name": "stderr",
     "output_type": "stream",
     "text": [
      "C:\\Users\\mbd\\anaconda3\\envs\\phd-env\\lib\\site-packages\\pandas\\core\\arrays\\timedeltas.py:754: RuntimeWarning: invalid value encountered in multiply\n",
      "  return self - (self // other) * other\n"
     ]
    },
    {
     "name": "stdout",
     "output_type": "stream",
     "text": [
      "14:44:21  parsing file GLIDER_SB_2018_v5-Phase0-D20180612-T220109-0.raw, time of first ping: 2018-Jun-12 22:01:09\n",
      "WARNING: The water_level_draft was not in the file. Value set to NaN.\n",
      "14:44:22  saving F:GLIDER2018/Echosounder/Echosounder/nc_files_daase2\\GLIDER_SB_2018_v5-Phase0-D20180612-T220109-0.nc\n"
     ]
    },
    {
     "name": "stderr",
     "output_type": "stream",
     "text": [
      "C:\\Users\\mbd\\anaconda3\\envs\\phd-env\\lib\\site-packages\\pandas\\core\\arrays\\timedeltas.py:754: RuntimeWarning: invalid value encountered in multiply\n",
      "  return self - (self // other) * other\n"
     ]
    },
    {
     "name": "stdout",
     "output_type": "stream",
     "text": [
      "14:44:27  parsing file GLIDER_SB_2018_v5-Phase0-D20180612-T220707-1.raw, time of first ping: 2018-Jun-12 22:07:07\n",
      "WARNING: The water_level_draft was not in the file. Value set to NaN.\n",
      "14:44:29  saving F:GLIDER2018/Echosounder/Echosounder/nc_files_daase2\\GLIDER_SB_2018_v5-Phase0-D20180612-T220707-1.nc\n"
     ]
    },
    {
     "name": "stderr",
     "output_type": "stream",
     "text": [
      "C:\\Users\\mbd\\anaconda3\\envs\\phd-env\\lib\\site-packages\\pandas\\core\\arrays\\timedeltas.py:754: RuntimeWarning: invalid value encountered in multiply\n",
      "  return self - (self // other) * other\n"
     ]
    },
    {
     "name": "stdout",
     "output_type": "stream",
     "text": [
      "14:44:33  parsing file GLIDER_SB_2018_v5-Phase0-D20180612-T221305-2.raw, time of first ping: 2018-Jun-12 22:13:05\n",
      "WARNING: The water_level_draft was not in the file. Value set to NaN.\n",
      "14:44:34  saving F:GLIDER2018/Echosounder/Echosounder/nc_files_daase2\\GLIDER_SB_2018_v5-Phase0-D20180612-T221305-2.nc\n"
     ]
    },
    {
     "name": "stderr",
     "output_type": "stream",
     "text": [
      "C:\\Users\\mbd\\anaconda3\\envs\\phd-env\\lib\\site-packages\\pandas\\core\\arrays\\timedeltas.py:754: RuntimeWarning: invalid value encountered in multiply\n",
      "  return self - (self // other) * other\n"
     ]
    },
    {
     "name": "stdout",
     "output_type": "stream",
     "text": [
      "14:44:37  parsing file GLIDER_SB_2018_v5-Phase0-D20180612-T223108-0.raw, time of first ping: 2018-Jun-12 22:31:08\n",
      "WARNING: The water_level_draft was not in the file. Value set to NaN.\n",
      "14:44:38  saving F:GLIDER2018/Echosounder/Echosounder/nc_files_daase2\\GLIDER_SB_2018_v5-Phase0-D20180612-T223108-0.nc\n"
     ]
    },
    {
     "name": "stderr",
     "output_type": "stream",
     "text": [
      "C:\\Users\\mbd\\anaconda3\\envs\\phd-env\\lib\\site-packages\\pandas\\core\\arrays\\timedeltas.py:754: RuntimeWarning: invalid value encountered in multiply\n",
      "  return self - (self // other) * other\n"
     ]
    },
    {
     "name": "stdout",
     "output_type": "stream",
     "text": [
      "14:44:43  parsing file GLIDER_SB_2018_v5-Phase0-D20180612-T223700-1.raw, time of first ping: 2018-Jun-12 22:37:00\n",
      "WARNING: The water_level_draft was not in the file. Value set to NaN.\n",
      "14:44:44  saving F:GLIDER2018/Echosounder/Echosounder/nc_files_daase2\\GLIDER_SB_2018_v5-Phase0-D20180612-T223700-1.nc\n"
     ]
    },
    {
     "name": "stderr",
     "output_type": "stream",
     "text": [
      "C:\\Users\\mbd\\anaconda3\\envs\\phd-env\\lib\\site-packages\\pandas\\core\\arrays\\timedeltas.py:754: RuntimeWarning: invalid value encountered in multiply\n",
      "  return self - (self // other) * other\n"
     ]
    },
    {
     "name": "stdout",
     "output_type": "stream",
     "text": [
      "14:44:49  parsing file GLIDER_SB_2018_v5-Phase0-D20180612-T224251-2.raw, time of first ping: 2018-Jun-12 22:42:51\n",
      "WARNING: The water_level_draft was not in the file. Value set to NaN.\n",
      "14:44:50  saving F:GLIDER2018/Echosounder/Echosounder/nc_files_daase2\\GLIDER_SB_2018_v5-Phase0-D20180612-T224251-2.nc\n"
     ]
    },
    {
     "name": "stderr",
     "output_type": "stream",
     "text": [
      "C:\\Users\\mbd\\anaconda3\\envs\\phd-env\\lib\\site-packages\\pandas\\core\\arrays\\timedeltas.py:754: RuntimeWarning: invalid value encountered in multiply\n",
      "  return self - (self // other) * other\n"
     ]
    },
    {
     "name": "stdout",
     "output_type": "stream",
     "text": [
      "14:44:56  parsing file GLIDER_SB_2018_v5-Phase0-D20180612-T230108-0.raw, time of first ping: 2018-Jun-12 23:01:08\n",
      "WARNING: The water_level_draft was not in the file. Value set to NaN.\n",
      "14:45:00  saving F:GLIDER2018/Echosounder/Echosounder/nc_files_daase2\\GLIDER_SB_2018_v5-Phase0-D20180612-T230108-0.nc\n"
     ]
    },
    {
     "name": "stderr",
     "output_type": "stream",
     "text": [
      "C:\\Users\\mbd\\anaconda3\\envs\\phd-env\\lib\\site-packages\\pandas\\core\\arrays\\timedeltas.py:754: RuntimeWarning: invalid value encountered in multiply\n",
      "  return self - (self // other) * other\n"
     ]
    },
    {
     "name": "stdout",
     "output_type": "stream",
     "text": [
      "14:45:04  parsing file GLIDER_SB_2018_v5-Phase0-D20180612-T230700-1.raw, time of first ping: 2018-Jun-12 23:07:00\n",
      "WARNING: The water_level_draft was not in the file. Value set to NaN.\n",
      "14:45:06  saving F:GLIDER2018/Echosounder/Echosounder/nc_files_daase2\\GLIDER_SB_2018_v5-Phase0-D20180612-T230700-1.nc\n"
     ]
    },
    {
     "name": "stderr",
     "output_type": "stream",
     "text": [
      "C:\\Users\\mbd\\anaconda3\\envs\\phd-env\\lib\\site-packages\\pandas\\core\\arrays\\timedeltas.py:754: RuntimeWarning: invalid value encountered in multiply\n",
      "  return self - (self // other) * other\n"
     ]
    },
    {
     "name": "stdout",
     "output_type": "stream",
     "text": [
      "14:45:11  parsing file GLIDER_SB_2018_v5-Phase0-D20180612-T231257-2.raw, time of first ping: 2018-Jun-12 23:12:58\n",
      "WARNING: The water_level_draft was not in the file. Value set to NaN.\n",
      "14:45:12  saving F:GLIDER2018/Echosounder/Echosounder/nc_files_daase2\\GLIDER_SB_2018_v5-Phase0-D20180612-T231257-2.nc\n"
     ]
    },
    {
     "name": "stderr",
     "output_type": "stream",
     "text": [
      "C:\\Users\\mbd\\anaconda3\\envs\\phd-env\\lib\\site-packages\\pandas\\core\\arrays\\timedeltas.py:754: RuntimeWarning: invalid value encountered in multiply\n",
      "  return self - (self // other) * other\n"
     ]
    },
    {
     "name": "stdout",
     "output_type": "stream",
     "text": [
      "14:45:16  parsing file GLIDER_SB_2018_v5-Phase0-D20180612-T233109-0.raw, time of first ping: 2018-Jun-12 23:31:09\n",
      "WARNING: The water_level_draft was not in the file. Value set to NaN.\n",
      "14:45:17  saving F:GLIDER2018/Echosounder/Echosounder/nc_files_daase2\\GLIDER_SB_2018_v5-Phase0-D20180612-T233109-0.nc\n"
     ]
    },
    {
     "name": "stderr",
     "output_type": "stream",
     "text": [
      "C:\\Users\\mbd\\anaconda3\\envs\\phd-env\\lib\\site-packages\\pandas\\core\\arrays\\timedeltas.py:754: RuntimeWarning: invalid value encountered in multiply\n",
      "  return self - (self // other) * other\n"
     ]
    },
    {
     "name": "stdout",
     "output_type": "stream",
     "text": [
      "14:45:22  parsing file GLIDER_SB_2018_v5-Phase0-D20180612-T233701-1.raw, time of first ping: 2018-Jun-12 23:37:01\n",
      "WARNING: The water_level_draft was not in the file. Value set to NaN.\n",
      "14:45:23  saving F:GLIDER2018/Echosounder/Echosounder/nc_files_daase2\\GLIDER_SB_2018_v5-Phase0-D20180612-T233701-1.nc\n"
     ]
    },
    {
     "name": "stderr",
     "output_type": "stream",
     "text": [
      "C:\\Users\\mbd\\anaconda3\\envs\\phd-env\\lib\\site-packages\\pandas\\core\\arrays\\timedeltas.py:754: RuntimeWarning: invalid value encountered in multiply\n",
      "  return self - (self // other) * other\n"
     ]
    },
    {
     "name": "stdout",
     "output_type": "stream",
     "text": [
      "14:45:31  parsing file GLIDER_SB_2018_v5-Phase0-D20180612-T234258-2.raw, time of first ping: 2018-Jun-12 23:42:58\n",
      "WARNING: The water_level_draft was not in the file. Value set to NaN.\n",
      "14:45:31  saving F:GLIDER2018/Echosounder/Echosounder/nc_files_daase2\\GLIDER_SB_2018_v5-Phase0-D20180612-T234258-2.nc\n"
     ]
    },
    {
     "name": "stderr",
     "output_type": "stream",
     "text": [
      "C:\\Users\\mbd\\anaconda3\\envs\\phd-env\\lib\\site-packages\\pandas\\core\\arrays\\timedeltas.py:754: RuntimeWarning: invalid value encountered in multiply\n",
      "  return self - (self // other) * other\n"
     ]
    }
   ],
   "source": [
    "for f_ind in range(0,len(flist)):\n",
    "    ed = ep.open_raw(flist[f_ind], sonar_model='EK80');\n",
    "\n",
    "    ed.to_netcdf(save_path=f\"{path}/nc_files_daase2\")"
   ]
  },
  {
   "cell_type": "code",
   "execution_count": null,
   "id": "d2bfba91",
   "metadata": {},
   "outputs": [],
   "source": [
    "f_ind"
   ]
  },
  {
   "cell_type": "markdown",
   "id": "65864822",
   "metadata": {},
   "source": [
    "# Look at data"
   ]
  },
  {
   "cell_type": "code",
   "execution_count": null,
   "id": "190c8bfd",
   "metadata": {},
   "outputs": [],
   "source": [
    "nc_path = glob.glob(f\"{path}'/nc_files/*D20210630*.nc\")\n",
    "len(nc_path)"
   ]
  },
  {
   "cell_type": "code",
   "execution_count": null,
   "id": "16fa1cdc",
   "metadata": {
    "scrolled": false
   },
   "outputs": [],
   "source": [
    "for ind in np.arange(0,len(nc_path)):\n",
    "    try:\n",
    "        print(ind)\n",
    "        ed = ep.open_converted(nc_path[ind])\n",
    "        ds_Sv = ep.calibrate.compute_Sv(ed, waveform_mode='BB', encode_mode='complex')\n",
    "        ds_Sv.coords['range_bin']=np.array(ds_Sv.range[0,0,:])\n",
    "\n",
    "        ymd = np.datetime_as_string(ds_Sv.ping_time[0].values)[0:10]\n",
    "        h = np.datetime_as_string(ds_Sv.ping_time[0].values)[11:13]\n",
    "        m = np.datetime_as_string(ds_Sv.ping_time[0].values)[14:16]\n",
    "\n",
    "        # Plot\n",
    "        fig, ax = plt.subplots(figsize=(8,6))\n",
    "        ds_Sv.Sv.plot(y=\"range_bin\", cmap='viridis',vmax=-30,vmin=-80)\n",
    "        plt.gca().invert_yaxis()\n",
    "        ax.set_title('raw Sv (BB 200kHz)')\n",
    "        ax.set_ylabel('Depth (m)')\n",
    "        ax.set_xlabel(f'Time on {ymd}')\n",
    "        fig.savefig(f\"E:/SBIskant2021_PF/wbat/'/nc_files/figs/SBIskant-{ymd}-{h}-{m}.png\")\n",
    "        plt.close()\n",
    "    except:\n",
    "        print(\"Exception\")"
   ]
  },
  {
   "cell_type": "code",
   "execution_count": null,
   "id": "9ff46fe0",
   "metadata": {},
   "outputs": [],
   "source": [
    "np.arange(len(nc_path))"
   ]
  },
  {
   "cell_type": "code",
   "execution_count": null,
   "id": "77bac432",
   "metadata": {},
   "outputs": [],
   "source": []
  },
  {
   "cell_type": "code",
   "execution_count": null,
   "id": "bbde176b",
   "metadata": {},
   "outputs": [],
   "source": []
  }
 ],
 "metadata": {
  "kernelspec": {
   "display_name": "Python 3 (ipykernel)",
   "language": "python",
   "name": "python3"
  },
  "language_info": {
   "codemirror_mode": {
    "name": "ipython",
    "version": 3
   },
   "file_extension": ".py",
   "mimetype": "text/x-python",
   "name": "python",
   "nbconvert_exporter": "python",
   "pygments_lexer": "ipython3",
   "version": "3.7.11"
  }
 },
 "nbformat": 4,
 "nbformat_minor": 5
}
