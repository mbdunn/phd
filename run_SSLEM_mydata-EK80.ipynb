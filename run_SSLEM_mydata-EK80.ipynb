{
 "cells": [
  {
   "cell_type": "markdown",
   "metadata": {},
   "source": [
    "# Try SSLEM\n",
    "Running the SSLEM example script from pyechomask with my own data."
   ]
  },
  {
   "cell_type": "code",
   "execution_count": 31,
   "metadata": {},
   "outputs": [],
   "source": [
    "## import packages\n",
    "import glob\n",
    "import matplotlib as mpl\n",
    "import matplotlib.pyplot as plt\n",
    "import pandas as pd\n",
    "import numpy as np\n",
    "import echopype as ep\n",
    "import xarray as xr\n",
    "from pyechoplot.plotting import plot_Sv, plot_mask, save_png_plot, setup_ek500_cmap\n",
    "\n",
    "## import pyechomask modules\n",
    "from pyechomask.masks import binary_seabed, binary_signal\n",
    "from pyechomask.manipulate import  signal_row_filter, signal_column_filter, flag,\\\n",
    "        vertical_merge,feature_median, fill_feature_gaps, break_mask, remove_features\n",
    "\n",
    "%matplotlib inline"
   ]
  },
  {
   "cell_type": "code",
   "execution_count": 2,
   "metadata": {},
   "outputs": [],
   "source": [
    "## Bug fix for missing colourmap\n",
    "def plot_mask_fix(mask):\n",
    "    '''\n",
    "    plot mask (any - binary/flag/continuous)\n",
    "    '''\n",
    "    ## shape\n",
    "    row,col = mask.shape\n",
    "    \n",
    "    ## plot\n",
    "    #f, (ax1) = plt.subplots(1, figsize = (20,10))\n",
    "    p1       = plt.imshow(mask, cmap = plt.cm.nipy_spectral,\\\n",
    "            interpolation='nearest',aspect='auto')\n",
    "    plt.colorbar(p1,pad = 0)\n",
    "    plt.xlabel('columns',fontsize = 18)\n",
    "    plt.ylabel('rows',fontsize = 18)"
   ]
  },
  {
   "cell_type": "code",
   "execution_count": 3,
   "metadata": {},
   "outputs": [],
   "source": [
    "def plot_SSLEM(Sv,mask = None, sample_int=0.5):\n",
    "    '''\n",
    "    :param Sv: gridded Sv values (dB re 1m^-1)\n",
    "    :type  Sv: 2D numpy.array\n",
    "    \n",
    "    :param mask: binary mask (0 - noise; 1 - signal)\n",
    "    :type  mask: 2D numpy.array\n",
    "    \n",
    "    return:\n",
    "    \n",
    "    desc: Plot Sv grid, with/without binary mask\n",
    "    \n",
    "    defined by RP\n",
    "    \n",
    "    status: dev\n",
    "    \n",
    "    '''\n",
    "    ## get echoview colormap\n",
    "    setup_ek500_cmap()\n",
    "    ek500_cmap = mpl.cm.get_cmap('ek500')\n",
    "    ek500_norm = mpl.colors.BoundaryNorm(np.linspace(-89,-34,12), 12, clip=False)\n",
    "    \n",
    "    ## add mask\n",
    "    if mask is not None:\n",
    "        Sv = np.ma.masked_where(mask == 0,Sv)\n",
    "    ## shape\n",
    "    row,col = Sv.shape\n",
    "    \n",
    "    ## plot\n",
    "    #f, (ax1) = plt.subplots(1, figsize = (20,10))\n",
    "    p1       = plt.imshow(Sv, cmap = ek500_cmap,norm = ek500_norm,\\\n",
    "            interpolation='nearest',aspect='auto',extent=[0,col,row*sample_int,0])\n",
    "    \n",
    "    plt.colorbar(p1,pad = 0)\n",
    "    plt.xlabel('Ping Number',fontsize = 18)\n",
    "    plt.ylabel('Depth',fontsize = 18)"
   ]
  },
  {
   "cell_type": "markdown",
   "metadata": {},
   "source": [
    "## SSLEM Parameters"
   ]
  },
  {
   "cell_type": "code",
   "execution_count": 55,
   "metadata": {},
   "outputs": [],
   "source": [
    "## Sv observation parameters\n",
    "noise_level   = -999   # background noise level (dB re 1m^-1)\n",
    "sample_int    = 0.006    # sample interval (m)\n",
    "pl            = 1.024 # pulse length (ms)\n",
    "fq            = 333   # Frequency\n",
    "\n",
    "## SSLEM optimization parameters (recomended setting for regional analysis)\n",
    "min_sep       = 20     # minimum SSL seperation (m):min = pulse length\n",
    "max_thickness = 70    # Maximun SSL thickness  (m)\n",
    "min_size      = 10     # Minimun thickness of SSL (pings)\n",
    "min_thickness = 10     # Minimun thickness of SSL (m)\n",
    "\n",
    "## thresholds \n",
    "minSv = -85\n",
    "maxSv = -40"
   ]
  },
  {
   "cell_type": "code",
   "execution_count": 58,
   "metadata": {},
   "outputs": [],
   "source": [
    "def SSLEM_nc(ds, \n",
    "                 sample_int=1, \n",
    "                 pl=1.024, \n",
    "                 fq=333, \n",
    "                 min_sep=25, \n",
    "                 min_size=5, \n",
    "                 min_thickness=3, \n",
    "                 max_thickness=70, \n",
    "                 minSv=-90, \n",
    "                 maxSv=-50):\n",
    "    '''\n",
    "    Apply SSL evaluation model to an Echoview cell export .xlsx file.\n",
    "    \n",
    "    ## Sv observation parameters\n",
    "    noise_level   = -999   # background noise level (dB re 1m^-1)\n",
    "    sample_int    = 0.5    # sample interval (m)\n",
    "    pl            = 1.024 # pulse length (ms)\n",
    "    fq            = 333   # Frequency\n",
    "\n",
    "    ## SSLEM optimization parameters (recomended setting for regional analysis)\n",
    "    min_sep       = 10     # minimum SSL seperation (m):min = pulse length\n",
    "    max_thickness = 70    # Maximun SSL thickness  (m)\n",
    "    min_size      = 25    # Minimum duration of SSL (pings)\n",
    "    min_thickness = 10     # Minimun thickness of SSL (m)\n",
    "    \n",
    "    ## thresholds \n",
    "    minSv_boat = -90\n",
    "    maxSv_boat = -40 \n",
    "    '''\n",
    "    # Extract Sv numpy array from data\n",
    "    Sv = np.array(ds.Sv.isel(frequency=0, ping_time=slice(0,30), range_bin=slice(300,10000))).T\n",
    "\n",
    "    ## calculate number of rows/samples from meters\n",
    "    min_thickness_rows = int(min_thickness/sample_int)\n",
    "    min_sep_rows       = int(min_sep/sample_int)\n",
    "\n",
    "    \n",
    "    #---------------------------------\n",
    "    ## SSLEM\n",
    "    ## remove pulse (by pulse does he mean surface? They removed first 100m...)\n",
    "    Sv[0:2,:] = noise_level  \n",
    "\n",
    "    ## remove weak signal\n",
    "    Sv[Sv < minSv] = noise_level\n",
    "\n",
    "\n",
    "    ## get seabed mask, window_size refers to a rolling median filter\n",
    "    ## seabed mask in development - check\n",
    "    #seabed_mask, seabed_idx = binary_seabed(Sv, buffer = min_sep_rows, window_size = 10) # No seabed here.\n",
    "\n",
    "    \n",
    "    \n",
    "    #-------------------------------------\n",
    "    ## Identify signal pixels\n",
    "    ## this step is the bottle neck\n",
    "    signal_mask = binary_signal(Sv,pl,sample_int,min_sep,max_thickness,max_steps = 10)\n",
    "\n",
    "    ## row smooth signal mask:\n",
    "    ## where majority (threshold = 0.5) pixels are signal make all signal, otherwise label all noise\n",
    "    signal = signal_row_filter(signal_mask,min_size,threshold = 0.5) \n",
    "\n",
    "    ## remove SSLs that are too thin\n",
    "    signal = signal_column_filter(signal,min_thickness_rows,threshold = 1)\n",
    "\n",
    "\n",
    "    ## label SSls (flag) and remove small SSLs (size < min_size*min_thickness_rows)\n",
    "    signal = flag(signal,min_size*min_thickness_rows)\n",
    "\n",
    "    ## merge SSLs that are closer together than the min seperation\n",
    "    signal[signal > 0] = 1\n",
    "    signal             = vertical_merge(signal,min_sep_rows)\n",
    "\n",
    "    ## fill internal gaps - max size = min_size*min_thickness_rows\n",
    "    signal = fill_feature_gaps(signal,min_size*min_thickness_rows)\n",
    "\n",
    "    ## break merged SSLs into individual SSLs\n",
    "    signal = break_mask(signal)\n",
    "\n",
    "    ## remove small SSLs\n",
    "    signal = remove_features(signal.astype(int),min_size*min_thickness_rows)\n",
    "\n",
    "    ## get median values of each SSL\n",
    "    Sv_median = feature_median(Sv,signal)\n",
    "\n",
    "    \n",
    "    \n",
    "    #--------------------------------------\n",
    "    ## plot results\n",
    "    plt.figure(figsize=(15,10))\n",
    "    plt.subplot(311)\n",
    "    plot_Sv(Sv)\n",
    "    plt.title('333kHz echogram SSLEM: echogram, SSL mask and SSL median')\n",
    "    plt.subplot(312)\n",
    "    plot_mask_fix(signal) \n",
    "    plt.subplot(313)\n",
    "    plot_SSLEM(Sv_median) \n",
    "    plt.show()\n",
    "    return "
   ]
  },
  {
   "cell_type": "markdown",
   "metadata": {},
   "source": [
    "# Load nc file using echopype"
   ]
  },
  {
   "cell_type": "code",
   "execution_count": 59,
   "metadata": {},
   "outputs": [
    {
     "name": "stderr",
     "output_type": "stream",
     "text": [
      "<string>:6: DeprecationWarning: `np.alen` is deprecated, use `len` instead\n"
     ]
    }
   ],
   "source": [
    "fname = 'D:/GLIDER2018/Echosounder/Echosounder/nc_files/GLIDER_SB_2018_v5-Phase0-D20180625-T170658-1.nc'\n",
    "ed = ep.open_converted(fname)\n",
    "ds = ep.calibrate.compute_Sv(ed, waveform_mode='BB', encode_mode='complex')\n",
    "#ds.coords['range_bin']=np.array(ds.range[0,0,:])"
   ]
  },
  {
   "cell_type": "code",
   "execution_count": 60,
   "metadata": {
    "scrolled": false
   },
   "outputs": [
    {
     "ename": "IndexError",
     "evalue": "index 1 is out of bounds for axis 0 with size 1",
     "output_type": "error",
     "traceback": [
      "\u001b[1;31m---------------------------------------------------------------------------\u001b[0m",
      "\u001b[1;31mIndexError\u001b[0m                                Traceback (most recent call last)",
      "\u001b[1;32m<ipython-input-60-0fcd3390b1cc>\u001b[0m in \u001b[0;36m<module>\u001b[1;34m\u001b[0m\n\u001b[1;32m----> 1\u001b[1;33m \u001b[0mSSLEM_nc\u001b[0m\u001b[1;33m(\u001b[0m\u001b[0mds\u001b[0m\u001b[1;33m,\u001b[0m \u001b[0mfq\u001b[0m\u001b[1;33m=\u001b[0m\u001b[1;36m333\u001b[0m\u001b[1;33m,\u001b[0m \u001b[0mminSv\u001b[0m\u001b[1;33m=\u001b[0m\u001b[1;33m-\u001b[0m\u001b[1;36m70\u001b[0m\u001b[1;33m,\u001b[0m \u001b[0msample_int\u001b[0m\u001b[1;33m=\u001b[0m\u001b[1;36m0.006\u001b[0m\u001b[1;33m)\u001b[0m\u001b[1;31m#, sample_int=sample_int_boat, pl=pl_boat, fq=fq_boat, min_sep=min_sep_boat, min_size=min_size_boat, min_thicknes=min_thickness_boat, max_thickness=max_thickness_boat, minSv=minSv_boat, maxSv=maxSv_boat)\u001b[0m\u001b[1;33m\u001b[0m\u001b[1;33m\u001b[0m\u001b[0m\n\u001b[0m",
      "\u001b[1;32m<ipython-input-58-d10419f2e927>\u001b[0m in \u001b[0;36mSSLEM_nc\u001b[1;34m(ds, sample_int, pl, fq, min_sep, min_size, min_thickness, max_thickness, minSv, maxSv)\u001b[0m\n\u001b[0;32m     72\u001b[0m \u001b[1;33m\u001b[0m\u001b[0m\n\u001b[0;32m     73\u001b[0m     \u001b[1;31m## fill internal gaps - max size = min_size*min_thickness_rows\u001b[0m\u001b[1;33m\u001b[0m\u001b[1;33m\u001b[0m\u001b[1;33m\u001b[0m\u001b[0m\n\u001b[1;32m---> 74\u001b[1;33m     \u001b[0msignal\u001b[0m \u001b[1;33m=\u001b[0m \u001b[0mfill_feature_gaps\u001b[0m\u001b[1;33m(\u001b[0m\u001b[0msignal\u001b[0m\u001b[1;33m,\u001b[0m\u001b[0mmin_size\u001b[0m\u001b[1;33m*\u001b[0m\u001b[0mmin_thickness_rows\u001b[0m\u001b[1;33m)\u001b[0m\u001b[1;33m\u001b[0m\u001b[1;33m\u001b[0m\u001b[0m\n\u001b[0m\u001b[0;32m     75\u001b[0m \u001b[1;33m\u001b[0m\u001b[0m\n\u001b[0;32m     76\u001b[0m     \u001b[1;31m## break merged SSLs into individual SSLs\u001b[0m\u001b[1;33m\u001b[0m\u001b[1;33m\u001b[0m\u001b[1;33m\u001b[0m\u001b[0m\n",
      "\u001b[1;32m~\\anaconda3\\lib\\site-packages\\pyechomask-1.0.0.dev5-py3.7.egg\\pyechomask\\manipulate.py\u001b[0m in \u001b[0;36mfill_feature_gaps\u001b[1;34m(mask, max_gap_size)\u001b[0m\n\u001b[0;32m     85\u001b[0m     \u001b[0minvert_mask\u001b[0m\u001b[1;33m[\u001b[0m\u001b[0mmask\u001b[0m\u001b[1;33m==\u001b[0m\u001b[1;36m1\u001b[0m\u001b[1;33m]\u001b[0m \u001b[1;33m=\u001b[0m \u001b[1;36m0\u001b[0m\u001b[1;33m\u001b[0m\u001b[1;33m\u001b[0m\u001b[0m\n\u001b[0;32m     86\u001b[0m     \u001b[1;31m## fill gaps\u001b[0m\u001b[1;33m\u001b[0m\u001b[1;33m\u001b[0m\u001b[1;33m\u001b[0m\u001b[0m\n\u001b[1;32m---> 87\u001b[1;33m     \u001b[0minvert_mask\u001b[0m \u001b[1;33m=\u001b[0m \u001b[0mflag\u001b[0m\u001b[1;33m(\u001b[0m\u001b[0minvert_mask\u001b[0m\u001b[1;33m,\u001b[0m\u001b[0mmax_gap_size\u001b[0m\u001b[1;33m)\u001b[0m\u001b[1;33m\u001b[0m\u001b[1;33m\u001b[0m\u001b[0m\n\u001b[0m\u001b[0;32m     88\u001b[0m     \u001b[0mmask\u001b[0m\u001b[1;33m[\u001b[0m\u001b[0minvert_mask\u001b[0m \u001b[1;33m==\u001b[0m \u001b[1;36m0\u001b[0m\u001b[1;33m]\u001b[0m \u001b[1;33m=\u001b[0m \u001b[1;36m1\u001b[0m\u001b[1;33m\u001b[0m\u001b[1;33m\u001b[0m\u001b[0m\n\u001b[0;32m     89\u001b[0m \u001b[1;33m\u001b[0m\u001b[0m\n",
      "\u001b[1;32m~\\anaconda3\\lib\\site-packages\\pyechomask-1.0.0.dev5-py3.7.egg\\pyechomask\\manipulate.py\u001b[0m in \u001b[0;36mflag\u001b[1;34m(mask, min_agg_size, struct)\u001b[0m\n\u001b[0;32m    199\u001b[0m     \u001b[0mlabel_im\u001b[0m\u001b[1;33m,\u001b[0m \u001b[0mnb_labels\u001b[0m    \u001b[1;33m=\u001b[0m \u001b[0mndimage\u001b[0m\u001b[1;33m.\u001b[0m\u001b[0mlabel\u001b[0m\u001b[1;33m(\u001b[0m\u001b[0mnp\u001b[0m\u001b[1;33m.\u001b[0m\u001b[0masfarray\u001b[0m\u001b[1;33m(\u001b[0m\u001b[0mmask\u001b[0m\u001b[1;33m)\u001b[0m\u001b[1;33m,\u001b[0m\u001b[0mstructure\u001b[0m\u001b[1;33m)\u001b[0m\u001b[1;33m\u001b[0m\u001b[1;33m\u001b[0m\u001b[0m\n\u001b[0;32m    200\u001b[0m \u001b[1;33m\u001b[0m\u001b[0m\n\u001b[1;32m--> 201\u001b[1;33m     \u001b[1;32mreturn\u001b[0m \u001b[0mremove_features\u001b[0m\u001b[1;33m(\u001b[0m\u001b[0mlabel_im\u001b[0m\u001b[1;33m,\u001b[0m \u001b[0mmin_agg_size\u001b[0m\u001b[1;33m)\u001b[0m\u001b[1;33m\u001b[0m\u001b[1;33m\u001b[0m\u001b[0m\n\u001b[0m\u001b[0;32m    202\u001b[0m \u001b[1;33m\u001b[0m\u001b[0m\n\u001b[0;32m    203\u001b[0m \u001b[1;32mdef\u001b[0m \u001b[0mremove_features\u001b[0m\u001b[1;33m(\u001b[0m\u001b[0mlabel_im\u001b[0m\u001b[1;33m,\u001b[0m \u001b[0mmin_agg_size\u001b[0m \u001b[1;33m=\u001b[0m \u001b[1;36m0\u001b[0m\u001b[1;33m)\u001b[0m\u001b[1;33m:\u001b[0m\u001b[1;33m\u001b[0m\u001b[1;33m\u001b[0m\u001b[0m\n",
      "\u001b[1;32m~\\anaconda3\\lib\\site-packages\\pyechomask-1.0.0.dev5-py3.7.egg\\pyechomask\\manipulate.py\u001b[0m in \u001b[0;36mremove_features\u001b[1;34m(label_im, min_agg_size)\u001b[0m\n\u001b[0;32m    209\u001b[0m     \u001b[0msizes\u001b[0m                  \u001b[1;33m=\u001b[0m \u001b[0mndimage\u001b[0m\u001b[1;33m.\u001b[0m\u001b[0msum\u001b[0m\u001b[1;33m(\u001b[0m\u001b[0mmask\u001b[0m\u001b[1;33m,\u001b[0m \u001b[0mlabel_im\u001b[0m\u001b[1;33m,\u001b[0m \u001b[0mrange\u001b[0m\u001b[1;33m(\u001b[0m\u001b[0mlen\u001b[0m\u001b[1;33m(\u001b[0m\u001b[0mnp\u001b[0m\u001b[1;33m.\u001b[0m\u001b[0munique\u001b[0m\u001b[1;33m(\u001b[0m\u001b[0mlabel_im\u001b[0m\u001b[1;33m)\u001b[0m\u001b[1;33m)\u001b[0m\u001b[1;33m)\u001b[0m\u001b[1;33m)\u001b[0m\u001b[1;33m\u001b[0m\u001b[1;33m\u001b[0m\u001b[0m\n\u001b[0;32m    210\u001b[0m     \u001b[0mmask_size\u001b[0m              \u001b[1;33m=\u001b[0m \u001b[0msizes\u001b[0m \u001b[1;33m<\u001b[0m \u001b[0mmin_agg_size\u001b[0m\u001b[1;33m\u001b[0m\u001b[1;33m\u001b[0m\u001b[0m\n\u001b[1;32m--> 211\u001b[1;33m     \u001b[0mremove_pixel\u001b[0m           \u001b[1;33m=\u001b[0m \u001b[0mmask_size\u001b[0m\u001b[1;33m[\u001b[0m\u001b[0mlabel_im\u001b[0m\u001b[1;33m]\u001b[0m\u001b[1;33m\u001b[0m\u001b[1;33m\u001b[0m\u001b[0m\n\u001b[0m\u001b[0;32m    212\u001b[0m     \u001b[0mlabel_im\u001b[0m\u001b[1;33m[\u001b[0m\u001b[0mremove_pixel\u001b[0m\u001b[1;33m]\u001b[0m \u001b[1;33m=\u001b[0m \u001b[1;36m0\u001b[0m\u001b[1;33m\u001b[0m\u001b[1;33m\u001b[0m\u001b[0m\n\u001b[0;32m    213\u001b[0m     \u001b[0mlabels\u001b[0m                 \u001b[1;33m=\u001b[0m \u001b[0mnp\u001b[0m\u001b[1;33m.\u001b[0m\u001b[0munique\u001b[0m\u001b[1;33m(\u001b[0m\u001b[0mlabel_im\u001b[0m\u001b[1;33m)\u001b[0m\u001b[1;33m\u001b[0m\u001b[1;33m\u001b[0m\u001b[0m\n",
      "\u001b[1;31mIndexError\u001b[0m: index 1 is out of bounds for axis 0 with size 1"
     ]
    }
   ],
   "source": [
    "SSLEM_nc(ds, fq=333, minSv=-70, sample_int=0.006)#, sample_int=sample_int_boat, pl=pl_boat, fq=fq_boat, min_sep=min_sep_boat, min_size=min_size_boat, min_thicknes=min_thickness_boat, max_thickness=max_thickness_boat, minSv=minSv_boat, maxSv=maxSv_boat)\n"
   ]
  },
  {
   "cell_type": "code",
   "execution_count": null,
   "metadata": {},
   "outputs": [],
   "source": []
  }
 ],
 "metadata": {
  "kernelspec": {
   "display_name": "Python 3",
   "language": "python",
   "name": "python3"
  },
  "language_info": {
   "codemirror_mode": {
    "name": "ipython",
    "version": 3
   },
   "file_extension": ".py",
   "mimetype": "text/x-python",
   "name": "python",
   "nbconvert_exporter": "python",
   "pygments_lexer": "ipython3",
   "version": "3.7.7"
  }
 },
 "nbformat": 4,
 "nbformat_minor": 2
}
