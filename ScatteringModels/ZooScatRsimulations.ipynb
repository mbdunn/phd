{
 "cells": [
  {
   "cell_type": "markdown",
   "metadata": {},
   "source": [
    "This notebook will be used to import the results from the ZooScatR model simulations."
   ]
  },
  {
   "cell_type": "markdown",
   "metadata": {},
   "source": [
    "## Import important stuff"
   ]
  },
  {
   "cell_type": "code",
   "execution_count": 1,
   "metadata": {},
   "outputs": [
    {
     "ename": "ModuleNotFoundError",
     "evalue": "No module named 'pybootstrap'",
     "output_type": "error",
     "traceback": [
      "\u001b[1;31m---------------------------------------------------------------------------\u001b[0m",
      "\u001b[1;31mModuleNotFoundError\u001b[0m                       Traceback (most recent call last)",
      "\u001b[1;32m<ipython-input-1-5dbf7b23f7ba>\u001b[0m in \u001b[0;36m<module>\u001b[1;34m\u001b[0m\n\u001b[0;32m      7\u001b[0m \u001b[1;32mimport\u001b[0m \u001b[0marray\u001b[0m \u001b[1;32mas\u001b[0m \u001b[0marr\u001b[0m\u001b[1;33m\u001b[0m\u001b[1;33m\u001b[0m\u001b[0m\n\u001b[0;32m      8\u001b[0m \u001b[1;32mfrom\u001b[0m \u001b[0mscipy\u001b[0m\u001b[1;33m.\u001b[0m\u001b[0mstats\u001b[0m \u001b[1;32mimport\u001b[0m \u001b[0mkde\u001b[0m\u001b[1;33m\u001b[0m\u001b[1;33m\u001b[0m\u001b[0m\n\u001b[1;32m----> 9\u001b[1;33m \u001b[1;32mimport\u001b[0m \u001b[0mpybootstrap\u001b[0m \u001b[1;32mas\u001b[0m \u001b[0mpb\u001b[0m\u001b[1;33m\u001b[0m\u001b[1;33m\u001b[0m\u001b[0m\n\u001b[0m\u001b[0;32m     10\u001b[0m \u001b[0mget_ipython\u001b[0m\u001b[1;33m(\u001b[0m\u001b[1;33m)\u001b[0m\u001b[1;33m.\u001b[0m\u001b[0mrun_line_magic\u001b[0m\u001b[1;33m(\u001b[0m\u001b[1;34m'matplotlib'\u001b[0m\u001b[1;33m,\u001b[0m \u001b[1;34m'inline'\u001b[0m\u001b[1;33m)\u001b[0m\u001b[1;33m\u001b[0m\u001b[1;33m\u001b[0m\u001b[0m\n",
      "\u001b[1;31mModuleNotFoundError\u001b[0m: No module named 'pybootstrap'"
     ]
    }
   ],
   "source": [
    "import os\n",
    "import numpy as np\n",
    "import pandas as pd\n",
    "from scipy import stats\n",
    "import matplotlib.pyplot as plt\n",
    "import seaborn as sns\n",
    "import array as arr\n",
    "from scipy.stats import kde\n",
    "import pybootstrap as pb\n",
    "%matplotlib inline"
   ]
  },
  {
   "cell_type": "code",
   "execution_count": null,
   "metadata": {},
   "outputs": [],
   "source": [
    "sns.set_theme(style=\"darkgrid\")\n",
    "sns.color_palette(\"viridis\", as_cmap=True)"
   ]
  },
  {
   "cell_type": "markdown",
   "metadata": {},
   "source": [
    "# Read data\n",
    "Read in the data from the simulations run in R with ZooScatR. A script including the simulations can be found in sim_Muriel.Rmd."
   ]
  },
  {
   "cell_type": "code",
   "execution_count": null,
   "metadata": {},
   "outputs": [],
   "source": [
    "simulations = pd.read_feather('../ZooScatStuff/my_data.feather')\n",
    "# Add a row for sigma_bs\n",
    "simulations['sigbs'] = 10**(simulations.TS/10)"
   ]
  },
  {
   "cell_type": "markdown",
   "metadata": {},
   "source": [
    "### Plot cross sectional backscatter data"
   ]
  },
  {
   "cell_type": "code",
   "execution_count": null,
   "metadata": {},
   "outputs": [],
   "source": [
    "plt.plot(simulations.freq[simulations['spec']=='Amphipod'],simulations.sigbs[simulations['spec']=='Amphipod'],'.', markersize=1)                                                                                                                              \n",
    "plt.title('Amphipod backscatter')\n",
    "plt.ylabel('Cross-sectional backscatter')\n",
    "plt.xlabel('Frequency (kHz)');"
   ]
  },
  {
   "cell_type": "code",
   "execution_count": null,
   "metadata": {},
   "outputs": [],
   "source": [
    "plt.plot(simulations.freq[simulations['spec']=='Chaetognaths'],simulations.sigbs[simulations['spec']=='Chaetognaths'],'.', markersize=1)                                                                                                                              \n",
    "plt.title('Chaetognaths backscatter')\n",
    "plt.ylabel('Cross-sectional backscatter')\n",
    "plt.xlabel('Frequency (kHz)');"
   ]
  },
  {
   "cell_type": "code",
   "execution_count": null,
   "metadata": {},
   "outputs": [],
   "source": [
    "plt.plot(simulations.freq[simulations['spec']=='Copepod'],simulations.sigbs[simulations['spec']=='Copepod'],'.', markersize=1)                                                                                                                              \n",
    "plt.title('Copepod backscatter')\n",
    "plt.ylabel('Cross-sectional backscatter')\n",
    "plt.xlabel('Frequency (kHz)');"
   ]
  },
  {
   "cell_type": "code",
   "execution_count": null,
   "metadata": {},
   "outputs": [],
   "source": [
    "plt.plot(simulations.freq[simulations['spec']=='Krill'],simulations.sigbs[simulations['spec']=='Krill'],'.', markersize=1)                                                                                                                              \n",
    "plt.title('Krill backscatter')\n",
    "plt.ylabel('Cross-sectional backscatter')\n",
    "plt.xlabel('Frequency (kHz)');"
   ]
  },
  {
   "cell_type": "code",
   "execution_count": null,
   "metadata": {},
   "outputs": [],
   "source": [
    "plt.plot(simulations.freq[simulations['spec']=='KrillBig'],simulations.sigbs[simulations['spec']=='KrillBig'],'.', markersize=1)   \n",
    "plt.title('KrillBig backscatter')\n",
    "plt.ylabel('Cross-sectional backscatter')\n",
    "plt.xlabel('Frequency (kHz)');"
   ]
  },
  {
   "cell_type": "markdown",
   "metadata": {},
   "source": [
    "# Organize $\\sigma_{bs}$ \n",
    "Calculate the mean $\\sigma_{bs}$  at each frequency interval for each species"
   ]
  },
  {
   "cell_type": "code",
   "execution_count": null,
   "metadata": {},
   "outputs": [],
   "source": [
    "simulations_min = simulations.groupby([\"spec\",\"freq\"]).agg({'sigbs':'min'})\n",
    "simulations_max = simulations.groupby([\"spec\",\"freq\"]).agg({'sigbs':'max'})\n",
    "simulations_mean = simulations.groupby([\"spec\",\"freq\"]).agg({'sigbs':'mean'})"
   ]
  },
  {
   "cell_type": "markdown",
   "metadata": {},
   "source": [
    "In the linear form ($\\sigma_{bs}$) the dispersion of data are not at all following a normal distribution around the mean. In this case we can use he standard deviation and dispersion internals to summarize the spread of the data. We will call it the disersion range (Greenacre 2016). I am using the 95% confidence interval. (z-score*std = 1.95*std for 95%). I am using this metric to describe the spread of the data, not the confidence in the mean.\n",
    "\n",
    "* consider using a squewed calculation for confidence interval for this data\n",
    "Doing it. Will use scipy.stats.tstd to apply a lower or upper limit (the mean) to trim te sample standard deviation\n",
    "\n",
    "*Calculating the standard below and above the mean for different dispertion interval*"
   ]
  },
  {
   "cell_type": "code",
   "execution_count": null,
   "metadata": {},
   "outputs": [],
   "source": [
    "mean_bs = simulations_mean.reset_index('freq')\n",
    "min_bs = simulations_min.reset_index('freq')\n",
    "max_bs = simulations_max.reset_index('freq')\n"
   ]
  },
  {
   "cell_type": "markdown",
   "metadata": {},
   "source": [
    "In the linear form ($\\sigma_{bs}$) the dispersion of data are not at all following a normal distribution around the mean. In this case we can use he standard deviation and dispersion internals to summarize the spread of the data. We will call it the disersion range (Greenacre 2016). I am using the 95% confidence interval. (z-score*std = 1.95*std for 95%). I am using this metric to describe the spread of the data, not the confidence in the mean.\n",
    "\n",
    "* consider using a squewed calculation for confidence interval for this data\n",
    "Doing it. Will use scipy.stats.tstd to apply a lower or upper limit (the mean) to trim te sample standard deviation"
   ]
  },
  {
   "cell_type": "markdown",
   "metadata": {},
   "source": [
    "## Plot \n",
    "I will plot the backscattering cross-section of each functional group."
   ]
  },
  {
   "cell_type": "code",
   "execution_count": null,
   "metadata": {},
   "outputs": [],
   "source": [
    "fig=plt.figure(figsize=(10, 10),facecolor='w', edgecolor='k')\n",
    "g = sns.relplot(data=simulations, x=\"freq\", y=\"sigbs\",col=\"spec\", kind=\"line\", col_wrap=3);    \n",
    "g.axes[0].set_yscale('log')\n",
    "plt.ylabel(\"log(sigbs)\");"
   ]
  },
  {
   "cell_type": "markdown",
   "metadata": {},
   "source": [
    "Problem might be a lack of variability over the range I am observing"
   ]
  },
  {
   "cell_type": "code",
   "execution_count": null,
   "metadata": {},
   "outputs": [],
   "source": [
    "g = sns.relplot(data=simulations, x=\"freq\", y=\"sigbs\", hue=\"spec\", kind=\"line\");  \n",
    "plt.xlim(133,383)\n",
    "g.ax.set_yscale('log')\n",
    "plt.ylabel(\"log(sigbs)\");"
   ]
  },
  {
   "cell_type": "markdown",
   "metadata": {},
   "source": [
    "# Organize TS\n",
    "Calculate the mean $TS$  at each frequency interval for each species"
   ]
  },
  {
   "cell_type": "markdown",
   "metadata": {},
   "source": [
    "In the log form (TS) the dispersion of data are approximately normal around the mean. In this case we can use he standard deviation and confidence internals to summarize the spread of the data. I am using the 95% confidence interval. (z-score*std = 1.95*std for 95%)"
   ]
  },
  {
   "cell_type": "code",
   "execution_count": null,
   "metadata": {},
   "outputs": [],
   "source": [
    "sns.relplot(data=simulations, x=\"freq\", y=\"TS\", hue=\"spec\", kind=\"line\");  \n",
    "plt.xlim(183,383)\n"
   ]
  },
  {
   "cell_type": "code",
   "execution_count": null,
   "metadata": {},
   "outputs": [],
   "source": [
    "# Extract mean and 95% ci (using bootstrap method)\n",
    "sns.utils.ci()"
   ]
  },
  {
   "cell_type": "markdown",
   "metadata": {},
   "source": [
    "## Make matrix"
   ]
  },
  {
   "cell_type": "code",
   "execution_count": null,
   "metadata": {},
   "outputs": [],
   "source": [
    "amph_sim = simulations[simulations['spec']=='Amphipod']\n",
    "y = amph_sim.TS\n",
    "x = amph_sim.freq"
   ]
  },
  {
   "cell_type": "code",
   "execution_count": null,
   "metadata": {},
   "outputs": [],
   "source": [
    "nbins=20\n",
    "\n",
    "fig, ax = plt.subplots(figsize=(10,10))\n",
    "hexb = ax.hexbin(x, y, gridsize=nbins, cmap=sns.cm.flare_r)\n",
    "cbar = fig.colorbar(hexb)"
   ]
  },
  {
   "cell_type": "code",
   "execution_count": null,
   "metadata": {},
   "outputs": [],
   "source": [
    "fig, axes = plt.subplots(figsize=(5,5))\n",
    "axes.set_title('2D Histogram')\n",
    "axes.hist2d(x, y, bins=nbins, cmap=plt.cm.BuGn_r);"
   ]
  },
  {
   "cell_type": "code",
   "execution_count": null,
   "metadata": {},
   "outputs": [],
   "source": [
    "data_amph = pd.DataFrame({'TS':y,'freq':x}) \n",
    "k = kde.gaussian_kde(data_amph.T, 5)\n",
    "\n",
    "xi, yi = np.mgrid[x.min():x.max():nbins*1j, y.min():y.max():nbins*1j]\n",
    "zi = k(np.vstack([xi.flatten(), yi.flatten()]))"
   ]
  },
  {
   "cell_type": "code",
   "execution_count": null,
   "metadata": {},
   "outputs": [],
   "source": [
    "fig, ax = plt.subplots(figsize=(10,10))\n",
    "c = ax.pcolormesh(xi, yi, zi.reshape(xi.shape), cmap=sns.cm.flare_r)\n",
    "cbar = fig.colorbar(c)\n"
   ]
  },
  {
   "cell_type": "code",
   "execution_count": null,
   "metadata": {},
   "outputs": [],
   "source": [
    "sns.kdeplot(data=data_amph, x=\"freq\", y=\"TS\");"
   ]
  },
  {
   "cell_type": "code",
   "execution_count": null,
   "metadata": {},
   "outputs": [],
   "source": [
    "sns.kdeplot(data=data_krill, x=\"freq\", y=\"sigbs\")"
   ]
  },
  {
   "cell_type": "code",
   "execution_count": null,
   "metadata": {},
   "outputs": [],
   "source": [
    "len(amph_sim.TS)/len(amph_sim.freq.unique())\n",
    "    "
   ]
  },
  {
   "cell_type": "code",
   "execution_count": null,
   "metadata": {},
   "outputs": [],
   "source": []
  },
  {
   "cell_type": "code",
   "execution_count": null,
   "metadata": {},
   "outputs": [],
   "source": []
  },
  {
   "cell_type": "code",
   "execution_count": null,
   "metadata": {},
   "outputs": [],
   "source": []
  }
 ],
 "metadata": {
  "kernelspec": {
   "display_name": "Python 3",
   "language": "python",
   "name": "python3"
  },
  "language_info": {
   "codemirror_mode": {
    "name": "ipython",
    "version": 3
   },
   "file_extension": ".py",
   "mimetype": "text/x-python",
   "name": "python",
   "nbconvert_exporter": "python",
   "pygments_lexer": "ipython3",
   "version": "3.7.7"
  }
 },
 "nbformat": 4,
 "nbformat_minor": 4
}
