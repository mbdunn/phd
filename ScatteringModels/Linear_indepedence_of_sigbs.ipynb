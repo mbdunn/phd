{
 "cells": [
  {
   "cell_type": "code",
   "execution_count": 1,
   "metadata": {},
   "outputs": [],
   "source": [
    "import os\n",
    "import numpy as np\n",
    "import pandas as pd\n",
    "from scipy import optimize\n",
    "from scipy import linalg\n",
    "import matplotlib.pyplot as plt\n",
    "import array as arr\n",
    "import seaborn as sns\n",
    "import random\n",
    "import pylab\n",
    "from scipy import stats\n",
    "from sklearn import linear_model\n",
    "from sklearn.pipeline import make_pipeline\n",
    "from sklearn.preprocessing import StandardScaler\n",
    "\n",
    "import inverse_method_funs_med as inv"
   ]
  },
  {
   "cell_type": "code",
   "execution_count": 2,
   "metadata": {},
   "outputs": [],
   "source": [
    "sns.set_theme(style=\"darkgrid\")\n",
    "sns.color_palette(\"viridis\", as_cmap=True)\n",
    "title_font = {\n",
    "    'fontname': 'DejaVu Sans', 'size': '15', 'color': 'black',\n",
    "    'weight': 'medium'\n",
    "}\n",
    "axis_font = {'fontname': 'DejaVu Sans', 'size': '15', 'color': 'black'}"
   ]
  },
  {
   "cell_type": "markdown",
   "metadata": {},
   "source": [
    "# Load data\n",
    "Load cross sectional backscatter matrix that contains the mean values for each species"
   ]
  },
  {
   "cell_type": "code",
   "execution_count": 3,
   "metadata": {},
   "outputs": [],
   "source": [
    "# Sigmabs from ZooScatR model runs + viscous elactic model for mean of fish larvae model by ve=True)\n",
    "fname_sim = '../ZooScatStuff/my_simplified_data_11072022.feather'\n",
    "specs, freqs_sim, sig_bs_mean, ci_boot = inv.read_scatteringmodelsimulations(fname_sim, nsim=1000, ve=True, percentiles=(25,75))"
   ]
  },
  {
   "cell_type": "code",
   "execution_count": 4,
   "metadata": {},
   "outputs": [
    {
     "data": {
      "text/plain": [
       "(2, 1001, 5)"
      ]
     },
     "execution_count": 4,
     "metadata": {},
     "output_type": "execute_result"
    }
   ],
   "source": [
    "np.shape(ci_boot)"
   ]
  },
  {
   "cell_type": "markdown",
   "metadata": {},
   "source": [
    "# Select frequency range\n",
    "The vectors have to be independant over the range of the emitted frequenciesm"
   ]
  },
  {
   "cell_type": "code",
   "execution_count": 5,
   "metadata": {},
   "outputs": [],
   "source": [
    "BBrange_200 = [185, 255]\n",
    "BBrange_333 = [283, 383]\n",
    "\n",
    "BBfreqs_200 = np.where((freqs_sim>BBrange_200[0]) & (freqs_sim<BBrange_200[1]))\n",
    "BBfreqs_333 = np.where((freqs_sim>BBrange_333[0]) & (freqs_sim<BBrange_333[1]))"
   ]
  },
  {
   "cell_type": "code",
   "execution_count": 6,
   "metadata": {},
   "outputs": [
    {
     "data": {
      "text/plain": [
       "(1001, 5)"
      ]
     },
     "execution_count": 6,
     "metadata": {},
     "output_type": "execute_result"
    }
   ],
   "source": [
    "np.shape(sig_bs_mean)"
   ]
  },
  {
   "cell_type": "code",
   "execution_count": 7,
   "metadata": {},
   "outputs": [],
   "source": [
    "sigbs_200 = sig_bs_mean[BBfreqs_200,:][0]\n",
    "sigbs_333 = sig_bs_mean[BBfreqs_333,:][0]\n",
    "\n",
    "freqs_200 = freqs_sim[BBfreqs_200]\n",
    "freqs_333 = freqs_sim[BBfreqs_333]"
   ]
  },
  {
   "cell_type": "code",
   "execution_count": 8,
   "metadata": {},
   "outputs": [
    {
     "data": {
      "text/plain": [
       "(1001,)"
      ]
     },
     "execution_count": 8,
     "metadata": {},
     "output_type": "execute_result"
    }
   ],
   "source": [
    "np.shape(freqs_sim)"
   ]
  },
  {
   "cell_type": "code",
   "execution_count": 9,
   "metadata": {},
   "outputs": [
    {
     "data": {
      "text/plain": [
       "<matplotlib.legend.Legend at 0x16f80143f88>"
      ]
     },
     "execution_count": 9,
     "metadata": {},
     "output_type": "execute_result"
    },
    {
     "data": {
      "image/png": "[encoded data removed]",
      "text/plain": [
       "<Figure size 360x360 with 1 Axes>"
      ]
     },
     "metadata": {
      "needs_background": "light"
     },
     "output_type": "display_data"
    }
   ],
   "source": [
    "fig=plt.figure(figsize=(5,5))\n",
    "plt.plot(freqs_333, 10*np.log10(sigbs_333));\n",
    "plt.legend(specs)"
   ]
  },
  {
   "cell_type": "markdown",
   "metadata": {},
   "source": [
    "# Rank"
   ]
  },
  {
   "cell_type": "markdown",
   "metadata": {},
   "source": [
    "The rank tells us if the columns of the vector are linearly independant. Linear independance is important for knowing if each species introduces a new dimensions for the solution. If two species (vectors) are dependant they would be indisquindishable in the least-squares solutions"
   ]
  },
  {
   "cell_type": "code",
   "execution_count": 10,
   "metadata": {},
   "outputs": [
    {
     "data": {
      "text/plain": [
       "5"
      ]
     },
     "execution_count": 10,
     "metadata": {},
     "output_type": "execute_result"
    }
   ],
   "source": [
    "np.linalg.matrix_rank(sigbs_333)"
   ]
  },
  {
   "cell_type": "code",
   "execution_count": null,
   "metadata": {},
   "outputs": [],
   "source": []
  },
  {
   "cell_type": "markdown",
   "metadata": {},
   "source": [
    "5 dimensions with default tolerance\n",
    "\n",
    "What should the tol be? Default? Look into what is my CI ish \n",
    "\n",
    "    \"The most useful measure of the tolerance depends on the operations you intend to use on your matrix. For example, if your data come from uncertain measurements with uncertainties greater than floating point epsilon, choosing a tolerance near that uncertainty may be preferable. The tolerance may be absolute if the uncertainties are absolute rather than relative.\" -  from np.linalg.matrix_rank documentations\"\n",
    "    \n"
   ]
  },
  {
   "cell_type": "code",
   "execution_count": 11,
   "metadata": {},
   "outputs": [
    {
     "name": "stdout",
     "output_type": "stream",
     "text": [
      "Help on function matrix_rank in module numpy.linalg:\n",
      "\n",
      "matrix_rank(M, tol=None, hermitian=False)\n",
      "    Return matrix rank of array using SVD method\n",
      "    \n",
      "    Rank of the array is the number of singular values of the array that are\n",
      "    greater than `tol`.\n",
      "    \n",
      "    .. versionchanged:: 1.14\n",
      "       Can now operate on stacks of matrices\n",
      "    \n",
      "    Parameters\n",
      "    ----------\n",
      "    M : {(M,), (..., M, N)} array_like\n",
      "        Input vector or stack of matrices.\n",
      "    tol : (...) array_like, float, optional\n",
      "        Threshold below which SVD values are considered zero. If `tol` is\n",
      "        None, and ``S`` is an array with singular values for `M`, and\n",
      "        ``eps`` is the epsilon value for datatype of ``S``, then `tol` is\n",
      "        set to ``S.max() * max(M.shape) * eps``.\n",
      "    \n",
      "        .. versionchanged:: 1.14\n",
      "           Broadcasted against the stack of matrices\n",
      "    hermitian : bool, optional\n",
      "        If True, `M` is assumed to be Hermitian (symmetric if real-valued),\n",
      "        enabling a more efficient method for finding singular values.\n",
      "        Defaults to False.\n",
      "    \n",
      "        .. versionadded:: 1.14\n",
      "    \n",
      "    Returns\n",
      "    -------\n",
      "    rank : (...) array_like\n",
      "        Rank of M.\n",
      "    \n",
      "    Notes\n",
      "    -----\n",
      "    The default threshold to detect rank deficiency is a test on the magnitude\n",
      "    of the singular values of `M`.  By default, we identify singular values less\n",
      "    than ``S.max() * max(M.shape) * eps`` as indicating rank deficiency (with\n",
      "    the symbols defined above). This is the algorithm MATLAB uses [1].  It also\n",
      "    appears in *Numerical recipes* in the discussion of SVD solutions for linear\n",
      "    least squares [2].\n",
      "    \n",
      "    This default threshold is designed to detect rank deficiency accounting for\n",
      "    the numerical errors of the SVD computation.  Imagine that there is a column\n",
      "    in `M` that is an exact (in floating point) linear combination of other\n",
      "    columns in `M`. Computing the SVD on `M` will not produce a singular value\n",
      "    exactly equal to 0 in general: any difference of the smallest SVD value from\n",
      "    0 will be caused by numerical imprecision in the calculation of the SVD.\n",
      "    Our threshold for small SVD values takes this numerical imprecision into\n",
      "    account, and the default threshold will detect such numerical rank\n",
      "    deficiency.  The threshold may declare a matrix `M` rank deficient even if\n",
      "    the linear combination of some columns of `M` is not exactly equal to\n",
      "    another column of `M` but only numerically very close to another column of\n",
      "    `M`.\n",
      "    \n",
      "    We chose our default threshold because it is in wide use.  Other thresholds\n",
      "    are possible.  For example, elsewhere in the 2007 edition of *Numerical\n",
      "    recipes* there is an alternative threshold of ``S.max() *\n",
      "    np.finfo(M.dtype).eps / 2. * np.sqrt(m + n + 1.)``. The authors describe\n",
      "    this threshold as being based on \"expected roundoff error\" (p 71).\n",
      "    \n",
      "    The thresholds above deal with floating point roundoff error in the\n",
      "    calculation of the SVD.  However, you may have more information about the\n",
      "    sources of error in `M` that would make you consider other tolerance values\n",
      "    to detect *effective* rank deficiency.  The most useful measure of the\n",
      "    tolerance depends on the operations you intend to use on your matrix.  For\n",
      "    example, if your data come from uncertain measurements with uncertainties\n",
      "    greater than floating point epsilon, choosing a tolerance near that\n",
      "    uncertainty may be preferable.  The tolerance may be absolute if the\n",
      "    uncertainties are absolute rather than relative.\n",
      "    \n",
      "    References\n",
      "    ----------\n",
      "    .. [1] MATLAB reference documention, \"Rank\"\n",
      "           https://www.mathworks.com/help/techdoc/ref/rank.html\n",
      "    .. [2] W. H. Press, S. A. Teukolsky, W. T. Vetterling and B. P. Flannery,\n",
      "           \"Numerical Recipes (3rd edition)\", Cambridge University Press, 2007,\n",
      "           page 795.\n",
      "    \n",
      "    Examples\n",
      "    --------\n",
      "    >>> from numpy.linalg import matrix_rank\n",
      "    >>> matrix_rank(np.eye(4)) # Full rank matrix\n",
      "    4\n",
      "    >>> I=np.eye(4); I[-1,-1] = 0. # rank deficient matrix\n",
      "    >>> matrix_rank(I)\n",
      "    3\n",
      "    >>> matrix_rank(np.ones((4,))) # 1 dimension - rank 1 unless all 0\n",
      "    1\n",
      "    >>> matrix_rank(np.zeros((4,)))\n",
      "    0\n",
      "\n"
     ]
    }
   ],
   "source": [
    "help(np.linalg.matrix_rank)"
   ]
  },
  {
   "cell_type": "code",
   "execution_count": null,
   "metadata": {},
   "outputs": [],
   "source": []
  }
 ],
 "metadata": {
  "kernelspec": {
   "display_name": "Python 3 (ipykernel)",
   "language": "python",
   "name": "python3"
  },
  "language_info": {
   "codemirror_mode": {
    "name": "ipython",
    "version": 3
   },
   "file_extension": ".py",
   "mimetype": "text/x-python",
   "name": "python",
   "nbconvert_exporter": "python",
   "pygments_lexer": "ipython3",
   "version": "3.7.11"
  }
 },
 "nbformat": 4,
 "nbformat_minor": 4
}
