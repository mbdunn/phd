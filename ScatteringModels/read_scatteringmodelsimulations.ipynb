{
 "cells": [
  {
   "cell_type": "markdown",
   "metadata": {},
   "source": [
    "This notebook will develop a function to read wideband frequency response output from Echoview and adjust the frequency bins to resample at a given frequency range points."
   ]
  },
  {
   "cell_type": "code",
   "execution_count": 3,
   "metadata": {},
   "outputs": [],
   "source": [
    "import csv\n",
    "import numpy as np\n",
    "import pandas as pd\n",
    "import scipy as sc\n",
    "import matplotlib.pyplot as plt\n",
    "from scipy.interpolate import UnivariateSpline\n",
    "import seaborn as sns\n",
    "import array as arr\n",
    "%matplotlib inline"
   ]
  },
  {
   "cell_type": "code",
   "execution_count": 4,
   "metadata": {},
   "outputs": [
    {
     "data": {
      "text/plain": [
       "<matplotlib.colors.ListedColormap at 0x2762f4f1608>"
      ]
     },
     "execution_count": 4,
     "metadata": {},
     "output_type": "execute_result"
    }
   ],
   "source": [
    "sns.set_theme(style=\"darkgrid\")\n",
    "sns.color_palette(\"viridis\", as_cmap=True)"
   ]
  },
  {
   "cell_type": "markdown",
   "metadata": {},
   "source": [
    "# Write function to read file"
   ]
  },
  {
   "cell_type": "code",
   "execution_count": 5,
   "metadata": {},
   "outputs": [],
   "source": [
    "def read_scatteringmodelsimulations(fname,nsim, ve=False):\n",
    "    \"\"\"\"Opens a file created by R for ZooScatR containing all the information of the model runs. \n",
    "    Extract the frequencies, species and cross-sectional backscatter data.\n",
    "    \n",
    "    Parameters:\n",
    "    fname: filename with path of EV export from wideband frequency response plot - graph- export\n",
    "    nsim: number of simulations\n",
    "    ve: whether to use model solutions available from viscous elastic model, if species exist in \n",
    "        fname, the sigbsmean is replaced with viscous elastic mean results, else a column is added. Default False. \n",
    "\n",
    "    \n",
    "    Returns:\n",
    "    spec: array of name of species\n",
    "    freqs: array of frequencies\n",
    "    sigma_bs: array of cross-sectional backscatter simulation values shape is [frequencies, simulations, species]\n",
    "    \"\"\"\n",
    "    simulations = pd.read_feather(fname)\n",
    "    # Add a row for sigma_bs calculated from TS\n",
    "    simulations['sigbs'] = 10**(simulations.TS/10)\n",
    "    \n",
    "    # Set dimensions and their values\n",
    "    freqs = simulations['freq'].unique()\n",
    "    specs = simulations['spec'].unique()\n",
    "    \n",
    "    # Allocate space\n",
    "    sigma_bs_mean = np.zeros([len(freqs), len(specs)])\n",
    "    #Sort values in sibgs column by species and frequencies\n",
    "    simulations_group = simulations.groupby([\"spec\",\"freq\"]).agg({'sigbs':lambda x: arr.array('d', x)})\n",
    "    \n",
    "    #for mean output\n",
    "    simulations_mean = simulations.groupby([\"spec\",\"freq\"]).agg({'sigbs':'mean'})\n",
    "    mean_bs = simulations_mean.reset_index('freq')\n",
    "\n",
    "    #Manually organize into an array\n",
    "    for ind_spec in range(0, len(specs)):\n",
    "        spec_name = specs[ind_spec]\n",
    "        sim_spec = np.asarray(simulations_group.sigbs[spec_name])   \n",
    "        sigma_bs_mean[:,ind_spec] = mean_bs.loc[spec_name].to_numpy()[:,1]\n",
    "            \n",
    "    if ve==True:\n",
    "        cod_scat = pd.read_csv('../ViscousElasticModel/ve_results/ve_simulations_cod.txt', header=None, delimiter=' ', names=['frequency', 'TS'], skiprows=1)\n",
    "        cod_scat['sigbs'] = 10**(cod_scat['TS']/10)\n",
    "        cod_sigbs_ve = cod_scat.groupby([\"frequency\"]).agg({'sigbs':'mean'})\n",
    "        freqs_cod = cod_scat['frequency'].unique()/1000\n",
    "        \n",
    "        lima_index = np.where(specs=='Limacina')\n",
    "        lima_scat = pd.read_csv('../ViscousElasticModel/ve_results/ve_simulations_limacina.txt', header=None, delimiter=' ', names=['frequency', 'TS'], skiprows=1)\n",
    "        lima_scat['sigbs'] = 10**(lima_scat['TS']/10)\n",
    "        lima_sigbs_ve = lima_scat.groupby([\"frequency\"]).agg({'sigbs':'mean'})\n",
    "        freqs_lima = lima_scat['frequency'].unique()/1000\n",
    "        \n",
    "        #resample frequency and append or replace\n",
    "        f = UnivariateSpline(freqs_cod,cod_sigbs_ve, k=3, s=2)\n",
    "        if (specs=='FishLarvae').any():\n",
    "            cod_index=np.where(specs=='FishLarvae')\n",
    "            sigma_bs_mean[:,cod_index[0][0]] = f(freqs)\n",
    "        else:\n",
    "            sigma_bs_mean = np.vstack((sigma_bs_mean.T,[f(freqs)]))\n",
    "            sigma_bs_mean = sigma_bs_mean.T\n",
    "            specs = np.append(specs,'FishLarvae')\n",
    "            \n",
    "        f = UnivariateSpline(freqs_lima,lima_sigbs_ve, k=5)    \n",
    "        if (specs=='Limacina').any():\n",
    "            lima_index = np.where(specs=='Limacina')\n",
    "            sigma_bs_mean[:,lima_index[0][0]] = f(freqs)                \n",
    "        else:                    \n",
    "            sigma_bs_mean = np.vstack((sigma_bs_mean.T,[f(freqs)]))\n",
    "            sigma_bs_mean = sigma_bs_mean.T\n",
    "            specs = np.append(specs,'Limacina')            \n",
    "            \n",
    "                                              \n",
    "\n",
    "    \n",
    "    return specs, freqs, sigma_bs_mean"
   ]
  },
  {
   "cell_type": "markdown",
   "metadata": {},
   "source": [
    "# Run function"
   ]
  },
  {
   "cell_type": "code",
   "execution_count": 12,
   "metadata": {},
   "outputs": [],
   "source": [
    "fname = '../ZooScatStuff/my_simplified_data.feather'\n",
    "specs, freqs, sig_mean = read_scatteringmodelsimulations(fname, nsim=1000, ve=True)"
   ]
  },
  {
   "cell_type": "code",
   "execution_count": 2,
   "metadata": {},
   "outputs": [
    {
     "ename": "NameError",
     "evalue": "name 'np' is not defined",
     "output_type": "error",
     "traceback": [
      "\u001b[1;31m---------------------------------------------------------------------------\u001b[0m",
      "\u001b[1;31mNameError\u001b[0m                                 Traceback (most recent call last)",
      "\u001b[1;32m<ipython-input-2-2dba55cca932>\u001b[0m in \u001b[0;36m<module>\u001b[1;34m\u001b[0m\n\u001b[1;32m----> 1\u001b[1;33m \u001b[0mnp\u001b[0m\u001b[1;33m.\u001b[0m\u001b[0mwhere\u001b[0m\u001b[1;33m(\u001b[0m\u001b[0mspecs\u001b[0m\u001b[1;33m==\u001b[0m\u001b[1;34m'Copepod'\u001b[0m\u001b[1;33m)\u001b[0m\u001b[1;33m\u001b[0m\u001b[1;33m\u001b[0m\u001b[0m\n\u001b[0m",
      "\u001b[1;31mNameError\u001b[0m: name 'np' is not defined"
     ]
    }
   ],
   "source": [
    "np.where(specs=='Copepod')"
   ]
  },
  {
   "cell_type": "markdown",
   "metadata": {},
   "source": [
    "# Plot"
   ]
  },
  {
   "cell_type": "code",
   "execution_count": 14,
   "metadata": {},
   "outputs": [
    {
     "data": {
      "image/png": "[encoded data removed]",
      "text/plain": [
       "<Figure size 720x720 with 1 Axes>"
      ]
     },
     "metadata": {},
     "output_type": "display_data"
    }
   ],
   "source": [
    "fig=plt.figure(figsize=(10, 10),facecolor='w', edgecolor='k')\n",
    "plt.plot(freqs, sig_mean)\n",
    "plt.title('Mean from DWBA and VE simulations')\n",
    "plt.legend(specs)\n",
    "plt.xlabel('Frequency (kHz)')\n",
    "plt.ylabel('$s_{v}$ [$m^{-1}$]');"
   ]
  },
  {
   "cell_type": "code",
   "execution_count": 17,
   "metadata": {},
   "outputs": [],
   "source": [
    "cod_scat = pd.read_csv('../ViscousElasticModel/ve_results/ve_simulations_cod.txt', header=None, delimiter=' ', names=['frequency', 'TS'], skiprows=1)\n",
    "cod_sigbs_ve = 10**(cod_scat['TS']/10)\n",
    "freqs_cod = cod_scat['frequency'].unique()/1000"
   ]
  },
  {
   "cell_type": "code",
   "execution_count": 19,
   "metadata": {},
   "outputs": [
    {
     "ename": "ValueError",
     "evalue": "x and y should have a same length",
     "output_type": "error",
     "traceback": [
      "\u001b[1;31m---------------------------------------------------------------------------\u001b[0m",
      "\u001b[1;31mValueError\u001b[0m                                Traceback (most recent call last)",
      "\u001b[1;32m<ipython-input-19-e31904db62e1>\u001b[0m in \u001b[0;36m<module>\u001b[1;34m\u001b[0m\n\u001b[1;32m----> 1\u001b[1;33m \u001b[0mf\u001b[0m \u001b[1;33m=\u001b[0m \u001b[0mUnivariateSpline\u001b[0m\u001b[1;33m(\u001b[0m\u001b[0mfreqs_cod\u001b[0m\u001b[1;33m,\u001b[0m\u001b[0mcod_sigbs_ve\u001b[0m\u001b[1;33m,\u001b[0m \u001b[0mk\u001b[0m\u001b[1;33m=\u001b[0m\u001b[1;36m3\u001b[0m\u001b[1;33m,\u001b[0m \u001b[0ms\u001b[0m\u001b[1;33m=\u001b[0m\u001b[1;36m2\u001b[0m\u001b[1;33m)\u001b[0m\u001b[1;33m\u001b[0m\u001b[1;33m\u001b[0m\u001b[0m\n\u001b[0m",
      "\u001b[1;32m~\\anaconda3\\lib\\site-packages\\scipy\\interpolate\\fitpack2.py\u001b[0m in \u001b[0;36m__init__\u001b[1;34m(self, x, y, w, bbox, k, s, ext, check_finite)\u001b[0m\n\u001b[0;32m    171\u001b[0m \u001b[1;33m\u001b[0m\u001b[0m\n\u001b[0;32m    172\u001b[0m         x, y, w, bbox, self.ext = self.validate_input(x, y, w, bbox, k, s, ext,\n\u001b[1;32m--> 173\u001b[1;33m                                                       check_finite)\n\u001b[0m\u001b[0;32m    174\u001b[0m \u001b[1;33m\u001b[0m\u001b[0m\n\u001b[0;32m    175\u001b[0m         \u001b[1;31m# _data == x,y,w,xb,xe,k,s,n,t,c,fp,fpint,nrdata,ier\u001b[0m\u001b[1;33m\u001b[0m\u001b[1;33m\u001b[0m\u001b[1;33m\u001b[0m\u001b[0m\n",
      "\u001b[1;32m~\\anaconda3\\lib\\site-packages\\scipy\\interpolate\\fitpack2.py\u001b[0m in \u001b[0;36mvalidate_input\u001b[1;34m(x, y, w, bbox, k, s, ext, check_finite)\u001b[0m\n\u001b[0;32m    200\u001b[0m                 \u001b[1;32mraise\u001b[0m \u001b[0mValueError\u001b[0m\u001b[1;33m(\u001b[0m\u001b[1;34m\"x must be strictly increasing if s = 0\"\u001b[0m\u001b[1;33m)\u001b[0m\u001b[1;33m\u001b[0m\u001b[1;33m\u001b[0m\u001b[0m\n\u001b[0;32m    201\u001b[0m         \u001b[1;32mif\u001b[0m \u001b[0mx\u001b[0m\u001b[1;33m.\u001b[0m\u001b[0msize\u001b[0m \u001b[1;33m!=\u001b[0m \u001b[0my\u001b[0m\u001b[1;33m.\u001b[0m\u001b[0msize\u001b[0m\u001b[1;33m:\u001b[0m\u001b[1;33m\u001b[0m\u001b[1;33m\u001b[0m\u001b[0m\n\u001b[1;32m--> 202\u001b[1;33m             \u001b[1;32mraise\u001b[0m \u001b[0mValueError\u001b[0m\u001b[1;33m(\u001b[0m\u001b[1;34m\"x and y should have a same length\"\u001b[0m\u001b[1;33m)\u001b[0m\u001b[1;33m\u001b[0m\u001b[1;33m\u001b[0m\u001b[0m\n\u001b[0m\u001b[0;32m    203\u001b[0m         \u001b[1;32melif\u001b[0m \u001b[0mw\u001b[0m \u001b[1;32mis\u001b[0m \u001b[1;32mnot\u001b[0m \u001b[1;32mNone\u001b[0m \u001b[1;32mand\u001b[0m \u001b[1;32mnot\u001b[0m \u001b[0mx\u001b[0m\u001b[1;33m.\u001b[0m\u001b[0msize\u001b[0m \u001b[1;33m==\u001b[0m \u001b[0my\u001b[0m\u001b[1;33m.\u001b[0m\u001b[0msize\u001b[0m \u001b[1;33m==\u001b[0m \u001b[0mw\u001b[0m\u001b[1;33m.\u001b[0m\u001b[0msize\u001b[0m\u001b[1;33m:\u001b[0m\u001b[1;33m\u001b[0m\u001b[1;33m\u001b[0m\u001b[0m\n\u001b[0;32m    204\u001b[0m             \u001b[1;32mraise\u001b[0m \u001b[0mValueError\u001b[0m\u001b[1;33m(\u001b[0m\u001b[1;34m\"x, y, and w should have a same length\"\u001b[0m\u001b[1;33m)\u001b[0m\u001b[1;33m\u001b[0m\u001b[1;33m\u001b[0m\u001b[0m\n",
      "\u001b[1;31mValueError\u001b[0m: x and y should have a same length"
     ]
    }
   ],
   "source": [
    "f = UnivariateSpline(freqs_cod,cod_sigbs_ve, k=3, s=2)"
   ]
  },
  {
   "cell_type": "code",
   "execution_count": 21,
   "metadata": {},
   "outputs": [
    {
     "data": {
      "text/plain": [
       "(1000000,)"
      ]
     },
     "execution_count": 21,
     "metadata": {},
     "output_type": "execute_result"
    }
   ],
   "source": [
    "np.shape(cod_sigbs_ve)"
   ]
  },
  {
   "cell_type": "code",
   "execution_count": null,
   "metadata": {},
   "outputs": [],
   "source": []
  }
 ],
 "metadata": {
  "kernelspec": {
   "display_name": "Python 3",
   "language": "python",
   "name": "python3"
  },
  "language_info": {
   "codemirror_mode": {
    "name": "ipython",
    "version": 3
   },
   "file_extension": ".py",
   "mimetype": "text/x-python",
   "name": "python",
   "nbconvert_exporter": "python",
   "pygments_lexer": "ipython3",
   "version": "3.7.7"
  }
 },
 "nbformat": 4,
 "nbformat_minor": 4
}
