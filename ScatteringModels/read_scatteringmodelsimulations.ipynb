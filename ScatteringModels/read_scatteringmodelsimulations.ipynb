{
 "cells": [
  {
   "cell_type": "markdown",
   "metadata": {},
   "source": [
    "This notebook will develop a function to read wideband frequency response output from Echoview and adjust the frequency bins to resample at a given frequency range points."
   ]
  },
  {
   "cell_type": "code",
   "execution_count": 1,
   "metadata": {},
   "outputs": [],
   "source": [
    "import csv\n",
    "import numpy as np\n",
    "import pandas as pd\n",
    "import scipy as sc\n",
    "import matplotlib.pyplot as plt\n",
    "from scipy.interpolate import UnivariateSpline\n",
    "import seaborn as sns\n",
    "import array as arr\n",
    "\n",
    "import inverse_method_funs as inv\n",
    "%matplotlib inline"
   ]
  },
  {
   "cell_type": "code",
   "execution_count": 2,
   "metadata": {},
   "outputs": [
    {
     "data": {
      "text/plain": [
       "<matplotlib.colors.ListedColormap at 0x183b3b09d88>"
      ]
     },
     "execution_count": 2,
     "metadata": {},
     "output_type": "execute_result"
    }
   ],
   "source": [
    "sns.set_theme(style=\"darkgrid\")\n",
    "sns.color_palette(\"viridis\", as_cmap=True)"
   ]
  },
  {
   "cell_type": "markdown",
   "metadata": {},
   "source": [
    "# Write function to read file"
   ]
  },
  {
   "cell_type": "code",
   "execution_count": null,
   "metadata": {},
   "outputs": [],
   "source": [
    "def read_scatteringmodelsimulations(fname,nsim, ve=False):\n",
    "    \"\"\"\"Opens a file created by R for ZooScatR containing all the information of the model runs. \n",
    "    Extract the frequencies, species and cross-sectional backscatter data.\n",
    "    \n",
    "    Parameters:\n",
    "    fname: filename with path of EV export from wideband frequency response plot - graph- export\n",
    "    nsim: number of simulations\n",
    "    ve: whether to use model solutions available from viscous elastic model, if species exist in \n",
    "        fname, the sigbsmean is replaced with viscous elastic mean results, else a column is added. Default False. \n",
    "\n",
    "    \n",
    "    Returns:\n",
    "    spec: array of name of species\n",
    "    freqs: array of frequencies\n",
    "    sigma_bs_mean: array of mean cross-sectional backscatter simulation values \n",
    "    \"\"\"\n",
    "    simulations = pd.read_feather(fname)\n",
    "    # Add a row for sigma_bs calculated from TS\n",
    "    simulations['sigbs'] = 10**(simulations.TS/10)\n",
    "    \n",
    "    # Set dimensions and their values\n",
    "    freqs = simulations['freq'].unique()\n",
    "    specs = simulations['spec'].unique()\n",
    "    \n",
    "    # Allocate space\n",
    "    sigma_bs_mean = np.zeros([len(freqs), len(specs)])\n",
    "    ci_boot = np.zeros([2, len(freqs), len(specs)])\n",
    "    #Sort values in sibgs column by species and frequencies\n",
    "    simulations_group = simulations.groupby([\"spec\",\"freq\"]).agg({'sigbs':lambda x: arr.array('d', x)})\n",
    "    \n",
    "    #for mean output\n",
    "    simulations_mean = simulations.groupby([\"spec\",\"freq\"]).agg({'sigbs':'mean'})\n",
    "    mean_bs = simulations_mean.reset_index('freq')\n",
    "\n",
    "    #Manually organize into an array\n",
    "    for ind_spec in range(0, len(specs)):\n",
    "        spec_name = specs[ind_spec]\n",
    "        sim_spec = np.asarray(simulations_group.sigbs[spec_name])   \n",
    "        sigma_bs_mean[:,ind_spec] = mean_bs.loc[spec_name].to_numpy()[:,1]\n",
    "        \n",
    "        sigma_bs_mean[:,ind_spec], ci_boot[:,:,ind_spec] = inv.bootstrap_interval(simulations, spec=spec_name)\n",
    "        \n",
    "        \n",
    "    if ve==True:\n",
    "        cod_scat = pd.read_csv('../ViscousElasticModel/ve_results/ve_simulations_cod.txt', header=None, delimiter=' ', names=['frequency', 'TS'], skiprows=1)\n",
    "        cod_scat['sigbs'] = 10**(cod_scat['TS']/10)\n",
    "        cod_sigbs_ve, cod_ci_ve = inv.bootstrap_interval(cod_scat, spec=False)\n",
    "        freqs_cod = cod_scat['frequency'].unique()/1000\n",
    "        \n",
    "        #resample frequency and append or replace\n",
    "        f = UnivariateSpline(freqs_cod,cod_sigbs_ve, k=3, s=2)\n",
    "        f_ci1 = UnivariateSpline(freqs_cod,cod_ci_ve[0,:], k=3, s=2)\n",
    "        f_ci2 = UnivariateSpline(freqs_cod,cod_ci_ve[1,:], k=3, s=2)\n",
    "        # Check if this species is already accounted for in lengths and shape of preallocated result matrices.\n",
    "        # If yes, put the data where it belongs. If not append\n",
    "        if (specs=='FishLarvae').any():\n",
    "            cod_index=np.where(specs=='FishLarvae')\n",
    "            sigma_bs_mean[:,cod_index[0][0]] = f(freqs)\n",
    "            ci_boot[0,:,cod_index[0][0]] = f_ci1(freqs)\n",
    "            ci_boot[1,:,cod_index[0][0]] = f_ci2(freqs)\n",
    "        else:\n",
    "            sigma_bs_mean = np.vstack((sigma_bs_mean.T,[f(freqs)]))\n",
    "            ci1_boot = ci_boot[0,:,:]\n",
    "            ci2_boot = ci_boot[1,:,:]\n",
    "            print(np.shape(ci_boot))\n",
    "            ci1_boot = np.vstack((ci1_boot.T,[f_ci1(freqs)]))\n",
    "            ci2_boot = np.vstack((ci2_boot.T,[f_ci2(freqs)]))\n",
    "            sigma_bs_mean = sigma_bs_mean.T\n",
    "            ci_boot = np.array([ci1_boot.T, ci2_boot.T])\n",
    "            specs = np.append(specs,'FishLarvae')\n",
    "        \n",
    "        \n",
    "        \n",
    "        lima_scat = pd.read_csv('../ViscousElasticModel/ve_results/ve_simulations_limacina.txt', header=None, delimiter=' ', names=['frequency', 'TS'], skiprows=1)\n",
    "        lima_scat['sigbs'] = 10**(lima_scat['TS']/10)\n",
    "        lima_sigbs_ve, lima_ci_ve = inv.bootstrap_interval(lima_scat, spec=False)\n",
    "        freqs_lima = lima_scat['frequency'].unique()/1000\n",
    "        #resample frequency and append or replace   \n",
    "        f = UnivariateSpline(freqs_lima,lima_sigbs_ve, k=5)  \n",
    "        f_ci1 = UnivariateSpline(freqs_lima,lima_ci_ve[0,:], k=3, s=2)\n",
    "        f_ci2 = UnivariateSpline(freqs_lima,lima_ci_ve[1,:], k=3, s=2)\n",
    "\n",
    "        # Check if this species is already accounted for in lengths and shape of preallocated result matrices.\n",
    "        # If yes, put the data where it belongs. If not append!\n",
    "        if (specs=='Pteropod').any():\n",
    "            lima_index = np.where(specs=='Pteropod')\n",
    "            sigma_bs_mean[:,lima_index[0][0]] = f(freqs)\n",
    "            ci_boot[0,:,lima_index[0][0]] = f_ci1(freqs)\n",
    "            ci_boot[1,:,lima_index[0][0]] = f_ci2(freqs)\n",
    "        else:                    \n",
    "            sigma_bs_mean = np.vstack((sigma_bs_mean.T,[f(freqs)]))\n",
    "            print(np.shape(ci_boot))\n",
    "            ci1_boot = ci_boot[0,:,:]\n",
    "            ci2_boot = ci_boot[1,:,:]\n",
    "\n",
    "            ci1_boot = np.vstack((ci1_boot.T,[f_ci1(freqs)]))\n",
    "            ci2_boot = np.vstack((ci2_boot.T,[f_ci2(freqs)]))\n",
    "            sigma_bs_mean = sigma_bs_mean.T\n",
    "            ci_boot = np.array([ci1_boot.T, ci2_boot.T])\n",
    "            specs = np.append(specs,'Pteropod')                                         \n",
    "    \n",
    "    \n",
    "    return specs, freqs, sigma_bs_mean,ci_boot"
   ]
  },
  {
   "cell_type": "markdown",
   "metadata": {},
   "source": [
    "# Run function"
   ]
  },
  {
   "cell_type": "code",
   "execution_count": null,
   "metadata": {},
   "outputs": [],
   "source": [
    "fname = '../ZooScatStuff/my_simplified_data.feather'\n",
    "specs, freqs, sig_mean, ci_boot = read_scatteringmodelsimulations(fname, nsim=1000, ve=True)"
   ]
  },
  {
   "cell_type": "code",
   "execution_count": 4,
   "metadata": {},
   "outputs": [
    {
     "name": "stdout",
     "output_type": "stream",
     "text": [
      "(2, 801, 3)\n",
      "(2, 801, 4)\n"
     ]
    }
   ],
   "source": [
    "fname = '../ZooScatStuff/my_simplified_data.feather'\n",
    "specs, freqs, sig_mean_inv, ci_boot = inv.read_scatteringmodelsimulations(fname, nsim=1000, ve=True)"
   ]
  },
  {
   "cell_type": "code",
   "execution_count": null,
   "metadata": {},
   "outputs": [],
   "source": [
    "lima_scat = pd.read_csv('../ViscousElasticModel/ve_results/ve_simulations_limacina.txt', header=None, delimiter=' ', names=['frequency', 'TS'], skiprows=1)\n",
    "lima_scat"
   ]
  },
  {
   "cell_type": "code",
   "execution_count": null,
   "metadata": {},
   "outputs": [],
   "source": [
    "ci_boot"
   ]
  },
  {
   "cell_type": "markdown",
   "metadata": {},
   "source": [
    "# Plot"
   ]
  },
  {
   "cell_type": "code",
   "execution_count": null,
   "metadata": {},
   "outputs": [],
   "source": [
    "fig=plt.figure(figsize=(10, 10),facecolor='w', edgecolor='k')\n",
    "plt.plot(freqs, sig_mean)\n",
    "plt.title('Mean from DWBA and VE simulations')\n",
    "plt.legend(specs)\n",
    "plt.xlabel('Frequency (kHz)')\n",
    "plt.ylabel('$s_{v}$ [$m^{-1}$]');"
   ]
  },
  {
   "cell_type": "code",
   "execution_count": null,
   "metadata": {},
   "outputs": [],
   "source": [
    "cod_scat = pd.read_csv('../ViscousElasticModel/ve_results/ve_simulations_cod.txt', header=None, delimiter=' ', names=['frequency', 'TS'], skiprows=1)\n",
    "cod_sigbs_ve = 10**(cod_scat['TS']/10)\n",
    "freqs_cod = cod_scat['frequency'].unique()/1000"
   ]
  },
  {
   "cell_type": "code",
   "execution_count": null,
   "metadata": {},
   "outputs": [],
   "source": [
    "f = UnivariateSpline(freqs_cod,cod_sigbs_ve, k=3, s=2)"
   ]
  },
  {
   "cell_type": "code",
   "execution_count": null,
   "metadata": {},
   "outputs": [],
   "source": [
    "np.shape(cod_sigbs_ve)"
   ]
  },
  {
   "cell_type": "code",
   "execution_count": null,
   "metadata": {},
   "outputs": [],
   "source": [
    "for ind_spec in range(0, len(specs)):\n",
    "    plt.plot(freqs, sig_mean[:,ind_spec])\n",
    "    plt.fill_between(freqs, ci_boot[0,:,ind_spec], ci_boot[1,:,ind_spec], alpha=0.5)\n",
    "plt.legend(specs)"
   ]
  },
  {
   "cell_type": "code",
   "execution_count": null,
   "metadata": {},
   "outputs": [],
   "source": [
    "ind_spec=4\n",
    "plt.plot(freqs, 10*np.log10(sig_mean[:,ind_spec]),'r',label='pteropod ci',linewidth=12)\n",
    "plt.plot(freqs,10*np.log10(sig_mean_inv[:,ind_spec]),'k',label='pteropod')\n",
    "ind_spec=3\n",
    "plt.plot(freqs, 10*np.log10(sig_mean[:,ind_spec]),'g',label='fish ci', linewidth=16)\n",
    "plt.plot(freqs,10*np.log10(sig_mean_inv[:,ind_spec]),'b',label='fish')\n",
    "    #plt.fill_between(freqs, 10*np.log10(ci_boot[0,:,ind_spec]), 10*np.log10(ci_boot[1,:,ind_spec]), alpha=0.5)\n",
    "plt.legend()\n"
   ]
  },
  {
   "cell_type": "code",
   "execution_count": null,
   "metadata": {},
   "outputs": [],
   "source": []
  },
  {
   "cell_type": "code",
   "execution_count": null,
   "metadata": {},
   "outputs": [],
   "source": [
    "ci_boot[1,:,:]"
   ]
  },
  {
   "cell_type": "code",
   "execution_count": null,
   "metadata": {},
   "outputs": [],
   "source": []
  }
 ],
 "metadata": {
  "kernelspec": {
   "display_name": "Python 3",
   "language": "python",
   "name": "python3"
  },
  "language_info": {
   "codemirror_mode": {
    "name": "ipython",
    "version": 3
   },
   "file_extension": ".py",
   "mimetype": "text/x-python",
   "name": "python",
   "nbconvert_exporter": "python",
   "pygments_lexer": "ipython3",
   "version": "3.7.7"
  }
 },
 "nbformat": 4,
 "nbformat_minor": 4
}
