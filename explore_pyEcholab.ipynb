{
 "cells": [
  {
   "cell_type": "code",
   "execution_count": 23,
   "metadata": {},
   "outputs": [],
   "source": [
    "%matplotlib inline\n",
    "import numpy as np\n",
    "import pandas as pd\n",
    "from pyEcholab.echolab2.instruments import EK80\n",
    "from pyEcholab.echolab2.plotting.matplotlib import echogram\n",
    "import glob\n",
    "\n",
    "import matplotlib.pyplot as plt\n",
    "import matplotlib.image as mpimg\n",
    "import cartopy.crs as ccrs\n",
    "import cartopy\n",
    "import sb_tools\n",
    "import seaborn as sns"
   ]
  },
  {
   "cell_type": "code",
   "execution_count": 24,
   "metadata": {},
   "outputs": [],
   "source": [
    "sns.set_theme(style=\"darkgrid\")\n",
    "sns.color_palette(\"viridis\", as_cmap=True)\n",
    "sns.set(rc={'figure.figsize':(11.7,8.27)})\n",
    "title_font = {\n",
    "    'fontname': 'DejaVu Sans', 'size': '15', 'color': 'black',\n",
    "    'weight': 'medium'\n",
    "}\n",
    "axis_font = {'fontname': 'DejaVu Sans', 'size': '15', 'color': 'black'}"
   ]
  },
  {
   "cell_type": "markdown",
   "metadata": {},
   "source": [
    "# Read a EK80 file"
   ]
  },
  {
   "cell_type": "code",
   "execution_count": 188,
   "metadata": {
    "scrolled": true
   },
   "outputs": [],
   "source": [
    "file = 'D:/GLIDER2018/Echosounder/Echosounder/GLIDER_SB_2018_v5-Phase0-D20180628-T100122-0.raw'\n",
    "#file = 'C:/Users/mbd/phd/CRIMAC_EK80Test_GOSars.raw'\n",
    "\n",
    "ek80 = EK80.EK80()\n",
    "ek80.read_raw(file)"
   ]
  },
  {
   "cell_type": "code",
   "execution_count": 189,
   "metadata": {},
   "outputs": [
    {
     "ename": "IndexError",
     "evalue": "list index out of range",
     "output_type": "error",
     "traceback": [
      "\u001b[1;31m---------------------------------------------------------------------------\u001b[0m",
      "\u001b[1;31mIndexError\u001b[0m                                Traceback (most recent call last)",
      "\u001b[1;32m<ipython-input-189-e0dfaff37b45>\u001b[0m in \u001b[0;36m<module>\u001b[1;34m\u001b[0m\n\u001b[0;32m      1\u001b[0m \u001b[1;31m# read raw data from second channel (vertical echosounder)\u001b[0m\u001b[1;33m\u001b[0m\u001b[1;33m\u001b[0m\u001b[1;33m\u001b[0m\u001b[0m\n\u001b[1;32m----> 2\u001b[1;33m \u001b[0mraw_list\u001b[0m \u001b[1;33m=\u001b[0m \u001b[0mek80\u001b[0m\u001b[1;33m.\u001b[0m\u001b[0mraw_data\u001b[0m\u001b[1;33m[\u001b[0m\u001b[0mek80\u001b[0m\u001b[1;33m.\u001b[0m\u001b[0mchannel_ids\u001b[0m\u001b[1;33m[\u001b[0m\u001b[1;36m2\u001b[0m\u001b[1;33m]\u001b[0m\u001b[1;33m]\u001b[0m\u001b[1;33m\u001b[0m\u001b[1;33m\u001b[0m\u001b[0m\n\u001b[0m\u001b[0;32m      3\u001b[0m \u001b[1;33m\u001b[0m\u001b[0m\n\u001b[0;32m      4\u001b[0m \u001b[0mraw_data\u001b[0m \u001b[1;33m=\u001b[0m \u001b[0mraw_list\u001b[0m\u001b[1;33m[\u001b[0m\u001b[1;36m0\u001b[0m\u001b[1;33m]\u001b[0m\u001b[1;33m\u001b[0m\u001b[1;33m\u001b[0m\u001b[0m\n\u001b[0;32m      5\u001b[0m \u001b[0mraw_data\u001b[0m\u001b[1;33m\u001b[0m\u001b[1;33m\u001b[0m\u001b[0m\n",
      "\u001b[1;31mIndexError\u001b[0m: list index out of range"
     ]
    }
   ],
   "source": [
    "# read raw data from second channel (vertical echosounder)\n",
    "raw_list = ek80.raw_data[ek80.channel_ids[2]]\n",
    "\n",
    "raw_data = raw_list[0]\n",
    "raw_data\n"
   ]
  },
  {
   "cell_type": "code",
   "execution_count": null,
   "metadata": {},
   "outputs": [],
   "source": [
    "# get calibration values\n",
    "calibration = raw_data.get_calibration()\n",
    "\n",
    "#  convert to Sv\n",
    "ek80_Sv = raw_data.get_Sv(calibration=calibration)"
   ]
  },
  {
   "cell_type": "code",
   "execution_count": null,
   "metadata": {},
   "outputs": [],
   "source": [
    "# plot a ping\n",
    "fig1 = plt.figure()\n",
    "sv=plt.plot(ek80_Sv.data[14,:])\n",
    "#plt.plot(ek80_Sv.data[1,:])\n",
    "#plt.plot(ek80_Sv.data[2,:])\n",
    "plt.plot(ek80_Sv.data[14,:])\n",
    "plt.title('Pyecholab Ping 15')\n",
    "plt.ylim(-150, 10)"
   ]
  },
  {
   "cell_type": "code",
   "execution_count": null,
   "metadata": {},
   "outputs": [],
   "source": [
    "# get raw data version 2\n",
    "raw_data_80 = ek80.get_channel_data(frequencies=333000)\n",
    "raw_data_80_2 = raw_data\n",
    "cal_obj = raw_data_80_2.get_calibration()\n",
    "Sv = raw_data_80_2.get_Sv(calibation=cal_obj)"
   ]
  },
  {
   "cell_type": "code",
   "execution_count": null,
   "metadata": {},
   "outputs": [],
   "source": [
    "print(Sv)"
   ]
  },
  {
   "cell_type": "code",
   "execution_count": null,
   "metadata": {},
   "outputs": [],
   "source": [
    "# plot a ping\n",
    "fig2 = plt.figure()\n",
    "sv=plt.plot(Sv[1,:])\n",
    "plt.ylabel('Sv', axis_font)\n",
    "plt.xlabel('Range', axis_font)\n"
   ]
  },
  {
   "cell_type": "code",
   "execution_count": null,
   "metadata": {},
   "outputs": [],
   "source": [
    "# go from pyEcholab to array\n",
    "dfSv=Sv.data\n",
    "dfRange=Sv.get_v_axis()\n",
    "dfPingTime=Sv.ping_time\n",
    "\n",
    "# disregard what's after the surface\n",
    "dfSv=dfSv[:,0:30000]\n",
    "dfRange=dfRange[0]\n",
    "dfRange=dfRange[0:30000,]\n",
    "temp=np.rot90(dfSv,-45)\n",
    "dfsv=np.power(10,temp/10)\n"
   ]
  },
  {
   "cell_type": "code",
   "execution_count": null,
   "metadata": {},
   "outputs": [],
   "source": [
    "# Plot echogram and some time series\n",
    "fig3 = plt.figure()\n",
    "plt.pcolormesh(dfPingTime,dfRange,temp,cmap=plt.get_cmap('viridis'),vmin=-90, vmax=-40)\n",
    "#plt.ylim([0, 50])\n",
    "plt.gca().invert_yaxis()\n",
    "plt.colorbar()\n",
    "plt.title('Echogram [Sv]', title_font)\n",
    "plt.xlabel('Time', axis_font)\n",
    "plt.ylabel('Range', axis_font)\n",
    "plt.show()"
   ]
  },
  {
   "cell_type": "code",
   "execution_count": null,
   "metadata": {},
   "outputs": [],
   "source": []
  }
 ],
 "metadata": {
  "kernelspec": {
   "display_name": "Python 3",
   "language": "python",
   "name": "python3"
  },
  "language_info": {
   "codemirror_mode": {
    "name": "ipython",
    "version": 3
   },
   "file_extension": ".py",
   "mimetype": "text/x-python",
   "name": "python",
   "nbconvert_exporter": "python",
   "pygments_lexer": "ipython3",
   "version": "3.7.7"
  }
 },
 "nbformat": 4,
 "nbformat_minor": 4
}
